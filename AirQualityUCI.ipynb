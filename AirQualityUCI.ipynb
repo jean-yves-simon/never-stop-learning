{
 "cells": [
  {
   "cell_type": "markdown",
   "id": "48775c8a",
   "metadata": {},
   "source": [
    "##  Régression avec un réseau de neurones profonds (DNN)"
   ]
  },
  {
   "cell_type": "code",
   "execution_count": 1,
   "id": "ed6dbfb5",
   "metadata": {},
   "outputs": [
    {
     "name": "stdout",
     "output_type": "stream",
     "text": [
      "2.6.0\n"
     ]
    }
   ],
   "source": [
    "# chargement des bibliotheques .......\n",
    "\n",
    "import matplotlib.pyplot as plt\n",
    "import numpy as np\n",
    "import pandas as pd\n",
    "import tensorflow as tf\n",
    "from tensorflow import keras\n",
    "from tensorflow.keras import layers\n",
    "np.set_printoptions(precision=3, suppress=True)\n",
    "print(tf.__version__)\n"
   ]
  },
  {
   "cell_type": "markdown",
   "id": "647bc1d0",
   "metadata": {},
   "source": [
    "## Collecter et prétraiter les données¶"
   ]
  },
  {
   "cell_type": "markdown",
   "id": "e8af080c",
   "metadata": {},
   "source": [
    "La première étape consiste à collecter et prétraiter les données appropriées pour garantir qu'elles sont dans un format que le réseau neuronal peut utiliser. Cela peut impliquer le nettoyage des données, la gestion des valeurs manquantes et la normalisation des données. "
   ]
  },
  {
   "cell_type": "code",
   "execution_count": 2,
   "id": "6a6b9332",
   "metadata": {},
   "outputs": [
    {
     "data": {
      "text/html": [
       "<div>\n",
       "<style scoped>\n",
       "    .dataframe tbody tr th:only-of-type {\n",
       "        vertical-align: middle;\n",
       "    }\n",
       "\n",
       "    .dataframe tbody tr th {\n",
       "        vertical-align: top;\n",
       "    }\n",
       "\n",
       "    .dataframe thead th {\n",
       "        text-align: right;\n",
       "    }\n",
       "</style>\n",
       "<table border=\"1\" class=\"dataframe\">\n",
       "  <thead>\n",
       "    <tr style=\"text-align: right;\">\n",
       "      <th></th>\n",
       "      <th>Date</th>\n",
       "      <th>Time</th>\n",
       "      <th>CO(GT)</th>\n",
       "      <th>PT08.S1(CO)</th>\n",
       "      <th>NMHC(GT)</th>\n",
       "      <th>C6H6(GT)</th>\n",
       "      <th>PT08.S2(NMHC)</th>\n",
       "      <th>NOx(GT)</th>\n",
       "      <th>PT08.S3(NOx)</th>\n",
       "      <th>NO2(GT)</th>\n",
       "      <th>PT08.S4(NO2)</th>\n",
       "      <th>PT08.S5(O3)</th>\n",
       "      <th>T</th>\n",
       "      <th>RH</th>\n",
       "      <th>AH</th>\n",
       "      <th>Unnamed: 15</th>\n",
       "      <th>Unnamed: 16</th>\n",
       "    </tr>\n",
       "  </thead>\n",
       "  <tbody>\n",
       "    <tr>\n",
       "      <th>0</th>\n",
       "      <td>10/03/2004</td>\n",
       "      <td>18.00.00</td>\n",
       "      <td>2.6</td>\n",
       "      <td>1360.0</td>\n",
       "      <td>150.0</td>\n",
       "      <td>11.9</td>\n",
       "      <td>1046.0</td>\n",
       "      <td>166.0</td>\n",
       "      <td>1056.0</td>\n",
       "      <td>113.0</td>\n",
       "      <td>1692.0</td>\n",
       "      <td>1268.0</td>\n",
       "      <td>13.6</td>\n",
       "      <td>48.9</td>\n",
       "      <td>0.7578</td>\n",
       "      <td>NaN</td>\n",
       "      <td>NaN</td>\n",
       "    </tr>\n",
       "    <tr>\n",
       "      <th>1</th>\n",
       "      <td>10/03/2004</td>\n",
       "      <td>19.00.00</td>\n",
       "      <td>2.0</td>\n",
       "      <td>1292.0</td>\n",
       "      <td>112.0</td>\n",
       "      <td>9.4</td>\n",
       "      <td>955.0</td>\n",
       "      <td>103.0</td>\n",
       "      <td>1174.0</td>\n",
       "      <td>92.0</td>\n",
       "      <td>1559.0</td>\n",
       "      <td>972.0</td>\n",
       "      <td>13.3</td>\n",
       "      <td>47.7</td>\n",
       "      <td>0.7255</td>\n",
       "      <td>NaN</td>\n",
       "      <td>NaN</td>\n",
       "    </tr>\n",
       "    <tr>\n",
       "      <th>2</th>\n",
       "      <td>10/03/2004</td>\n",
       "      <td>20.00.00</td>\n",
       "      <td>2.2</td>\n",
       "      <td>1402.0</td>\n",
       "      <td>88.0</td>\n",
       "      <td>9.0</td>\n",
       "      <td>939.0</td>\n",
       "      <td>131.0</td>\n",
       "      <td>1140.0</td>\n",
       "      <td>114.0</td>\n",
       "      <td>1555.0</td>\n",
       "      <td>1074.0</td>\n",
       "      <td>11.9</td>\n",
       "      <td>54.0</td>\n",
       "      <td>0.7502</td>\n",
       "      <td>NaN</td>\n",
       "      <td>NaN</td>\n",
       "    </tr>\n",
       "    <tr>\n",
       "      <th>3</th>\n",
       "      <td>10/03/2004</td>\n",
       "      <td>21.00.00</td>\n",
       "      <td>2.2</td>\n",
       "      <td>1376.0</td>\n",
       "      <td>80.0</td>\n",
       "      <td>9.2</td>\n",
       "      <td>948.0</td>\n",
       "      <td>172.0</td>\n",
       "      <td>1092.0</td>\n",
       "      <td>122.0</td>\n",
       "      <td>1584.0</td>\n",
       "      <td>1203.0</td>\n",
       "      <td>11.0</td>\n",
       "      <td>60.0</td>\n",
       "      <td>0.7867</td>\n",
       "      <td>NaN</td>\n",
       "      <td>NaN</td>\n",
       "    </tr>\n",
       "    <tr>\n",
       "      <th>4</th>\n",
       "      <td>10/03/2004</td>\n",
       "      <td>22.00.00</td>\n",
       "      <td>1.6</td>\n",
       "      <td>1272.0</td>\n",
       "      <td>51.0</td>\n",
       "      <td>6.5</td>\n",
       "      <td>836.0</td>\n",
       "      <td>131.0</td>\n",
       "      <td>1205.0</td>\n",
       "      <td>116.0</td>\n",
       "      <td>1490.0</td>\n",
       "      <td>1110.0</td>\n",
       "      <td>11.2</td>\n",
       "      <td>59.6</td>\n",
       "      <td>0.7888</td>\n",
       "      <td>NaN</td>\n",
       "      <td>NaN</td>\n",
       "    </tr>\n",
       "  </tbody>\n",
       "</table>\n",
       "</div>"
      ],
      "text/plain": [
       "         Date      Time  CO(GT)  PT08.S1(CO)  NMHC(GT)  C6H6(GT)  \\\n",
       "0  10/03/2004  18.00.00     2.6       1360.0     150.0      11.9   \n",
       "1  10/03/2004  19.00.00     2.0       1292.0     112.0       9.4   \n",
       "2  10/03/2004  20.00.00     2.2       1402.0      88.0       9.0   \n",
       "3  10/03/2004  21.00.00     2.2       1376.0      80.0       9.2   \n",
       "4  10/03/2004  22.00.00     1.6       1272.0      51.0       6.5   \n",
       "\n",
       "   PT08.S2(NMHC)  NOx(GT)  PT08.S3(NOx)  NO2(GT)  PT08.S4(NO2)  PT08.S5(O3)  \\\n",
       "0         1046.0    166.0        1056.0    113.0        1692.0       1268.0   \n",
       "1          955.0    103.0        1174.0     92.0        1559.0        972.0   \n",
       "2          939.0    131.0        1140.0    114.0        1555.0       1074.0   \n",
       "3          948.0    172.0        1092.0    122.0        1584.0       1203.0   \n",
       "4          836.0    131.0        1205.0    116.0        1490.0       1110.0   \n",
       "\n",
       "      T    RH      AH  Unnamed: 15  Unnamed: 16  \n",
       "0  13.6  48.9  0.7578          NaN          NaN  \n",
       "1  13.3  47.7  0.7255          NaN          NaN  \n",
       "2  11.9  54.0  0.7502          NaN          NaN  \n",
       "3  11.0  60.0  0.7867          NaN          NaN  \n",
       "4  11.2  59.6  0.7888          NaN          NaN  "
      ]
     },
     "execution_count": 2,
     "metadata": {},
     "output_type": "execute_result"
    }
   ],
   "source": [
    "# chargement du dataframe avec conversion decimal des virgules par des point...............\n",
    "\n",
    "\n",
    "dataset = pd.read_csv('AirQualityUCI.csv', delimiter=\";\", decimal=\",\")\n",
    "dataset.head()\n"
   ]
  },
  {
   "cell_type": "code",
   "execution_count": 41,
   "id": "aa03cf6d",
   "metadata": {},
   "outputs": [],
   "source": [
    "# L'ensemble de données contient des lectures enregistrées par les capteurs chimiques\n",
    "# pour plusieurs substances présentes dans l'air. \n",
    "\n",
    "# libelé de chaque colonnes dans l'ordre indiqué : \n",
    "\n",
    "# 0    Date à laquelle la lecture a été enregistrée le\n",
    "# 1    Heure de la journée à laquelle la lecture a été enregistrée\n",
    "# 2    Concentration de CO en milligramme/m^3\n",
    "# 3    Réponse du capteur pour l'oxyde d'étain\n",
    "# 4    Concentration d'hydrocarbures non métaniques en microg/m^3\n",
    "# 5    Concentration de benzène en microg/m^3\n",
    "# 6    Réponse du capteur pour Titania\n",
    "# 7    Concentration de NOx en parties par milliard\n",
    "# 8    Réponse du capteur pour l'oxyde de tungstène (ciblage des NOx)\n",
    "# 9    Concentration de NO2 en microg/m^3\n",
    "# 10    Réponse du capteur pour l'oxyde de tungstène (ciblage du NO2)\n",
    "# 11    Réponse du capteur pour l'oxyde d'indium\n",
    "# 12    Température au moment de la lecture (°C)\n",
    "# 13    Humidité relative (%)\n",
    "# 14    Humidité absolue\n"
   ]
  },
  {
   "cell_type": "code",
   "execution_count": 3,
   "id": "68caf45a",
   "metadata": {},
   "outputs": [
    {
     "data": {
      "text/plain": [
       "(9471, 17)"
      ]
     },
     "execution_count": 3,
     "metadata": {},
     "output_type": "execute_result"
    }
   ],
   "source": [
    "# nombre de lignes et de colonnes\n",
    "\n",
    "dataset.shape"
   ]
  },
  {
   "cell_type": "code",
   "execution_count": 4,
   "id": "ae007ecc",
   "metadata": {},
   "outputs": [
    {
     "data": {
      "text/plain": [
       "Date              object\n",
       "Time              object\n",
       "CO(GT)           float64\n",
       "PT08.S1(CO)      float64\n",
       "NMHC(GT)         float64\n",
       "C6H6(GT)         float64\n",
       "PT08.S2(NMHC)    float64\n",
       "NOx(GT)          float64\n",
       "PT08.S3(NOx)     float64\n",
       "NO2(GT)          float64\n",
       "PT08.S4(NO2)     float64\n",
       "PT08.S5(O3)      float64\n",
       "T                float64\n",
       "RH               float64\n",
       "AH               float64\n",
       "Unnamed: 15      float64\n",
       "Unnamed: 16      float64\n",
       "dtype: object"
      ]
     },
     "execution_count": 4,
     "metadata": {},
     "output_type": "execute_result"
    }
   ],
   "source": [
    "# Pour voir le type de données de chaque colonne. \n",
    "\n",
    "dataset.dtypes"
   ]
  },
  {
   "cell_type": "code",
   "execution_count": 5,
   "id": "4d53feea",
   "metadata": {},
   "outputs": [],
   "source": [
    "# suppression des colonnes inutiles............\n",
    "\n",
    "dataset=dataset.drop(['Date','Time','Unnamed: 15','Unnamed: 16','CO(GT)'], axis=1)"
   ]
  },
  {
   "cell_type": "code",
   "execution_count": 6,
   "id": "9e7de042",
   "metadata": {},
   "outputs": [
    {
     "data": {
      "text/plain": [
       "PT08.S1(CO)      114\n",
       "NMHC(GT)         114\n",
       "C6H6(GT)         114\n",
       "PT08.S2(NMHC)    114\n",
       "NOx(GT)          114\n",
       "PT08.S3(NOx)     114\n",
       "NO2(GT)          114\n",
       "PT08.S4(NO2)     114\n",
       "PT08.S5(O3)      114\n",
       "T                114\n",
       "RH               114\n",
       "AH               114\n",
       "dtype: int64"
      ]
     },
     "execution_count": 6,
     "metadata": {},
     "output_type": "execute_result"
    }
   ],
   "source": [
    "# pour visualiser les lignes NaN................\n",
    "\n",
    "dataset.isnull().sum()"
   ]
  },
  {
   "cell_type": "code",
   "execution_count": 7,
   "id": "b8491aba",
   "metadata": {},
   "outputs": [],
   "source": [
    "# pour supprimer les NaN..............\n",
    "\n",
    "dataset=dataset.dropna()"
   ]
  },
  {
   "cell_type": "code",
   "execution_count": 8,
   "id": "83d6a0e9",
   "metadata": {},
   "outputs": [
    {
     "data": {
      "text/plain": [
       "PT08.S1(CO)      0\n",
       "NMHC(GT)         0\n",
       "C6H6(GT)         0\n",
       "PT08.S2(NMHC)    0\n",
       "NOx(GT)          0\n",
       "PT08.S3(NOx)     0\n",
       "NO2(GT)          0\n",
       "PT08.S4(NO2)     0\n",
       "PT08.S5(O3)      0\n",
       "T                0\n",
       "RH               0\n",
       "AH               0\n",
       "dtype: int64"
      ]
     },
     "execution_count": 8,
     "metadata": {},
     "output_type": "execute_result"
    }
   ],
   "source": [
    "# pour visualiser les lignes NaN................\n",
    "\n",
    "dataset.isnull().sum()"
   ]
  },
  {
   "cell_type": "code",
   "execution_count": 9,
   "id": "c74fbcb5",
   "metadata": {},
   "outputs": [
    {
     "data": {
      "text/html": [
       "<div>\n",
       "<style scoped>\n",
       "    .dataframe tbody tr th:only-of-type {\n",
       "        vertical-align: middle;\n",
       "    }\n",
       "\n",
       "    .dataframe tbody tr th {\n",
       "        vertical-align: top;\n",
       "    }\n",
       "\n",
       "    .dataframe thead th {\n",
       "        text-align: right;\n",
       "    }\n",
       "</style>\n",
       "<table border=\"1\" class=\"dataframe\">\n",
       "  <thead>\n",
       "    <tr style=\"text-align: right;\">\n",
       "      <th></th>\n",
       "      <th>PT08.S1(CO)</th>\n",
       "      <th>NMHC(GT)</th>\n",
       "      <th>C6H6(GT)</th>\n",
       "      <th>PT08.S2(NMHC)</th>\n",
       "      <th>NOx(GT)</th>\n",
       "      <th>PT08.S3(NOx)</th>\n",
       "      <th>NO2(GT)</th>\n",
       "      <th>PT08.S4(NO2)</th>\n",
       "      <th>PT08.S5(O3)</th>\n",
       "      <th>T</th>\n",
       "      <th>RH</th>\n",
       "      <th>AH</th>\n",
       "    </tr>\n",
       "  </thead>\n",
       "  <tbody>\n",
       "    <tr>\n",
       "      <th>0</th>\n",
       "      <td>1360.0</td>\n",
       "      <td>150.0</td>\n",
       "      <td>11.9</td>\n",
       "      <td>1046.0</td>\n",
       "      <td>166.0</td>\n",
       "      <td>1056.0</td>\n",
       "      <td>113.0</td>\n",
       "      <td>1692.0</td>\n",
       "      <td>1268.0</td>\n",
       "      <td>13.6</td>\n",
       "      <td>48.9</td>\n",
       "      <td>0.7578</td>\n",
       "    </tr>\n",
       "    <tr>\n",
       "      <th>1</th>\n",
       "      <td>1292.0</td>\n",
       "      <td>112.0</td>\n",
       "      <td>9.4</td>\n",
       "      <td>955.0</td>\n",
       "      <td>103.0</td>\n",
       "      <td>1174.0</td>\n",
       "      <td>92.0</td>\n",
       "      <td>1559.0</td>\n",
       "      <td>972.0</td>\n",
       "      <td>13.3</td>\n",
       "      <td>47.7</td>\n",
       "      <td>0.7255</td>\n",
       "    </tr>\n",
       "    <tr>\n",
       "      <th>2</th>\n",
       "      <td>1402.0</td>\n",
       "      <td>88.0</td>\n",
       "      <td>9.0</td>\n",
       "      <td>939.0</td>\n",
       "      <td>131.0</td>\n",
       "      <td>1140.0</td>\n",
       "      <td>114.0</td>\n",
       "      <td>1555.0</td>\n",
       "      <td>1074.0</td>\n",
       "      <td>11.9</td>\n",
       "      <td>54.0</td>\n",
       "      <td>0.7502</td>\n",
       "    </tr>\n",
       "    <tr>\n",
       "      <th>3</th>\n",
       "      <td>1376.0</td>\n",
       "      <td>80.0</td>\n",
       "      <td>9.2</td>\n",
       "      <td>948.0</td>\n",
       "      <td>172.0</td>\n",
       "      <td>1092.0</td>\n",
       "      <td>122.0</td>\n",
       "      <td>1584.0</td>\n",
       "      <td>1203.0</td>\n",
       "      <td>11.0</td>\n",
       "      <td>60.0</td>\n",
       "      <td>0.7867</td>\n",
       "    </tr>\n",
       "    <tr>\n",
       "      <th>4</th>\n",
       "      <td>1272.0</td>\n",
       "      <td>51.0</td>\n",
       "      <td>6.5</td>\n",
       "      <td>836.0</td>\n",
       "      <td>131.0</td>\n",
       "      <td>1205.0</td>\n",
       "      <td>116.0</td>\n",
       "      <td>1490.0</td>\n",
       "      <td>1110.0</td>\n",
       "      <td>11.2</td>\n",
       "      <td>59.6</td>\n",
       "      <td>0.7888</td>\n",
       "    </tr>\n",
       "  </tbody>\n",
       "</table>\n",
       "</div>"
      ],
      "text/plain": [
       "   PT08.S1(CO)  NMHC(GT)  C6H6(GT)  PT08.S2(NMHC)  NOx(GT)  PT08.S3(NOx)  \\\n",
       "0       1360.0     150.0      11.9         1046.0    166.0        1056.0   \n",
       "1       1292.0     112.0       9.4          955.0    103.0        1174.0   \n",
       "2       1402.0      88.0       9.0          939.0    131.0        1140.0   \n",
       "3       1376.0      80.0       9.2          948.0    172.0        1092.0   \n",
       "4       1272.0      51.0       6.5          836.0    131.0        1205.0   \n",
       "\n",
       "   NO2(GT)  PT08.S4(NO2)  PT08.S5(O3)     T    RH      AH  \n",
       "0    113.0        1692.0       1268.0  13.6  48.9  0.7578  \n",
       "1     92.0        1559.0        972.0  13.3  47.7  0.7255  \n",
       "2    114.0        1555.0       1074.0  11.9  54.0  0.7502  \n",
       "3    122.0        1584.0       1203.0  11.0  60.0  0.7867  \n",
       "4    116.0        1490.0       1110.0  11.2  59.6  0.7888  "
      ]
     },
     "execution_count": 9,
     "metadata": {},
     "output_type": "execute_result"
    }
   ],
   "source": [
    "# pour verifier suppression..........\n",
    "\n",
    "dataset.head()"
   ]
  },
  {
   "cell_type": "code",
   "execution_count": 10,
   "id": "e1ccf44a",
   "metadata": {},
   "outputs": [
    {
     "name": "stdout",
     "output_type": "stream",
     "text": [
      "Nombre de lignes l entrainement (7486, 12)\n",
      "Nombre de lignes pour les test (1871, 12)\n"
     ]
    }
   ],
   "source": [
    "# divisions les données en un ensembles d'entrainement et de test...............\n",
    "\n",
    "# utilisation de l'ensemble des données de test pour l'évaluation finale.........\n",
    "\n",
    "train_dataset = dataset.sample(frac=0.8, random_state=0)\n",
    "test_dataset = dataset.drop(train_dataset.index)\n",
    "\n",
    "print('Nombre de lignes l entrainement',train_dataset.shape)\n",
    "print('Nombre de lignes pour les test', test_dataset.shape)"
   ]
  },
  {
   "cell_type": "code",
   "execution_count": 11,
   "id": "441faad6",
   "metadata": {},
   "outputs": [],
   "source": [
    "# séparation  les entités des étiquettes...........\n",
    "# séparation de la valeur cible des caractéristiques ( features )..........\n",
    "# c'est cette cible que le modele va devoir prédire.\n",
    "\n",
    "train_features = train_dataset.copy()\n",
    "test_features = test_dataset.copy()\n",
    "\n",
    "train_labels = train_features.pop('T') # la cible est la Température \n",
    "test_labels = test_features.pop('T') # la cible est la Température"
   ]
  },
  {
   "cell_type": "markdown",
   "id": "be84f034",
   "metadata": {},
   "source": [
    "Dans l'analyse de régression utilisant un DNN, l'objectif est d'apprendre une fonction qui mappe les caractéristiques d'entrée à la sortie, de sorte que les prédictions faites par le modèle soient aussi précises que possible. Les caractéristiques d'entrée passent par la couche d'entrée du DNN puis sont traitées par les couches cachées, qui utilisent des fonctions d'activation non linéaires pour apprendre les relations complexes dans les données. La couche de sortie du DNN produit une prédiction pour la variable dépendante basée sur les caractéristiques d'entrée traitées"
   ]
  },
  {
   "cell_type": "markdown",
   "id": "3892e7d5",
   "metadata": {},
   "source": [
    "## Définir l'architecture du mdele\n",
    "\n",
    "L'étape suivante consiste à définir l'architecture du réseau de neurones. Cela inclut la sélection du type de couches (couches denses ou convolutives), du nombre de neurones dans chaque couche et des fonctions d'activation à utiliser.\n"
   ]
  },
  {
   "cell_type": "markdown",
   "id": "5b7253c8",
   "metadata": {},
   "source": [
    "## Compiler le modele\n",
    "\n",
    "Une fois l'architecture définie, il faut compiler le modèle. Cela implique de spécifier la fonction de perte, l'optimiseur et toutes les métriques que nous utiliserons pour évaluer le modèle.\n"
   ]
  },
  {
   "cell_type": "code",
   "execution_count": 12,
   "id": "bc456144",
   "metadata": {},
   "outputs": [],
   "source": [
    "# normalisation les données avec (tf.keras.layers.Normalization)...........\n",
    "\n",
    "\n",
    "normalizer = tf.keras.layers.Normalization(axis=-1)"
   ]
  },
  {
   "cell_type": "code",
   "execution_count": 13,
   "id": "cedc45ba",
   "metadata": {},
   "outputs": [
    {
     "name": "stderr",
     "output_type": "stream",
     "text": [
      "2023-11-28 20:42:38.307227: I tensorflow/compiler/mlir/mlir_graph_optimization_pass.cc:185] None of the MLIR Optimization Passes are enabled (registered 2)\n"
     ]
    }
   ],
   "source": [
    "normalizer.adapt(np.array(train_features))"
   ]
  },
  {
   "cell_type": "code",
   "execution_count": 14,
   "id": "3e2c5c60",
   "metadata": {},
   "outputs": [],
   "source": [
    "#  Régression avec un réseau de neurones profond (DNN)..........\n",
    "# modèles DNN à entrées multiples.\n",
    "\n",
    "\n",
    "def build_and_compile_model(norm):\n",
    "  model = keras.Sequential([\n",
    "      norm,\n",
    "      layers.Dense(64, activation='relu'),# 2 couches Dense avec fonction activation relu\n",
    "      layers.Dense(64, activation='relu'),\n",
    "      layers.Dense(1) # une couche Dense linéaire à sortie unique\n",
    "  ])\n",
    "\n",
    "  model.compile(loss='mean_absolute_error',\n",
    "                optimizer=tf.keras.optimizers.Adam(0.001))\n",
    "  return model\n"
   ]
  },
  {
   "cell_type": "code",
   "execution_count": 15,
   "id": "3c653ed1",
   "metadata": {},
   "outputs": [
    {
     "name": "stdout",
     "output_type": "stream",
     "text": [
      "Model: \"sequential\"\n",
      "_________________________________________________________________\n",
      "Layer (type)                 Output Shape              Param #   \n",
      "=================================================================\n",
      "normalization (Normalization (None, 11)                23        \n",
      "_________________________________________________________________\n",
      "dense (Dense)                (None, 64)                768       \n",
      "_________________________________________________________________\n",
      "dense_1 (Dense)              (None, 64)                4160      \n",
      "_________________________________________________________________\n",
      "dense_2 (Dense)              (None, 1)                 65        \n",
      "=================================================================\n",
      "Total params: 5,016\n",
      "Trainable params: 4,993\n",
      "Non-trainable params: 23\n",
      "_________________________________________________________________\n"
     ]
    }
   ],
   "source": [
    "# Régression utilisant un DNN et plusieurs entrées\n",
    "\n",
    "# Répétez le processus précédent en utilisant toutes les entrées.\n",
    "# Les performances du modèle s'améliorent légèrement sur l'ensemble de données de validation.\n",
    "\n",
    "dnn_model = build_and_compile_model(normalizer)\n",
    "dnn_model.summary()"
   ]
  },
  {
   "cell_type": "code",
   "execution_count": 17,
   "id": "1d1b0885",
   "metadata": {},
   "outputs": [],
   "source": [
    "# fonction d affichage....\n",
    "\n",
    "def plot_loss(history):\n",
    "  plt.plot(history.history['loss'], label='MAE')\n",
    "  plt.plot(history.history['val_loss'], label='val_MAE')\n",
    "  plt.ylim([0, 15])\n",
    "  plt.xlabel('Epoch')\n",
    "  plt.ylabel('Erreur en $ [T]')\n",
    "  plt.legend()\n",
    "  plt.grid(True)"
   ]
  },
  {
   "cell_type": "markdown",
   "id": "3aa3c149",
   "metadata": {},
   "source": [
    "## Entrainer le modele\n",
    "\n",
    "L'étape suivante consiste à entraîner le modèle à l'aide des données prétraitées. Cela implique d'introduire les données dans le modèle et d'ajuster les poids et les biais des neurones du réseau pour minimiser la fonction de perte.\n"
   ]
  },
  {
   "cell_type": "code",
   "execution_count": 18,
   "id": "667498e5",
   "metadata": {},
   "outputs": [
    {
     "data": {
      "image/png": "[encoded data removed]",
      "text/plain": [
       "<Figure size 432x288 with 1 Axes>"
      ]
     },
     "metadata": {
      "needs_background": "light"
     },
     "output_type": "display_data"
    }
   ],
   "source": [
    "# entrainement ....................\n",
    "\n",
    "history = dnn_model.fit(\n",
    "    train_features,\n",
    "    train_labels,\n",
    "    validation_split=0.2,\n",
    "    verbose=0, epochs=100)\n",
    "\n",
    "\n",
    "plot_loss(history)"
   ]
  },
  {
   "cell_type": "markdown",
   "id": "360128b7",
   "metadata": {},
   "source": [
    "## Evaluer le modele\n",
    "\n",
    "Une fois le modèle entraîné, il doit être évalué pour déterminer ses performances. Cela peut impliquer l'utilisation d'un ensemble de données distinct (ou d'un sous-ensemble des données d'entraînement) pour évaluer la capacité du modèle à effectuer des prédictions précises.\n"
   ]
  },
  {
   "cell_type": "code",
   "execution_count": 20,
   "id": "2aca45d6",
   "metadata": {},
   "outputs": [
    {
     "data": {
      "text/plain": [
       "{'dnn_model': 0.8362526297569275}"
      ]
     },
     "execution_count": 20,
     "metadata": {},
     "output_type": "execute_result"
    }
   ],
   "source": [
    "# résultats de la MAE sur l'ensemble de test :\n",
    "\n",
    "test_resultats = {}\n",
    "\n",
    "test_resultats['dnn_model'] = dnn_model.evaluate(test_features, test_labels, verbose=0)\n",
    "test_resultats"
   ]
  },
  {
   "cell_type": "markdown",
   "id": "de280b3e",
   "metadata": {},
   "source": [
    "## Faire des prédiction\n",
    "\n",
    "Une fois le modèle affiné, nous pouvons l'utiliser pour prédire de nouvelles données.\n"
   ]
  },
  {
   "cell_type": "code",
   "execution_count": null,
   "id": "f97a35e1",
   "metadata": {},
   "outputs": [],
   "source": [
    "#  prédiction...\n",
    "\n",
    "y_pred = dnn_model.predict(test_features)\n",
    "print('prédiction de la Température ',y_pred[1:2])\n",
    "print('Température  attendue',test_labels[1:2])"
   ]
  },
  {
   "cell_type": "code",
   "execution_count": null,
   "id": "f7b67acf",
   "metadata": {},
   "outputs": [],
   "source": []
  }
 ],
 "metadata": {
  "kernelspec": {
   "display_name": "Python 3 (ipykernel)",
   "language": "python",
   "name": "python3"
  },
  "language_info": {
   "codemirror_mode": {
    "name": "ipython",
    "version": 3
   },
   "file_extension": ".py",
   "mimetype": "text/x-python",
   "name": "python",
   "nbconvert_exporter": "python",
   "pygments_lexer": "ipython3",
   "version": "3.8.11"
  }
 },
 "nbformat": 4,
 "nbformat_minor": 5
}
