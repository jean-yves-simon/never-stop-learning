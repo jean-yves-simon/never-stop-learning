{
 "cells": [
  {
   "cell_type": "markdown",
   "id": "d686c09b",
   "metadata": {},
   "source": [
    "# DNN, Deep Neural Network\n",
    "\n",
    "##  Régression avec un réseau de neurones profonds (DNN)\n"
   ]
  },
  {
   "cell_type": "code",
   "execution_count": 1,
   "id": "ed6dbfb5",
   "metadata": {},
   "outputs": [
    {
     "name": "stdout",
     "output_type": "stream",
     "text": [
      "2.6.0\n"
     ]
    }
   ],
   "source": [
    "# chargement des bibliotheques .......\n",
    "\n",
    "import matplotlib.pyplot as plt\n",
    "import numpy as np\n",
    "import pandas as pd\n",
    "import tensorflow as tf\n",
    "from tensorflow import keras\n",
    "from tensorflow.keras import layers\n",
    "np.set_printoptions(precision=3, suppress=True)\n",
    "print(tf.__version__)\n"
   ]
  },
  {
   "cell_type": "markdown",
   "id": "555ec084",
   "metadata": {},
   "source": [
    "## Collecter et prétraiter les données"
   ]
  },
  {
   "cell_type": "markdown",
   "id": "e6b921bb",
   "metadata": {},
   "source": [
    "La première étape consiste à collecter et prétraiter les données appropriées pour garantir qu'elles sont dans un format que le réseau neuronal peut utiliser. Cela peut impliquer le nettoyage des données, la gestion des valeurs manquantes et la normalisation des données. "
   ]
  },
  {
   "cell_type": "code",
   "execution_count": 15,
   "id": "ca9d4d6b",
   "metadata": {},
   "outputs": [
    {
     "data": {
      "text/html": [
       "<div>\n",
       "<style scoped>\n",
       "    .dataframe tbody tr th:only-of-type {\n",
       "        vertical-align: middle;\n",
       "    }\n",
       "\n",
       "    .dataframe tbody tr th {\n",
       "        vertical-align: top;\n",
       "    }\n",
       "\n",
       "    .dataframe thead th {\n",
       "        text-align: right;\n",
       "    }\n",
       "</style>\n",
       "<table border=\"1\" class=\"dataframe\">\n",
       "  <thead>\n",
       "    <tr style=\"text-align: right;\">\n",
       "      <th></th>\n",
       "      <th>date</th>\n",
       "      <th>Appliances</th>\n",
       "      <th>lights</th>\n",
       "      <th>T1</th>\n",
       "      <th>RH_1</th>\n",
       "      <th>T2</th>\n",
       "      <th>RH_2</th>\n",
       "      <th>T3</th>\n",
       "      <th>RH_3</th>\n",
       "      <th>T4</th>\n",
       "      <th>...</th>\n",
       "      <th>T9</th>\n",
       "      <th>RH_9</th>\n",
       "      <th>T_out</th>\n",
       "      <th>Press_mm_hg</th>\n",
       "      <th>RH_out</th>\n",
       "      <th>Windspeed</th>\n",
       "      <th>Visibility</th>\n",
       "      <th>Tdewpoint</th>\n",
       "      <th>rv1</th>\n",
       "      <th>rv2</th>\n",
       "    </tr>\n",
       "  </thead>\n",
       "  <tbody>\n",
       "    <tr>\n",
       "      <th>0</th>\n",
       "      <td>2016-01-11 17:00:00</td>\n",
       "      <td>60</td>\n",
       "      <td>30</td>\n",
       "      <td>19.890000000000001</td>\n",
       "      <td>47.596666666666700</td>\n",
       "      <td>19.199999999999999</td>\n",
       "      <td>44.789999999999999</td>\n",
       "      <td>19.789999999999999</td>\n",
       "      <td>44.729999999999997</td>\n",
       "      <td>19.000000000000000</td>\n",
       "      <td>...</td>\n",
       "      <td>17.033333333333299</td>\n",
       "      <td>45.530000000000001</td>\n",
       "      <td>6.5999999999999996e+00</td>\n",
       "      <td>733.50000000000000</td>\n",
       "      <td>92.000000000000000</td>\n",
       "      <td>7.00000000000000000</td>\n",
       "      <td>63.0000000000000000</td>\n",
       "      <td>5.2999999999999998e+00</td>\n",
       "      <td>13.2754331571049988270</td>\n",
       "      <td>13.2754331571049988270</td>\n",
       "    </tr>\n",
       "    <tr>\n",
       "      <th>1</th>\n",
       "      <td>2016-01-11 17:10:00</td>\n",
       "      <td>60</td>\n",
       "      <td>30</td>\n",
       "      <td>19.890000000000001</td>\n",
       "      <td>46.693333333333300</td>\n",
       "      <td>19.199999999999999</td>\n",
       "      <td>44.722499999999997</td>\n",
       "      <td>19.789999999999999</td>\n",
       "      <td>44.789999999999999</td>\n",
       "      <td>19.000000000000000</td>\n",
       "      <td>...</td>\n",
       "      <td>17.066666666666698</td>\n",
       "      <td>45.560000000000002</td>\n",
       "      <td>6.4833333333333298e+00</td>\n",
       "      <td>733.60000000000002</td>\n",
       "      <td>92.000000000000000</td>\n",
       "      <td>6.66666666666666963</td>\n",
       "      <td>59.1666666666666998</td>\n",
       "      <td>5.2000000000000002e+00</td>\n",
       "      <td>18.6061949818395078182</td>\n",
       "      <td>18.6061949818395078182</td>\n",
       "    </tr>\n",
       "    <tr>\n",
       "      <th>2</th>\n",
       "      <td>2016-01-11 17:20:00</td>\n",
       "      <td>50</td>\n",
       "      <td>30</td>\n",
       "      <td>19.890000000000001</td>\n",
       "      <td>46.299999999999997</td>\n",
       "      <td>19.199999999999999</td>\n",
       "      <td>44.626666666666701</td>\n",
       "      <td>19.789999999999999</td>\n",
       "      <td>44.933333333333302</td>\n",
       "      <td>18.926666666666701</td>\n",
       "      <td>...</td>\n",
       "      <td>17.000000000000000</td>\n",
       "      <td>45.500000000000000</td>\n",
       "      <td>6.3666666666666698e+00</td>\n",
       "      <td>733.70000000000005</td>\n",
       "      <td>92.000000000000000</td>\n",
       "      <td>6.33333333333333037</td>\n",
       "      <td>55.3333333333333002</td>\n",
       "      <td>5.0999999999999996e+00</td>\n",
       "      <td>28.6426681675948202610</td>\n",
       "      <td>28.6426681675948202610</td>\n",
       "    </tr>\n",
       "    <tr>\n",
       "      <th>3</th>\n",
       "      <td>2016-01-11 17:30:00</td>\n",
       "      <td>50</td>\n",
       "      <td>40</td>\n",
       "      <td>19.890000000000001</td>\n",
       "      <td>46.066666666666698</td>\n",
       "      <td>19.199999999999999</td>\n",
       "      <td>44.590000000000003</td>\n",
       "      <td>19.789999999999999</td>\n",
       "      <td>45.000000000000000</td>\n",
       "      <td>18.890000000000001</td>\n",
       "      <td>...</td>\n",
       "      <td>17.000000000000000</td>\n",
       "      <td>45.399999999999999</td>\n",
       "      <td>6.2500000000000000e+00</td>\n",
       "      <td>733.79999999999995</td>\n",
       "      <td>92.000000000000000</td>\n",
       "      <td>6.00000000000000000</td>\n",
       "      <td>51.5000000000000000</td>\n",
       "      <td>5.0000000000000000e+00</td>\n",
       "      <td>45.4103894997388124466</td>\n",
       "      <td>45.4103894997388124466</td>\n",
       "    </tr>\n",
       "    <tr>\n",
       "      <th>4</th>\n",
       "      <td>2016-01-11 17:40:00</td>\n",
       "      <td>60</td>\n",
       "      <td>40</td>\n",
       "      <td>19.890000000000001</td>\n",
       "      <td>46.333333333333300</td>\n",
       "      <td>19.199999999999999</td>\n",
       "      <td>44.530000000000001</td>\n",
       "      <td>19.789999999999999</td>\n",
       "      <td>45.000000000000000</td>\n",
       "      <td>18.890000000000001</td>\n",
       "      <td>...</td>\n",
       "      <td>17.000000000000000</td>\n",
       "      <td>45.399999999999999</td>\n",
       "      <td>6.1333333333333302e+00</td>\n",
       "      <td>733.89999999999998</td>\n",
       "      <td>92.000000000000000</td>\n",
       "      <td>5.66666666666666963</td>\n",
       "      <td>47.6666666666666998</td>\n",
       "      <td>4.9000000000000004e+00</td>\n",
       "      <td>10.0840965518727898598</td>\n",
       "      <td>10.0840965518727898598</td>\n",
       "    </tr>\n",
       "  </tbody>\n",
       "</table>\n",
       "<p>5 rows × 29 columns</p>\n",
       "</div>"
      ],
      "text/plain": [
       "                  date  Appliances  lights                  T1  \\\n",
       "0  2016-01-11 17:00:00          60      30  19.890000000000001   \n",
       "1  2016-01-11 17:10:00          60      30  19.890000000000001   \n",
       "2  2016-01-11 17:20:00          50      30  19.890000000000001   \n",
       "3  2016-01-11 17:30:00          50      40  19.890000000000001   \n",
       "4  2016-01-11 17:40:00          60      40  19.890000000000001   \n",
       "\n",
       "                 RH_1                  T2                RH_2  \\\n",
       "0  47.596666666666700  19.199999999999999  44.789999999999999   \n",
       "1  46.693333333333300  19.199999999999999  44.722499999999997   \n",
       "2  46.299999999999997  19.199999999999999  44.626666666666701   \n",
       "3  46.066666666666698  19.199999999999999  44.590000000000003   \n",
       "4  46.333333333333300  19.199999999999999  44.530000000000001   \n",
       "\n",
       "                   T3                RH_3                  T4  ...  \\\n",
       "0  19.789999999999999  44.729999999999997  19.000000000000000  ...   \n",
       "1  19.789999999999999  44.789999999999999  19.000000000000000  ...   \n",
       "2  19.789999999999999  44.933333333333302  18.926666666666701  ...   \n",
       "3  19.789999999999999  45.000000000000000  18.890000000000001  ...   \n",
       "4  19.789999999999999  45.000000000000000  18.890000000000001  ...   \n",
       "\n",
       "                   T9                RH_9                    T_out  \\\n",
       "0  17.033333333333299  45.530000000000001   6.5999999999999996e+00   \n",
       "1  17.066666666666698  45.560000000000002   6.4833333333333298e+00   \n",
       "2  17.000000000000000  45.500000000000000   6.3666666666666698e+00   \n",
       "3  17.000000000000000  45.399999999999999   6.2500000000000000e+00   \n",
       "4  17.000000000000000  45.399999999999999   6.1333333333333302e+00   \n",
       "\n",
       "          Press_mm_hg               RH_out             Windspeed  \\\n",
       "0  733.50000000000000   92.000000000000000   7.00000000000000000   \n",
       "1  733.60000000000002   92.000000000000000   6.66666666666666963   \n",
       "2  733.70000000000005   92.000000000000000   6.33333333333333037   \n",
       "3  733.79999999999995   92.000000000000000   6.00000000000000000   \n",
       "4  733.89999999999998   92.000000000000000   5.66666666666666963   \n",
       "\n",
       "            Visibility                Tdewpoint                     rv1  \\\n",
       "0  63.0000000000000000   5.2999999999999998e+00  13.2754331571049988270   \n",
       "1  59.1666666666666998   5.2000000000000002e+00  18.6061949818395078182   \n",
       "2  55.3333333333333002   5.0999999999999996e+00  28.6426681675948202610   \n",
       "3  51.5000000000000000   5.0000000000000000e+00  45.4103894997388124466   \n",
       "4  47.6666666666666998   4.9000000000000004e+00  10.0840965518727898598   \n",
       "\n",
       "                      rv2  \n",
       "0  13.2754331571049988270  \n",
       "1  18.6061949818395078182  \n",
       "2  28.6426681675948202610  \n",
       "3  45.4103894997388124466  \n",
       "4  10.0840965518727898598  \n",
       "\n",
       "[5 rows x 29 columns]"
      ]
     },
     "execution_count": 15,
     "metadata": {},
     "output_type": "execute_result"
    }
   ],
   "source": [
    "# chargement du dataframe avec conversion decimal des virgules par des point...............\n",
    "\n",
    "\n",
    "dataset = pd.read_csv('energydata_complete.csv', delimiter=\",\", decimal=\",\")\n",
    "dataset.head()\n"
   ]
  },
  {
   "cell_type": "code",
   "execution_count": 3,
   "id": "95756913",
   "metadata": {},
   "outputs": [
    {
     "data": {
      "text/plain": [
       "(19735, 29)"
      ]
     },
     "execution_count": 3,
     "metadata": {},
     "output_type": "execute_result"
    }
   ],
   "source": [
    "dataset.shape"
   ]
  },
  {
   "cell_type": "code",
   "execution_count": null,
   "id": "4eaccb9e",
   "metadata": {},
   "outputs": [],
   "source": [
    "# date heure année-mois-jour heure:minute:seconde \n",
    "\n",
    "# Appareils électroménagers, consommation d'énergie en Wh\n",
    "\n",
    "# lumières, consommation d'énergie des luminaires de la maison en Wh\n",
    "\n",
    "# T1, Température dans le coin cuisine, en Celsius\n",
    "\n",
    "# RH_1, Humidité dans le coin cuisine, en %\n",
    "\n",
    "# T2, Température dans le salon, en Celsius\n",
    "\n",
    "# RH_2, Humidité dans la pièce à vivre, en %\n",
    "\n",
    "# T3, Température dans la zone buanderie\n",
    "\n",
    "# RH_3, Humidité dans la buanderie, en %\n",
    "\n",
    "# T4, Température dans le bureau, en Celsius\n",
    "\n",
    "# RH_4, Humidité dans un bureau, en %\n",
    "\n",
    "# T5, Température dans la salle de bain, en Celsius\n",
    "\n",
    "# RH_5, Humidité dans la salle de bain, en %\n",
    "\n",
    "# T6, Température à l'extérieur du bâtiment (côté nord), en Celsius\n",
    "\n",
    "# RH_6, Humidité à l'extérieur du bâtiment (côté nord), en %\n",
    "\n",
    "# T7, Température dans la salle de repassage, en Celsius\n",
    "\n",
    "# RH_7, Humidité dans la salle de repassage, en %\n",
    "\n",
    "# T8, Température dans la chambre d'adolescent 2, en Celsius\n",
    "\n",
    "# RH_8, Humidité dans la chambre adolescent 2, en %\n",
    "\n",
    "# T9, Température dans la chambre des parents, en Celsius\n",
    "\n",
    "# RH_9, Humidité dans la chambre des parents, en %\n",
    "\n",
    "# To, Température extérieure (depuis la station météo de Chièvres), en Celsius\n",
    "\n",
    "# Pression (depuis la station météo de Chièvres), en mm Hg\n",
    "\n",
    "# RH_out, Humidité extérieure (depuis la station météo de Chièvres), en %\n",
    "\n",
    "# Vitesse du vent (depuis la station météo de Chièvres), en m/s\n",
    "\n",
    "# Visibilité (depuis la station météo de Chièvres), en km\n",
    "\n",
    "# Tdewpoint (depuis la station météo de Chièvres), Â°C\n",
    "\n",
    "# rv1, variable aléatoire 1, non dimensionnelle\n",
    "\n",
    "# rv2, variable aléatoire 2, non dimensionnelle\n"
   ]
  },
  {
   "cell_type": "markdown",
   "id": "933924dc",
   "metadata": {},
   "source": [
    "# outils pour le traitement du dataframe\n"
   ]
  },
  {
   "cell_type": "code",
   "execution_count": 105,
   "id": "4a9b7ad0",
   "metadata": {},
   "outputs": [],
   "source": [
    "# Passer un DataFrame à get_dummies()\n",
    "\n",
    "\n",
    "dataset = pd.get_dummies(dataset, columns=['Bedrooms', 'Bathrooms','Neighborhood'])"
   ]
  },
  {
   "cell_type": "code",
   "execution_count": 18,
   "id": "185deb85",
   "metadata": {},
   "outputs": [
    {
     "data": {
      "text/html": [
       "<div>\n",
       "<style scoped>\n",
       "    .dataframe tbody tr th:only-of-type {\n",
       "        vertical-align: middle;\n",
       "    }\n",
       "\n",
       "    .dataframe tbody tr th {\n",
       "        vertical-align: top;\n",
       "    }\n",
       "\n",
       "    .dataframe thead th {\n",
       "        text-align: right;\n",
       "    }\n",
       "</style>\n",
       "<table border=\"1\" class=\"dataframe\">\n",
       "  <thead>\n",
       "    <tr style=\"text-align: right;\">\n",
       "      <th></th>\n",
       "      <th>Appliances</th>\n",
       "      <th>lights</th>\n",
       "      <th>T1</th>\n",
       "      <th>RH_1</th>\n",
       "      <th>T2</th>\n",
       "      <th>RH_2</th>\n",
       "      <th>T3</th>\n",
       "      <th>RH_3</th>\n",
       "      <th>T4</th>\n",
       "      <th>RH_4</th>\n",
       "      <th>...</th>\n",
       "      <th>T9</th>\n",
       "      <th>RH_9</th>\n",
       "      <th>T_out</th>\n",
       "      <th>Press_mm_hg</th>\n",
       "      <th>RH_out</th>\n",
       "      <th>Windspeed</th>\n",
       "      <th>Visibility</th>\n",
       "      <th>Tdewpoint</th>\n",
       "      <th>rv1</th>\n",
       "      <th>rv2</th>\n",
       "    </tr>\n",
       "  </thead>\n",
       "  <tbody>\n",
       "    <tr>\n",
       "      <th>0</th>\n",
       "      <td>60</td>\n",
       "      <td>30</td>\n",
       "      <td>19.890000000000001</td>\n",
       "      <td>47.596666666666700</td>\n",
       "      <td>19.199999999999999</td>\n",
       "      <td>44.789999999999999</td>\n",
       "      <td>19.789999999999999</td>\n",
       "      <td>44.729999999999997</td>\n",
       "      <td>19.000000000000000</td>\n",
       "      <td>45.566666666666698</td>\n",
       "      <td>...</td>\n",
       "      <td>17.033333333333299</td>\n",
       "      <td>45.530000000000001</td>\n",
       "      <td>6.5999999999999996e+00</td>\n",
       "      <td>733.50000000000000</td>\n",
       "      <td>92.000000000000000</td>\n",
       "      <td>7.00000000000000000</td>\n",
       "      <td>63.0000000000000000</td>\n",
       "      <td>5.2999999999999998e+00</td>\n",
       "      <td>13.2754331571049988270</td>\n",
       "      <td>13.2754331571049988270</td>\n",
       "    </tr>\n",
       "    <tr>\n",
       "      <th>1</th>\n",
       "      <td>60</td>\n",
       "      <td>30</td>\n",
       "      <td>19.890000000000001</td>\n",
       "      <td>46.693333333333300</td>\n",
       "      <td>19.199999999999999</td>\n",
       "      <td>44.722499999999997</td>\n",
       "      <td>19.789999999999999</td>\n",
       "      <td>44.789999999999999</td>\n",
       "      <td>19.000000000000000</td>\n",
       "      <td>45.992500000000000</td>\n",
       "      <td>...</td>\n",
       "      <td>17.066666666666698</td>\n",
       "      <td>45.560000000000002</td>\n",
       "      <td>6.4833333333333298e+00</td>\n",
       "      <td>733.60000000000002</td>\n",
       "      <td>92.000000000000000</td>\n",
       "      <td>6.66666666666666963</td>\n",
       "      <td>59.1666666666666998</td>\n",
       "      <td>5.2000000000000002e+00</td>\n",
       "      <td>18.6061949818395078182</td>\n",
       "      <td>18.6061949818395078182</td>\n",
       "    </tr>\n",
       "    <tr>\n",
       "      <th>2</th>\n",
       "      <td>50</td>\n",
       "      <td>30</td>\n",
       "      <td>19.890000000000001</td>\n",
       "      <td>46.299999999999997</td>\n",
       "      <td>19.199999999999999</td>\n",
       "      <td>44.626666666666701</td>\n",
       "      <td>19.789999999999999</td>\n",
       "      <td>44.933333333333302</td>\n",
       "      <td>18.926666666666701</td>\n",
       "      <td>45.890000000000001</td>\n",
       "      <td>...</td>\n",
       "      <td>17.000000000000000</td>\n",
       "      <td>45.500000000000000</td>\n",
       "      <td>6.3666666666666698e+00</td>\n",
       "      <td>733.70000000000005</td>\n",
       "      <td>92.000000000000000</td>\n",
       "      <td>6.33333333333333037</td>\n",
       "      <td>55.3333333333333002</td>\n",
       "      <td>5.0999999999999996e+00</td>\n",
       "      <td>28.6426681675948202610</td>\n",
       "      <td>28.6426681675948202610</td>\n",
       "    </tr>\n",
       "    <tr>\n",
       "      <th>3</th>\n",
       "      <td>50</td>\n",
       "      <td>40</td>\n",
       "      <td>19.890000000000001</td>\n",
       "      <td>46.066666666666698</td>\n",
       "      <td>19.199999999999999</td>\n",
       "      <td>44.590000000000003</td>\n",
       "      <td>19.789999999999999</td>\n",
       "      <td>45.000000000000000</td>\n",
       "      <td>18.890000000000001</td>\n",
       "      <td>45.723333333333301</td>\n",
       "      <td>...</td>\n",
       "      <td>17.000000000000000</td>\n",
       "      <td>45.399999999999999</td>\n",
       "      <td>6.2500000000000000e+00</td>\n",
       "      <td>733.79999999999995</td>\n",
       "      <td>92.000000000000000</td>\n",
       "      <td>6.00000000000000000</td>\n",
       "      <td>51.5000000000000000</td>\n",
       "      <td>5.0000000000000000e+00</td>\n",
       "      <td>45.4103894997388124466</td>\n",
       "      <td>45.4103894997388124466</td>\n",
       "    </tr>\n",
       "    <tr>\n",
       "      <th>4</th>\n",
       "      <td>60</td>\n",
       "      <td>40</td>\n",
       "      <td>19.890000000000001</td>\n",
       "      <td>46.333333333333300</td>\n",
       "      <td>19.199999999999999</td>\n",
       "      <td>44.530000000000001</td>\n",
       "      <td>19.789999999999999</td>\n",
       "      <td>45.000000000000000</td>\n",
       "      <td>18.890000000000001</td>\n",
       "      <td>45.530000000000001</td>\n",
       "      <td>...</td>\n",
       "      <td>17.000000000000000</td>\n",
       "      <td>45.399999999999999</td>\n",
       "      <td>6.1333333333333302e+00</td>\n",
       "      <td>733.89999999999998</td>\n",
       "      <td>92.000000000000000</td>\n",
       "      <td>5.66666666666666963</td>\n",
       "      <td>47.6666666666666998</td>\n",
       "      <td>4.9000000000000004e+00</td>\n",
       "      <td>10.0840965518727898598</td>\n",
       "      <td>10.0840965518727898598</td>\n",
       "    </tr>\n",
       "  </tbody>\n",
       "</table>\n",
       "<p>5 rows × 28 columns</p>\n",
       "</div>"
      ],
      "text/plain": [
       "   Appliances  lights                  T1                RH_1  \\\n",
       "0          60      30  19.890000000000001  47.596666666666700   \n",
       "1          60      30  19.890000000000001  46.693333333333300   \n",
       "2          50      30  19.890000000000001  46.299999999999997   \n",
       "3          50      40  19.890000000000001  46.066666666666698   \n",
       "4          60      40  19.890000000000001  46.333333333333300   \n",
       "\n",
       "                   T2                RH_2                  T3  \\\n",
       "0  19.199999999999999  44.789999999999999  19.789999999999999   \n",
       "1  19.199999999999999  44.722499999999997  19.789999999999999   \n",
       "2  19.199999999999999  44.626666666666701  19.789999999999999   \n",
       "3  19.199999999999999  44.590000000000003  19.789999999999999   \n",
       "4  19.199999999999999  44.530000000000001  19.789999999999999   \n",
       "\n",
       "                 RH_3                  T4                RH_4  ...  \\\n",
       "0  44.729999999999997  19.000000000000000  45.566666666666698  ...   \n",
       "1  44.789999999999999  19.000000000000000  45.992500000000000  ...   \n",
       "2  44.933333333333302  18.926666666666701  45.890000000000001  ...   \n",
       "3  45.000000000000000  18.890000000000001  45.723333333333301  ...   \n",
       "4  45.000000000000000  18.890000000000001  45.530000000000001  ...   \n",
       "\n",
       "                   T9                RH_9                    T_out  \\\n",
       "0  17.033333333333299  45.530000000000001   6.5999999999999996e+00   \n",
       "1  17.066666666666698  45.560000000000002   6.4833333333333298e+00   \n",
       "2  17.000000000000000  45.500000000000000   6.3666666666666698e+00   \n",
       "3  17.000000000000000  45.399999999999999   6.2500000000000000e+00   \n",
       "4  17.000000000000000  45.399999999999999   6.1333333333333302e+00   \n",
       "\n",
       "          Press_mm_hg               RH_out             Windspeed  \\\n",
       "0  733.50000000000000   92.000000000000000   7.00000000000000000   \n",
       "1  733.60000000000002   92.000000000000000   6.66666666666666963   \n",
       "2  733.70000000000005   92.000000000000000   6.33333333333333037   \n",
       "3  733.79999999999995   92.000000000000000   6.00000000000000000   \n",
       "4  733.89999999999998   92.000000000000000   5.66666666666666963   \n",
       "\n",
       "            Visibility                Tdewpoint                     rv1  \\\n",
       "0  63.0000000000000000   5.2999999999999998e+00  13.2754331571049988270   \n",
       "1  59.1666666666666998   5.2000000000000002e+00  18.6061949818395078182   \n",
       "2  55.3333333333333002   5.0999999999999996e+00  28.6426681675948202610   \n",
       "3  51.5000000000000000   5.0000000000000000e+00  45.4103894997388124466   \n",
       "4  47.6666666666666998   4.9000000000000004e+00  10.0840965518727898598   \n",
       "\n",
       "                      rv2  \n",
       "0  13.2754331571049988270  \n",
       "1  18.6061949818395078182  \n",
       "2  28.6426681675948202610  \n",
       "3  45.4103894997388124466  \n",
       "4  10.0840965518727898598  \n",
       "\n",
       "[5 rows x 28 columns]"
      ]
     },
     "execution_count": 18,
     "metadata": {},
     "output_type": "execute_result"
    }
   ],
   "source": [
    "# visualisation\n",
    "\n",
    "dataset.head()"
   ]
  },
  {
   "cell_type": "code",
   "execution_count": 19,
   "id": "4f8e4e52",
   "metadata": {},
   "outputs": [
    {
     "data": {
      "text/plain": [
       "Appliances      int64\n",
       "lights          int64\n",
       "T1             object\n",
       "RH_1           object\n",
       "T2             object\n",
       "RH_2           object\n",
       "T3             object\n",
       "RH_3           object\n",
       "T4             object\n",
       "RH_4           object\n",
       "T5             object\n",
       "RH_5           object\n",
       "T6             object\n",
       "RH_6           object\n",
       "T7             object\n",
       "RH_7           object\n",
       "T8             object\n",
       "RH_8           object\n",
       "T9             object\n",
       "RH_9           object\n",
       "T_out          object\n",
       "Press_mm_hg    object\n",
       "RH_out         object\n",
       "Windspeed      object\n",
       "Visibility     object\n",
       "Tdewpoint      object\n",
       "rv1            object\n",
       "rv2            object\n",
       "dtype: object"
      ]
     },
     "execution_count": 19,
     "metadata": {},
     "output_type": "execute_result"
    }
   ],
   "source": [
    "# Pour voir le type de données de chaque colonne. \n",
    "\n",
    "dataset.dtypes"
   ]
  },
  {
   "cell_type": "code",
   "execution_count": 20,
   "id": "6161226a",
   "metadata": {},
   "outputs": [],
   "source": [
    "# pour convertir en float64 toutes les colonnes...........\n",
    "dataset = dataset.astype('float32')"
   ]
  },
  {
   "cell_type": "code",
   "execution_count": null,
   "id": "5852b963",
   "metadata": {},
   "outputs": [],
   "source": [
    "# pour convertir certaines colonnes...........\n",
    "dataset[float64_cols] = dataset[float64_cols].astype('float32')\n"
   ]
  },
  {
   "cell_type": "code",
   "execution_count": null,
   "id": "8cf8abbe",
   "metadata": {},
   "outputs": [],
   "source": [
    "# pour transformer toutes les colonnes.........\n",
    "\n",
    "dataset=dataset.apply(pd.to_numeric)"
   ]
  },
  {
   "cell_type": "code",
   "execution_count": 17,
   "id": "c555286d",
   "metadata": {},
   "outputs": [],
   "source": [
    "# suppression des colonnes inutiles............\n",
    "\n",
    "dataset=dataset.drop(['date'], axis=1)"
   ]
  },
  {
   "cell_type": "code",
   "execution_count": 21,
   "id": "cc519879",
   "metadata": {},
   "outputs": [
    {
     "data": {
      "text/plain": [
       "Appliances     0\n",
       "lights         0\n",
       "T1             0\n",
       "RH_1           0\n",
       "T2             0\n",
       "RH_2           0\n",
       "T3             0\n",
       "RH_3           0\n",
       "T4             0\n",
       "RH_4           0\n",
       "T5             0\n",
       "RH_5           0\n",
       "T6             0\n",
       "RH_6           0\n",
       "T7             0\n",
       "RH_7           0\n",
       "T8             0\n",
       "RH_8           0\n",
       "T9             0\n",
       "RH_9           0\n",
       "T_out          0\n",
       "Press_mm_hg    0\n",
       "RH_out         0\n",
       "Windspeed      0\n",
       "Visibility     0\n",
       "Tdewpoint      0\n",
       "rv1            0\n",
       "rv2            0\n",
       "dtype: int64"
      ]
     },
     "execution_count": 21,
     "metadata": {},
     "output_type": "execute_result"
    }
   ],
   "source": [
    "# pour visualiser les lignes NaN................\n",
    "\n",
    "dataset.isnull().sum()"
   ]
  },
  {
   "cell_type": "code",
   "execution_count": 228,
   "id": "98c4f0ec",
   "metadata": {},
   "outputs": [],
   "source": [
    "# pour supprimer les NaN..............\n",
    "\n",
    "dataset=dataset.dropna()"
   ]
  },
  {
   "cell_type": "code",
   "execution_count": 236,
   "id": "21bae23d",
   "metadata": {},
   "outputs": [
    {
     "data": {
      "text/plain": [
       "Global_active_power      0\n",
       "Global_reactive_power    0\n",
       "Voltage                  0\n",
       "Global_intensity         0\n",
       "Sub_metering_1           0\n",
       "Sub_metering_2           0\n",
       "Sub_metering_3           0\n",
       "dtype: int64"
      ]
     },
     "execution_count": 236,
     "metadata": {},
     "output_type": "execute_result"
    }
   ],
   "source": [
    "# pour visualiser les lignes NaN................\n",
    "\n",
    "dataset.isnull().sum()"
   ]
  },
  {
   "cell_type": "code",
   "execution_count": 22,
   "id": "1177692c",
   "metadata": {},
   "outputs": [
    {
     "data": {
      "text/html": [
       "<div>\n",
       "<style scoped>\n",
       "    .dataframe tbody tr th:only-of-type {\n",
       "        vertical-align: middle;\n",
       "    }\n",
       "\n",
       "    .dataframe tbody tr th {\n",
       "        vertical-align: top;\n",
       "    }\n",
       "\n",
       "    .dataframe thead th {\n",
       "        text-align: right;\n",
       "    }\n",
       "</style>\n",
       "<table border=\"1\" class=\"dataframe\">\n",
       "  <thead>\n",
       "    <tr style=\"text-align: right;\">\n",
       "      <th></th>\n",
       "      <th>Appliances</th>\n",
       "      <th>lights</th>\n",
       "      <th>T1</th>\n",
       "      <th>RH_1</th>\n",
       "      <th>T2</th>\n",
       "      <th>RH_2</th>\n",
       "      <th>T3</th>\n",
       "      <th>RH_3</th>\n",
       "      <th>T4</th>\n",
       "      <th>RH_4</th>\n",
       "      <th>...</th>\n",
       "      <th>T9</th>\n",
       "      <th>RH_9</th>\n",
       "      <th>T_out</th>\n",
       "      <th>Press_mm_hg</th>\n",
       "      <th>RH_out</th>\n",
       "      <th>Windspeed</th>\n",
       "      <th>Visibility</th>\n",
       "      <th>Tdewpoint</th>\n",
       "      <th>rv1</th>\n",
       "      <th>rv2</th>\n",
       "    </tr>\n",
       "  </thead>\n",
       "  <tbody>\n",
       "    <tr>\n",
       "      <th>0</th>\n",
       "      <td>60.0</td>\n",
       "      <td>30.0</td>\n",
       "      <td>19.889999</td>\n",
       "      <td>47.596668</td>\n",
       "      <td>19.200001</td>\n",
       "      <td>44.790001</td>\n",
       "      <td>19.790001</td>\n",
       "      <td>44.730000</td>\n",
       "      <td>19.000000</td>\n",
       "      <td>45.566666</td>\n",
       "      <td>...</td>\n",
       "      <td>17.033333</td>\n",
       "      <td>45.529999</td>\n",
       "      <td>6.600000</td>\n",
       "      <td>733.500000</td>\n",
       "      <td>92.0</td>\n",
       "      <td>7.000000</td>\n",
       "      <td>63.000000</td>\n",
       "      <td>5.3</td>\n",
       "      <td>13.275434</td>\n",
       "      <td>13.275434</td>\n",
       "    </tr>\n",
       "    <tr>\n",
       "      <th>1</th>\n",
       "      <td>60.0</td>\n",
       "      <td>30.0</td>\n",
       "      <td>19.889999</td>\n",
       "      <td>46.693333</td>\n",
       "      <td>19.200001</td>\n",
       "      <td>44.722500</td>\n",
       "      <td>19.790001</td>\n",
       "      <td>44.790001</td>\n",
       "      <td>19.000000</td>\n",
       "      <td>45.992500</td>\n",
       "      <td>...</td>\n",
       "      <td>17.066668</td>\n",
       "      <td>45.560001</td>\n",
       "      <td>6.483333</td>\n",
       "      <td>733.599976</td>\n",
       "      <td>92.0</td>\n",
       "      <td>6.666667</td>\n",
       "      <td>59.166668</td>\n",
       "      <td>5.2</td>\n",
       "      <td>18.606195</td>\n",
       "      <td>18.606195</td>\n",
       "    </tr>\n",
       "    <tr>\n",
       "      <th>2</th>\n",
       "      <td>50.0</td>\n",
       "      <td>30.0</td>\n",
       "      <td>19.889999</td>\n",
       "      <td>46.299999</td>\n",
       "      <td>19.200001</td>\n",
       "      <td>44.626667</td>\n",
       "      <td>19.790001</td>\n",
       "      <td>44.933334</td>\n",
       "      <td>18.926666</td>\n",
       "      <td>45.889999</td>\n",
       "      <td>...</td>\n",
       "      <td>17.000000</td>\n",
       "      <td>45.500000</td>\n",
       "      <td>6.366667</td>\n",
       "      <td>733.700012</td>\n",
       "      <td>92.0</td>\n",
       "      <td>6.333333</td>\n",
       "      <td>55.333332</td>\n",
       "      <td>5.1</td>\n",
       "      <td>28.642668</td>\n",
       "      <td>28.642668</td>\n",
       "    </tr>\n",
       "    <tr>\n",
       "      <th>3</th>\n",
       "      <td>50.0</td>\n",
       "      <td>40.0</td>\n",
       "      <td>19.889999</td>\n",
       "      <td>46.066666</td>\n",
       "      <td>19.200001</td>\n",
       "      <td>44.590000</td>\n",
       "      <td>19.790001</td>\n",
       "      <td>45.000000</td>\n",
       "      <td>18.889999</td>\n",
       "      <td>45.723331</td>\n",
       "      <td>...</td>\n",
       "      <td>17.000000</td>\n",
       "      <td>45.400002</td>\n",
       "      <td>6.250000</td>\n",
       "      <td>733.799988</td>\n",
       "      <td>92.0</td>\n",
       "      <td>6.000000</td>\n",
       "      <td>51.500000</td>\n",
       "      <td>5.0</td>\n",
       "      <td>45.410389</td>\n",
       "      <td>45.410389</td>\n",
       "    </tr>\n",
       "    <tr>\n",
       "      <th>4</th>\n",
       "      <td>60.0</td>\n",
       "      <td>40.0</td>\n",
       "      <td>19.889999</td>\n",
       "      <td>46.333332</td>\n",
       "      <td>19.200001</td>\n",
       "      <td>44.529999</td>\n",
       "      <td>19.790001</td>\n",
       "      <td>45.000000</td>\n",
       "      <td>18.889999</td>\n",
       "      <td>45.529999</td>\n",
       "      <td>...</td>\n",
       "      <td>17.000000</td>\n",
       "      <td>45.400002</td>\n",
       "      <td>6.133333</td>\n",
       "      <td>733.900024</td>\n",
       "      <td>92.0</td>\n",
       "      <td>5.666667</td>\n",
       "      <td>47.666668</td>\n",
       "      <td>4.9</td>\n",
       "      <td>10.084097</td>\n",
       "      <td>10.084097</td>\n",
       "    </tr>\n",
       "  </tbody>\n",
       "</table>\n",
       "<p>5 rows × 28 columns</p>\n",
       "</div>"
      ],
      "text/plain": [
       "   Appliances  lights         T1       RH_1         T2       RH_2         T3  \\\n",
       "0        60.0    30.0  19.889999  47.596668  19.200001  44.790001  19.790001   \n",
       "1        60.0    30.0  19.889999  46.693333  19.200001  44.722500  19.790001   \n",
       "2        50.0    30.0  19.889999  46.299999  19.200001  44.626667  19.790001   \n",
       "3        50.0    40.0  19.889999  46.066666  19.200001  44.590000  19.790001   \n",
       "4        60.0    40.0  19.889999  46.333332  19.200001  44.529999  19.790001   \n",
       "\n",
       "        RH_3         T4       RH_4  ...         T9       RH_9     T_out  \\\n",
       "0  44.730000  19.000000  45.566666  ...  17.033333  45.529999  6.600000   \n",
       "1  44.790001  19.000000  45.992500  ...  17.066668  45.560001  6.483333   \n",
       "2  44.933334  18.926666  45.889999  ...  17.000000  45.500000  6.366667   \n",
       "3  45.000000  18.889999  45.723331  ...  17.000000  45.400002  6.250000   \n",
       "4  45.000000  18.889999  45.529999  ...  17.000000  45.400002  6.133333   \n",
       "\n",
       "   Press_mm_hg  RH_out  Windspeed  Visibility  Tdewpoint        rv1        rv2  \n",
       "0   733.500000    92.0   7.000000   63.000000        5.3  13.275434  13.275434  \n",
       "1   733.599976    92.0   6.666667   59.166668        5.2  18.606195  18.606195  \n",
       "2   733.700012    92.0   6.333333   55.333332        5.1  28.642668  28.642668  \n",
       "3   733.799988    92.0   6.000000   51.500000        5.0  45.410389  45.410389  \n",
       "4   733.900024    92.0   5.666667   47.666668        4.9  10.084097  10.084097  \n",
       "\n",
       "[5 rows x 28 columns]"
      ]
     },
     "execution_count": 22,
     "metadata": {},
     "output_type": "execute_result"
    }
   ],
   "source": [
    "# pour verifier..........\n",
    "\n",
    "dataset.head()"
   ]
  },
  {
   "cell_type": "markdown",
   "id": "717ed8e6",
   "metadata": {},
   "source": [
    "## Prétraitement des données du dataset"
   ]
  },
  {
   "cell_type": "code",
   "execution_count": 38,
   "id": "e1ccf44a",
   "metadata": {},
   "outputs": [
    {
     "name": "stdout",
     "output_type": "stream",
     "text": [
      "Nombre de lignes l entrainement (5920, 28)\n",
      "Nombre de lignes pour les test (13815, 28)\n"
     ]
    }
   ],
   "source": [
    "# divisions les données en un ensembles d'entrainement et de test...............\n",
    "\n",
    "# utilisation de l'ensemble des données de test pour l'évaluation finale.........\n",
    "\n",
    "train_dataset = dataset.sample(frac=0.3, random_state=0)\n",
    "test_dataset = dataset.drop(train_dataset.index)\n",
    "\n",
    "print('Nombre de lignes l entrainement',train_dataset.shape)\n",
    "print('Nombre de lignes pour les test', test_dataset.shape)"
   ]
  },
  {
   "cell_type": "code",
   "execution_count": 39,
   "id": "441faad6",
   "metadata": {},
   "outputs": [],
   "source": [
    "# séparation  les entités des étiquettes...........\n",
    "# séparation de la valeur cible des caractéristiques ( features )..........\n",
    "# c'est cette cible que le modele va devoir prédire.\n",
    "\n",
    "train_features = train_dataset.copy()\n",
    "test_features = test_dataset.copy()\n",
    "\n",
    "train_labels = train_features.pop('T1') # la cible est la Température dans le coin cuisine, en Celsius\n",
    "test_labels = test_features.pop('T1') # "
   ]
  },
  {
   "cell_type": "markdown",
   "id": "31a28467",
   "metadata": {},
   "source": [
    "Dans l'analyse de régression utilisant un DNN, l'objectif est d'apprendre une fonction qui mappe les caractéristiques d'entrée à la sortie, de sorte que les prédictions faites par le modèle soient aussi précises que possible. Les caractéristiques d'entrée passent par la couche d'entrée du DNN puis sont traitées par les couches cachées, qui utilisent des fonctions d'activation non linéaires pour apprendre les relations complexes dans les données. La couche de sortie du DNN produit une prédiction pour la variable dépendante basée sur les caractéristiques d'entrée traitées"
   ]
  },
  {
   "cell_type": "markdown",
   "id": "fd1dd231",
   "metadata": {},
   "source": [
    "## Définir l'architecture du mdele\n",
    "\n",
    "L'étape suivante consiste à définir l'architecture du réseau de neurones. Cela inclut la sélection du type de couches (couches denses ou convolutives), du nombre de neurones dans chaque couche et des fonctions d'activation à utiliser.\n"
   ]
  },
  {
   "cell_type": "markdown",
   "id": "8efbba94",
   "metadata": {},
   "source": [
    "## Compiler le modele\n",
    "\n",
    "Une fois l'architecture définie, il faut compiler le modèle. Cela implique de spécifier la fonction de perte, l'optimiseur et toutes les métriques que nous utiliserons pour évaluer le modèle.\n"
   ]
  },
  {
   "cell_type": "code",
   "execution_count": 40,
   "id": "bc456144",
   "metadata": {},
   "outputs": [],
   "source": [
    "# normalisation les données avec (tf.keras.layers.Normalization)...........\n",
    "\n",
    "\n",
    "normalizer = tf.keras.layers.Normalization(axis=-1)"
   ]
  },
  {
   "cell_type": "code",
   "execution_count": 41,
   "id": "cedc45ba",
   "metadata": {},
   "outputs": [],
   "source": [
    "# modèles DNN à entrées multiples....................\n",
    "\n",
    "normalizer.adapt(np.array(train_features))"
   ]
  },
  {
   "cell_type": "code",
   "execution_count": 42,
   "id": "fc09e543",
   "metadata": {},
   "outputs": [],
   "source": [
    "#  Régression avec un réseau de neurones profond (DNN)..........\n",
    "# modèles DNN à entrées multiples.\n",
    "\n",
    "\n",
    "def build_and_compile_model(norm):\n",
    "  model = keras.Sequential([\n",
    "      norm,\n",
    "      layers.Dense(64, activation='relu'),# 2 couches Dense avec fonction activation relu\n",
    "      layers.Dense(64, activation='relu'),\n",
    "      layers.Dense(1) # une couche Dense linéaire à sortie unique\n",
    "  ])\n",
    "\n",
    "  model.compile(loss='mean_absolute_error',\n",
    "                optimizer=tf.keras.optimizers.Adam(0.0001))\n",
    "    \n",
    " \n",
    "\n",
    "  return model\n"
   ]
  },
  {
   "cell_type": "code",
   "execution_count": 43,
   "id": "60a08ab7",
   "metadata": {},
   "outputs": [
    {
     "name": "stdout",
     "output_type": "stream",
     "text": [
      "Model: \"sequential_1\"\n",
      "_________________________________________________________________\n",
      "Layer (type)                 Output Shape              Param #   \n",
      "=================================================================\n",
      "normalization_1 (Normalizati (None, 27)                55        \n",
      "_________________________________________________________________\n",
      "dense_3 (Dense)              (None, 64)                1792      \n",
      "_________________________________________________________________\n",
      "dense_4 (Dense)              (None, 64)                4160      \n",
      "_________________________________________________________________\n",
      "dense_5 (Dense)              (None, 1)                 65        \n",
      "=================================================================\n",
      "Total params: 6,072\n",
      "Trainable params: 6,017\n",
      "Non-trainable params: 55\n",
      "_________________________________________________________________\n"
     ]
    }
   ],
   "source": [
    "# Régression utilisant un DNN et plusieurs entrées\n",
    "\n",
    "# Répétez le processus précédent en utilisant toutes les entrées.\n",
    "# Les performances du modèle s'améliorent légèrement sur l'ensemble de données de validation.\n",
    "\n",
    "dnn_model = build_and_compile_model(normalizer)\n",
    "dnn_model.summary()"
   ]
  },
  {
   "cell_type": "code",
   "execution_count": 44,
   "id": "e0d6ddac",
   "metadata": {},
   "outputs": [],
   "source": [
    "# la fonction d affichage....\n",
    "\n",
    "def plot_loss(history):\n",
    "  plt.plot(history.history['loss'], label='MAE')\n",
    "  plt.plot(history.history['val_loss'], label='val_MAE')\n",
    "  plt.ylim([0, 10])\n",
    "  plt.xlabel('Epoch')\n",
    "  plt.ylabel('Erreur [Price]')\n",
    "  plt.legend()\n",
    "  plt.grid(True)"
   ]
  },
  {
   "cell_type": "markdown",
   "id": "6df652b3",
   "metadata": {},
   "source": [
    "## Entrainer le modele\n",
    "\n",
    "L'étape suivante consiste à entraîner le modèle à l'aide des données prétraitées. Cela implique d'introduire les données dans le modèle et d'ajuster les poids et les biais des neurones du réseau pour minimiser la fonction de perte.\n"
   ]
  },
  {
   "cell_type": "code",
   "execution_count": 45,
   "id": "f55cf2f6",
   "metadata": {},
   "outputs": [],
   "source": [
    "# entrainement ....................\n",
    "\n",
    "history = dnn_model.fit(\n",
    "    train_features,\n",
    "    train_labels,\n",
    "    validation_split=0.2,\n",
    "    verbose=0, epochs=100)\n",
    "\n"
   ]
  },
  {
   "cell_type": "code",
   "execution_count": 46,
   "id": "7198acac",
   "metadata": {},
   "outputs": [
    {
     "data": {
      "image/png": "[encoded data removed]",
      "text/plain": [
       "<Figure size 432x288 with 1 Axes>"
      ]
     },
     "metadata": {
      "needs_background": "light"
     },
     "output_type": "display_data"
    }
   ],
   "source": [
    "plot_loss(history)"
   ]
  },
  {
   "cell_type": "markdown",
   "id": "f42c4245",
   "metadata": {},
   "source": [
    "## Evaluer le modele\n",
    "\n",
    "Une fois le modèle entraîné, il doit être évalué pour déterminer ses performances. Cela peut impliquer l'utilisation d'un ensemble de données distinct (ou d'un sous-ensemble des données d'entraînement) pour évaluer la capacité du modèle à effectuer des prédictions précises.\n"
   ]
  },
  {
   "cell_type": "code",
   "execution_count": 47,
   "id": "76d22227",
   "metadata": {},
   "outputs": [
    {
     "data": {
      "text/plain": [
       "{'dnn_model': 0.3457278311252594}"
      ]
     },
     "execution_count": 47,
     "metadata": {},
     "output_type": "execute_result"
    }
   ],
   "source": [
    "# résultats de la MAE sur l'ensemble de test :\n",
    "\n",
    "test_resultats = {}\n",
    "\n",
    "test_resultats['dnn_model'] = dnn_model.evaluate(test_features, test_labels, verbose=0)\n",
    "test_resultats"
   ]
  },
  {
   "cell_type": "markdown",
   "id": "2b6d14f1",
   "metadata": {},
   "source": [
    "## Faire des prédiction\n",
    "\n",
    "Une fois le modèle affiné, nous pouvons l'utiliser pour prédire de nouvelles données.\n"
   ]
  },
  {
   "cell_type": "code",
   "execution_count": 48,
   "id": "63237a32",
   "metadata": {},
   "outputs": [
    {
     "name": "stdout",
     "output_type": "stream",
     "text": [
      "Prédiction Temperature dans le coin cuisine en Celsius [[19.845]\n",
      " [19.873]\n",
      " [21.426]\n",
      " [20.584]]\n",
      "Température attendue dans le coin cuisine en Celsius 1    19.889999\n",
      "2    19.889999\n",
      "3    19.889999\n",
      "4    19.889999\n",
      "Name: T1, dtype: float32\n"
     ]
    }
   ],
   "source": [
    "#  prédiction...\n",
    "\n",
    "y_pred = dnn_model.predict(test_features)\n",
    "print('Prédiction Temperature dans le coin cuisine en Celsius',y_pred[1:5])\n",
    "print('Température attendue dans le coin cuisine en Celsius',test_labels[1:5])"
   ]
  },
  {
   "cell_type": "code",
   "execution_count": 49,
   "id": "2ca64cec",
   "metadata": {},
   "outputs": [
    {
     "data": {
      "text/html": [
       "<div>\n",
       "<style scoped>\n",
       "    .dataframe tbody tr th:only-of-type {\n",
       "        vertical-align: middle;\n",
       "    }\n",
       "\n",
       "    .dataframe tbody tr th {\n",
       "        vertical-align: top;\n",
       "    }\n",
       "\n",
       "    .dataframe thead th {\n",
       "        text-align: right;\n",
       "    }\n",
       "</style>\n",
       "<table border=\"1\" class=\"dataframe\">\n",
       "  <thead>\n",
       "    <tr style=\"text-align: right;\">\n",
       "      <th></th>\n",
       "      <th>Mean absolute error [T]</th>\n",
       "    </tr>\n",
       "  </thead>\n",
       "  <tbody>\n",
       "    <tr>\n",
       "      <th>dnn_model</th>\n",
       "      <td>0.345728</td>\n",
       "    </tr>\n",
       "  </tbody>\n",
       "</table>\n",
       "</div>"
      ],
      "text/plain": [
       "           Mean absolute error [T]\n",
       "dnn_model                 0.345728"
      ]
     },
     "execution_count": 49,
     "metadata": {},
     "output_type": "execute_result"
    }
   ],
   "source": [
    "pd.DataFrame(test_resultats, index=['Mean absolute error [T]']).T\n"
   ]
  },
  {
   "cell_type": "code",
   "execution_count": null,
   "id": "dd82e7a4",
   "metadata": {},
   "outputs": [],
   "source": []
  },
  {
   "cell_type": "code",
   "execution_count": 56,
   "id": "e447fab8",
   "metadata": {},
   "outputs": [
    {
     "data": {
      "image/png": "[encoded data removed]",
      "text/plain": [
       "<Figure size 432x288 with 1 Axes>"
      ]
     },
     "metadata": {
      "needs_background": "light"
     },
     "output_type": "display_data"
    }
   ],
   "source": [
    "# Faire des prédictions\n",
    "# Vous pouvez maintenant faire des prédictions avec le dnn_model\n",
    "# sur l'ensemble de test à l'aide de ( Keras Model.predict) et examiner la perte :\n",
    "\n",
    "test_predictions = dnn_model.predict(test_features).flatten()\n",
    "\n",
    "a = plt.axes(aspect='equal')\n",
    "plt.scatter(test_labels, test_predictions)\n",
    "plt.xlabel('True Values [T1]')\n",
    "plt.ylabel('Predictions [T1]')\n",
    "lims = [0, 50]\n",
    "plt.xlim(lims)\n",
    "plt.ylim(lims)\n",
    "_ = plt.plot(lims, lims)\n"
   ]
  },
  {
   "cell_type": "code",
   "execution_count": 57,
   "id": "d2aaf7c3",
   "metadata": {},
   "outputs": [
    {
     "data": {
      "image/png": "[encoded data removed]",
      "text/plain": [
       "<Figure size 432x288 with 1 Axes>"
      ]
     },
     "metadata": {
      "needs_background": "light"
     },
     "output_type": "display_data"
    }
   ],
   "source": [
    "# vérifiez la distribution des erreurs :\n",
    "\n",
    "error = test_predictions - test_labels\n",
    "plt.hist(error, bins=25)\n",
    "plt.xlabel('Prediction Error [T1]')\n",
    "_ = plt.ylabel('Count')\n"
   ]
  },
  {
   "cell_type": "code",
   "execution_count": 58,
   "id": "9083b470",
   "metadata": {},
   "outputs": [
    {
     "name": "stderr",
     "output_type": "stream",
     "text": [
      "2023-11-30 21:10:50.088465: W tensorflow/python/util/util.cc:348] Sets are not currently considered sequences, but this may change in the future, so consider avoiding using them.\n"
     ]
    },
    {
     "name": "stdout",
     "output_type": "stream",
     "text": [
      "INFO:tensorflow:Assets written to: dnn_model/assets\n"
     ]
    }
   ],
   "source": [
    "#  enregistrez-le pour une utilisation ultérieure avec Model.save :\n",
    "\n",
    "dnn_model.save('dnn_model')\n"
   ]
  },
  {
   "cell_type": "code",
   "execution_count": 59,
   "id": "736febd0",
   "metadata": {},
   "outputs": [],
   "source": [
    "#  rechargez le modèle, il donne une sortie identique :\n",
    "\n",
    "reloaded = tf.keras.models.load_model('dnn_model')\n",
    "\n",
    "test_resultats['reloaded'] = reloaded.evaluate(\n",
    "    test_features, test_labels, verbose=0)\n"
   ]
  },
  {
   "cell_type": "code",
   "execution_count": 60,
   "id": "8e0866d5",
   "metadata": {},
   "outputs": [
    {
     "data": {
      "text/html": [
       "<div>\n",
       "<style scoped>\n",
       "    .dataframe tbody tr th:only-of-type {\n",
       "        vertical-align: middle;\n",
       "    }\n",
       "\n",
       "    .dataframe tbody tr th {\n",
       "        vertical-align: top;\n",
       "    }\n",
       "\n",
       "    .dataframe thead th {\n",
       "        text-align: right;\n",
       "    }\n",
       "</style>\n",
       "<table border=\"1\" class=\"dataframe\">\n",
       "  <thead>\n",
       "    <tr style=\"text-align: right;\">\n",
       "      <th></th>\n",
       "      <th>Mean absolute error [Global_active_power]</th>\n",
       "    </tr>\n",
       "  </thead>\n",
       "  <tbody>\n",
       "    <tr>\n",
       "      <th>dnn_model</th>\n",
       "      <td>0.345728</td>\n",
       "    </tr>\n",
       "    <tr>\n",
       "      <th>reloaded</th>\n",
       "      <td>0.345728</td>\n",
       "    </tr>\n",
       "  </tbody>\n",
       "</table>\n",
       "</div>"
      ],
      "text/plain": [
       "           Mean absolute error [Global_active_power]\n",
       "dnn_model                                   0.345728\n",
       "reloaded                                    0.345728"
      ]
     },
     "execution_count": 60,
     "metadata": {},
     "output_type": "execute_result"
    }
   ],
   "source": [
    "pd.DataFrame(test_resultats, index=['Mean absolute error [Global_active_power]']).T\n"
   ]
  },
  {
   "cell_type": "markdown",
   "id": "7c3f3a0b",
   "metadata": {},
   "source": [
    "## merci Tensorflow........"
   ]
  },
  {
   "cell_type": "code",
   "execution_count": null,
   "id": "7e776532",
   "metadata": {},
   "outputs": [],
   "source": []
  }
 ],
 "metadata": {
  "kernelspec": {
   "display_name": "Python 3 (ipykernel)",
   "language": "python",
   "name": "python3"
  },
  "language_info": {
   "codemirror_mode": {
    "name": "ipython",
    "version": 3
   },
   "file_extension": ".py",
   "mimetype": "text/x-python",
   "name": "python",
   "nbconvert_exporter": "python",
   "pygments_lexer": "ipython3",
   "version": "3.8.11"
  }
 },
 "nbformat": 4,
 "nbformat_minor": 5
}
