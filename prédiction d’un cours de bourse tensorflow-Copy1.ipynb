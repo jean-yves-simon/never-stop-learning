{
 "cells": [
  {
   "cell_type": "markdown",
   "id": "c1249419",
   "metadata": {},
   "source": [
    "## Déterminer la prochaine valeur d’un cours de bourse "
   ]
  },
  {
   "cell_type": "markdown",
   "id": "d523f81a",
   "metadata": {},
   "source": [
    "\n",
    "\n",
    "Le framework Tensorflow permet d’estimer la prochaine valeur d’une série temporelle, un cours de bourse par exemple.\n",
    "Le principe est le suivant :\n",
    "- à partir d’une liste de X valeurs, le modèle va déterminer la valeur X+1 la plus probable.\n",
    "- Je tiens à préciser qu’il s’agit uniquement d’un tutoriel présentant les concepts et le fonctionnement. Il n’y a aucune optimisation et le jeu de données est assez faible (~2300 valeurs)."
   ]
  },
  {
   "cell_type": "markdown",
   "id": "5e4ba9f8",
   "metadata": {},
   "source": [
    "## Sommaire"
   ]
  },
  {
   "cell_type": "markdown",
   "id": "812c3186",
   "metadata": {},
   "source": [
    "\n",
    "- Les données du cours de bourse de Google & AMD\n",
    "- Développons notre IA !\n",
    "-  Préparer les données\n",
    "- Créer un modèle d’apprentissage pour les données temporalles\n",
    "- Exécuter l’apprentissage\n",
    "- Utiliser le modèle"
   ]
  },
  {
   "cell_type": "markdown",
   "id": "04fc74cd",
   "metadata": {},
   "source": [
    "## Données de bourse d Google et AMD"
   ]
  },
  {
   "cell_type": "markdown",
   "id": "59031501",
   "metadata": {},
   "source": [
    "\n",
    "\n",
    "Comme déjà expliqué dans des articles précédents, le point le plus compliqué dans la création d’une IA est d’avoir de la donnée, et suffisamment pour obtenir un résultat correct. Dans notre exemple, nous allons utiliser un échantillon des cours de bourse de Google et AMD. Ils contiennent environ 2 300 lignes, soit 1 par jour.\n",
    "\n",
    "Le fichier « GOOGL.csv » contient les informations détaillées. Dans notre exemple, nous allons uniquement exploitée le cours de fermeture du jour X pour estimer celui du jour X+1."
   ]
  },
  {
   "cell_type": "markdown",
   "id": "52146a0b",
   "metadata": {},
   "source": [
    "## Développons notre IA"
   ]
  },
  {
   "cell_type": "markdown",
   "id": "ee03ae8f",
   "metadata": {},
   "source": [
    "\n",
    "\n",
    "Les paraphes suivants présentent les grandes étapes de notre programme en tensorflow.\n",
    "\n",
    "- Préparer les données\n",
    "\n",
    "Cette phrase consiste obtenir des données utilisables par tensorflow. C’est la phase la plus longue du programme !\n"
   ]
  },
  {
   "cell_type": "code",
   "execution_count": 113,
   "id": "c4282d57",
   "metadata": {},
   "outputs": [
    {
     "name": "stdout",
     "output_type": "stream",
     "text": [
      "Tensorflow Version: 2.14.0\n",
      "Pandas Version: 2.0.3\n",
      "Numpy Version: 1.24.3\n",
      "System Version: 3.11.5 (main, Sep 11 2023, 08:19:27) [Clang 14.0.6 ]\n"
     ]
    }
   ],
   "source": [
    "import tensorflow as tf\n",
    "from tensorflow.keras.callbacks import CSVLogger, EarlyStopping\n",
    "from sklearn.preprocessing import MinMaxScaler\n",
    "import matplotlib as mpl\n",
    "import matplotlib.pyplot as plt\n",
    "import numpy as np\n",
    "import os\n",
    "import pandas as pd\n",
    "import seaborn as sns\n",
    "import time\n",
    "import gc\n",
    "import sys\n",
    "\n",
    "print(f\"Tensorflow Version: {tf.__version__}\")\n",
    "print(f\"Pandas Version: {pd.__version__}\")\n",
    "print(f\"Numpy Version: {np.__version__}\")\n",
    "print(f\"System Version: {sys.version}\")\n",
    "\n",
    "mpl.rcParams['figure.figsize'] = (17, 5)\n",
    "mpl.rcParams['axes.grid'] = False\n",
    "sns.set_style(\"whitegrid\")\n",
    "\n",
    "notebookstart= time.time()"
   ]
  },
  {
   "cell_type": "code",
   "execution_count": 114,
   "id": "74351efd",
   "metadata": {},
   "outputs": [],
   "source": [
    "import pandas as pd\n",
    "dataframe = pd.read_csv('datasets/cours_bourse/cours_4.csv',\n",
    "                        index_col=\"Date\",\n",
    "                        parse_dates=True)"
   ]
  },
  {
   "cell_type": "code",
   "execution_count": 3,
   "id": "8c7c4c7e",
   "metadata": {},
   "outputs": [],
   "source": [
    "import pandas as pd\n",
    "dataframe = pd.read_csv('datasets/GOOGL.csv', index_col=\"Date\", parse_dates=True)"
   ]
  },
  {
   "cell_type": "code",
   "execution_count": 115,
   "id": "d590d7ad",
   "metadata": {},
   "outputs": [
    {
     "data": {
      "text/html": [
       "<div>\n",
       "<style scoped>\n",
       "    .dataframe tbody tr th:only-of-type {\n",
       "        vertical-align: middle;\n",
       "    }\n",
       "\n",
       "    .dataframe tbody tr th {\n",
       "        vertical-align: top;\n",
       "    }\n",
       "\n",
       "    .dataframe thead th {\n",
       "        text-align: right;\n",
       "    }\n",
       "</style>\n",
       "<table border=\"1\" class=\"dataframe\">\n",
       "  <thead>\n",
       "    <tr style=\"text-align: right;\">\n",
       "      <th></th>\n",
       "      <th>Open</th>\n",
       "      <th>High</th>\n",
       "      <th>Low</th>\n",
       "      <th>Close</th>\n",
       "      <th>Volume</th>\n",
       "    </tr>\n",
       "    <tr>\n",
       "      <th>Date</th>\n",
       "      <th></th>\n",
       "      <th></th>\n",
       "      <th></th>\n",
       "      <th></th>\n",
       "      <th></th>\n",
       "    </tr>\n",
       "  </thead>\n",
       "  <tbody>\n",
       "    <tr>\n",
       "      <th>2002-07-01 15:30:00</th>\n",
       "      <td>54.37</td>\n",
       "      <td>55.17</td>\n",
       "      <td>54.07</td>\n",
       "      <td>54.70</td>\n",
       "      <td>870456</td>\n",
       "    </tr>\n",
       "    <tr>\n",
       "      <th>2002-07-02 15:30:00</th>\n",
       "      <td>54.58</td>\n",
       "      <td>54.75</td>\n",
       "      <td>53.63</td>\n",
       "      <td>53.78</td>\n",
       "      <td>961467</td>\n",
       "    </tr>\n",
       "    <tr>\n",
       "      <th>2002-07-03 15:30:00</th>\n",
       "      <td>53.76</td>\n",
       "      <td>54.96</td>\n",
       "      <td>53.58</td>\n",
       "      <td>53.99</td>\n",
       "      <td>2370174</td>\n",
       "    </tr>\n",
       "    <tr>\n",
       "      <th>2002-07-04 15:30:00</th>\n",
       "      <td>54.16</td>\n",
       "      <td>54.55</td>\n",
       "      <td>53.66</td>\n",
       "      <td>53.76</td>\n",
       "      <td>1034747</td>\n",
       "    </tr>\n",
       "    <tr>\n",
       "      <th>2002-07-05 15:30:00</th>\n",
       "      <td>53.96</td>\n",
       "      <td>54.12</td>\n",
       "      <td>52.80</td>\n",
       "      <td>53.01</td>\n",
       "      <td>2140759</td>\n",
       "    </tr>\n",
       "  </tbody>\n",
       "</table>\n",
       "</div>"
      ],
      "text/plain": [
       "                      Open   High    Low  Close   Volume\n",
       "Date                                                    \n",
       "2002-07-01 15:30:00  54.37  55.17  54.07  54.70   870456\n",
       "2002-07-02 15:30:00  54.58  54.75  53.63  53.78   961467\n",
       "2002-07-03 15:30:00  53.76  54.96  53.58  53.99  2370174\n",
       "2002-07-04 15:30:00  54.16  54.55  53.66  53.76  1034747\n",
       "2002-07-05 15:30:00  53.96  54.12  52.80  53.01  2140759"
      ]
     },
     "execution_count": 115,
     "metadata": {},
     "output_type": "execute_result"
    }
   ],
   "source": [
    "dataframe.head()"
   ]
  },
  {
   "cell_type": "code",
   "execution_count": 116,
   "id": "1c56f7a4",
   "metadata": {},
   "outputs": [
    {
     "data": {
      "text/plain": [
       "(4588, 5)"
      ]
     },
     "execution_count": 116,
     "metadata": {},
     "output_type": "execute_result"
    }
   ],
   "source": [
    "dataframe.shape"
   ]
  },
  {
   "cell_type": "markdown",
   "id": "a8d0d56b",
   "metadata": {},
   "source": [
    "Si notre fichier contient par exemple 2300 lignes. Nous allons utiliser 2000 lignes pour entrainer notre IA et 300 lignes pour la tester pendant l entrainement.\n",
    "Seule le prix de cloture est utilisé.\n",
    "C est notre cible ou target\n",
    "\n"
   ]
  },
  {
   "cell_type": "markdown",
   "id": "92a12cb6",
   "metadata": {},
   "source": [
    "Le fichier contient environ 2 300 lignes, nous allons utiliser 2 000 lignes pour entraîner l’IA et 300 lignes pour la tester durant son entrainement. Seul le prix de clôture est utilisé."
   ]
  },
  {
   "cell_type": "code",
   "execution_count": 117,
   "id": "ea9e977a",
   "metadata": {},
   "outputs": [],
   "source": [
    "# close_serie = dataframe[\"Close\"]\n",
    "close_data = dataframe[\"Close\"]"
   ]
  },
  {
   "cell_type": "code",
   "execution_count": 118,
   "id": "4484017e",
   "metadata": {},
   "outputs": [
    {
     "data": {
      "text/plain": [
       "Date\n",
       "2002-07-01 15:30:00      54.70\n",
       "2002-07-02 15:30:00      53.78\n",
       "2002-07-03 15:30:00      53.99\n",
       "2002-07-04 15:30:00      53.76\n",
       "2002-07-05 15:30:00      53.01\n",
       "                        ...   \n",
       "2021-01-19 15:30:00    2016.40\n",
       "2021-01-20 15:30:00    2054.70\n",
       "2021-01-21 15:30:00    2099.40\n",
       "2021-01-22 15:30:00    2049.60\n",
       "2021-01-25 15:30:00    1941.00\n",
       "Name: Close, Length: 4588, dtype: float64"
      ]
     },
     "execution_count": 118,
     "metadata": {},
     "output_type": "execute_result"
    }
   ],
   "source": [
    "# close_serie\n",
    "close_data"
   ]
  },
  {
   "cell_type": "code",
   "execution_count": 119,
   "id": "34a55e38",
   "metadata": {},
   "outputs": [],
   "source": [
    "# train_values = close_serie.values\n",
    "train_values = close_data.values"
   ]
  },
  {
   "cell_type": "code",
   "execution_count": 120,
   "id": "8b6ee1ee",
   "metadata": {},
   "outputs": [
    {
     "data": {
      "text/plain": [
       "array([  54.7 ,   53.78,   53.99, ..., 2099.4 , 2049.6 , 1941.  ])"
      ]
     },
     "execution_count": 120,
     "metadata": {},
     "output_type": "execute_result"
    }
   ],
   "source": [
    "train_values"
   ]
  },
  {
   "cell_type": "code",
   "execution_count": 121,
   "id": "41cfe4ef",
   "metadata": {},
   "outputs": [
    {
     "data": {
      "text/plain": [
       "(4588,)"
      ]
     },
     "execution_count": 121,
     "metadata": {},
     "output_type": "execute_result"
    }
   ],
   "source": [
    "train_values.shape"
   ]
  },
  {
   "cell_type": "code",
   "execution_count": 122,
   "id": "175bebb2",
   "metadata": {},
   "outputs": [],
   "source": [
    "close_data = dataframe[\"Close\"]\n",
    "train_values = close_data.values"
   ]
  },
  {
   "cell_type": "code",
   "execution_count": 123,
   "id": "80537d9d",
   "metadata": {},
   "outputs": [
    {
     "data": {
      "text/plain": [
       "array([  54.7 ,   53.78,   53.99, ..., 2099.4 , 2049.6 , 1941.  ])"
      ]
     },
     "execution_count": 123,
     "metadata": {},
     "output_type": "execute_result"
    }
   ],
   "source": [
    "close_data.values"
   ]
  },
  {
   "cell_type": "markdown",
   "id": "1aa4c7b6",
   "metadata": {},
   "source": [
    "## Normalisation des données"
   ]
  },
  {
   "cell_type": "markdown",
   "id": "8deb138e",
   "metadata": {},
   "source": [
    "La normalisation permet de ramener toutes les données à une meme échelle entre 0 et 1.\n",
    "Il existe plusieurs algorithmes pour normaliser. Nous utilisons MinMaxScaler de Scikit Learn\n"
   ]
  },
  {
   "cell_type": "markdown",
   "id": "9af59db1",
   "metadata": {},
   "source": [
    "\n",
    "Notre exemple n’est pas le meilleur puisque nous n’avons qu’une donnée en entrée. L’important est de bien comprendre que la normalisation permet de ramener toutes les données à une même échelle. Notre prix de clôture a une échelle entre 0 et X, X étant inconnu. Après normalisation, l’échelle se situera forcément entre 0 et 1."
   ]
  },
  {
   "cell_type": "markdown",
   "id": "3d59ac8f",
   "metadata": {},
   "source": [
    "Pour normaliser les données, il existe plusieurs algorithmes algorithmes. Dans l’exemple, nous utilisons le « MinMaxScaler » fourni par Scikit Learn(oui, rien n’empêche de combiner les frameworks d’IA ;)). Il définie 1 comme étant la valeur la plus forte des données et calcul toutes les autres données de manière proportionnelle.\n",
    "\n"
   ]
  },
  {
   "cell_type": "code",
   "execution_count": 124,
   "id": "f7c95738",
   "metadata": {},
   "outputs": [],
   "source": [
    "from sklearn.preprocessing import MinMaxScaler\n",
    "\n",
    "min_max_scaler = MinMaxScaler()\n",
    "\n",
    "# définir le scaler à partir de l'ensemble des données\n",
    "scaler = min_max_scaler.fit(train_values.reshape(-1, 1))\n",
    "\n",
    "# mise à l'échelle des données d'apprentissage et de test\n",
    "train_values = scaler.transform(close_data.values[:4000].reshape(-1, 1)) # apprentissage\n",
    "test_values = scaler.transform(close_data.values[4000:].reshape(-1, 1))  # test\n",
    "\n"
   ]
  },
  {
   "cell_type": "code",
   "execution_count": 88,
   "id": "35d18371",
   "metadata": {},
   "outputs": [],
   "source": [
    "# Méthode Standard scaler\n",
    "\n",
    "from sklearn.preprocessing import StandardScaler\n",
    "\n",
    "\n",
    "\n",
    "scaler = StandardScaler().fit(train_values.reshape(-1, 1))\n",
    "train_values = scaler.transform(close_data.values[:4000].reshape(-1, 1))\n",
    "test_values = scaler.transform(close_data.values[4000:].reshape(-1,1))\n"
   ]
  },
  {
   "cell_type": "code",
   "execution_count": 76,
   "id": "2253dee4",
   "metadata": {},
   "outputs": [],
   "source": [
    "# Méthode Robust Scaler\n",
    "\n",
    "from sklearn.preprocessing import RobustScaler\n",
    "\n",
    "\n",
    "\n",
    "scaler = RobustScaler().fit(train_values.reshape(-1, 1))\n",
    "train_values = scaler.transform(close_data.values[:4000].reshape(-1, 1))\n",
    "test_values = scaler.transform(close_data.values[4000:].reshape(-1, 1))\n"
   ]
  },
  {
   "cell_type": "markdown",
   "id": "78176889",
   "metadata": {},
   "source": [
    "## Début"
   ]
  },
  {
   "cell_type": "markdown",
   "id": "aa861635",
   "metadata": {},
   "source": [
    "## 3 méthodes de mise à l'échelle"
   ]
  },
  {
   "cell_type": "code",
   "execution_count": 15,
   "id": "79f9b6b6",
   "metadata": {},
   "outputs": [
    {
     "data": {
      "text/html": [
       "<div>\n",
       "<style scoped>\n",
       "    .dataframe tbody tr th:only-of-type {\n",
       "        vertical-align: middle;\n",
       "    }\n",
       "\n",
       "    .dataframe tbody tr th {\n",
       "        vertical-align: top;\n",
       "    }\n",
       "\n",
       "    .dataframe thead th {\n",
       "        text-align: right;\n",
       "    }\n",
       "</style>\n",
       "<table border=\"1\" class=\"dataframe\">\n",
       "  <thead>\n",
       "    <tr style=\"text-align: right;\">\n",
       "      <th></th>\n",
       "      <th>Open</th>\n",
       "      <th>High</th>\n",
       "      <th>Low</th>\n",
       "      <th>Close</th>\n",
       "      <th>Volume</th>\n",
       "    </tr>\n",
       "  </thead>\n",
       "  <tbody>\n",
       "    <tr>\n",
       "      <th>0</th>\n",
       "      <td>0.004171</td>\n",
       "      <td>0.023285</td>\n",
       "      <td>0.023401</td>\n",
       "      <td>0.004583</td>\n",
       "      <td>0.013344</td>\n",
       "    </tr>\n",
       "    <tr>\n",
       "      <th>1</th>\n",
       "      <td>0.004263</td>\n",
       "      <td>0.023108</td>\n",
       "      <td>0.023211</td>\n",
       "      <td>0.004179</td>\n",
       "      <td>0.014739</td>\n",
       "    </tr>\n",
       "    <tr>\n",
       "      <th>2</th>\n",
       "      <td>0.003903</td>\n",
       "      <td>0.023196</td>\n",
       "      <td>0.023189</td>\n",
       "      <td>0.004271</td>\n",
       "      <td>0.036335</td>\n",
       "    </tr>\n",
       "    <tr>\n",
       "      <th>3</th>\n",
       "      <td>0.004079</td>\n",
       "      <td>0.023023</td>\n",
       "      <td>0.023224</td>\n",
       "      <td>0.004171</td>\n",
       "      <td>0.015863</td>\n",
       "    </tr>\n",
       "    <tr>\n",
       "      <th>4</th>\n",
       "      <td>0.003991</td>\n",
       "      <td>0.022842</td>\n",
       "      <td>0.022852</td>\n",
       "      <td>0.003842</td>\n",
       "      <td>0.032818</td>\n",
       "    </tr>\n",
       "  </tbody>\n",
       "</table>\n",
       "</div>"
      ],
      "text/plain": [
       "       Open      High       Low     Close    Volume\n",
       "0  0.004171  0.023285  0.023401  0.004583  0.013344\n",
       "1  0.004263  0.023108  0.023211  0.004179  0.014739\n",
       "2  0.003903  0.023196  0.023189  0.004271  0.036335\n",
       "3  0.004079  0.023023  0.023224  0.004171  0.015863\n",
       "4  0.003991  0.022842  0.022852  0.003842  0.032818"
      ]
     },
     "execution_count": 15,
     "metadata": {},
     "output_type": "execute_result"
    }
   ],
   "source": [
    "# Méthode Scaler MinMax utilisation et visualisation\n",
    "\n",
    "from sklearn.preprocessing import MinMaxScaler\n",
    "\n",
    "colonnes_names = dataframe.columns\n",
    "features = dataframe[colonnes_names]\n",
    "\n",
    "scaler = MinMaxScaler().fit(features.values)\n",
    "features = scaler.transform(features.values)\n",
    "scaled_features = pd.DataFrame(features, columns = colonnes_names)\n",
    "scaled_features.head()"
   ]
  },
  {
   "cell_type": "code",
   "execution_count": 19,
   "id": "ba1ec4d3",
   "metadata": {},
   "outputs": [
    {
     "data": {
      "text/html": [
       "<div>\n",
       "<style scoped>\n",
       "    .dataframe tbody tr th:only-of-type {\n",
       "        vertical-align: middle;\n",
       "    }\n",
       "\n",
       "    .dataframe tbody tr th {\n",
       "        vertical-align: top;\n",
       "    }\n",
       "\n",
       "    .dataframe thead th {\n",
       "        text-align: right;\n",
       "    }\n",
       "</style>\n",
       "<table border=\"1\" class=\"dataframe\">\n",
       "  <thead>\n",
       "    <tr style=\"text-align: right;\">\n",
       "      <th></th>\n",
       "      <th>Open</th>\n",
       "      <th>High</th>\n",
       "      <th>Low</th>\n",
       "      <th>Close</th>\n",
       "      <th>Volume</th>\n",
       "    </tr>\n",
       "  </thead>\n",
       "  <tbody>\n",
       "    <tr>\n",
       "      <th>0</th>\n",
       "      <td>-1.124752</td>\n",
       "      <td>-1.125426</td>\n",
       "      <td>-1.122963</td>\n",
       "      <td>-1.124748</td>\n",
       "      <td>-0.942133</td>\n",
       "    </tr>\n",
       "    <tr>\n",
       "      <th>1</th>\n",
       "      <td>-1.124274</td>\n",
       "      <td>-1.126372</td>\n",
       "      <td>-1.123980</td>\n",
       "      <td>-1.126850</td>\n",
       "      <td>-0.924172</td>\n",
       "    </tr>\n",
       "    <tr>\n",
       "      <th>2</th>\n",
       "      <td>-1.126143</td>\n",
       "      <td>-1.125899</td>\n",
       "      <td>-1.124096</td>\n",
       "      <td>-1.126370</td>\n",
       "      <td>-0.646151</td>\n",
       "    </tr>\n",
       "    <tr>\n",
       "      <th>3</th>\n",
       "      <td>-1.125231</td>\n",
       "      <td>-1.126823</td>\n",
       "      <td>-1.123911</td>\n",
       "      <td>-1.126895</td>\n",
       "      <td>-0.909709</td>\n",
       "    </tr>\n",
       "    <tr>\n",
       "      <th>4</th>\n",
       "      <td>-1.125687</td>\n",
       "      <td>-1.127792</td>\n",
       "      <td>-1.125898</td>\n",
       "      <td>-1.128608</td>\n",
       "      <td>-0.691428</td>\n",
       "    </tr>\n",
       "  </tbody>\n",
       "</table>\n",
       "</div>"
      ],
      "text/plain": [
       "       Open      High       Low     Close    Volume\n",
       "0 -1.124752 -1.125426 -1.122963 -1.124748 -0.942133\n",
       "1 -1.124274 -1.126372 -1.123980 -1.126850 -0.924172\n",
       "2 -1.126143 -1.125899 -1.124096 -1.126370 -0.646151\n",
       "3 -1.125231 -1.126823 -1.123911 -1.126895 -0.909709\n",
       "4 -1.125687 -1.127792 -1.125898 -1.128608 -0.691428"
      ]
     },
     "execution_count": 19,
     "metadata": {},
     "output_type": "execute_result"
    }
   ],
   "source": [
    "# Méthode Standard scaler\n",
    "\n",
    "from sklearn.preprocessing import StandardScaler\n",
    "\n",
    "colonnes_names = dataframe.columns\n",
    "features = dataframe[colonnes_names]\n",
    "\n",
    "scaler = StandardScaler().fit(features.values)\n",
    "features = scaler.transform(features.values)\n",
    "scaled_features = pd.DataFrame(features, columns = colonnes_names)\n",
    "scaled_features.head()"
   ]
  },
  {
   "cell_type": "code",
   "execution_count": 22,
   "id": "64a89560",
   "metadata": {},
   "outputs": [
    {
     "data": {
      "text/html": [
       "<div>\n",
       "<style scoped>\n",
       "    .dataframe tbody tr th:only-of-type {\n",
       "        vertical-align: middle;\n",
       "    }\n",
       "\n",
       "    .dataframe tbody tr th {\n",
       "        vertical-align: top;\n",
       "    }\n",
       "\n",
       "    .dataframe thead th {\n",
       "        text-align: right;\n",
       "    }\n",
       "</style>\n",
       "<table border=\"1\" class=\"dataframe\">\n",
       "  <thead>\n",
       "    <tr style=\"text-align: right;\">\n",
       "      <th></th>\n",
       "      <th>Open</th>\n",
       "      <th>High</th>\n",
       "      <th>Low</th>\n",
       "      <th>Close</th>\n",
       "      <th>Volume</th>\n",
       "    </tr>\n",
       "  </thead>\n",
       "  <tbody>\n",
       "    <tr>\n",
       "      <th>0</th>\n",
       "      <td>-1.584348</td>\n",
       "      <td>-1.567902</td>\n",
       "      <td>-1.621667</td>\n",
       "      <td>-1.605146</td>\n",
       "      <td>-0.940272</td>\n",
       "    </tr>\n",
       "    <tr>\n",
       "      <th>1</th>\n",
       "      <td>-1.583526</td>\n",
       "      <td>-1.569503</td>\n",
       "      <td>-1.623456</td>\n",
       "      <td>-1.608793</td>\n",
       "      <td>-0.915068</td>\n",
       "    </tr>\n",
       "    <tr>\n",
       "      <th>2</th>\n",
       "      <td>-1.586734</td>\n",
       "      <td>-1.568702</td>\n",
       "      <td>-1.623660</td>\n",
       "      <td>-1.607961</td>\n",
       "      <td>-0.524946</td>\n",
       "    </tr>\n",
       "    <tr>\n",
       "      <th>3</th>\n",
       "      <td>-1.585169</td>\n",
       "      <td>-1.570265</td>\n",
       "      <td>-1.623334</td>\n",
       "      <td>-1.608872</td>\n",
       "      <td>-0.894774</td>\n",
       "    </tr>\n",
       "    <tr>\n",
       "      <th>4</th>\n",
       "      <td>-1.585951</td>\n",
       "      <td>-1.571904</td>\n",
       "      <td>-1.626831</td>\n",
       "      <td>-1.611846</td>\n",
       "      <td>-0.588479</td>\n",
       "    </tr>\n",
       "  </tbody>\n",
       "</table>\n",
       "</div>"
      ],
      "text/plain": [
       "       Open      High       Low     Close    Volume\n",
       "0 -1.584348 -1.567902 -1.621667 -1.605146 -0.940272\n",
       "1 -1.583526 -1.569503 -1.623456 -1.608793 -0.915068\n",
       "2 -1.586734 -1.568702 -1.623660 -1.607961 -0.524946\n",
       "3 -1.585169 -1.570265 -1.623334 -1.608872 -0.894774\n",
       "4 -1.585951 -1.571904 -1.626831 -1.611846 -0.588479"
      ]
     },
     "execution_count": 22,
     "metadata": {},
     "output_type": "execute_result"
    }
   ],
   "source": [
    "# Méthode Robust Scaler\n",
    "\n",
    "from sklearn.preprocessing import RobustScaler\n",
    "\n",
    "colonnes_names = dataframe.columns\n",
    "features = dataframe[colonnes_names]\n",
    "\n",
    "scaler = RobustScaler().fit(features.values)\n",
    "features = scaler.transform(features.values)\n",
    "scaled_features = pd.DataFrame(features, columns = colonnes_names)\n",
    "scaled_features.head()"
   ]
  },
  {
   "cell_type": "markdown",
   "id": "4c282d70",
   "metadata": {},
   "source": [
    "## Fin"
   ]
  },
  {
   "cell_type": "code",
   "execution_count": null,
   "id": "96906505",
   "metadata": {},
   "outputs": [],
   "source": []
  },
  {
   "cell_type": "code",
   "execution_count": 125,
   "id": "046e6910",
   "metadata": {},
   "outputs": [
    {
     "data": {
      "text/plain": [
       "(4000, 1)"
      ]
     },
     "execution_count": 125,
     "metadata": {},
     "output_type": "execute_result"
    }
   ],
   "source": [
    "train_values.shape"
   ]
  },
  {
   "cell_type": "code",
   "execution_count": 126,
   "id": "a5fd7888",
   "metadata": {},
   "outputs": [
    {
     "data": {
      "text/plain": [
       "(588, 1)"
      ]
     },
     "execution_count": 126,
     "metadata": {},
     "output_type": "execute_result"
    }
   ],
   "source": [
    "test_values.shape"
   ]
  },
  {
   "cell_type": "markdown",
   "id": "bd577884",
   "metadata": {},
   "source": [
    " De plus, nous appliquons un « reshape » qui va transformer le tableau de dimension 1 avec 2 000 valeurs en un tableau de 2 000 données avec 1 valeur (cas des données d’entrainement). Cette transformation est nécessaire car c’est le format attendu par tensorflow : [ 1, 2, 3 … X] => [ [1], [2], [3] … [X] ]\n",
    "\n",
    "Découper les données en fenêtres\n",
    "\n",
    "Pour rappel, notre IA va analyse un historique de X données pour apprendre la donnée X+1. Il est nécessaire de découper les données en 2 tableaux :\n",
    "-  A = Un tableau de N fenêtres (tableau) contenant chacune X élément\n",
    "-  B = Un tableau de N éléments correspondant au résultat X+1\n",
    "La méthode suivante permet de faire cela.\n",
    "\n"
   ]
  },
  {
   "cell_type": "code",
   "execution_count": 127,
   "id": "6a79a268",
   "metadata": {},
   "outputs": [],
   "source": [
    "def create_window(dataset, start_index, end_index, history_size):\n",
    "    data = []\n",
    "    labels = []\n",
    "\n",
    "    start_index = start_index + history_size\n",
    "    if end_index is None:\n",
    "        end_index = len(dataset)\n",
    "\n",
    "    for i in range(start_index, end_index):\n",
    "        indices = range(i - history_size, i)\n",
    "        data.append(np.reshape(dataset[indices], (history_size, 1)))\n",
    "        labels.append(dataset[i])\n",
    "\n",
    "    return np.array(data), np.array(labels)\n",
    "\n",
    "\n",
    "# Le paramètre history_size est la taille de la fenêtre d'information passée\n"
   ]
  },
  {
   "cell_type": "markdown",
   "id": "a2317987",
   "metadata": {},
   "source": [
    "Voici un exemple concret avec 10 valeurs en entrée et une taille d’historique de 5 valeurs.\n",
    "- A est un tableau contenant 5 fenêtres (tableaux), chacune des fenêtre aura les valeurs en orange.\n",
    "- B est le tableau des valeurs en vert.\n",
    "\n",
    "C’est ce que nous faisons avec nos valeurs d’entrainement et de test."
   ]
  },
  {
   "cell_type": "code",
   "execution_count": 128,
   "id": "af4eb32e",
   "metadata": {},
   "outputs": [],
   "source": [
    "# exemple 1\n",
    "\n",
    "train_features, train_labels = create_window(train_values,0,None, 5)\n",
    "test_features, test_labels = create_window(test_values,0,None,5)\n"
   ]
  },
  {
   "cell_type": "code",
   "execution_count": 154,
   "id": "62294653",
   "metadata": {},
   "outputs": [
    {
     "data": {
      "text/plain": [
       "(3995, 5, 1)"
      ]
     },
     "execution_count": 154,
     "metadata": {},
     "output_type": "execute_result"
    }
   ],
   "source": [
    "train_features.shape"
   ]
  },
  {
   "cell_type": "markdown",
   "id": "7eca1a01",
   "metadata": {},
   "source": [
    "3995 fenetres, 5 données, 1 valeur"
   ]
  },
  {
   "cell_type": "code",
   "execution_count": 156,
   "id": "2163bb10",
   "metadata": {},
   "outputs": [
    {
     "data": {
      "text/plain": [
       "array([[[0.54280139],\n",
       "        [0.53422357],\n",
       "        [0.51997544],\n",
       "        [0.51454195],\n",
       "        [0.52010262]]])"
      ]
     },
     "execution_count": 156,
     "metadata": {},
     "output_type": "execute_result"
    }
   ],
   "source": [
    "train_features[3994:3995]"
   ]
  },
  {
   "cell_type": "code",
   "execution_count": 157,
   "id": "82e73354",
   "metadata": {},
   "outputs": [
    {
     "data": {
      "text/plain": [
       "array([1282.])"
      ]
     },
     "execution_count": 157,
     "metadata": {},
     "output_type": "execute_result"
    }
   ],
   "source": [
    "close_data.values[3994:3995]"
   ]
  },
  {
   "cell_type": "code",
   "execution_count": 49,
   "id": "085521f5",
   "metadata": {},
   "outputs": [],
   "source": [
    "# exemple 2\n",
    "\n",
    "train_features, train_labels = create_window(dataset=train_values,\n",
    "                                           start_index=0,\n",
    "                                           end_index=None,\n",
    "                                           history_size=5)\n",
    "test_features, test_labels = create_window(dataset=test_values,\n",
    "                                       start_index=0,\n",
    "                                       end_index=None,\n",
    "                                       history_size=5)\n"
   ]
  },
  {
   "cell_type": "code",
   "execution_count": null,
   "id": "9c21157b",
   "metadata": {},
   "outputs": [],
   "source": []
  },
  {
   "cell_type": "code",
   "execution_count": 129,
   "id": "01b127cb",
   "metadata": {},
   "outputs": [
    {
     "data": {
      "text/plain": [
       "(3995, 5, 1)"
      ]
     },
     "execution_count": 129,
     "metadata": {},
     "output_type": "execute_result"
    }
   ],
   "source": [
    "train_features.shape"
   ]
  },
  {
   "cell_type": "code",
   "execution_count": 130,
   "id": "05175c45",
   "metadata": {},
   "outputs": [
    {
     "data": {
      "text/plain": [
       "(583, 5, 1)"
      ]
     },
     "execution_count": 130,
     "metadata": {},
     "output_type": "execute_result"
    }
   ],
   "source": [
    "test_features.shape"
   ]
  },
  {
   "cell_type": "markdown",
   "id": "c833cad6",
   "metadata": {},
   "source": [
    "- Nous obtenons ainsi un tableau à 3 dimensions (1 995 fenêtres, 5 données, 1 valeur).\n",
    "- et ( 330 fenetres, 5 colonnes, 1 valeur)\n",
    "Dernière étape, création des paramètres tensorflow\n",
    "\n",
    "Un modèle tensorflow prend en entrée un « Dataset« , nous devons le construire."
   ]
  },
  {
   "cell_type": "code",
   "execution_count": 131,
   "id": "be11b388",
   "metadata": {},
   "outputs": [],
   "source": [
    "train_dataset = tf.data.Dataset.from_tensor_slices((train_features, train_labels)).batch(100).repeat()\n",
    "test_dataset = tf.data.Dataset.from_tensor_slices((test_features, test_labels)).batch(100).repeat()"
   ]
  },
  {
   "cell_type": "markdown",
   "id": "d259337a",
   "metadata": {},
   "source": [
    "Nous noterons l’utilisation des méthodes « batch » découpant nos fenêtres d’entrées en lots. Il s’agit d’une optimisation pour tensorflow, il va traiter les données en parallèle.\n",
    "- Le découpage prend les 1 995 et forme 19 lots de 100 fenêtre + 1 lot de 95 fenêtres.\n",
    "La fonction « repeat » est obligatoire et permet d’obtenir un itérateur.\n",
    "\n",
    "Nous sommes enfin prêt à créer notre modèle d’apprentissage automatisé \n"
   ]
  },
  {
   "cell_type": "markdown",
   "id": "365bd361",
   "metadata": {},
   "source": [
    "##  Créer un modèle d’apprentissage pour des données temporelles"
   ]
  },
  {
   "cell_type": "markdown",
   "id": "303dd4a3",
   "metadata": {},
   "source": [
    "Il existe 2 types de modèles principaux pour l’apprentissage de données en série :\n",
    "- LSTM : long short term memory, plus efficace sur du long terme\n",
    "- GRU : gated recurrent unit, plus rapide mais moins efficace sur du long terme\n",
    "\n",
    "Dans l’exemple, nous utiliserons LSTM."
   ]
  },
  {
   "cell_type": "code",
   "execution_count": 132,
   "id": "079b98ca",
   "metadata": {},
   "outputs": [],
   "source": [
    "model = tf.keras.models.Sequential([\n",
    "    tf.keras.layers.LSTM(8, input_shape=(5, 1)),\n",
    "    tf.keras.layers.Dense(1)\n",
    "])\n",
    "model.compile(optimizer='adam', loss= 'mae') # 'mean_squared_error'"
   ]
  },
  {
   "cell_type": "markdown",
   "id": "450a697f",
   "metadata": {},
   "source": [
    "Notre modèle est défini avec une couche LSTM à 8 unités prenant en entrée une fenêtre (5 valeurs X, 1 valeur X + 1). Le retour du LSTM n’est pas une simple valeur comprise entre 0 et 1, donc non comparable avec notre donnée de sortie X + 1. Nous appliquons donc une couche « dense » qui va calculer une unique valeur de sortie.\n",
    "\n",
    "Pour finir, le modèle est compiler en précisant les fonctions à utiliser pour :\n",
    "- Optimiser le calcul des paramètres du modèle, « adam » est un bon optimiseur pour LSTM\n",
    "- Calculer la perte par rapport aux données attendues, cela dépend du type d’information de sortie attendue. Dans notre cas, une « mean_squared_error » est un bon choix.\n",
    "\n",
    "\n"
   ]
  },
  {
   "cell_type": "markdown",
   "id": "d957f095",
   "metadata": {},
   "source": [
    "## Lancer l’apprentissage"
   ]
  },
  {
   "cell_type": "code",
   "execution_count": 133,
   "id": "5b396ab0",
   "metadata": {},
   "outputs": [
    {
     "name": "stdout",
     "output_type": "stream",
     "text": [
      "Epoch 1/20\n",
      "20/20 [==============================] - 5s 42ms/step - loss: 0.0653 - val_loss: 0.3878\n",
      "Epoch 2/20\n",
      "20/20 [==============================] - 0s 7ms/step - loss: 0.0576 - val_loss: 0.2144\n",
      "Epoch 3/20\n",
      "20/20 [==============================] - 0s 7ms/step - loss: 0.0956 - val_loss: 0.2102\n",
      "Epoch 4/20\n",
      "20/20 [==============================] - 0s 6ms/step - loss: 0.0435 - val_loss: 0.2430\n",
      "Epoch 5/20\n",
      "20/20 [==============================] - 0s 6ms/step - loss: 0.0681 - val_loss: 0.2321\n",
      "Epoch 6/20\n",
      "20/20 [==============================] - 0s 6ms/step - loss: 0.0294 - val_loss: 0.1794\n",
      "Epoch 7/20\n",
      "20/20 [==============================] - 0s 6ms/step - loss: 0.0678 - val_loss: 0.1718\n",
      "Epoch 8/20\n",
      "20/20 [==============================] - 0s 6ms/step - loss: 0.0279 - val_loss: 0.1542\n",
      "Epoch 9/20\n",
      "20/20 [==============================] - 0s 8ms/step - loss: 0.0561 - val_loss: 0.1409\n",
      "Epoch 10/20\n",
      "20/20 [==============================] - 0s 9ms/step - loss: 0.0206 - val_loss: 0.1018\n",
      "Epoch 11/20\n",
      "20/20 [==============================] - 0s 8ms/step - loss: 0.0483 - val_loss: 0.0885\n",
      "Epoch 12/20\n",
      "20/20 [==============================] - 0s 8ms/step - loss: 0.0123 - val_loss: 0.0347\n",
      "Epoch 13/20\n",
      "20/20 [==============================] - 0s 8ms/step - loss: 0.0423 - val_loss: 0.0375\n",
      "Epoch 14/20\n",
      "20/20 [==============================] - 0s 8ms/step - loss: 0.0058 - val_loss: 0.0121\n",
      "Epoch 15/20\n",
      "20/20 [==============================] - 0s 8ms/step - loss: 0.0205 - val_loss: 0.0359\n",
      "Epoch 16/20\n",
      "20/20 [==============================] - 0s 7ms/step - loss: 0.0077 - val_loss: 0.0376\n",
      "Epoch 17/20\n",
      "20/20 [==============================] - 0s 8ms/step - loss: 0.0095 - val_loss: 0.0282\n",
      "Epoch 18/20\n",
      "20/20 [==============================] - 0s 8ms/step - loss: 0.0072 - val_loss: 0.0190\n",
      "Epoch 19/20\n",
      "20/20 [==============================] - 0s 10ms/step - loss: 0.0193 - val_loss: 0.0156\n",
      "Epoch 20/20\n",
      "20/20 [==============================] - 0s 8ms/step - loss: 0.0076 - val_loss: 0.0222\n"
     ]
    }
   ],
   "source": [
    "# early_stopping = EarlyStopping(monitor='val_loss', patience = 9, restore_best_weights=True)\n",
    "\n",
    "history = model.fit(\n",
    "    train_dataset,\n",
    "    epochs=20,\n",
    "    steps_per_epoch=20,\n",
    "    validation_data=test_dataset,\n",
    "    validation_steps=3\n",
    ")"
   ]
  },
  {
   "cell_type": "markdown",
   "id": "5f281672",
   "metadata": {},
   "source": [
    "Il y a 3 valeurs importantes dont il faut connaitre le fonctionnement :\n",
    "- epochs : nombre de fois où l’apprentissage va passer les données d’apprentissage pour améliorer les paramètres du modèle.\n",
    "- steps_per_epoch : nombre de lot traités pour une « epoch », idéalement « taille des données d’entraînement » / « taille d’un lot » = 2 000 / 100 = 20. Si la valeur est supérieure, des lots seront passés plusieurs fois, ce qui revient à faire plus d »epoch ».\n",
    "\n",
    "=> En tout notre modèle va être entraîné avec 10 * 20 = 200 passages\n",
    "- validation_steps : même principe que « steps_per_epoch » mais pour les données de test.\n",
    "- Nous avons donc « taille des données de test » / « taille d’un lot » = 300 / 100 = 3\n",
    "=> C’est assez faible.\n",
    "\n",
    "L’information de sortie de l’apprentissage sont des données statistiques. La fonction suivante permet de les afficher.\n",
    "\n"
   ]
  },
  {
   "cell_type": "code",
   "execution_count": 134,
   "id": "148ea429",
   "metadata": {},
   "outputs": [],
   "source": [
    "\n",
    "def plot_history(history):\n",
    "    loss = history.history[\"loss\"]\n",
    "    val_loss = history.history[\"val_loss\"]\n",
    "    plt.plot(np.arange(len(loss)) + 0.5, loss, \"b.-\", label=\"Training loss\")\n",
    "    plt.plot(np.arange(len(val_loss)) + 1, val_loss, \"r.-\", label=\"Validation loss\")\n",
    "    plt.gca().xaxis.set_major_locator(mpl.ticker.MaxNLocator(integer=True))\n",
    "    plt.axis([1, 20, 0, 0.15])\n",
    "    plt.legend(fontsize=14)\n",
    "    plt.xlabel(\"Epochs\")\n",
    "    plt.ylabel(\"Loss\")\n",
    "    plt.grid(True)\n",
    "    plt.show()"
   ]
  },
  {
   "cell_type": "markdown",
   "id": "ea6c222c",
   "metadata": {},
   "source": [
    "Le premier résultat à 10 epochs n’est pas très concluant, nous voyons bien que l’entrainement est trop court. Le passage à 20 epochs montrent un bien meilleur résultat."
   ]
  },
  {
   "cell_type": "markdown",
   "id": "3cbcb95c",
   "metadata": {},
   "source": [
    "4 – Utiliser le modèle\n",
    "\n",
    "En dernier lieu, il convient d’utiliser notre modèle sur les données réelles.\n",
    "\n",
    "Test sur les valeurs de Google"
   ]
  },
  {
   "cell_type": "markdown",
   "id": "410a97bd",
   "metadata": {},
   "source": [
    "## Utiliser le modele"
   ]
  },
  {
   "cell_type": "code",
   "execution_count": 135,
   "id": "7ff45afc",
   "metadata": {},
   "outputs": [
    {
     "name": "stdout",
     "output_type": "stream",
     "text": [
      "125/125 [==============================] - 1s 2ms/step\n"
     ]
    },
    {
     "data": {
      "image/png": "[encoded data removed]",
      "text/plain": [
       "<Figure size 1700x500 with 1 Axes>"
      ]
     },
     "metadata": {},
     "output_type": "display_data"
    }
   ],
   "source": [
    "# Nous calculons simplement les prédictions à partir des données utilisées pour l’apprentissage\n",
    "predictions = model.predict(train_features)\n",
    "\n",
    "# nous remettons les valeurs à la bonne échelle via le « scaler \n",
    "unorm = np.reshape(scaler.inverse_transform(predictions), -1)\n",
    "\n",
    "# affichons le résultat dans un graphique sur 300 données\n",
    "# les 5 premières valeurs sont écartées car non estimable puisqu’il n’y a pas assez d’historique\n",
    "plt.plot(close_data.values[5:4000])\n",
    "# plt.plot(close_serie.values[5:305]) # données réelles\n",
    "plt.grid(True)\n",
    "plt.plot(unorm[0:4000]) # orange données estimées\n",
    "plt.show()"
   ]
  },
  {
   "cell_type": "code",
   "execution_count": 138,
   "id": "5444b9cf",
   "metadata": {},
   "outputs": [
    {
     "data": {
      "text/plain": [
       "375.2292"
      ]
     },
     "execution_count": 138,
     "metadata": {},
     "output_type": "execute_result"
    }
   ],
   "source": [
    "unorm[2500] # prédiction"
   ]
  },
  {
   "cell_type": "code",
   "execution_count": 139,
   "id": "13e86504",
   "metadata": {},
   "outputs": [
    {
     "data": {
      "text/plain": [
       "366.29"
      ]
     },
     "execution_count": 139,
     "metadata": {},
     "output_type": "execute_result"
    }
   ],
   "source": [
    "close_data.values[2500] # réelle"
   ]
  }
 ],
 "metadata": {
  "kernelspec": {
   "display_name": "Python 3 (ipykernel)",
   "language": "python",
   "name": "python3"
  },
  "language_info": {
   "codemirror_mode": {
    "name": "ipython",
    "version": 3
   },
   "file_extension": ".py",
   "mimetype": "text/x-python",
   "name": "python",
   "nbconvert_exporter": "python",
   "pygments_lexer": "ipython3",
   "version": "3.11.5"
  }
 },
 "nbformat": 4,
 "nbformat_minor": 5
}
