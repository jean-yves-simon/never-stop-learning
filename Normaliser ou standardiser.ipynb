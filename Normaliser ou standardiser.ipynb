{
 "cells": [
  {
   "cell_type": "code",
   "execution_count": null,
   "id": "d3671a65",
   "metadata": {},
   "outputs": [],
   "source": [
    "from sklearn.preprocessing import MinMaxScaler\n",
    "scaler = MinMaxScaler(feature_range=(0, 1))\n",
    "a_data_df = scaler.fit_transform(a_data_df)\n",
    "g_data_df = scaler.fit_transform(g_data_df)"
   ]
  },
  {
   "cell_type": "markdown",
   "id": "f93a41b0",
   "metadata": {},
   "source": [
    "Les méthodes de mise à l'échelle peuvent être divisées en deux catégories : normalisation et standardisation.\n",
    "\n",
    "En guise de rappel, la normalisation est une technique de mise à l'échelle dans laquelle les valeurs sont décalées et redimensionnées de manière à ce qu'elles soient comprises entre 0 et 1, tandis que la normalisation centre les valeurs autour de la moyenne avec un écart type unitaire. Cela signifie que la valeur moyenne de l'attribut devient nulle et que la distribution résultante présente un écart type unitaire.\n",
    "\n",
    "En conséquence, les méthodes de mise à l'échelle présentées ci-dessus peuvent être classées comme suit :\n",
    "\n",
    "    Standardisation : Standard Scaler\n",
    "    Normalisation : Scaler Min-Max et Robust Scaler\n",
    "\n",
    "La question est maintenant de savoir quand dois-je utiliser quelle technique de mise à l’échelle ? Il n’y a pas de réponse unique à cette question, mais on peut utiliser la distribution sous-jacente comme guide :\n",
    "\n",
    "    La normalisation est utile lorsque vous savez que la distribution de vos données ne suit pas une distribution gaussienne.\n",
    "    La normalisation, en revanche, peut être utile dans les cas où les données suivent une distribution gaussienne .\n",
    "\n",
    "Ma recommandation personnelle lors du développement de modèles d'apprentissage automatique est d'adapter d'abord le modèle à des données brutes, normalisées et standardisées, puis de comparer les performances pour obtenir les meilleurs résultats. "
   ]
  },
  {
   "cell_type": "code",
   "execution_count": 2,
   "id": "fe97c13a",
   "metadata": {},
   "outputs": [],
   "source": [
    "# Chargement des bibliothèques\n",
    "\n",
    "import pandas as pd\n",
    "import numpy as np\n",
    "\n",
    "import matplotlib\n",
    "import matplotlib.pyplot as plt\n",
    "import seaborn as sns\n",
    "%matplotlib inline\n",
    "matplotlib.style.use('ggplot')\n",
    "\n",
    "\n",
    "#For chapter 3.1\n",
    "from sklearn.preprocessing import StandardScaler\n",
    "#For chapter 3.2\n",
    "from sklearn.preprocessing import MinMaxScaler\n",
    "#For chapter 3.3\n",
    "from sklearn.preprocessing import RobustScaler\n",
    "\n",
    "#For chapter 5\n",
    "import pickle as pk\n",
    "\n",
    "#For chapter 6\n",
    "from sklearn.model_selection import train_test_split\n",
    "\n",
    "\n",
    "pd.set_option('float_format', '{:f}'.format)"
   ]
  },
  {
   "cell_type": "markdown",
   "id": "35d4a5e5",
   "metadata": {},
   "source": [
    "## 3 méthodes de mise à l'échelle "
   ]
  },
  {
   "cell_type": "markdown",
   "id": "4322c0b9",
   "metadata": {},
   "source": [
    "Le Scaler standard suppose que les données sont normalement distribuées au sein de chaque entité et les mettra à l'échelle de telle sorte que la distribution soit désormais centrée autour de 0, avec un écart type de 1."
   ]
  },
  {
   "cell_type": "code",
   "execution_count": 3,
   "id": "a90e37f6",
   "metadata": {},
   "outputs": [
    {
     "data": {
      "text/html": [
       "<div>\n",
       "<style scoped>\n",
       "    .dataframe tbody tr th:only-of-type {\n",
       "        vertical-align: middle;\n",
       "    }\n",
       "\n",
       "    .dataframe tbody tr th {\n",
       "        vertical-align: top;\n",
       "    }\n",
       "\n",
       "    .dataframe thead th {\n",
       "        text-align: right;\n",
       "    }\n",
       "</style>\n",
       "<table border=\"1\" class=\"dataframe\">\n",
       "  <thead>\n",
       "    <tr style=\"text-align: right;\">\n",
       "      <th></th>\n",
       "      <th>Col_1</th>\n",
       "      <th>Col_2</th>\n",
       "      <th>Col_3</th>\n",
       "    </tr>\n",
       "  </thead>\n",
       "  <tbody>\n",
       "    <tr>\n",
       "      <th>0</th>\n",
       "      <td>3.248691</td>\n",
       "      <td>6.158165</td>\n",
       "      <td>3.702313</td>\n",
       "    </tr>\n",
       "    <tr>\n",
       "      <th>1</th>\n",
       "      <td>-1.223513</td>\n",
       "      <td>3.502543</td>\n",
       "      <td>0.381228</td>\n",
       "    </tr>\n",
       "    <tr>\n",
       "      <th>2</th>\n",
       "      <td>-1.056344</td>\n",
       "      <td>8.859463</td>\n",
       "      <td>-0.195733</td>\n",
       "    </tr>\n",
       "    <tr>\n",
       "      <th>3</th>\n",
       "      <td>-2.145937</td>\n",
       "      <td>3.943360</td>\n",
       "      <td>-8.099449</td>\n",
       "    </tr>\n",
       "    <tr>\n",
       "      <th>4</th>\n",
       "      <td>1.730815</td>\n",
       "      <td>11.728704</td>\n",
       "      <td>-10.434062</td>\n",
       "    </tr>\n",
       "  </tbody>\n",
       "</table>\n",
       "</div>"
      ],
      "text/plain": [
       "      Col_1     Col_2      Col_3\n",
       "0  3.248691  6.158165   3.702313\n",
       "1 -1.223513  3.502543   0.381228\n",
       "2 -1.056344  8.859463  -0.195733\n",
       "3 -2.145937  3.943360  -8.099449\n",
       "4  1.730815 11.728704 -10.434062"
      ]
     },
     "execution_count": 3,
     "metadata": {},
     "output_type": "execute_result"
    }
   ],
   "source": [
    "np.random.seed(1)\n",
    "\n",
    "df = pd.DataFrame({\n",
    "    'Col_1': np.random.normal(0, 2, 30000),\n",
    "    'Col_2': np.random.normal(5, 3, 30000),\n",
    "    'Col_3': np.random.normal(-5, 5, 30000)\n",
    "})\n",
    "\n",
    "df.head()"
   ]
  },
  {
   "cell_type": "markdown",
   "id": "1d34517f",
   "metadata": {},
   "source": [
    "## Standard Scaler"
   ]
  },
  {
   "cell_type": "code",
   "execution_count": 1,
   "id": "82336d08",
   "metadata": {},
   "outputs": [
    {
     "ename": "NameError",
     "evalue": "name 'df' is not defined",
     "output_type": "error",
     "traceback": [
      "\u001b[0;31m---------------------------------------------------------------------------\u001b[0m",
      "\u001b[0;31mNameError\u001b[0m                                 Traceback (most recent call last)",
      "\u001b[0;32m/var/folders/f2/nwh0qtfn1dx9nd5d1sl92d940000gn/T/ipykernel_1086/941511710.py\u001b[0m in \u001b[0;36m<module>\u001b[0;34m\u001b[0m\n\u001b[0;32m----> 1\u001b[0;31m \u001b[0mcol_names\u001b[0m \u001b[0;34m=\u001b[0m \u001b[0mdf\u001b[0m\u001b[0;34m.\u001b[0m\u001b[0mcolumns\u001b[0m\u001b[0;34m\u001b[0m\u001b[0;34m\u001b[0m\u001b[0m\n\u001b[0m\u001b[1;32m      2\u001b[0m \u001b[0mfeatures\u001b[0m \u001b[0;34m=\u001b[0m \u001b[0mdf\u001b[0m\u001b[0;34m[\u001b[0m\u001b[0mcol_names\u001b[0m\u001b[0;34m]\u001b[0m\u001b[0;34m\u001b[0m\u001b[0;34m\u001b[0m\u001b[0m\n\u001b[1;32m      3\u001b[0m \u001b[0;34m\u001b[0m\u001b[0m\n\u001b[1;32m      4\u001b[0m \u001b[0mscaler\u001b[0m \u001b[0;34m=\u001b[0m \u001b[0mStandardScaler\u001b[0m\u001b[0;34m(\u001b[0m\u001b[0;34m)\u001b[0m\u001b[0;34m.\u001b[0m\u001b[0mfit\u001b[0m\u001b[0;34m(\u001b[0m\u001b[0mfeatures\u001b[0m\u001b[0;34m.\u001b[0m\u001b[0mvalues\u001b[0m\u001b[0;34m)\u001b[0m\u001b[0;34m\u001b[0m\u001b[0;34m\u001b[0m\u001b[0m\n\u001b[1;32m      5\u001b[0m \u001b[0mfeatures\u001b[0m \u001b[0;34m=\u001b[0m \u001b[0mscaler\u001b[0m\u001b[0;34m.\u001b[0m\u001b[0mtransform\u001b[0m\u001b[0;34m(\u001b[0m\u001b[0mfeatures\u001b[0m\u001b[0;34m.\u001b[0m\u001b[0mvalues\u001b[0m\u001b[0;34m)\u001b[0m\u001b[0;34m\u001b[0m\u001b[0;34m\u001b[0m\u001b[0m\n",
      "\u001b[0;31mNameError\u001b[0m: name 'df' is not defined"
     ]
    }
   ],
   "source": [
    "col_names = df.columns\n",
    "features = df[col_names]\n",
    "\n",
    "scaler = StandardScaler().fit(features.values)\n",
    "features = scaler.transform(features.values)\n",
    "scaled_features = pd.DataFrame(features, columns = col_names)\n",
    "scaled_features.head()"
   ]
  },
  {
   "cell_type": "code",
   "execution_count": 5,
   "id": "db59bfa0",
   "metadata": {},
   "outputs": [
    {
     "data": {
      "text/html": [
       "<div>\n",
       "<style scoped>\n",
       "    .dataframe tbody tr th:only-of-type {\n",
       "        vertical-align: middle;\n",
       "    }\n",
       "\n",
       "    .dataframe tbody tr th {\n",
       "        vertical-align: top;\n",
       "    }\n",
       "\n",
       "    .dataframe thead th {\n",
       "        text-align: right;\n",
       "    }\n",
       "</style>\n",
       "<table border=\"1\" class=\"dataframe\">\n",
       "  <thead>\n",
       "    <tr style=\"text-align: right;\">\n",
       "      <th></th>\n",
       "      <th>Col_1</th>\n",
       "      <th>Col_2</th>\n",
       "      <th>Col_3</th>\n",
       "    </tr>\n",
       "  </thead>\n",
       "  <tbody>\n",
       "    <tr>\n",
       "      <th>count</th>\n",
       "      <td>30000.000000</td>\n",
       "      <td>30000.000000</td>\n",
       "      <td>30000.000000</td>\n",
       "    </tr>\n",
       "    <tr>\n",
       "      <th>mean</th>\n",
       "      <td>0.000000</td>\n",
       "      <td>-0.000000</td>\n",
       "      <td>0.000000</td>\n",
       "    </tr>\n",
       "    <tr>\n",
       "      <th>std</th>\n",
       "      <td>1.000017</td>\n",
       "      <td>1.000017</td>\n",
       "      <td>1.000017</td>\n",
       "    </tr>\n",
       "    <tr>\n",
       "      <th>min</th>\n",
       "      <td>-4.240174</td>\n",
       "      <td>-4.079611</td>\n",
       "      <td>-4.349633</td>\n",
       "    </tr>\n",
       "    <tr>\n",
       "      <th>25%</th>\n",
       "      <td>-0.675720</td>\n",
       "      <td>-0.675050</td>\n",
       "      <td>-0.672894</td>\n",
       "    </tr>\n",
       "    <tr>\n",
       "      <th>50%</th>\n",
       "      <td>0.001141</td>\n",
       "      <td>0.004150</td>\n",
       "      <td>0.001112</td>\n",
       "    </tr>\n",
       "    <tr>\n",
       "      <th>75%</th>\n",
       "      <td>0.665745</td>\n",
       "      <td>0.676721</td>\n",
       "      <td>0.667188</td>\n",
       "    </tr>\n",
       "    <tr>\n",
       "      <th>max</th>\n",
       "      <td>4.171969</td>\n",
       "      <td>3.600454</td>\n",
       "      <td>4.021416</td>\n",
       "    </tr>\n",
       "  </tbody>\n",
       "</table>\n",
       "</div>"
      ],
      "text/plain": [
       "             Col_1        Col_2        Col_3\n",
       "count 30000.000000 30000.000000 30000.000000\n",
       "mean      0.000000    -0.000000     0.000000\n",
       "std       1.000017     1.000017     1.000017\n",
       "min      -4.240174    -4.079611    -4.349633\n",
       "25%      -0.675720    -0.675050    -0.672894\n",
       "50%       0.001141     0.004150     0.001112\n",
       "75%       0.665745     0.676721     0.667188\n",
       "max       4.171969     3.600454     4.021416"
      ]
     },
     "execution_count": 5,
     "metadata": {},
     "output_type": "execute_result"
    }
   ],
   "source": [
    "scaled_features.describe()"
   ]
  },
  {
   "cell_type": "code",
   "execution_count": 6,
   "id": "92d135ed",
   "metadata": {},
   "outputs": [
    {
     "data": {
      "image/png": "[encoded data removed]",
      "text/plain": [
       "<Figure size 432x360 with 2 Axes>"
      ]
     },
     "metadata": {},
     "output_type": "display_data"
    }
   ],
   "source": [
    "fig, (ax1, ax2) = plt.subplots(ncols=2, figsize=(6, 5))\n",
    "\n",
    "ax1.set_title('Before Scaling')\n",
    "sns.kdeplot(df['Col_1'], ax=ax1)\n",
    "sns.kdeplot(df['Col_2'], ax=ax1)\n",
    "sns.kdeplot(df['Col_3'], ax=ax1)\n",
    "ax2.set_title('After Standard Scaler')\n",
    "sns.kdeplot(scaled_features['Col_1'], ax=ax2)\n",
    "sns.kdeplot(scaled_features['Col_2'], ax=ax2)\n",
    "sns.kdeplot(scaled_features['Col_3'], ax=ax2)\n",
    "plt.show()"
   ]
  },
  {
   "cell_type": "markdown",
   "id": "17c5e8bb",
   "metadata": {},
   "source": [
    "## Scaler Min-Max"
   ]
  },
  {
   "cell_type": "markdown",
   "id": "3767aa74",
   "metadata": {},
   "source": [
    "Le Min-Max Scaler est probablement l'algorithme de mise à l'échelle le plus célèbre et suit la formule suivante pour chaque fonctionnalité"
   ]
  },
  {
   "cell_type": "markdown",
   "id": "b2f3ea46",
   "metadata": {},
   "source": [
    "Cela réduit essentiellement la plage de telle sorte qu'elle se situe désormais entre 0 et 1. Ce scaler fonctionne mieux dans les cas où le scaler standard pourrait ne pas fonctionner aussi bien. Si la distribution n'est pas gaussienne ou si l'écart type est très petit, le Min-Max Scaler fonctionne mieux. Cependant, il est sensible aux valeurs aberrantes, donc s'il y a des valeurs aberrantes dans les données, vous souhaiterez peut-être envisager le Robust Scaler (illustré ci-dessous)"
   ]
  },
  {
   "cell_type": "code",
   "execution_count": 7,
   "id": "cf8f43be",
   "metadata": {},
   "outputs": [
    {
     "data": {
      "text/html": [
       "<div>\n",
       "<style scoped>\n",
       "    .dataframe tbody tr th:only-of-type {\n",
       "        vertical-align: middle;\n",
       "    }\n",
       "\n",
       "    .dataframe tbody tr th {\n",
       "        vertical-align: top;\n",
       "    }\n",
       "\n",
       "    .dataframe thead th {\n",
       "        text-align: right;\n",
       "    }\n",
       "</style>\n",
       "<table border=\"1\" class=\"dataframe\">\n",
       "  <thead>\n",
       "    <tr style=\"text-align: right;\">\n",
       "      <th></th>\n",
       "      <th>Col_1</th>\n",
       "      <th>Col_2</th>\n",
       "      <th>Col_3</th>\n",
       "    </tr>\n",
       "  </thead>\n",
       "  <tbody>\n",
       "    <tr>\n",
       "      <th>0</th>\n",
       "      <td>15.478894</td>\n",
       "      <td>34.220632</td>\n",
       "      <td>45.374083</td>\n",
       "    </tr>\n",
       "    <tr>\n",
       "      <th>1</th>\n",
       "      <td>5.231125</td>\n",
       "      <td>36.175631</td>\n",
       "      <td>54.239890</td>\n",
       "    </tr>\n",
       "    <tr>\n",
       "      <th>2</th>\n",
       "      <td>5.490867</td>\n",
       "      <td>38.350733</td>\n",
       "      <td>49.059671</td>\n",
       "    </tr>\n",
       "    <tr>\n",
       "      <th>3</th>\n",
       "      <td>3.943899</td>\n",
       "      <td>31.077656</td>\n",
       "      <td>56.007109</td>\n",
       "    </tr>\n",
       "    <tr>\n",
       "      <th>4</th>\n",
       "      <td>16.250516</td>\n",
       "      <td>36.881047</td>\n",
       "      <td>48.839375</td>\n",
       "    </tr>\n",
       "  </tbody>\n",
       "</table>\n",
       "</div>"
      ],
      "text/plain": [
       "      Col_1     Col_2     Col_3\n",
       "0 15.478894 34.220632 45.374083\n",
       "1  5.231125 36.175631 54.239890\n",
       "2  5.490867 38.350733 49.059671\n",
       "3  3.943899 31.077656 56.007109\n",
       "4 16.250516 36.881047 48.839375"
      ]
     },
     "execution_count": 7,
     "metadata": {},
     "output_type": "execute_result"
    }
   ],
   "source": [
    "np.random.seed(1)\n",
    "\n",
    "df = pd.DataFrame({\n",
    "    # positive skew\n",
    "    'Col_1': np.random.chisquare(8, 1000),\n",
    "    # negative skew \n",
    "    'Col_2': np.random.beta(8, 2, 1000) * 40,\n",
    "    # no skew\n",
    "    'Col_3': np.random.normal(50, 3, 1000)\n",
    "})\n",
    "\n",
    "df.head()"
   ]
  },
  {
   "cell_type": "code",
   "execution_count": 8,
   "id": "31dcb90b",
   "metadata": {},
   "outputs": [
    {
     "data": {
      "text/html": [
       "<div>\n",
       "<style scoped>\n",
       "    .dataframe tbody tr th:only-of-type {\n",
       "        vertical-align: middle;\n",
       "    }\n",
       "\n",
       "    .dataframe tbody tr th {\n",
       "        vertical-align: top;\n",
       "    }\n",
       "\n",
       "    .dataframe thead th {\n",
       "        text-align: right;\n",
       "    }\n",
       "</style>\n",
       "<table border=\"1\" class=\"dataframe\">\n",
       "  <thead>\n",
       "    <tr style=\"text-align: right;\">\n",
       "      <th></th>\n",
       "      <th>Col_1</th>\n",
       "      <th>Col_2</th>\n",
       "      <th>Col_3</th>\n",
       "    </tr>\n",
       "  </thead>\n",
       "  <tbody>\n",
       "    <tr>\n",
       "      <th>0</th>\n",
       "      <td>0.421720</td>\n",
       "      <td>0.810756</td>\n",
       "      <td>0.362694</td>\n",
       "    </tr>\n",
       "    <tr>\n",
       "      <th>1</th>\n",
       "      <td>0.123349</td>\n",
       "      <td>0.876248</td>\n",
       "      <td>0.787307</td>\n",
       "    </tr>\n",
       "    <tr>\n",
       "      <th>2</th>\n",
       "      <td>0.130912</td>\n",
       "      <td>0.949114</td>\n",
       "      <td>0.539209</td>\n",
       "    </tr>\n",
       "    <tr>\n",
       "      <th>3</th>\n",
       "      <td>0.085871</td>\n",
       "      <td>0.705466</td>\n",
       "      <td>0.871945</td>\n",
       "    </tr>\n",
       "    <tr>\n",
       "      <th>4</th>\n",
       "      <td>0.444186</td>\n",
       "      <td>0.899880</td>\n",
       "      <td>0.528658</td>\n",
       "    </tr>\n",
       "  </tbody>\n",
       "</table>\n",
       "</div>"
      ],
      "text/plain": [
       "     Col_1    Col_2    Col_3\n",
       "0 0.421720 0.810756 0.362694\n",
       "1 0.123349 0.876248 0.787307\n",
       "2 0.130912 0.949114 0.539209\n",
       "3 0.085871 0.705466 0.871945\n",
       "4 0.444186 0.899880 0.528658"
      ]
     },
     "execution_count": 8,
     "metadata": {},
     "output_type": "execute_result"
    }
   ],
   "source": [
    "col_names = df.columns\n",
    "features = df[col_names]\n",
    "\n",
    "scaler = MinMaxScaler().fit(features.values)\n",
    "features = scaler.transform(features.values)\n",
    "scaled_features = pd.DataFrame(features, columns = col_names)\n",
    "scaled_features.head()"
   ]
  },
  {
   "cell_type": "code",
   "execution_count": 9,
   "id": "88b112d4",
   "metadata": {},
   "outputs": [
    {
     "data": {
      "image/png": "[encoded data removed]",
      "text/plain": [
       "<Figure size 432x360 with 2 Axes>"
      ]
     },
     "metadata": {},
     "output_type": "display_data"
    }
   ],
   "source": [
    "fig, (ax1, ax2) = plt.subplots(ncols=2, figsize=(6, 5))\n",
    "\n",
    "ax1.set_title('Before Scaling')\n",
    "sns.kdeplot(df['Col_1'], ax=ax1)\n",
    "sns.kdeplot(df['Col_2'], ax=ax1)\n",
    "sns.kdeplot(df['Col_3'], ax=ax1)\n",
    "ax2.set_title('After Min-Max Scaling')\n",
    "sns.kdeplot(scaled_features['Col_1'], ax=ax2)\n",
    "sns.kdeplot(scaled_features['Col_2'], ax=ax2)\n",
    "sns.kdeplot(scaled_features['Col_3'], ax=ax2)\n",
    "plt.show()"
   ]
  },
  {
   "cell_type": "markdown",
   "id": "02bca63b",
   "metadata": {},
   "source": [
    "## Robust Scaler"
   ]
  },
  {
   "cell_type": "markdown",
   "id": "00aac9ab",
   "metadata": {},
   "source": [
    "Le RobustScaler utilise une méthode similaire au Min-Max Scaler, mais il utilise à la place la plage interquartile, plutôt que le Min-Max, de sorte qu'il est robuste aux valeurs aberrantes"
   ]
  },
  {
   "cell_type": "markdown",
   "id": "29d92031",
   "metadata": {},
   "source": [
    "Bien sûr, cela signifie qu'il utilise moins de données pour la mise à l'échelle, il est donc plus approprié lorsqu'il y a des valeurs aberrantes dans les données."
   ]
  },
  {
   "cell_type": "code",
   "execution_count": 10,
   "id": "c923f36c",
   "metadata": {},
   "outputs": [
    {
     "data": {
      "text/html": [
       "<div>\n",
       "<style scoped>\n",
       "    .dataframe tbody tr th:only-of-type {\n",
       "        vertical-align: middle;\n",
       "    }\n",
       "\n",
       "    .dataframe tbody tr th {\n",
       "        vertical-align: top;\n",
       "    }\n",
       "\n",
       "    .dataframe thead th {\n",
       "        text-align: right;\n",
       "    }\n",
       "</style>\n",
       "<table border=\"1\" class=\"dataframe\">\n",
       "  <thead>\n",
       "    <tr style=\"text-align: right;\">\n",
       "      <th></th>\n",
       "      <th>Col_1</th>\n",
       "      <th>Col_2</th>\n",
       "    </tr>\n",
       "  </thead>\n",
       "  <tbody>\n",
       "    <tr>\n",
       "      <th>0</th>\n",
       "      <td>21.624345</td>\n",
       "      <td>31.427547</td>\n",
       "    </tr>\n",
       "    <tr>\n",
       "      <th>1</th>\n",
       "      <td>19.388244</td>\n",
       "      <td>30.036197</td>\n",
       "    </tr>\n",
       "    <tr>\n",
       "      <th>2</th>\n",
       "      <td>19.471828</td>\n",
       "      <td>32.029997</td>\n",
       "    </tr>\n",
       "    <tr>\n",
       "      <th>3</th>\n",
       "      <td>18.927031</td>\n",
       "      <td>29.365595</td>\n",
       "    </tr>\n",
       "    <tr>\n",
       "      <th>4</th>\n",
       "      <td>20.865408</td>\n",
       "      <td>29.474897</td>\n",
       "    </tr>\n",
       "  </tbody>\n",
       "</table>\n",
       "</div>"
      ],
      "text/plain": [
       "      Col_1     Col_2\n",
       "0 21.624345 31.427547\n",
       "1 19.388244 30.036197\n",
       "2 19.471828 32.029997\n",
       "3 18.927031 29.365595\n",
       "4 20.865408 29.474897"
      ]
     },
     "execution_count": 10,
     "metadata": {},
     "output_type": "execute_result"
    }
   ],
   "source": [
    "np.random.seed(1)\n",
    "\n",
    "df = pd.DataFrame({\n",
    "    # Distribution with lower outliers\n",
    "    'Col_1': np.concatenate([np.random.normal(20, 1, 1000), np.random.normal(1, 1, 25)]),\n",
    "    # Distribution with higher outliers\n",
    "    'Col_2': np.concatenate([np.random.normal(30, 1, 1000), np.random.normal(50, 1, 25)]),\n",
    "})\n",
    "\n",
    "df.head()"
   ]
  },
  {
   "cell_type": "code",
   "execution_count": 11,
   "id": "bc606647",
   "metadata": {},
   "outputs": [
    {
     "data": {
      "text/html": [
       "<div>\n",
       "<style scoped>\n",
       "    .dataframe tbody tr th:only-of-type {\n",
       "        vertical-align: middle;\n",
       "    }\n",
       "\n",
       "    .dataframe tbody tr th {\n",
       "        vertical-align: top;\n",
       "    }\n",
       "\n",
       "    .dataframe thead th {\n",
       "        text-align: right;\n",
       "    }\n",
       "</style>\n",
       "<table border=\"1\" class=\"dataframe\">\n",
       "  <thead>\n",
       "    <tr style=\"text-align: right;\">\n",
       "      <th></th>\n",
       "      <th>Col_1</th>\n",
       "      <th>Col_2</th>\n",
       "    </tr>\n",
       "  </thead>\n",
       "  <tbody>\n",
       "    <tr>\n",
       "      <th>0</th>\n",
       "      <td>1.210631</td>\n",
       "      <td>0.944714</td>\n",
       "    </tr>\n",
       "    <tr>\n",
       "      <th>1</th>\n",
       "      <td>-0.464762</td>\n",
       "      <td>-0.027013</td>\n",
       "    </tr>\n",
       "    <tr>\n",
       "      <th>2</th>\n",
       "      <td>-0.402136</td>\n",
       "      <td>1.365469</td>\n",
       "    </tr>\n",
       "    <tr>\n",
       "      <th>3</th>\n",
       "      <td>-0.810324</td>\n",
       "      <td>-0.495366</td>\n",
       "    </tr>\n",
       "    <tr>\n",
       "      <th>4</th>\n",
       "      <td>0.641999</td>\n",
       "      <td>-0.419030</td>\n",
       "    </tr>\n",
       "  </tbody>\n",
       "</table>\n",
       "</div>"
      ],
      "text/plain": [
       "      Col_1     Col_2\n",
       "0  1.210631  0.944714\n",
       "1 -0.464762 -0.027013\n",
       "2 -0.402136  1.365469\n",
       "3 -0.810324 -0.495366\n",
       "4  0.641999 -0.419030"
      ]
     },
     "execution_count": 11,
     "metadata": {},
     "output_type": "execute_result"
    }
   ],
   "source": [
    "col_names = df.columns\n",
    "features = df[col_names]\n",
    "\n",
    "scaler = RobustScaler().fit(features.values)\n",
    "features = scaler.transform(features.values)\n",
    "scaled_features = pd.DataFrame(features, columns = col_names)\n",
    "scaled_features.head()"
   ]
  },
  {
   "cell_type": "code",
   "execution_count": 12,
   "id": "22e7224c",
   "metadata": {},
   "outputs": [
    {
     "data": {
      "image/png": "[encoded data removed]",
      "text/plain": [
       "<Figure size 432x360 with 2 Axes>"
      ]
     },
     "metadata": {},
     "output_type": "display_data"
    }
   ],
   "source": [
    "fig, (ax1, ax2) = plt.subplots(ncols=2, figsize=(6, 5))\n",
    "\n",
    "ax1.set_title('Before Scaling')\n",
    "sns.kdeplot(df['Col_1'], ax=ax1)\n",
    "sns.kdeplot(df['Col_2'], ax=ax1)\n",
    "\n",
    "ax2.set_title('After Robust Scaling')\n",
    "sns.kdeplot(scaled_features['Col_1'], ax=ax2)\n",
    "sns.kdeplot(scaled_features['Col_2'], ax=ax2)\n",
    "\n",
    "plt.show()"
   ]
  },
  {
   "cell_type": "markdown",
   "id": "e428ac70",
   "metadata": {},
   "source": [
    "## "
   ]
  },
  {
   "cell_type": "markdown",
   "id": "2a8e4792",
   "metadata": {},
   "source": [
    "## Comparaison des méthodes de mise à l'échelle présentées précédemment "
   ]
  },
  {
   "cell_type": "code",
   "execution_count": 13,
   "id": "b3b29c8b",
   "metadata": {},
   "outputs": [
    {
     "data": {
      "text/html": [
       "<div>\n",
       "<style scoped>\n",
       "    .dataframe tbody tr th:only-of-type {\n",
       "        vertical-align: middle;\n",
       "    }\n",
       "\n",
       "    .dataframe tbody tr th {\n",
       "        vertical-align: top;\n",
       "    }\n",
       "\n",
       "    .dataframe thead th {\n",
       "        text-align: right;\n",
       "    }\n",
       "</style>\n",
       "<table border=\"1\" class=\"dataframe\">\n",
       "  <thead>\n",
       "    <tr style=\"text-align: right;\">\n",
       "      <th></th>\n",
       "      <th>Col_1</th>\n",
       "      <th>Col_2</th>\n",
       "    </tr>\n",
       "  </thead>\n",
       "  <tbody>\n",
       "    <tr>\n",
       "      <th>0</th>\n",
       "      <td>19.651106</td>\n",
       "      <td>30.871754</td>\n",
       "    </tr>\n",
       "    <tr>\n",
       "      <th>1</th>\n",
       "      <td>20.983703</td>\n",
       "      <td>29.439243</td>\n",
       "    </tr>\n",
       "    <tr>\n",
       "      <th>2</th>\n",
       "      <td>20.580923</td>\n",
       "      <td>30.737413</td>\n",
       "    </tr>\n",
       "    <tr>\n",
       "      <th>3</th>\n",
       "      <td>20.070284</td>\n",
       "      <td>28.553760</td>\n",
       "    </tr>\n",
       "    <tr>\n",
       "      <th>4</th>\n",
       "      <td>20.777533</td>\n",
       "      <td>29.602207</td>\n",
       "    </tr>\n",
       "  </tbody>\n",
       "</table>\n",
       "</div>"
      ],
      "text/plain": [
       "      Col_1     Col_2\n",
       "0 19.651106 30.871754\n",
       "1 20.983703 29.439243\n",
       "2 20.580923 30.737413\n",
       "3 20.070284 28.553760\n",
       "4 20.777533 29.602207"
      ]
     },
     "execution_count": 13,
     "metadata": {},
     "output_type": "execute_result"
    }
   ],
   "source": [
    "np.random.seed(32)\n",
    "\n",
    "df = pd.DataFrame({\n",
    "    # Distribution with lower outliers\n",
    "    'Col_1': np.concatenate([np.random.normal(20, 1, 1000), np.random.normal(1, 1, 25)]),\n",
    "    # Distribution with higher outliers\n",
    "    'Col_2': np.concatenate([np.random.normal(30, 1, 1000), np.random.normal(50, 1, 25)]),\n",
    "})\n",
    "\n",
    "df.head()"
   ]
  },
  {
   "cell_type": "code",
   "execution_count": 14,
   "id": "efd5b241",
   "metadata": {},
   "outputs": [],
   "source": [
    "col_names = df.columns\n",
    "features = df[col_names]\n",
    "scaler = StandardScaler().fit(features.values)\n",
    "features = scaler.transform(features.values)\n",
    "standard_scaler = pd.DataFrame(features, columns = col_names)\n",
    "\n",
    "\n",
    "col_names = df.columns\n",
    "features = df[col_names]\n",
    "scaler = MinMaxScaler().fit(features.values)\n",
    "features = scaler.transform(features.values)\n",
    "min_max_scaler = pd.DataFrame(features, columns = col_names)\n",
    "\n",
    "\n",
    "col_names = df.columns\n",
    "features = df[col_names]\n",
    "scaler = RobustScaler().fit(features.values)\n",
    "features = scaler.transform(features.values)\n",
    "robust_scaler = pd.DataFrame(features, columns = col_names)"
   ]
  },
  {
   "cell_type": "code",
   "execution_count": 15,
   "id": "221a3a05",
   "metadata": {},
   "outputs": [
    {
     "data": {
      "image/png": "[encoded data removed]",
      "text/plain": [
       "<Figure size 1080x504 with 4 Axes>"
      ]
     },
     "metadata": {},
     "output_type": "display_data"
    }
   ],
   "source": [
    "fig, (ax1, ax2, ax3, ax4) = plt.subplots(ncols=4, figsize=(15, 7))\n",
    "\n",
    "ax1.set_title('Before Scaling')\n",
    "sns.kdeplot(df['Col_1'], ax=ax1)\n",
    "sns.kdeplot(df['Col_2'], ax=ax1)\n",
    "\n",
    "ax2.set_title('After Standard Scaler')\n",
    "sns.kdeplot(standard_scaler['Col_1'], ax=ax2)\n",
    "sns.kdeplot(standard_scaler['Col_2'], ax=ax2)\n",
    "\n",
    "ax3.set_title('After Min-Max Scaling')\n",
    "sns.kdeplot(min_max_scaler['Col_1'], ax=ax3)\n",
    "sns.kdeplot(min_max_scaler['Col_2'], ax=ax3)\n",
    "\n",
    "ax4.set_title('After Robust Scaling')\n",
    "sns.kdeplot(robust_scaler['Col_1'], ax=ax4)\n",
    "sns.kdeplot(robust_scaler['Col_2'], ax=ax4)\n",
    "\n",
    "plt.show()\n",
    "\n"
   ]
  },
  {
   "cell_type": "markdown",
   "id": "255d80b1",
   "metadata": {},
   "source": [
    "## Inverse Transformation"
   ]
  },
  {
   "cell_type": "markdown",
   "id": "7f267ce6",
   "metadata": {},
   "source": [
    "Comme déjà introduit dans l'article sur les « encodeurs » , il existe également la fonction inverse_transform pour les méthodes de mise à l'échelle. La fonctionnalité et la procédure sont très similaires.\n",
    "\n",
    "Prenons ce dataframe comme exemple : "
   ]
  },
  {
   "cell_type": "code",
   "execution_count": 16,
   "id": "4214b286",
   "metadata": {},
   "outputs": [
    {
     "data": {
      "text/html": [
       "<div>\n",
       "<style scoped>\n",
       "    .dataframe tbody tr th:only-of-type {\n",
       "        vertical-align: middle;\n",
       "    }\n",
       "\n",
       "    .dataframe tbody tr th {\n",
       "        vertical-align: top;\n",
       "    }\n",
       "\n",
       "    .dataframe thead th {\n",
       "        text-align: right;\n",
       "    }\n",
       "</style>\n",
       "<table border=\"1\" class=\"dataframe\">\n",
       "  <thead>\n",
       "    <tr style=\"text-align: right;\">\n",
       "      <th></th>\n",
       "      <th>Col_1</th>\n",
       "      <th>Col_2</th>\n",
       "      <th>Col_3</th>\n",
       "      <th>Col_4</th>\n",
       "    </tr>\n",
       "  </thead>\n",
       "  <tbody>\n",
       "    <tr>\n",
       "      <th>0</th>\n",
       "      <td>1</td>\n",
       "      <td>7</td>\n",
       "      <td>3</td>\n",
       "      <td>4</td>\n",
       "    </tr>\n",
       "    <tr>\n",
       "      <th>1</th>\n",
       "      <td>7</td>\n",
       "      <td>1</td>\n",
       "      <td>8</td>\n",
       "      <td>7</td>\n",
       "    </tr>\n",
       "    <tr>\n",
       "      <th>2</th>\n",
       "      <td>2</td>\n",
       "      <td>5</td>\n",
       "      <td>0</td>\n",
       "      <td>9</td>\n",
       "    </tr>\n",
       "    <tr>\n",
       "      <th>3</th>\n",
       "      <td>4</td>\n",
       "      <td>3</td>\n",
       "      <td>3</td>\n",
       "      <td>1</td>\n",
       "    </tr>\n",
       "    <tr>\n",
       "      <th>4</th>\n",
       "      <td>8</td>\n",
       "      <td>4</td>\n",
       "      <td>9</td>\n",
       "      <td>4</td>\n",
       "    </tr>\n",
       "  </tbody>\n",
       "</table>\n",
       "</div>"
      ],
      "text/plain": [
       "   Col_1  Col_2  Col_3  Col_4\n",
       "0      1      7      3      4\n",
       "1      7      1      8      7\n",
       "2      2      5      0      9\n",
       "3      4      3      3      1\n",
       "4      8      4      9      4"
      ]
     },
     "execution_count": 16,
     "metadata": {},
     "output_type": "execute_result"
    }
   ],
   "source": [
    "df = pd.DataFrame({'Col_1': [1,7,2,4,8],\n",
    "                   'Col_2': [7,1,5,3,4],\n",
    "                   'Col_3': [3,8,0,3,9],\n",
    "                   'Col_4': [4,7,9,1,4]})\n",
    "df"
   ]
  },
  {
   "cell_type": "markdown",
   "id": "333aaa1a",
   "metadata": {},
   "source": [
    "Nous appliquons maintenant le scaler standard comme indiqué précédemment :"
   ]
  },
  {
   "cell_type": "code",
   "execution_count": 17,
   "id": "7cdbdfd4",
   "metadata": {},
   "outputs": [
    {
     "data": {
      "text/html": [
       "<div>\n",
       "<style scoped>\n",
       "    .dataframe tbody tr th:only-of-type {\n",
       "        vertical-align: middle;\n",
       "    }\n",
       "\n",
       "    .dataframe tbody tr th {\n",
       "        vertical-align: top;\n",
       "    }\n",
       "\n",
       "    .dataframe thead th {\n",
       "        text-align: right;\n",
       "    }\n",
       "</style>\n",
       "<table border=\"1\" class=\"dataframe\">\n",
       "  <thead>\n",
       "    <tr style=\"text-align: right;\">\n",
       "      <th></th>\n",
       "      <th>Col_1</th>\n",
       "      <th>Col_2</th>\n",
       "      <th>Col_3</th>\n",
       "      <th>Col_4</th>\n",
       "    </tr>\n",
       "  </thead>\n",
       "  <tbody>\n",
       "    <tr>\n",
       "      <th>0</th>\n",
       "      <td>-1.246500</td>\n",
       "      <td>1.500000</td>\n",
       "      <td>-0.473050</td>\n",
       "      <td>-0.362738</td>\n",
       "    </tr>\n",
       "    <tr>\n",
       "      <th>1</th>\n",
       "      <td>0.953206</td>\n",
       "      <td>-1.500000</td>\n",
       "      <td>1.005231</td>\n",
       "      <td>0.725476</td>\n",
       "    </tr>\n",
       "    <tr>\n",
       "      <th>2</th>\n",
       "      <td>-0.879883</td>\n",
       "      <td>0.500000</td>\n",
       "      <td>-1.360019</td>\n",
       "      <td>1.450953</td>\n",
       "    </tr>\n",
       "    <tr>\n",
       "      <th>3</th>\n",
       "      <td>-0.146647</td>\n",
       "      <td>-0.500000</td>\n",
       "      <td>-0.473050</td>\n",
       "      <td>-1.450953</td>\n",
       "    </tr>\n",
       "    <tr>\n",
       "      <th>4</th>\n",
       "      <td>1.319824</td>\n",
       "      <td>0.000000</td>\n",
       "      <td>1.300887</td>\n",
       "      <td>-0.362738</td>\n",
       "    </tr>\n",
       "  </tbody>\n",
       "</table>\n",
       "</div>"
      ],
      "text/plain": [
       "      Col_1     Col_2     Col_3     Col_4\n",
       "0 -1.246500  1.500000 -0.473050 -0.362738\n",
       "1  0.953206 -1.500000  1.005231  0.725476\n",
       "2 -0.879883  0.500000 -1.360019  1.450953\n",
       "3 -0.146647 -0.500000 -0.473050 -1.450953\n",
       "4  1.319824  0.000000  1.300887 -0.362738"
      ]
     },
     "execution_count": 17,
     "metadata": {},
     "output_type": "execute_result"
    }
   ],
   "source": [
    "col_names = df.columns\n",
    "features = df[col_names]\n",
    "\n",
    "scaler = StandardScaler().fit(features.values)\n",
    "features = scaler.transform(features.values)\n",
    "scaled_features = pd.DataFrame(features, columns = col_names)\n",
    "scaled_features.head()"
   ]
  },
  {
   "cell_type": "markdown",
   "id": "c4be8716",
   "metadata": {},
   "source": [
    "Le fit scaler a mémorisé les métriques avec lesquelles il a effectué la transformation. Il est donc relativement facile d’effectuer la transformation inverse avec la fonction inverse_transform. "
   ]
  },
  {
   "cell_type": "code",
   "execution_count": 18,
   "id": "834ca13f",
   "metadata": {},
   "outputs": [
    {
     "data": {
      "text/html": [
       "<div>\n",
       "<style scoped>\n",
       "    .dataframe tbody tr th:only-of-type {\n",
       "        vertical-align: middle;\n",
       "    }\n",
       "\n",
       "    .dataframe tbody tr th {\n",
       "        vertical-align: top;\n",
       "    }\n",
       "\n",
       "    .dataframe thead th {\n",
       "        text-align: right;\n",
       "    }\n",
       "</style>\n",
       "<table border=\"1\" class=\"dataframe\">\n",
       "  <thead>\n",
       "    <tr style=\"text-align: right;\">\n",
       "      <th></th>\n",
       "      <th>Col_1</th>\n",
       "      <th>Col_2</th>\n",
       "      <th>Col_3</th>\n",
       "      <th>Col_4</th>\n",
       "    </tr>\n",
       "  </thead>\n",
       "  <tbody>\n",
       "    <tr>\n",
       "      <th>0</th>\n",
       "      <td>1.000000</td>\n",
       "      <td>7.000000</td>\n",
       "      <td>3.000000</td>\n",
       "      <td>4.000000</td>\n",
       "    </tr>\n",
       "    <tr>\n",
       "      <th>1</th>\n",
       "      <td>7.000000</td>\n",
       "      <td>1.000000</td>\n",
       "      <td>8.000000</td>\n",
       "      <td>7.000000</td>\n",
       "    </tr>\n",
       "    <tr>\n",
       "      <th>2</th>\n",
       "      <td>2.000000</td>\n",
       "      <td>5.000000</td>\n",
       "      <td>0.000000</td>\n",
       "      <td>9.000000</td>\n",
       "    </tr>\n",
       "    <tr>\n",
       "      <th>3</th>\n",
       "      <td>4.000000</td>\n",
       "      <td>3.000000</td>\n",
       "      <td>3.000000</td>\n",
       "      <td>1.000000</td>\n",
       "    </tr>\n",
       "    <tr>\n",
       "      <th>4</th>\n",
       "      <td>8.000000</td>\n",
       "      <td>4.000000</td>\n",
       "      <td>9.000000</td>\n",
       "      <td>4.000000</td>\n",
       "    </tr>\n",
       "  </tbody>\n",
       "</table>\n",
       "</div>"
      ],
      "text/plain": [
       "     Col_1    Col_2    Col_3    Col_4\n",
       "0 1.000000 7.000000 3.000000 4.000000\n",
       "1 7.000000 1.000000 8.000000 7.000000\n",
       "2 2.000000 5.000000 0.000000 9.000000\n",
       "3 4.000000 3.000000 3.000000 1.000000\n",
       "4 8.000000 4.000000 9.000000 4.000000"
      ]
     },
     "execution_count": 18,
     "metadata": {},
     "output_type": "execute_result"
    }
   ],
   "source": [
    "col_names = df.columns\n",
    "\n",
    "re_scaled_features = scaler.inverse_transform(scaled_features)\n",
    "re_scaled_df = pd.DataFrame(re_scaled_features, columns = col_names)\n",
    "re_scaled_df"
   ]
  },
  {
   "cell_type": "markdown",
   "id": "09e3688e",
   "metadata": {},
   "source": [
    "## Exporter Scaler pour l'utiliser dans un autre programme"
   ]
  },
  {
   "cell_type": "markdown",
   "id": "2d1ded9f",
   "metadata": {},
   "source": [
    "Il est extrêmement important de sauvegarder séparément le scaler utilisé afin de pouvoir le réutiliser pour de nouvelles prédictions. Si vous avez mis à l'échelle les données d'entraînement avec lesquelles l'algorithme a été créé, vous devez également le faire pour les prédictions de nouvelles observations. Afin de le faire avec les bonnes métriques, nous utilisons le scaler installé à l'origine. "
   ]
  },
  {
   "cell_type": "code",
   "execution_count": 19,
   "id": "5a9d931d",
   "metadata": {},
   "outputs": [],
   "source": [
    "pk.dump(scaler, open('scaler.pkl', 'wb'))"
   ]
  },
  {
   "cell_type": "markdown",
   "id": "fc23157e",
   "metadata": {},
   "source": [
    "Maintenant, nous rechargeons le scaler qui vient d'être enregistré (scaler.pkl)"
   ]
  },
  {
   "cell_type": "code",
   "execution_count": 20,
   "id": "c43f945c",
   "metadata": {},
   "outputs": [],
   "source": [
    "scaler_reload = pk.load(open(\"scaler.pkl\",'rb'))"
   ]
  },
  {
   "cell_type": "markdown",
   "id": "c31982d6",
   "metadata": {},
   "source": [
    "Nous allons maintenant utiliser la même trame de données que précédemment pour voir que le scaler rechargé fonctionne correctement. "
   ]
  },
  {
   "cell_type": "code",
   "execution_count": 21,
   "id": "ef7f9017",
   "metadata": {},
   "outputs": [
    {
     "data": {
      "text/html": [
       "<div>\n",
       "<style scoped>\n",
       "    .dataframe tbody tr th:only-of-type {\n",
       "        vertical-align: middle;\n",
       "    }\n",
       "\n",
       "    .dataframe tbody tr th {\n",
       "        vertical-align: top;\n",
       "    }\n",
       "\n",
       "    .dataframe thead th {\n",
       "        text-align: right;\n",
       "    }\n",
       "</style>\n",
       "<table border=\"1\" class=\"dataframe\">\n",
       "  <thead>\n",
       "    <tr style=\"text-align: right;\">\n",
       "      <th></th>\n",
       "      <th>Col_1</th>\n",
       "      <th>Col_2</th>\n",
       "      <th>Col_3</th>\n",
       "      <th>Col_4</th>\n",
       "    </tr>\n",
       "  </thead>\n",
       "  <tbody>\n",
       "    <tr>\n",
       "      <th>0</th>\n",
       "      <td>1</td>\n",
       "      <td>7</td>\n",
       "      <td>3</td>\n",
       "      <td>4</td>\n",
       "    </tr>\n",
       "    <tr>\n",
       "      <th>1</th>\n",
       "      <td>7</td>\n",
       "      <td>1</td>\n",
       "      <td>8</td>\n",
       "      <td>7</td>\n",
       "    </tr>\n",
       "    <tr>\n",
       "      <th>2</th>\n",
       "      <td>2</td>\n",
       "      <td>5</td>\n",
       "      <td>0</td>\n",
       "      <td>9</td>\n",
       "    </tr>\n",
       "    <tr>\n",
       "      <th>3</th>\n",
       "      <td>4</td>\n",
       "      <td>3</td>\n",
       "      <td>3</td>\n",
       "      <td>1</td>\n",
       "    </tr>\n",
       "    <tr>\n",
       "      <th>4</th>\n",
       "      <td>8</td>\n",
       "      <td>4</td>\n",
       "      <td>9</td>\n",
       "      <td>4</td>\n",
       "    </tr>\n",
       "  </tbody>\n",
       "</table>\n",
       "</div>"
      ],
      "text/plain": [
       "   Col_1  Col_2  Col_3  Col_4\n",
       "0      1      7      3      4\n",
       "1      7      1      8      7\n",
       "2      2      5      0      9\n",
       "3      4      3      3      1\n",
       "4      8      4      9      4"
      ]
     },
     "execution_count": 21,
     "metadata": {},
     "output_type": "execute_result"
    }
   ],
   "source": [
    "df_new = pd.DataFrame({'Col_1': [1,7,2,4,8],\n",
    "                   'Col_2': [7,1,5,3,4],\n",
    "                   'Col_3': [3,8,0,3,9],\n",
    "                   'Col_4': [4,7,9,1,4]})\n",
    "df_new"
   ]
  },
  {
   "cell_type": "code",
   "execution_count": 22,
   "id": "bd587093",
   "metadata": {},
   "outputs": [
    {
     "data": {
      "text/html": [
       "<div>\n",
       "<style scoped>\n",
       "    .dataframe tbody tr th:only-of-type {\n",
       "        vertical-align: middle;\n",
       "    }\n",
       "\n",
       "    .dataframe tbody tr th {\n",
       "        vertical-align: top;\n",
       "    }\n",
       "\n",
       "    .dataframe thead th {\n",
       "        text-align: right;\n",
       "    }\n",
       "</style>\n",
       "<table border=\"1\" class=\"dataframe\">\n",
       "  <thead>\n",
       "    <tr style=\"text-align: right;\">\n",
       "      <th></th>\n",
       "      <th>Col_1</th>\n",
       "      <th>Col_2</th>\n",
       "      <th>Col_3</th>\n",
       "      <th>Col_4</th>\n",
       "    </tr>\n",
       "  </thead>\n",
       "  <tbody>\n",
       "    <tr>\n",
       "      <th>0</th>\n",
       "      <td>-1.246500</td>\n",
       "      <td>1.500000</td>\n",
       "      <td>-0.473050</td>\n",
       "      <td>-0.362738</td>\n",
       "    </tr>\n",
       "    <tr>\n",
       "      <th>1</th>\n",
       "      <td>0.953206</td>\n",
       "      <td>-1.500000</td>\n",
       "      <td>1.005231</td>\n",
       "      <td>0.725476</td>\n",
       "    </tr>\n",
       "    <tr>\n",
       "      <th>2</th>\n",
       "      <td>-0.879883</td>\n",
       "      <td>0.500000</td>\n",
       "      <td>-1.360019</td>\n",
       "      <td>1.450953</td>\n",
       "    </tr>\n",
       "    <tr>\n",
       "      <th>3</th>\n",
       "      <td>-0.146647</td>\n",
       "      <td>-0.500000</td>\n",
       "      <td>-0.473050</td>\n",
       "      <td>-1.450953</td>\n",
       "    </tr>\n",
       "    <tr>\n",
       "      <th>4</th>\n",
       "      <td>1.319824</td>\n",
       "      <td>0.000000</td>\n",
       "      <td>1.300887</td>\n",
       "      <td>-0.362738</td>\n",
       "    </tr>\n",
       "  </tbody>\n",
       "</table>\n",
       "</div>"
      ],
      "text/plain": [
       "      Col_1     Col_2     Col_3     Col_4\n",
       "0 -1.246500  1.500000 -0.473050 -0.362738\n",
       "1  0.953206 -1.500000  1.005231  0.725476\n",
       "2 -0.879883  0.500000 -1.360019  1.450953\n",
       "3 -0.146647 -0.500000 -0.473050 -1.450953\n",
       "4  1.319824  0.000000  1.300887 -0.362738"
      ]
     },
     "execution_count": 22,
     "metadata": {},
     "output_type": "execute_result"
    }
   ],
   "source": [
    "col_names2 = df_new.columns\n",
    "features2 = df_new[col_names]\n",
    "\n",
    "\n",
    "features2 = scaler_reload.transform(features2.values)\n",
    "scaled_features2 = pd.DataFrame(features2, columns = col_names2)\n",
    "scaled_features2.head()"
   ]
  },
  {
   "cell_type": "markdown",
   "id": "ab8c0533",
   "metadata": {},
   "source": [
    "## Mise à l'échelle des fonctionnalités en pratique "
   ]
  },
  {
   "cell_type": "markdown",
   "id": "87b37b0c",
   "metadata": {},
   "source": [
    "Dans la pratique, l'ensemble des données n'est généralement pas mis à l'échelle. Il y a deux raisons à cela :\n",
    "\n",
    "    Dans le cas d'ensembles de données volumineux, il n'est pas judicieux, en termes de capacité de stockage (RAM), de réserver un autre ensemble de données mis à l'échelle.\n",
    "\n",
    "    Pour former des algorithmes d’apprentissage automatique supervisé, les ensembles de données sont généralement divisés en parties de formation et de test. Il est courant de mettre à l'échelle uniquement la partie formation . Les métriques utilisées pour mettre à l'échelle la partie formation sont ensuite appliquées à la partie test . Cela devrait éviter que la partie test destinée à évaluer un algorithme ne soit vraiment invisible.\n",
    "\n",
    "Cela semble compliqué, mais c'est totalement simple à mettre en œuvre.\n",
    "\n",
    "Tout d’abord, nous créons une trame de données aléatoire. "
   ]
  },
  {
   "cell_type": "code",
   "execution_count": 23,
   "id": "f4fa1f79",
   "metadata": {},
   "outputs": [
    {
     "data": {
      "text/html": [
       "<div>\n",
       "<style scoped>\n",
       "    .dataframe tbody tr th:only-of-type {\n",
       "        vertical-align: middle;\n",
       "    }\n",
       "\n",
       "    .dataframe tbody tr th {\n",
       "        vertical-align: top;\n",
       "    }\n",
       "\n",
       "    .dataframe thead th {\n",
       "        text-align: right;\n",
       "    }\n",
       "</style>\n",
       "<table border=\"1\" class=\"dataframe\">\n",
       "  <thead>\n",
       "    <tr style=\"text-align: right;\">\n",
       "      <th></th>\n",
       "      <th>Var1</th>\n",
       "      <th>Var2</th>\n",
       "      <th>Var3</th>\n",
       "      <th>Target_Var</th>\n",
       "    </tr>\n",
       "  </thead>\n",
       "  <tbody>\n",
       "    <tr>\n",
       "      <th>0</th>\n",
       "      <td>65</td>\n",
       "      <td>56</td>\n",
       "      <td>81</td>\n",
       "      <td>99</td>\n",
       "    </tr>\n",
       "    <tr>\n",
       "      <th>1</th>\n",
       "      <td>40</td>\n",
       "      <td>67</td>\n",
       "      <td>51</td>\n",
       "      <td>58</td>\n",
       "    </tr>\n",
       "    <tr>\n",
       "      <th>2</th>\n",
       "      <td>99</td>\n",
       "      <td>13</td>\n",
       "      <td>17</td>\n",
       "      <td>41</td>\n",
       "    </tr>\n",
       "    <tr>\n",
       "      <th>3</th>\n",
       "      <td>50</td>\n",
       "      <td>96</td>\n",
       "      <td>39</td>\n",
       "      <td>63</td>\n",
       "    </tr>\n",
       "    <tr>\n",
       "      <th>4</th>\n",
       "      <td>79</td>\n",
       "      <td>78</td>\n",
       "      <td>11</td>\n",
       "      <td>76</td>\n",
       "    </tr>\n",
       "  </tbody>\n",
       "</table>\n",
       "</div>"
      ],
      "text/plain": [
       "   Var1  Var2  Var3  Target_Var\n",
       "0    65    56    81          99\n",
       "1    40    67    51          58\n",
       "2    99    13    17          41\n",
       "3    50    96    39          63\n",
       "4    79    78    11          76"
      ]
     },
     "execution_count": 23,
     "metadata": {},
     "output_type": "execute_result"
    }
   ],
   "source": [
    "df = pd.DataFrame(np.random.randint(0,100,size=(10000, 4)), columns=['Var1', 'Var2', 'Var3', 'Target_Var'])\n",
    "df.head()"
   ]
  },
  {
   "cell_type": "markdown",
   "id": "18dfb9fe",
   "metadata": {},
   "source": [
    "Ensuite, nous l'avons divisé comme si nous voulions former un modèle d'apprentissage automatique"
   ]
  },
  {
   "cell_type": "code",
   "execution_count": 24,
   "id": "7cfdd24e",
   "metadata": {},
   "outputs": [],
   "source": [
    "x = df.drop('Target_Var', axis=1)\n",
    "y = df['Target_Var']\n",
    "\n",
    "trainX, testX, trainY, testY = train_test_split(x, y, test_size = 0.2)"
   ]
  },
  {
   "cell_type": "markdown",
   "id": "74e5d4ed",
   "metadata": {},
   "source": [
    "Maintenant, la mise à l'échelle est utilisée (ici StandardScaler) : "
   ]
  },
  {
   "cell_type": "code",
   "execution_count": 25,
   "id": "447767e6",
   "metadata": {},
   "outputs": [],
   "source": [
    "sc=StandardScaler()\n",
    "\n",
    "scaler = sc.fit(trainX)\n",
    "trainX_scaled = scaler.transform(trainX)\n",
    "testX_scaled = scaler.transform(testX)"
   ]
  },
  {
   "cell_type": "markdown",
   "id": "45070642",
   "metadata": {},
   "source": [
    "Nous sauvegardons le scaler sur un objet, adaptons cet objet à la partie formation et transformons la partie trainX et testX avec les métriques obtenues. Nous avons ici les fonctionnalités mises à l'échelle : "
   ]
  },
  {
   "cell_type": "code",
   "execution_count": 26,
   "id": "30585f8d",
   "metadata": {},
   "outputs": [
    {
     "data": {
      "text/plain": [
       "array([[-1.05249398,  0.95383853, -1.12942174],\n",
       "       [-1.40205814,  1.36848896,  0.29647859],\n",
       "       [-0.91266832,  0.19364607, -0.12085809],\n",
       "       ...,\n",
       "       [ 0.55550114,  0.85017592,  1.16593001],\n",
       "       [ 0.48558831,  0.91928432, -1.26853397],\n",
       "       [ 0.38071906,  1.16116374, -0.39908255]])"
      ]
     },
     "execution_count": 26,
     "metadata": {},
     "output_type": "execute_result"
    }
   ],
   "source": [
    "trainX_scaled"
   ]
  },
  {
   "cell_type": "markdown",
   "id": "7c843d77",
   "metadata": {},
   "source": [
    "Vous pouvez également vous épargner une étape dans la syntaxe si vous n'utilisez pas la fonction fit & transform individuellement mais ensemble !! Ne faites pas cela si vous envisagez de former un algorithme d'apprentissage automatique !! Utilisez la méthode précédente pour cela.\n",
    "\n",
    "Mais si vous souhaitez mettre à l'échelle un ensemble de données complet (par exemple pour une analyse de cluster), utilisez la fonction fit_transform : "
   ]
  },
  {
   "cell_type": "code",
   "execution_count": 27,
   "id": "aa3698c9",
   "metadata": {},
   "outputs": [],
   "source": [
    "sc=StandardScaler()\n",
    "\n",
    "df_scaled = sc.fit_transform(df)"
   ]
  },
  {
   "cell_type": "markdown",
   "id": "ef62569a",
   "metadata": {},
   "source": [
    "## Normaliser ou standardiser ?"
   ]
  },
  {
   "cell_type": "markdown",
   "id": "15777511",
   "metadata": {},
   "source": [
    "Les méthodes de mise à l'échelle peuvent être divisées en deux catégories : normalisation et standardisation.\n",
    "\n",
    "En guise de rappel, la normalisation est une technique de mise à l'échelle dans laquelle les valeurs sont décalées et redimensionnées de manière à ce qu'elles soient comprises entre 0 et 1, tandis que la normalisation centre les valeurs autour de la moyenne avec un écart type unitaire. Cela signifie que la valeur moyenne de l'attribut devient nulle et que la distribution résultante présente un écart type unitaire.\n",
    "\n",
    "En conséquence, les méthodes de mise à l'échelle présentées ci-dessus peuvent être classées comme suit : "
   ]
  },
  {
   "cell_type": "markdown",
   "id": "d1c72859",
   "metadata": {},
   "source": [
    "\n",
    "  -  Standardization: Standard Scaler\n",
    "-  Normalization: Min-Max Scaler & Robust Scaler\n"
   ]
  },
  {
   "cell_type": "markdown",
   "id": "6ba20154",
   "metadata": {},
   "source": [
    "La question est maintenant de savoir quand dois-je utiliser quelle technique de mise à l’échelle ? Il n’y a pas de réponse unique à cette question, mais on peut utiliser la distribution sous-jacente comme guide :\n",
    "\n",
    "    La normalisation est utile lorsque vous savez que la distribution de vos données ne suit pas une distribution gaussienne.\n",
    "    La normalisation, en revanche, peut être utile dans les cas où les données suivent une distribution gaussienne .\n",
    "\n",
    "Ma recommandation personnelle lors du développement de modèles d'apprentissage automatique est d'adapter d'abord le modèle à des données brutes, normalisées et standardisées, puis de comparer les performances pour obtenir les meilleurs résultats. "
   ]
  },
  {
   "cell_type": "code",
   "execution_count": null,
   "id": "05889a68",
   "metadata": {},
   "outputs": [],
   "source": []
  }
 ],
 "metadata": {
  "kernelspec": {
   "display_name": "Python 3 (ipykernel)",
   "language": "python",
   "name": "python3"
  },
  "language_info": {
   "codemirror_mode": {
    "name": "ipython",
    "version": 3
   },
   "file_extension": ".py",
   "mimetype": "text/x-python",
   "name": "python",
   "nbconvert_exporter": "python",
   "pygments_lexer": "ipython3",
   "version": "3.11.5"
  }
 },
 "nbformat": 4,
 "nbformat_minor": 5
}
