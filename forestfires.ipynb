{
 "cells": [
  {
   "cell_type": "markdown",
   "id": "d686c09b",
   "metadata": {},
   "source": [
    "##  Régression avec un réseau de neurones profonds (DNN)"
   ]
  },
  {
   "cell_type": "code",
   "execution_count": 1,
   "id": "ed6dbfb5",
   "metadata": {},
   "outputs": [
    {
     "name": "stdout",
     "output_type": "stream",
     "text": [
      "2.6.0\n"
     ]
    }
   ],
   "source": [
    "# chargement des bibliotheques .......\n",
    "\n",
    "import matplotlib.pyplot as plt\n",
    "import numpy as np\n",
    "import pandas as pd\n",
    "import tensorflow as tf\n",
    "from tensorflow import keras\n",
    "from tensorflow.keras import layers\n",
    "np.set_printoptions(precision=3, suppress=True)\n",
    "print(tf.__version__)\n"
   ]
  },
  {
   "cell_type": "markdown",
   "id": "555ec084",
   "metadata": {},
   "source": [
    "## Collecter et prétraiter les données¶"
   ]
  },
  {
   "cell_type": "markdown",
   "id": "e6b921bb",
   "metadata": {},
   "source": [
    "La première étape consiste à collecter et prétraiter les données appropriées pour garantir qu'elles sont dans un format que le réseau neuronal peut utiliser. Cela peut impliquer le nettoyage des données, la gestion des valeurs manquantes et la normalisation des données. "
   ]
  },
  {
   "cell_type": "code",
   "execution_count": 63,
   "id": "ca9d4d6b",
   "metadata": {},
   "outputs": [
    {
     "data": {
      "text/html": [
       "<div>\n",
       "<style scoped>\n",
       "    .dataframe tbody tr th:only-of-type {\n",
       "        vertical-align: middle;\n",
       "    }\n",
       "\n",
       "    .dataframe tbody tr th {\n",
       "        vertical-align: top;\n",
       "    }\n",
       "\n",
       "    .dataframe thead th {\n",
       "        text-align: right;\n",
       "    }\n",
       "</style>\n",
       "<table border=\"1\" class=\"dataframe\">\n",
       "  <thead>\n",
       "    <tr style=\"text-align: right;\">\n",
       "      <th></th>\n",
       "      <th>X</th>\n",
       "      <th>Y</th>\n",
       "      <th>month</th>\n",
       "      <th>day</th>\n",
       "      <th>FFMC</th>\n",
       "      <th>DMC</th>\n",
       "      <th>DC</th>\n",
       "      <th>ISI</th>\n",
       "      <th>temp</th>\n",
       "      <th>RH</th>\n",
       "      <th>wind</th>\n",
       "      <th>rain</th>\n",
       "      <th>area</th>\n",
       "    </tr>\n",
       "  </thead>\n",
       "  <tbody>\n",
       "    <tr>\n",
       "      <th>0</th>\n",
       "      <td>7</td>\n",
       "      <td>5</td>\n",
       "      <td>mar</td>\n",
       "      <td>fri</td>\n",
       "      <td>86.2</td>\n",
       "      <td>26.2</td>\n",
       "      <td>94.3</td>\n",
       "      <td>5.1</td>\n",
       "      <td>8.2</td>\n",
       "      <td>51</td>\n",
       "      <td>6.7</td>\n",
       "      <td>0</td>\n",
       "      <td>0</td>\n",
       "    </tr>\n",
       "    <tr>\n",
       "      <th>1</th>\n",
       "      <td>7</td>\n",
       "      <td>4</td>\n",
       "      <td>oct</td>\n",
       "      <td>tue</td>\n",
       "      <td>90.6</td>\n",
       "      <td>35.4</td>\n",
       "      <td>669.1</td>\n",
       "      <td>6.7</td>\n",
       "      <td>18</td>\n",
       "      <td>33</td>\n",
       "      <td>0.9</td>\n",
       "      <td>0</td>\n",
       "      <td>0</td>\n",
       "    </tr>\n",
       "    <tr>\n",
       "      <th>2</th>\n",
       "      <td>7</td>\n",
       "      <td>4</td>\n",
       "      <td>oct</td>\n",
       "      <td>sat</td>\n",
       "      <td>90.6</td>\n",
       "      <td>43.7</td>\n",
       "      <td>686.9</td>\n",
       "      <td>6.7</td>\n",
       "      <td>14.6</td>\n",
       "      <td>33</td>\n",
       "      <td>1.3</td>\n",
       "      <td>0</td>\n",
       "      <td>0</td>\n",
       "    </tr>\n",
       "    <tr>\n",
       "      <th>3</th>\n",
       "      <td>8</td>\n",
       "      <td>6</td>\n",
       "      <td>mar</td>\n",
       "      <td>fri</td>\n",
       "      <td>91.7</td>\n",
       "      <td>33.3</td>\n",
       "      <td>77.5</td>\n",
       "      <td>9</td>\n",
       "      <td>8.3</td>\n",
       "      <td>97</td>\n",
       "      <td>4</td>\n",
       "      <td>0.2</td>\n",
       "      <td>0</td>\n",
       "    </tr>\n",
       "    <tr>\n",
       "      <th>4</th>\n",
       "      <td>8</td>\n",
       "      <td>6</td>\n",
       "      <td>mar</td>\n",
       "      <td>sun</td>\n",
       "      <td>89.3</td>\n",
       "      <td>51.3</td>\n",
       "      <td>102.2</td>\n",
       "      <td>9.6</td>\n",
       "      <td>11.4</td>\n",
       "      <td>99</td>\n",
       "      <td>1.8</td>\n",
       "      <td>0</td>\n",
       "      <td>0</td>\n",
       "    </tr>\n",
       "  </tbody>\n",
       "</table>\n",
       "</div>"
      ],
      "text/plain": [
       "   X  Y month  day  FFMC   DMC     DC  ISI  temp  RH wind rain area\n",
       "0  7  5   mar  fri  86.2  26.2   94.3  5.1   8.2  51  6.7    0    0\n",
       "1  7  4   oct  tue  90.6  35.4  669.1  6.7    18  33  0.9    0    0\n",
       "2  7  4   oct  sat  90.6  43.7  686.9  6.7  14.6  33  1.3    0    0\n",
       "3  8  6   mar  fri  91.7  33.3   77.5    9   8.3  97    4  0.2    0\n",
       "4  8  6   mar  sun  89.3  51.3  102.2  9.6  11.4  99  1.8    0    0"
      ]
     },
     "execution_count": 63,
     "metadata": {},
     "output_type": "execute_result"
    }
   ],
   "source": [
    "# chargement du dataframe avec conversion decimal des virgules par des point...............\n",
    "\n",
    "\n",
    "dataset = pd.read_csv('forestfires.csv', delimiter=\",\", decimal=\",\")\n",
    "dataset.head()\n"
   ]
  },
  {
   "cell_type": "code",
   "execution_count": 64,
   "id": "95756913",
   "metadata": {},
   "outputs": [],
   "source": [
    "# L'ensemble de données contient des lectures enregistrées par les capteurs chimiques\n",
    "# pour plusieurs substances présentes dans l'air. \n",
    "\n",
    "# libelé de chaque colonnes dans l'ordre indiqué : \n",
    "\n",
    "# 0 X - Coordonnées spatiales sur l'axe X sur la carte du parc Montesinho : 1 à 9\n",
    "# 1 Y - Coordonnées spatiales sur l'axe y sur la carte du parc de Montesinho : 2 à 9\n",
    "# 2 mois - mois de l'année : \"jan\" à \"dec\"\n",
    "# 3  jour - jour de la semaine : « lundi » à « soleil »\n",
    "# 4 FFMC - Indice FFMC du système FWI : 18,7 à 96,20\n",
    "# 5 DMC - Indice DMC du système FWI : 1,1 à 291,3\n",
    "# 6 Indice DC - DC du système FWI : 7,9 à 860,6\n",
    "# 7 ISI - Indice ISI du système FWI : 0,0 à 56,10\n",
    "# 8 temp - température en degrés Celsius : 2,2 à 33,30\n",
    "# 9 HR - humidité relative en % : 15,0 à 100\n",
    "# 10 vent - vitesse du vent en km/h : 0,40 à 9,40\n",
    "# 11 pluie extérieure en mm/m2 : 0,0 à 6,4\n",
    "# 12 superficie - la superficie brûlée de la forêt (en ha) : 0,00 à 1\n",
    "\n",
    "\n",
    "\n",
    "# Cortez,Paulo and Morais,Anbal. (2008). \n",
    "# Forest Fires. UCI Machine Learning Repository. https://doi.org/10.24432/C5D88D.\n"
   ]
  },
  {
   "cell_type": "code",
   "execution_count": 65,
   "id": "d7cd0f45",
   "metadata": {},
   "outputs": [
    {
     "data": {
      "text/plain": [
       "(517, 13)"
      ]
     },
     "execution_count": 65,
     "metadata": {},
     "output_type": "execute_result"
    }
   ],
   "source": [
    "# nombre de lignes et de colonnes\n",
    "\n",
    "dataset.shape"
   ]
  },
  {
   "cell_type": "code",
   "execution_count": 74,
   "id": "4f8e4e52",
   "metadata": {},
   "outputs": [
    {
     "data": {
      "text/plain": [
       "X       float64\n",
       "Y       float64\n",
       "FFMC    float64\n",
       "DMC     float64\n",
       "DC      float64\n",
       "ISI     float64\n",
       "temp    float64\n",
       "RH      float64\n",
       "wind    float64\n",
       "rain    float64\n",
       "area    float64\n",
       "dtype: object"
      ]
     },
     "execution_count": 74,
     "metadata": {},
     "output_type": "execute_result"
    }
   ],
   "source": [
    "# Pour voir le type de données de chaque colonne. \n",
    "\n",
    "dataset.dtypes"
   ]
  },
  {
   "cell_type": "code",
   "execution_count": 73,
   "id": "70419025",
   "metadata": {},
   "outputs": [],
   "source": [
    "# pour transformer toutes les colonnes.........\n",
    "\n",
    "dataset=dataset.apply(pd.to_numeric)"
   ]
  },
  {
   "cell_type": "code",
   "execution_count": 69,
   "id": "54593cc7",
   "metadata": {},
   "outputs": [],
   "source": [
    "# pour convertir int en float............\n",
    "\n",
    "dataset['RH'] = dataset['RH'].astype(float)\n",
    "dataset['Y'] = dataset['Y'].astype(float)\n",
    "dataset['X'] = dataset['X'].astype(float)\n"
   ]
  },
  {
   "cell_type": "code",
   "execution_count": 70,
   "id": "c555286d",
   "metadata": {},
   "outputs": [],
   "source": [
    "# suppression des colonnes inutiles............\n",
    "\n",
    "dataset=dataset.drop(['month','day'], axis=1)"
   ]
  },
  {
   "cell_type": "code",
   "execution_count": 53,
   "id": "cc519879",
   "metadata": {},
   "outputs": [
    {
     "data": {
      "text/plain": [
       "X       0\n",
       "Y       0\n",
       "FFMC    0\n",
       "DMC     0\n",
       "DC      0\n",
       "ISI     0\n",
       "temp    0\n",
       "RH      0\n",
       "wind    0\n",
       "rain    0\n",
       "area    0\n",
       "dtype: int64"
      ]
     },
     "execution_count": 53,
     "metadata": {},
     "output_type": "execute_result"
    }
   ],
   "source": [
    "# pour visualiser les lignes NaN................\n",
    "\n",
    "dataset.isnull().sum()"
   ]
  },
  {
   "cell_type": "code",
   "execution_count": 7,
   "id": "98c4f0ec",
   "metadata": {},
   "outputs": [],
   "source": [
    "# pour supprimer les NaN..............\n",
    "\n",
    "dataset=dataset.dropna()"
   ]
  },
  {
   "cell_type": "code",
   "execution_count": 76,
   "id": "21bae23d",
   "metadata": {},
   "outputs": [
    {
     "data": {
      "text/plain": [
       "X       0\n",
       "Y       0\n",
       "FFMC    0\n",
       "DMC     0\n",
       "DC      0\n",
       "ISI     0\n",
       "temp    0\n",
       "RH      0\n",
       "wind    0\n",
       "rain    0\n",
       "area    0\n",
       "dtype: int64"
      ]
     },
     "execution_count": 76,
     "metadata": {},
     "output_type": "execute_result"
    }
   ],
   "source": [
    "# pour visualiser les lignes NaN................\n",
    "\n",
    "dataset.isnull().sum()"
   ]
  },
  {
   "cell_type": "code",
   "execution_count": 75,
   "id": "1177692c",
   "metadata": {},
   "outputs": [
    {
     "data": {
      "text/html": [
       "<div>\n",
       "<style scoped>\n",
       "    .dataframe tbody tr th:only-of-type {\n",
       "        vertical-align: middle;\n",
       "    }\n",
       "\n",
       "    .dataframe tbody tr th {\n",
       "        vertical-align: top;\n",
       "    }\n",
       "\n",
       "    .dataframe thead th {\n",
       "        text-align: right;\n",
       "    }\n",
       "</style>\n",
       "<table border=\"1\" class=\"dataframe\">\n",
       "  <thead>\n",
       "    <tr style=\"text-align: right;\">\n",
       "      <th></th>\n",
       "      <th>X</th>\n",
       "      <th>Y</th>\n",
       "      <th>FFMC</th>\n",
       "      <th>DMC</th>\n",
       "      <th>DC</th>\n",
       "      <th>ISI</th>\n",
       "      <th>temp</th>\n",
       "      <th>RH</th>\n",
       "      <th>wind</th>\n",
       "      <th>rain</th>\n",
       "      <th>area</th>\n",
       "    </tr>\n",
       "  </thead>\n",
       "  <tbody>\n",
       "    <tr>\n",
       "      <th>0</th>\n",
       "      <td>7.0</td>\n",
       "      <td>5.0</td>\n",
       "      <td>86.2</td>\n",
       "      <td>26.2</td>\n",
       "      <td>94.3</td>\n",
       "      <td>5.1</td>\n",
       "      <td>8.2</td>\n",
       "      <td>51.0</td>\n",
       "      <td>6.7</td>\n",
       "      <td>0.0</td>\n",
       "      <td>0.0</td>\n",
       "    </tr>\n",
       "    <tr>\n",
       "      <th>1</th>\n",
       "      <td>7.0</td>\n",
       "      <td>4.0</td>\n",
       "      <td>90.6</td>\n",
       "      <td>35.4</td>\n",
       "      <td>669.1</td>\n",
       "      <td>6.7</td>\n",
       "      <td>18.0</td>\n",
       "      <td>33.0</td>\n",
       "      <td>0.9</td>\n",
       "      <td>0.0</td>\n",
       "      <td>0.0</td>\n",
       "    </tr>\n",
       "    <tr>\n",
       "      <th>2</th>\n",
       "      <td>7.0</td>\n",
       "      <td>4.0</td>\n",
       "      <td>90.6</td>\n",
       "      <td>43.7</td>\n",
       "      <td>686.9</td>\n",
       "      <td>6.7</td>\n",
       "      <td>14.6</td>\n",
       "      <td>33.0</td>\n",
       "      <td>1.3</td>\n",
       "      <td>0.0</td>\n",
       "      <td>0.0</td>\n",
       "    </tr>\n",
       "    <tr>\n",
       "      <th>3</th>\n",
       "      <td>8.0</td>\n",
       "      <td>6.0</td>\n",
       "      <td>91.7</td>\n",
       "      <td>33.3</td>\n",
       "      <td>77.5</td>\n",
       "      <td>9.0</td>\n",
       "      <td>8.3</td>\n",
       "      <td>97.0</td>\n",
       "      <td>4.0</td>\n",
       "      <td>0.2</td>\n",
       "      <td>0.0</td>\n",
       "    </tr>\n",
       "    <tr>\n",
       "      <th>4</th>\n",
       "      <td>8.0</td>\n",
       "      <td>6.0</td>\n",
       "      <td>89.3</td>\n",
       "      <td>51.3</td>\n",
       "      <td>102.2</td>\n",
       "      <td>9.6</td>\n",
       "      <td>11.4</td>\n",
       "      <td>99.0</td>\n",
       "      <td>1.8</td>\n",
       "      <td>0.0</td>\n",
       "      <td>0.0</td>\n",
       "    </tr>\n",
       "  </tbody>\n",
       "</table>\n",
       "</div>"
      ],
      "text/plain": [
       "     X    Y  FFMC   DMC     DC  ISI  temp    RH  wind  rain  area\n",
       "0  7.0  5.0  86.2  26.2   94.3  5.1   8.2  51.0   6.7   0.0   0.0\n",
       "1  7.0  4.0  90.6  35.4  669.1  6.7  18.0  33.0   0.9   0.0   0.0\n",
       "2  7.0  4.0  90.6  43.7  686.9  6.7  14.6  33.0   1.3   0.0   0.0\n",
       "3  8.0  6.0  91.7  33.3   77.5  9.0   8.3  97.0   4.0   0.2   0.0\n",
       "4  8.0  6.0  89.3  51.3  102.2  9.6  11.4  99.0   1.8   0.0   0.0"
      ]
     },
     "execution_count": 75,
     "metadata": {},
     "output_type": "execute_result"
    }
   ],
   "source": [
    "# pour verifier suppression..........\n",
    "\n",
    "dataset.head()"
   ]
  },
  {
   "cell_type": "code",
   "execution_count": 77,
   "id": "e1ccf44a",
   "metadata": {},
   "outputs": [
    {
     "name": "stdout",
     "output_type": "stream",
     "text": [
      "Nombre de lignes l entrainement (414, 11)\n",
      "Nombre de lignes pour les test (103, 11)\n"
     ]
    }
   ],
   "source": [
    "# divisions les données en un ensembles d'entrainement et de test...............\n",
    "\n",
    "# utilisation de l'ensemble des données de test pour l'évaluation finale.........\n",
    "\n",
    "train_dataset = dataset.sample(frac=0.8, random_state=0)\n",
    "test_dataset = dataset.drop(train_dataset.index)\n",
    "\n",
    "print('Nombre de lignes l entrainement',train_dataset.shape)\n",
    "print('Nombre de lignes pour les test', test_dataset.shape)"
   ]
  },
  {
   "cell_type": "code",
   "execution_count": 78,
   "id": "441faad6",
   "metadata": {},
   "outputs": [],
   "source": [
    "# séparation  les entités des étiquettes...........\n",
    "# séparation de la valeur cible des caractéristiques ( features )..........\n",
    "# c'est cette cible que le modele va devoir prédire.\n",
    "\n",
    "train_features = train_dataset.copy()\n",
    "test_features = test_dataset.copy()\n",
    "\n",
    "train_labels = train_features.pop('temp') # la cible est la Température \n",
    "test_labels = test_features.pop('temp') # la cible est la Température"
   ]
  },
  {
   "cell_type": "markdown",
   "id": "31a28467",
   "metadata": {},
   "source": [
    "Dans l'analyse de régression utilisant un DNN, l'objectif est d'apprendre une fonction qui mappe les caractéristiques d'entrée à la sortie, de sorte que les prédictions faites par le modèle soient aussi précises que possible. Les caractéristiques d'entrée passent par la couche d'entrée du DNN puis sont traitées par les couches cachées, qui utilisent des fonctions d'activation non linéaires pour apprendre les relations complexes dans les données. La couche de sortie du DNN produit une prédiction pour la variable dépendante basée sur les caractéristiques d'entrée traitées"
   ]
  },
  {
   "cell_type": "markdown",
   "id": "fd1dd231",
   "metadata": {},
   "source": [
    "## Définir l'architecture du mdele\n",
    "\n",
    "L'étape suivante consiste à définir l'architecture du réseau de neurones. Cela inclut la sélection du type de couches (couches denses ou convolutives), du nombre de neurones dans chaque couche et des fonctions d'activation à utiliser.\n"
   ]
  },
  {
   "cell_type": "markdown",
   "id": "8efbba94",
   "metadata": {},
   "source": [
    "## Compiler le modele\n",
    "\n",
    "Une fois l'architecture définie, il faut compiler le modèle. Cela implique de spécifier la fonction de perte, l'optimiseur et toutes les métriques que nous utiliserons pour évaluer le modèle.\n"
   ]
  },
  {
   "cell_type": "code",
   "execution_count": 79,
   "id": "bc456144",
   "metadata": {},
   "outputs": [],
   "source": [
    "# normalisation les données avec (tf.keras.layers.Normalization)...........\n",
    "\n",
    "\n",
    "normalizer = tf.keras.layers.Normalization(axis=-1)"
   ]
  },
  {
   "cell_type": "code",
   "execution_count": 80,
   "id": "cedc45ba",
   "metadata": {},
   "outputs": [
    {
     "name": "stderr",
     "output_type": "stream",
     "text": [
      "2023-11-28 23:10:30.767583: I tensorflow/compiler/mlir/mlir_graph_optimization_pass.cc:185] None of the MLIR Optimization Passes are enabled (registered 2)\n"
     ]
    }
   ],
   "source": [
    "normalizer.adapt(np.array(train_features))"
   ]
  },
  {
   "cell_type": "code",
   "execution_count": 81,
   "id": "fc09e543",
   "metadata": {},
   "outputs": [],
   "source": [
    "#  Régression avec un réseau de neurones profond (DNN)..........\n",
    "# modèles DNN à entrées multiples.\n",
    "\n",
    "\n",
    "def build_and_compile_model(norm):\n",
    "  model = keras.Sequential([\n",
    "      norm,\n",
    "      layers.Dense(64, activation='relu'),# 2 couches Dense avec fonction activation relu\n",
    "      layers.Dense(64, activation='relu'),\n",
    "      layers.Dense(1) # une couche Dense linéaire à sortie unique\n",
    "  ])\n",
    "\n",
    "  model.compile(loss='mean_absolute_error',\n",
    "                optimizer=tf.keras.optimizers.Adam(0.001))\n",
    "  return model\n"
   ]
  },
  {
   "cell_type": "code",
   "execution_count": 82,
   "id": "60a08ab7",
   "metadata": {},
   "outputs": [
    {
     "name": "stdout",
     "output_type": "stream",
     "text": [
      "Model: \"sequential\"\n",
      "_________________________________________________________________\n",
      "Layer (type)                 Output Shape              Param #   \n",
      "=================================================================\n",
      "normalization_5 (Normalizati (None, 10)                21        \n",
      "_________________________________________________________________\n",
      "dense (Dense)                (None, 64)                704       \n",
      "_________________________________________________________________\n",
      "dense_1 (Dense)              (None, 64)                4160      \n",
      "_________________________________________________________________\n",
      "dense_2 (Dense)              (None, 1)                 65        \n",
      "=================================================================\n",
      "Total params: 4,950\n",
      "Trainable params: 4,929\n",
      "Non-trainable params: 21\n",
      "_________________________________________________________________\n"
     ]
    }
   ],
   "source": [
    "# Régression utilisant un DNN et plusieurs entrées\n",
    "\n",
    "# Répétez le processus précédent en utilisant toutes les entrées.\n",
    "# Les performances du modèle s'améliorent légèrement sur l'ensemble de données de validation.\n",
    "\n",
    "dnn_model = build_and_compile_model(normalizer)\n",
    "dnn_model.summary()"
   ]
  },
  {
   "cell_type": "code",
   "execution_count": 83,
   "id": "e0d6ddac",
   "metadata": {},
   "outputs": [],
   "source": [
    "# fonction d affichage....\n",
    "\n",
    "def plot_loss(history):\n",
    "  plt.plot(history.history['loss'], label='MAE')\n",
    "  plt.plot(history.history['val_loss'], label='val_MAE')\n",
    "  plt.ylim([0, 15])\n",
    "  plt.xlabel('Epoch')\n",
    "  plt.ylabel('Erreur en $ [T]')\n",
    "  plt.legend()\n",
    "  plt.grid(True)"
   ]
  },
  {
   "cell_type": "markdown",
   "id": "6df652b3",
   "metadata": {},
   "source": [
    "## Entrainer le modele\n",
    "\n",
    "L'étape suivante consiste à entraîner le modèle à l'aide des données prétraitées. Cela implique d'introduire les données dans le modèle et d'ajuster les poids et les biais des neurones du réseau pour minimiser la fonction de perte.\n"
   ]
  },
  {
   "cell_type": "code",
   "execution_count": 84,
   "id": "f55cf2f6",
   "metadata": {},
   "outputs": [
    {
     "data": {
      "image/png": "[encoded data removed]",
      "text/plain": [
       "<Figure size 432x288 with 1 Axes>"
      ]
     },
     "metadata": {
      "needs_background": "light"
     },
     "output_type": "display_data"
    }
   ],
   "source": [
    "# entrainement ....................\n",
    "\n",
    "history = dnn_model.fit(\n",
    "    train_features,\n",
    "    train_labels,\n",
    "    validation_split=0.2,\n",
    "    verbose=0, epochs=100)\n",
    "\n",
    "\n",
    "plot_loss(history)"
   ]
  },
  {
   "cell_type": "markdown",
   "id": "f42c4245",
   "metadata": {},
   "source": [
    "## Evaluer le modele\n",
    "\n",
    "Une fois le modèle entraîné, il doit être évalué pour déterminer ses performances. Cela peut impliquer l'utilisation d'un ensemble de données distinct (ou d'un sous-ensemble des données d'entraînement) pour évaluer la capacité du modèle à effectuer des prédictions précises.\n"
   ]
  },
  {
   "cell_type": "code",
   "execution_count": 85,
   "id": "76d22227",
   "metadata": {},
   "outputs": [
    {
     "data": {
      "text/plain": [
       "{'dnn_model': 2.5887606143951416}"
      ]
     },
     "execution_count": 85,
     "metadata": {},
     "output_type": "execute_result"
    }
   ],
   "source": [
    "# résultats de la MAE sur l'ensemble de test :\n",
    "\n",
    "test_resultats = {}\n",
    "\n",
    "test_resultats['dnn_model'] = dnn_model.evaluate(test_features, test_labels, verbose=0)\n",
    "test_resultats"
   ]
  },
  {
   "cell_type": "markdown",
   "id": "2b6d14f1",
   "metadata": {},
   "source": [
    "## Faire des prédiction\n",
    "\n",
    "Une fois le modèle affiné, nous pouvons l'utiliser pour prédire de nouvelles données.\n"
   ]
  },
  {
   "cell_type": "code",
   "execution_count": 87,
   "id": "63237a32",
   "metadata": {},
   "outputs": [
    {
     "name": "stdout",
     "output_type": "stream",
     "text": [
      "prédiction de la Température  [[14.251]\n",
      " [27.758]\n",
      " [12.793]\n",
      " [20.375]]\n",
      "Température  attendue 25    16.3\n",
      "28    30.2\n",
      "31    11.2\n",
      "32    20.6\n",
      "Name: temp, dtype: float64\n"
     ]
    }
   ],
   "source": [
    "#  prédiction...\n",
    "\n",
    "y_pred = dnn_model.predict(test_features)\n",
    "print('prédiction de la Température ',y_pred[1:5])\n",
    "print('Température  attendue',test_labels[1:5])"
   ]
  },
  {
   "cell_type": "code",
   "execution_count": 88,
   "id": "2ca64cec",
   "metadata": {},
   "outputs": [
    {
     "data": {
      "text/plain": [
       "array([[14.251],\n",
       "       [27.758],\n",
       "       [12.793],\n",
       "       [20.375]], dtype=float32)"
      ]
     },
     "execution_count": 88,
     "metadata": {},
     "output_type": "execute_result"
    }
   ],
   "source": [
    "y_pred[1:5]"
   ]
  },
  {
   "cell_type": "code",
   "execution_count": 89,
   "id": "ec3ad7fd",
   "metadata": {},
   "outputs": [
    {
     "data": {
      "text/plain": [
       "25    16.3\n",
       "28    30.2\n",
       "31    11.2\n",
       "32    20.6\n",
       "Name: temp, dtype: float64"
      ]
     },
     "execution_count": 89,
     "metadata": {},
     "output_type": "execute_result"
    }
   ],
   "source": [
    "test_labels[1:5]"
   ]
  },
  {
   "cell_type": "code",
   "execution_count": null,
   "id": "a3a78ec6",
   "metadata": {},
   "outputs": [],
   "source": []
  }
 ],
 "metadata": {
  "kernelspec": {
   "display_name": "Python 3 (ipykernel)",
   "language": "python",
   "name": "python3"
  },
  "language_info": {
   "codemirror_mode": {
    "name": "ipython",
    "version": 3
   },
   "file_extension": ".py",
   "mimetype": "text/x-python",
   "name": "python",
   "nbconvert_exporter": "python",
   "pygments_lexer": "ipython3",
   "version": "3.8.11"
  }
 },
 "nbformat": 4,
 "nbformat_minor": 5
}
