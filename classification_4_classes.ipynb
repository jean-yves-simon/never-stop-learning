{
 "cells": [
  {
   "cell_type": "code",
   "execution_count": 1,
   "id": "041675ba",
   "metadata": {},
   "outputs": [
    {
     "name": "stderr",
     "output_type": "stream",
     "text": [
      "2023-08-27 16:15:13.267909: I tensorflow/tsl/cuda/cudart_stub.cc:28] Could not find cuda drivers on your machine, GPU will not be used.\n",
      "2023-08-27 16:15:13.589012: I tensorflow/tsl/cuda/cudart_stub.cc:28] Could not find cuda drivers on your machine, GPU will not be used.\n",
      "2023-08-27 16:15:13.591028: I tensorflow/core/platform/cpu_feature_guard.cc:182] This TensorFlow binary is optimized to use available CPU instructions in performance-critical operations.\n",
      "To enable the following instructions: AVX2 FMA, in other operations, rebuild TensorFlow with the appropriate compiler flags.\n",
      "2023-08-27 16:15:15.044304: W tensorflow/compiler/tf2tensorrt/utils/py_utils.cc:38] TF-TRT Warning: Could not find TensorRT\n"
     ]
    },
    {
     "name": "stdout",
     "output_type": "stream",
     "text": [
      "2.12.0\n"
     ]
    }
   ],
   "source": [
    "import numpy as np\n",
    "import matplotlib.pyplot as plt\n",
    "from PIL import Image\n",
    "from keras.layers import Dense, Dropout\n",
    "from matplotlib.pyplot import imshow\n",
    "%matplotlib inline\n",
    "from tensorflow.keras.optimizers import Adam\n",
    "from tensorflow.keras.models import Sequential\n",
    "from tensorflow import keras\n",
    "from tensorflow.keras.layers import Activation, Dense\n",
    "print (keras.__version__)\n",
    "from sklearn.preprocessing import MinMaxScaler\n",
    "import keras\n",
    "import pandas\n",
    "from PIL import Image\n",
    "from matplotlib.pyplot import imshow\n",
    "from keras import utils as np_utils\n",
    "from keras.datasets import mnist\n",
    "from keras.models import Sequential\n",
    "from keras.layers import Dense, Dropout\n",
    "from tensorflow.keras.optimizers import RMSprop\n",
    "import numpy as np\n",
    "from sklearn.metrics import accuracy_score\n",
    "from sklearn.model_selection import train_test_split\n",
    "from sklearn import preprocessing\n",
    "import tensorflow as tf\n",
    "from tensorflow.keras import layers\n",
    "from tensorflow.keras.utils import to_categorical\n",
    "from sklearn.preprocessing import MinMaxScaler"
   ]
  },
  {
   "cell_type": "markdown",
   "id": "4b52edf7",
   "metadata": {},
   "source": [
    "#  Chargement des jeux de données"
   ]
  },
  {
   "cell_type": "code",
   "execution_count": 3,
   "id": "cf54a78a",
   "metadata": {
    "execution": {
     "iopub.execute_input": "2022-12-30T13:50:16.716552Z",
     "iopub.status.busy": "2022-12-30T13:50:16.715544Z",
     "iopub.status.idle": "2022-12-30T13:50:16.724028Z",
     "shell.execute_reply": "2022-12-30T13:50:16.721982Z"
    },
    "papermill": {
     "duration": 0.022343,
     "end_time": "2022-12-30T13:50:16.727275",
     "exception": false,
     "start_time": "2022-12-30T13:50:16.704932",
     "status": "completed"
    },
    "tags": []
   },
   "outputs": [],
   "source": [
    "from keras.datasets import mnist"
   ]
  },
  {
   "cell_type": "code",
   "execution_count": 4,
   "id": "712b89d9",
   "metadata": {},
   "outputs": [],
   "source": [
    "(images_entrainement,labels_entrainement),(images_test,labels_test)=mnist.load_data()"
   ]
  },
  {
   "cell_type": "code",
   "execution_count": 5,
   "id": "764e751d",
   "metadata": {},
   "outputs": [
    {
     "data": {
      "text/plain": [
       "(60000, 28, 28)"
      ]
     },
     "execution_count": 5,
     "metadata": {},
     "output_type": "execute_result"
    }
   ],
   "source": [
    "images_entrainement.shape"
   ]
  },
  {
   "cell_type": "code",
   "execution_count": 7,
   "id": "92f93c58",
   "metadata": {},
   "outputs": [
    {
     "data": {
      "text/plain": [
       "(60000,)"
      ]
     },
     "execution_count": 7,
     "metadata": {},
     "output_type": "execute_result"
    }
   ],
   "source": [
    "labels_entrainement.shape"
   ]
  },
  {
   "cell_type": "code",
   "execution_count": 8,
   "id": "5921a5b6",
   "metadata": {},
   "outputs": [
    {
     "data": {
      "text/plain": [
       "(10000, 28, 28)"
      ]
     },
     "execution_count": 8,
     "metadata": {},
     "output_type": "execute_result"
    }
   ],
   "source": [
    "images_test.shape"
   ]
  },
  {
   "cell_type": "code",
   "execution_count": 9,
   "id": "6604f2ec",
   "metadata": {},
   "outputs": [
    {
     "data": {
      "text/plain": [
       "(10000,)"
      ]
     },
     "execution_count": 9,
     "metadata": {},
     "output_type": "execute_result"
    }
   ],
   "source": [
    "labels_test.shape"
   ]
  },
  {
   "cell_type": "markdown",
   "id": "996ab327",
   "metadata": {},
   "source": [
    "# Préparation des données"
   ]
  },
  {
   "cell_type": "code",
   "execution_count": 11,
   "id": "c649c033",
   "metadata": {
    "execution": {
     "iopub.execute_input": "2022-12-30T13:50:18.781674Z",
     "iopub.status.busy": "2022-12-30T13:50:18.780061Z",
     "iopub.status.idle": "2022-12-30T13:50:18.814557Z",
     "shell.execute_reply": "2022-12-30T13:50:18.812242Z"
    },
    "papermill": {
     "duration": 0.050182,
     "end_time": "2022-12-30T13:50:18.818819",
     "exception": false,
     "start_time": "2022-12-30T13:50:18.768637",
     "status": "completed"
    },
    "tags": []
   },
   "outputs": [],
   "source": [
    "# Nous allons choisir arbitrairement des catégories de chiffres pour déveloper un modele d'apprentissage\n",
    "# capable de les identifiers.\n",
    "# Cela correspond à effectuer une classification multiclasses types 4 classes\n",
    "# Le code ci-dessous isolent tous les 3 et 6 et 8 et 9 et les stock dans deux nouvelles variables  \n",
    "\n",
    "\n",
    "images_entrainement_new, labels_entrainement_new = images_entrainement[(labels_entrainement==3) | (labels_entrainement==6) | (labels_entrainement==8) | (labels_entrainement==9) ],\\\n",
    "labels_entrainement[(labels_entrainement==3) | (labels_entrainement==6) | (labels_entrainement==8) |  (labels_entrainement==9) ]\n",
    "\n"
   ]
  },
  {
   "cell_type": "code",
   "execution_count": 13,
   "id": "ec9ad5ea",
   "metadata": {},
   "outputs": [
    {
     "data": {
      "text/plain": [
       "(23849, 28, 28)"
      ]
     },
     "execution_count": 13,
     "metadata": {},
     "output_type": "execute_result"
    }
   ],
   "source": [
    "images_entrainement_new.shape"
   ]
  },
  {
   "cell_type": "code",
   "execution_count": 12,
   "id": "d9c767f5",
   "metadata": {
    "execution": {
     "iopub.execute_input": "2022-12-30T13:50:18.841366Z",
     "iopub.status.busy": "2022-12-30T13:50:18.840802Z",
     "iopub.status.idle": "2022-12-30T13:50:18.856647Z",
     "shell.execute_reply": "2022-12-30T13:50:18.854435Z"
    },
    "papermill": {
     "duration": 0.030694,
     "end_time": "2022-12-30T13:50:18.860243",
     "exception": false,
     "start_time": "2022-12-30T13:50:18.829549",
     "status": "completed"
    },
    "tags": []
   },
   "outputs": [],
   "source": [
    "# Meme opérations pour les données de test\n",
    "\n",
    "images_test_new, labels_test_new = images_test[(labels_test==3) | (labels_test==6) | (labels_test==8) | (labels_test==9) ],\\\n",
    "labels_test[(labels_test==3) | (labels_test==6) | (labels_test==8) |  (labels_test==9) ]\n",
    "\n"
   ]
  },
  {
   "cell_type": "code",
   "execution_count": 15,
   "id": "e5430bd6",
   "metadata": {},
   "outputs": [
    {
     "data": {
      "text/plain": [
       "(3951, 28, 28)"
      ]
     },
     "execution_count": 15,
     "metadata": {},
     "output_type": "execute_result"
    }
   ],
   "source": [
    "images_test_new.shape"
   ]
  },
  {
   "cell_type": "code",
   "execution_count": 16,
   "id": "85f805ab",
   "metadata": {},
   "outputs": [],
   "source": [
    "# Données d'entrainement:\n",
    "# Normalisation\n",
    "\n",
    "images_entrainement_final = images_entrainement_new.reshape(23849, 784)\n",
    "images_entrainement_final = images_entrainement_final.astype('float32')/255\n"
   ]
  },
  {
   "cell_type": "code",
   "execution_count": 17,
   "id": "3379c8e8",
   "metadata": {},
   "outputs": [],
   "source": [
    "# Données de test:\n",
    "# Normalisation \n",
    "\n",
    "images_test_final = images_test_new.reshape(3951, 784)\n",
    "images_test_final = images_test_final.astype('float32')/255\n"
   ]
  },
  {
   "cell_type": "code",
   "execution_count": 18,
   "id": "df3ff98a",
   "metadata": {},
   "outputs": [
    {
     "data": {
      "text/plain": [
       "(23849, 784)"
      ]
     },
     "execution_count": 18,
     "metadata": {},
     "output_type": "execute_result"
    }
   ],
   "source": [
    "images_entrainement_final.shape"
   ]
  },
  {
   "cell_type": "code",
   "execution_count": 19,
   "id": "30c5a9d7",
   "metadata": {},
   "outputs": [
    {
     "data": {
      "text/plain": [
       "(3951, 784)"
      ]
     },
     "execution_count": 19,
     "metadata": {},
     "output_type": "execute_result"
    }
   ],
   "source": [
    "images_test_final.shape"
   ]
  },
  {
   "cell_type": "code",
   "execution_count": 20,
   "id": "58871ccc",
   "metadata": {},
   "outputs": [],
   "source": [
    "# Données d'entrainement \n",
    "\n",
    "# Encodage des étiquettes\n",
    "from sklearn import preprocessing\n",
    "import tensorflow as tf\n",
    "\n",
    "# Encodage des etiquettes afin qu'elles soit utilisable par le réseau de neurones\n",
    "le = preprocessing.LabelEncoder()\n",
    "\n",
    "# Encodage des chiffres\n",
    "labels_entrainement_new_fit=le.fit_transform(labels_entrainement_new)\n",
    "catego_labels_entrainement_new=tf.keras.utils.to_categorical(labels_entrainement_new_fit,num_classes=4,dtype='float32')\n"
   ]
  },
  {
   "cell_type": "code",
   "execution_count": 21,
   "id": "d728a797",
   "metadata": {},
   "outputs": [],
   "source": [
    "# Données de test\n",
    "\n",
    "# Encodage des étiquettes\n",
    "from sklearn import preprocessing\n",
    "import tensorflow as tf\n",
    "\n",
    "# Encodage des etiquettes afin qu'elles soit utilisable par le réseau de neurones\n",
    "le = preprocessing.LabelEncoder()\n",
    "\n",
    "# Encodage des chiffres.\n",
    "labels_test_new_fit=le.fit_transform(labels_test_new)\n",
    "catego_labels_test_new=tf.keras.utils.to_categorical(labels_test_new_fit,num_classes=4,dtype='float32')\n"
   ]
  },
  {
   "cell_type": "markdown",
   "id": "78c98845",
   "metadata": {},
   "source": [
    "# Architecture de reseau"
   ]
  },
  {
   "cell_type": "code",
   "execution_count": 23,
   "id": "222a649b",
   "metadata": {},
   "outputs": [],
   "source": [
    "\n",
    "\n",
    "model = Sequential([\n",
    "   Dense(16, activation='relu', input_shape=(784,)),\n",
    "   Dropout(rate=0.05),\n",
    "   Dense(16, activation='relu'),\n",
    "   Dropout(rate=0.05),\n",
    "   Dense(16, activation='relu'),\n",
    "   Dense(4, activation='softmax')\n",
    "])\n"
   ]
  },
  {
   "cell_type": "code",
   "execution_count": 25,
   "id": "e8c689c8",
   "metadata": {},
   "outputs": [
    {
     "name": "stdout",
     "output_type": "stream",
     "text": [
      "Model: \"sequential_1\"\n",
      "_________________________________________________________________\n",
      " Layer (type)                Output Shape              Param #   \n",
      "=================================================================\n",
      " dense_4 (Dense)             (None, 16)                12560     \n",
      "                                                                 \n",
      " dropout_2 (Dropout)         (None, 16)                0         \n",
      "                                                                 \n",
      " dense_5 (Dense)             (None, 16)                272       \n",
      "                                                                 \n",
      " dropout_3 (Dropout)         (None, 16)                0         \n",
      "                                                                 \n",
      " dense_6 (Dense)             (None, 16)                272       \n",
      "                                                                 \n",
      " dense_7 (Dense)             (None, 4)                 68        \n",
      "                                                                 \n",
      "=================================================================\n",
      "Total params: 13,172\n",
      "Trainable params: 13,172\n",
      "Non-trainable params: 0\n",
      "_________________________________________________________________\n"
     ]
    }
   ],
   "source": [
    "model.summary()"
   ]
  },
  {
   "cell_type": "markdown",
   "id": "2d732e72",
   "metadata": {},
   "source": [
    "# Compilation du modele"
   ]
  },
  {
   "cell_type": "code",
   "execution_count": 26,
   "id": "c142cb86",
   "metadata": {},
   "outputs": [],
   "source": [
    "model.compile(optimizer='Adam',\n",
    "              loss='categorical_crossentropy',\n",
    "              metrics=['accuracy'])"
   ]
  },
  {
   "cell_type": "markdown",
   "id": "10cac019",
   "metadata": {},
   "source": [
    "# Entrainement du modele"
   ]
  },
  {
   "cell_type": "code",
   "execution_count": 27,
   "id": "cf9bbf28",
   "metadata": {},
   "outputs": [
    {
     "name": "stdout",
     "output_type": "stream",
     "text": [
      "Epoch 1/3\n"
     ]
    },
    {
     "name": "stderr",
     "output_type": "stream",
     "text": [
      "2023-08-27 16:34:21.118442: W tensorflow/tsl/framework/cpu_allocator_impl.cc:83] Allocation of 52352384 exceeds 10% of free system memory.\n"
     ]
    },
    {
     "name": "stdout",
     "output_type": "stream",
     "text": [
      "249/261 [===========================>..] - ETA: 0s - loss: 0.4855 - accuracy: 0.8114"
     ]
    },
    {
     "name": "stderr",
     "output_type": "stream",
     "text": [
      "2023-08-27 16:34:23.627812: W tensorflow/tsl/framework/cpu_allocator_impl.cc:83] Allocation of 22438080 exceeds 10% of free system memory.\n"
     ]
    },
    {
     "name": "stdout",
     "output_type": "stream",
     "text": [
      "261/261 [==============================] - 3s 6ms/step - loss: 0.4729 - accuracy: 0.8168 - val_loss: 0.1518 - val_accuracy: 0.9551\n",
      "Epoch 2/3\n",
      "261/261 [==============================] - 2s 7ms/step - loss: 0.1645 - accuracy: 0.9515 - val_loss: 0.1183 - val_accuracy: 0.9665\n",
      "Epoch 3/3\n",
      "261/261 [==============================] - 1s 4ms/step - loss: 0.1230 - accuracy: 0.9634 - val_loss: 0.0969 - val_accuracy: 0.9701\n"
     ]
    }
   ],
   "source": [
    "\n",
    "history=model.fit(\n",
    "  x=images_entrainement_final,\n",
    "  y=catego_labels_entrainement_new,\n",
    "  shuffle=True,\n",
    "  epochs=3,\n",
    "  batch_size=64,\n",
    "  validation_split=0.3\n",
    ")\n"
   ]
  },
  {
   "cell_type": "code",
   "execution_count": 28,
   "id": "d1f7829e",
   "metadata": {},
   "outputs": [
    {
     "name": "stdout",
     "output_type": "stream",
     "text": [
      "124/124 [==============================] - 0s 2ms/step - loss: 0.0952 - accuracy: 0.9696\n"
     ]
    }
   ],
   "source": [
    "# Pour faire une évaluation\n",
    "\n",
    "evaluation = model.evaluate(images_test_final, catego_labels_test_new)\n"
   ]
  },
  {
   "cell_type": "markdown",
   "id": "4596fd77",
   "metadata": {},
   "source": [
    "# Tracé des courbes"
   ]
  },
  {
   "cell_type": "code",
   "execution_count": 29,
   "id": "7af2a4d8",
   "metadata": {},
   "outputs": [
    {
     "data": {
      "image/png": "[encoded data removed]",
      "text/plain": [
       "<Figure size 640x480 with 1 Axes>"
      ]
     },
     "metadata": {},
     "output_type": "display_data"
    }
   ],
   "source": [
    "# Affichage des pertes\n",
    "\n",
    "from matplotlib import pyplot\n",
    "\n",
    "pyplot.title('Performances')\n",
    "pyplot.xlabel('Epoch')\n",
    "pyplot.ylabel('pertes')\n",
    "pyplot.plot(history.history['loss'], label='entrainement')\n",
    "pyplot.plot(history.history['val_loss'], label='validation')\n",
    "\n",
    "\n",
    "pyplot.legend()\n",
    "pyplot.show()"
   ]
  },
  {
   "cell_type": "code",
   "execution_count": 30,
   "id": "b6027fa6",
   "metadata": {},
   "outputs": [
    {
     "data": {
      "image/png": "[encoded data removed]",
      "text/plain": [
       "<Figure size 640x480 with 1 Axes>"
      ]
     },
     "metadata": {},
     "output_type": "display_data"
    }
   ],
   "source": [
    "# Affichage de la précision\n",
    "\n",
    "from matplotlib import pyplot\n",
    "\n",
    "pyplot.title('Performances')\n",
    "pyplot.xlabel('Epoch')\n",
    "pyplot.ylabel('precision')\n",
    "pyplot.plot(history.history['accuracy'], label='entrainement')\n",
    "pyplot.plot(history.history['val_accuracy'], label='validation')\n",
    "\n",
    "pyplot.legend()\n",
    "pyplot.show()\n"
   ]
  },
  {
   "cell_type": "markdown",
   "id": "a97a742e",
   "metadata": {},
   "source": [
    "# Sauvegarde du modele"
   ]
  },
  {
   "cell_type": "code",
   "execution_count": 31,
   "id": "6e509dac",
   "metadata": {},
   "outputs": [],
   "source": [
    "\n",
    "# Sauvegarde du modele\n",
    "\n",
    "\n",
    "model.save(r'./classification_4_classes_Keras.hdf5')\n"
   ]
  },
  {
   "cell_type": "code",
   "execution_count": 32,
   "id": "1bd329f9",
   "metadata": {},
   "outputs": [],
   "source": [
    "# Pour faire des prédictions\n",
    "\n",
    "predictions = model.predict(images_test_final,\n",
    "                            batch_size=10,\n",
    "                            verbose=0) \n"
   ]
  },
  {
   "cell_type": "code",
   "execution_count": 33,
   "id": "94e2bf48",
   "metadata": {},
   "outputs": [
    {
     "name": "stdout",
     "output_type": "stream",
     "text": [
      "4/4 [==============================] - 0s 3ms/step\n"
     ]
    }
   ],
   "source": [
    "# Keras nous propose une autre méthode intéressante,\n",
    "# qui peut être utilisée pour prédire les valeurs de nouvelles données \n",
    "# (données que le réseau n'a pas encore vues). \n",
    "# Comme nous n'avons pas séparé auparavant un tel ensemble,\n",
    "# mais seulement divisé l'ensemble MNIST en données d'apprentissage et de test,\n",
    "# nous n'utiliserons qu'un sous-ensemble des données de test.\n",
    "# La méthode renverra un tableau de bord de 100 éléments.\n",
    "# Chaque élément indiquera les probabilités que l'entrée appartienne à une classe donnée.\n",
    "\n",
    "\n",
    "predictions = model.predict(images_test_final[0:100])\n"
   ]
  },
  {
   "cell_type": "code",
   "execution_count": 34,
   "id": "4dfc324b",
   "metadata": {},
   "outputs": [
    {
     "data": {
      "text/plain": [
       "array([1.2452679e-03, 1.6046206e-04, 2.6159650e-03, 9.9597830e-01],\n",
       "      dtype=float32)"
      ]
     },
     "execution_count": 34,
     "metadata": {},
     "output_type": "execute_result"
    }
   ],
   "source": [
    "#  pour voir la prédiction \n",
    "# la plupart des valeurs sont de très petits nombres \n",
    "# (très faible probabilité que l'image appartienne à cette classe)\n",
    "# \n",
    "\n",
    "predictions[0]\n"
   ]
  },
  {
   "cell_type": "code",
   "execution_count": 35,
   "id": "6df05568",
   "metadata": {},
   "outputs": [
    {
     "data": {
      "text/plain": [
       "3"
      ]
     },
     "execution_count": 35,
     "metadata": {},
     "output_type": "execute_result"
    }
   ],
   "source": [
    "np.argmax(predictions[1])"
   ]
  },
  {
   "cell_type": "code",
   "execution_count": 37,
   "id": "c409fcc4",
   "metadata": {},
   "outputs": [
    {
     "data": {
      "text/plain": [
       "9"
      ]
     },
     "execution_count": 37,
     "metadata": {},
     "output_type": "execute_result"
    }
   ],
   "source": [
    "labels_test_new[1]"
   ]
  },
  {
   "cell_type": "code",
   "execution_count": 38,
   "id": "e5d45854",
   "metadata": {},
   "outputs": [
    {
     "data": {
      "text/plain": [
       "<matplotlib.image.AxesImage at 0x7f8d2828dbe0>"
      ]
     },
     "execution_count": 38,
     "metadata": {},
     "output_type": "execute_result"
    },
    {
     "data": {
      "image/png": "[encoded data removed]",
      "text/plain": [
       "<Figure size 640x480 with 1 Axes>"
      ]
     },
     "metadata": {},
     "output_type": "display_data"
    }
   ],
   "source": [
    "# Vérifions à quoi ressemble l'image. \n",
    "# Rappelez-vous que les données d'entrée du réseau ont été aplaties \n",
    "# dans le but de creer un vecteur d'une longueur de 784.\n",
    "# Avant de l'afficher, nous devons le reconvertir à la taille de 28 x 28 pixels. \n",
    "\n",
    "plt.imshow(images_test_new[1].reshape(28,28))\n"
   ]
  },
  {
   "cell_type": "code",
   "execution_count": 40,
   "id": "b3d8e495",
   "metadata": {},
   "outputs": [],
   "source": [
    "# nous avons un tableau à deux dimensions, \n",
    "# et non à un vecteur comme avec l'utilisation précédente de argmax,\n",
    "# Dans notre cas, le long de l'axe y, c'est-à-dire axis = 1. \n",
    "\n",
    "# le chiffre 0 représente le 5\n",
    "# le chiffre 1 représente le 6\n",
    "# le chiffre 2 représente le 8\n",
    "# le chiffre 3 représente le 9\n",
    "\n",
    "la_prediction=np.argmax(predictions, axis=1)"
   ]
  },
  {
   "cell_type": "code",
   "execution_count": 47,
   "id": "d47a4f3e",
   "metadata": {},
   "outputs": [
    {
     "name": "stdout",
     "output_type": "stream",
     "text": [
      "\n",
      " labels_test_prediction = [9. 9. 6. 9. 9. 3. 9. 6. 6. 3. 3. 3. 6. 3. 6.]\n"
     ]
    }
   ],
   "source": [
    "# Dans le cadre d une classification \n",
    "# pour remplacer des chiffres par d'autres\n",
    "# le chiffre 5 est labelisé 0\n",
    "# le chiffre 6 est labelidé 1\n",
    "\n",
    "\n",
    "\n",
    "labels_test_new_final = np.zeros(la_prediction.shape)\n",
    "labels_test_new_final[np.where(la_prediction==0.0)[0]] = 3 # remplace le 6 par 1\n",
    "labels_test_new_final[np.where(la_prediction==1.0)[0]] = 6 # remplace le 5 par 0\n",
    "labels_test_new_final[np.where(la_prediction==2.0)[0]] = 8\n",
    "labels_test_new_final[np.where(la_prediction==3.0)[0]] = 9\n",
    "labels_test = labels_test_new_final\n",
    "\n",
    "labels_test_prediction = labels_test_new_final.T\n",
    "\n",
    "print('\\n labels_test_prediction =',labels_test_prediction[0:15])"
   ]
  },
  {
   "cell_type": "code",
   "execution_count": 48,
   "id": "17869541",
   "metadata": {},
   "outputs": [],
   "source": [
    "labels_test_prediction=labels_test_prediction.astype(np.uint8)"
   ]
  },
  {
   "cell_type": "code",
   "execution_count": 49,
   "id": "b60ba0a3",
   "metadata": {},
   "outputs": [
    {
     "data": {
      "text/plain": [
       "array([9, 9, 6, 9, 9, 3, 9, 6, 6, 3, 3, 3, 6, 3, 6, 9, 8, 9, 3, 6, 3, 9,\n",
       "       3, 9, 6, 8, 3, 6, 3, 6, 9, 3, 6, 9, 6, 9, 9, 9, 8, 3, 9, 9, 6, 9,\n",
       "       8, 6, 6, 8, 6, 6, 3, 8, 9, 8, 6, 3, 6, 6, 3, 8, 8, 8, 8, 9, 3, 8,\n",
       "       6, 3, 6, 3, 9, 9, 9, 3, 9, 3, 6, 8, 3, 3, 8, 9, 9, 8, 8, 3, 9, 8,\n",
       "       6, 8, 9, 8, 8, 3, 9, 9, 8, 9, 9, 6], dtype=uint8)"
      ]
     },
     "execution_count": 49,
     "metadata": {},
     "output_type": "execute_result"
    }
   ],
   "source": [
    "labels_test_prediction[0:100]"
   ]
  },
  {
   "cell_type": "code",
   "execution_count": 50,
   "id": "616c50cc",
   "metadata": {},
   "outputs": [
    {
     "data": {
      "text/plain": [
       "array([9, 9, 6, 9, 9, 3, 9, 6, 6, 3, 3, 3, 6, 3, 6, 9, 8, 9, 3, 6, 3, 9,\n",
       "       3, 9, 6, 8, 3, 6, 3, 6, 9, 3, 6, 9, 6, 9, 9, 9, 8, 3, 9, 9, 6, 9,\n",
       "       8, 6, 6, 8, 6, 6, 3, 8, 9, 9, 6, 3, 6, 6, 3, 8, 8, 8, 8, 9, 9, 3,\n",
       "       6, 3, 6, 3, 9, 9, 9, 3, 9, 3, 6, 8, 3, 3, 8, 8, 9, 9, 8, 3, 9, 8,\n",
       "       6, 8, 9, 8, 8, 3, 9, 9, 8, 9, 9, 6], dtype=uint8)"
      ]
     },
     "execution_count": 50,
     "metadata": {},
     "output_type": "execute_result"
    }
   ],
   "source": [
    "labels_test_new[0:100]"
   ]
  },
  {
   "cell_type": "code",
   "execution_count": 51,
   "id": "f9d26f21",
   "metadata": {},
   "outputs": [
    {
     "data": {
      "text/plain": [
       "0"
      ]
     },
     "execution_count": 51,
     "metadata": {},
     "output_type": "execute_result"
    }
   ],
   "source": [
    "# pour verifier ou il y a des erreurs.....si elle existe !\n",
    "\n",
    "fausse_prediction = np.argmin(np.argmax(predictions, axis=1) == labels_test_new[0:100])\n",
    "fausse_prediction\n"
   ]
  },
  {
   "cell_type": "code",
   "execution_count": 53,
   "id": "97cbde53",
   "metadata": {},
   "outputs": [
    {
     "name": "stdout",
     "output_type": "stream",
     "text": [
      "tf.Tensor(\n",
      "[[0.17530666 0.17511658 0.17554712 0.47402963]\n",
      " [0.1749588  0.17490715 0.17493473 0.47519916]\n",
      " [0.17575775 0.4738135  0.17524618 0.17518255]\n",
      " [0.17498273 0.17494346 0.17501742 0.47505632]\n",
      " [0.17538632 0.1752281  0.1756834  0.4737022 ]\n",
      " [0.3953546  0.18557493 0.23390293 0.18516745]\n",
      " [0.17497605 0.17490406 0.17491361 0.47520632]\n",
      " [0.17513323 0.47491086 0.1749764  0.17497954]\n",
      " [0.17529315 0.47440737 0.17507389 0.17522554]\n",
      " [0.4751873  0.17490695 0.17491174 0.17499405]], shape=(10, 4), dtype=float32)\n"
     ]
    },
    {
     "data": {
      "text/html": [
       "<div>\n",
       "<style scoped>\n",
       "    .dataframe tbody tr th:only-of-type {\n",
       "        vertical-align: middle;\n",
       "    }\n",
       "\n",
       "    .dataframe tbody tr th {\n",
       "        vertical-align: top;\n",
       "    }\n",
       "\n",
       "    .dataframe thead th {\n",
       "        text-align: right;\n",
       "    }\n",
       "</style>\n",
       "<table border=\"1\" class=\"dataframe\">\n",
       "  <thead>\n",
       "    <tr style=\"text-align: right;\">\n",
       "      <th></th>\n",
       "      <th>3</th>\n",
       "      <th>6</th>\n",
       "      <th>8</th>\n",
       "      <th>9</th>\n",
       "    </tr>\n",
       "  </thead>\n",
       "  <tbody>\n",
       "    <tr>\n",
       "      <th>0</th>\n",
       "      <td>1</td>\n",
       "      <td>0</td>\n",
       "      <td>0</td>\n",
       "      <td>0</td>\n",
       "    </tr>\n",
       "    <tr>\n",
       "      <th>1</th>\n",
       "      <td>0</td>\n",
       "      <td>1</td>\n",
       "      <td>0</td>\n",
       "      <td>0</td>\n",
       "    </tr>\n",
       "    <tr>\n",
       "      <th>2</th>\n",
       "      <td>0</td>\n",
       "      <td>0</td>\n",
       "      <td>1</td>\n",
       "      <td>0</td>\n",
       "    </tr>\n",
       "    <tr>\n",
       "      <th>3</th>\n",
       "      <td>0</td>\n",
       "      <td>0</td>\n",
       "      <td>0</td>\n",
       "      <td>1</td>\n",
       "    </tr>\n",
       "  </tbody>\n",
       "</table>\n",
       "</div>"
      ],
      "text/plain": [
       "   3  6  8  9\n",
       "0  1  0  0  0\n",
       "1  0  1  0  0\n",
       "2  0  0  1  0\n",
       "3  0  0  0  1"
      ]
     },
     "execution_count": 53,
     "metadata": {},
     "output_type": "execute_result"
    }
   ],
   "source": [
    "# Appliquons un softmax, pour obtenir des probabilités\n",
    "# La somme d une ligne est égale à 1\n",
    "# La fonction tf.nn.softmax convertit ces logits en probabilités pour chaque classe :\n",
    "# La première colonne correspond aux probabilités de la classe 0 c'est à dire le premier chiffre\n",
    "# La seconde colonne correspond aux probabilités de la classe 1 c'est à dire le deuxieme chiffre\n",
    "# \n",
    "# ici la classe 5 est représentée par 0\n",
    "# ici la classe 6 est représentée par 1\n",
    "\n",
    "\n",
    "\n",
    "\n",
    "print(tf.nn.softmax(predictions[:10]))\n",
    "\n",
    "# Methone pour afficher les classes des chiffres\n",
    "name_classes=[3,6,8,9]\n",
    "one_hot_encode=pandas.get_dummies(name_classes)\n",
    "one_hot_encode\n"
   ]
  },
  {
   "cell_type": "code",
   "execution_count": 54,
   "id": "9110ea27",
   "metadata": {},
   "outputs": [
    {
     "name": "stdout",
     "output_type": "stream",
     "text": [
      "Prediction: [3 3 1 3 3 0 3 1 1 0 0 0 1 0 1 3 2 3 0 1 0 3 0 3 1 2 0 1 0 1]\n",
      "    Labels: [9 9 6 9 9 3 9 6 6 3 3 3 6 3 6 9 8 9 3 6 3 9 3 9 6 8 3 6 3 6]\n"
     ]
    },
    {
     "data": {
      "text/html": [
       "<div>\n",
       "<style scoped>\n",
       "    .dataframe tbody tr th:only-of-type {\n",
       "        vertical-align: middle;\n",
       "    }\n",
       "\n",
       "    .dataframe tbody tr th {\n",
       "        vertical-align: top;\n",
       "    }\n",
       "\n",
       "    .dataframe thead th {\n",
       "        text-align: right;\n",
       "    }\n",
       "</style>\n",
       "<table border=\"1\" class=\"dataframe\">\n",
       "  <thead>\n",
       "    <tr style=\"text-align: right;\">\n",
       "      <th></th>\n",
       "      <th>3</th>\n",
       "      <th>6</th>\n",
       "      <th>8</th>\n",
       "      <th>9</th>\n",
       "    </tr>\n",
       "  </thead>\n",
       "  <tbody>\n",
       "    <tr>\n",
       "      <th>0</th>\n",
       "      <td>1</td>\n",
       "      <td>0</td>\n",
       "      <td>0</td>\n",
       "      <td>0</td>\n",
       "    </tr>\n",
       "    <tr>\n",
       "      <th>1</th>\n",
       "      <td>0</td>\n",
       "      <td>1</td>\n",
       "      <td>0</td>\n",
       "      <td>0</td>\n",
       "    </tr>\n",
       "    <tr>\n",
       "      <th>2</th>\n",
       "      <td>0</td>\n",
       "      <td>0</td>\n",
       "      <td>1</td>\n",
       "      <td>0</td>\n",
       "    </tr>\n",
       "    <tr>\n",
       "      <th>3</th>\n",
       "      <td>0</td>\n",
       "      <td>0</td>\n",
       "      <td>0</td>\n",
       "      <td>1</td>\n",
       "    </tr>\n",
       "  </tbody>\n",
       "</table>\n",
       "</div>"
      ],
      "text/plain": [
       "   3  6  8  9\n",
       "0  1  0  0  0\n",
       "1  0  1  0  0\n",
       "2  0  0  1  0\n",
       "3  0  0  0  1"
      ]
     },
     "execution_count": 54,
     "metadata": {},
     "output_type": "execute_result"
    }
   ],
   "source": [
    "labels = (labels_test_new)[0:30]\n",
    "print(\"Prediction: {}\".format(tf.argmax(predictions[0:30], axis=1)))\n",
    "print(\"    Labels: {}\".format(labels))\n",
    "\n",
    "name_classes=[3,6,8,9]\n",
    "one_hot_encode=pandas.get_dummies(name_classes)\n",
    "one_hot_encode\n"
   ]
  },
  {
   "cell_type": "code",
   "execution_count": 55,
   "id": "08086054",
   "metadata": {},
   "outputs": [],
   "source": [
    "# fin **************************************************************************"
   ]
  },
  {
   "cell_type": "code",
   "execution_count": null,
   "id": "0a5dfd62",
   "metadata": {},
   "outputs": [],
   "source": []
  },
  {
   "cell_type": "code",
   "execution_count": null,
   "id": "323a502f",
   "metadata": {},
   "outputs": [],
   "source": []
  }
 ],
 "metadata": {
  "kernelspec": {
   "display_name": "Python 3",
   "language": "python",
   "name": "python3"
  },
  "language_info": {
   "codemirror_mode": {
    "name": "ipython",
    "version": 3
   },
   "file_extension": ".py",
   "mimetype": "text/x-python",
   "name": "python",
   "nbconvert_exporter": "python",
   "pygments_lexer": "ipython3",
   "version": "3.9.13"
  },
  "papermill": {
   "default_parameters": {},
   "duration": 76.387961,
   "end_time": "2022-12-30T13:51:13.856627",
   "environment_variables": {},
   "exception": null,
   "input_path": "__notebook__.ipynb",
   "output_path": "__notebook__.ipynb",
   "parameters": {},
   "start_time": "2022-12-30T13:49:57.468666",
   "version": "2.3.4"
  }
 },
 "nbformat": 4,
 "nbformat_minor": 5
}
