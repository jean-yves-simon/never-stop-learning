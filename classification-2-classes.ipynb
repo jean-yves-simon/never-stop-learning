{
 "cells": [
  {
   "cell_type": "code",
   "execution_count": 1,
   "id": "732caaca",
   "metadata": {
    "execution": {
     "iopub.execute_input": "2023-08-26T20:02:29.635779Z",
     "iopub.status.busy": "2023-08-26T20:02:29.635352Z",
     "iopub.status.idle": "2023-08-26T20:02:29.662587Z",
     "shell.execute_reply": "2023-08-26T20:02:29.661437Z",
     "shell.execute_reply.started": "2023-08-26T20:02:29.635743Z"
    }
   },
   "outputs": [],
   "source": [
    "\n",
    "\n",
    "# debut *********************************************************************************\n",
    "\n"
   ]
  },
  {
   "cell_type": "code",
   "execution_count": 2,
   "id": "12e5f345",
   "metadata": {
    "execution": {
     "iopub.execute_input": "2023-08-26T20:02:29.681300Z",
     "iopub.status.busy": "2023-08-26T20:02:29.680896Z",
     "iopub.status.idle": "2023-08-26T20:02:40.208363Z",
     "shell.execute_reply": "2023-08-26T20:02:40.207424Z",
     "shell.execute_reply.started": "2023-08-26T20:02:29.681268Z"
    }
   },
   "outputs": [
    {
     "name": "stderr",
     "output_type": "stream",
     "text": [
      "/opt/conda/lib/python3.10/site-packages/scipy/__init__.py:146: UserWarning: A NumPy version >=1.16.5 and <1.23.0 is required for this version of SciPy (detected version 1.23.5\n",
      "  warnings.warn(f\"A NumPy version >={np_minversion} and <{np_maxversion}\"\n",
      "/opt/conda/lib/python3.10/site-packages/tensorflow_io/python/ops/__init__.py:98: UserWarning: unable to load libtensorflow_io_plugins.so: unable to open file: libtensorflow_io_plugins.so, from paths: ['/opt/conda/lib/python3.10/site-packages/tensorflow_io/python/ops/libtensorflow_io_plugins.so']\n",
      "caused by: ['/opt/conda/lib/python3.10/site-packages/tensorflow_io/python/ops/libtensorflow_io_plugins.so: undefined symbol: _ZN3tsl6StatusC1EN10tensorflow5error4CodeESt17basic_string_viewIcSt11char_traitsIcEENS_14SourceLocationE']\n",
      "  warnings.warn(f\"unable to load libtensorflow_io_plugins.so: {e}\")\n",
      "/opt/conda/lib/python3.10/site-packages/tensorflow_io/python/ops/__init__.py:104: UserWarning: file system plugins are not loaded: unable to open file: libtensorflow_io.so, from paths: ['/opt/conda/lib/python3.10/site-packages/tensorflow_io/python/ops/libtensorflow_io.so']\n",
      "caused by: ['/opt/conda/lib/python3.10/site-packages/tensorflow_io/python/ops/libtensorflow_io.so: undefined symbol: _ZTVN10tensorflow13GcsFileSystemE']\n",
      "  warnings.warn(f\"file system plugins are not loaded: {e}\")\n"
     ]
    },
    {
     "name": "stdout",
     "output_type": "stream",
     "text": [
      "2.12.0\n"
     ]
    }
   ],
   "source": [
    "import numpy as np\n",
    "import matplotlib.pyplot as plt\n",
    "from PIL import Image\n",
    "from keras.layers import Dense, Dropout\n",
    "from matplotlib.pyplot import imshow\n",
    "%matplotlib inline\n",
    "from tensorflow.keras.optimizers import Adam\n",
    "from tensorflow.keras.models import Sequential\n",
    "from tensorflow import keras\n",
    "from tensorflow.keras.layers import Activation, Dense\n",
    "print (keras.__version__)\n",
    "from sklearn.preprocessing import MinMaxScaler\n",
    "import keras\n",
    "import pandas\n",
    "from PIL import Image\n",
    "from matplotlib.pyplot import imshow\n",
    "from keras import utils as np_utils\n",
    "from keras.datasets import mnist\n",
    "from keras.models import Sequential\n",
    "from keras.layers import Dense, Dropout\n",
    "from tensorflow.keras.optimizers import RMSprop\n",
    "import numpy as np\n",
    "from sklearn.metrics import accuracy_score\n",
    "from sklearn.model_selection import train_test_split\n",
    "from sklearn import preprocessing\n",
    "import tensorflow as tf\n",
    "from tensorflow.keras import layers\n",
    "from tensorflow.keras.utils import to_categorical\n",
    "from sklearn.preprocessing import MinMaxScaler"
   ]
  },
  {
   "cell_type": "markdown",
   "id": "5dc89693",
   "metadata": {},
   "source": [
    "#  Chargement des jeux de données"
   ]
  },
  {
   "cell_type": "code",
   "execution_count": 2,
   "id": "f1a41de5",
   "metadata": {
    "execution": {
     "iopub.execute_input": "2023-08-26T20:02:40.211250Z",
     "iopub.status.busy": "2023-08-26T20:02:40.210073Z",
     "iopub.status.idle": "2023-08-26T20:02:40.216668Z",
     "shell.execute_reply": "2023-08-26T20:02:40.215636Z",
     "shell.execute_reply.started": "2023-08-26T20:02:40.211214Z"
    }
   },
   "outputs": [
    {
     "name": "stderr",
     "output_type": "stream",
     "text": [
      "2023-08-27 16:26:07.343205: I tensorflow/tsl/cuda/cudart_stub.cc:28] Could not find cuda drivers on your machine, GPU will not be used.\n",
      "2023-08-27 16:26:07.694686: I tensorflow/tsl/cuda/cudart_stub.cc:28] Could not find cuda drivers on your machine, GPU will not be used.\n",
      "2023-08-27 16:26:07.702768: I tensorflow/core/platform/cpu_feature_guard.cc:182] This TensorFlow binary is optimized to use available CPU instructions in performance-critical operations.\n",
      "To enable the following instructions: AVX2 FMA, in other operations, rebuild TensorFlow with the appropriate compiler flags.\n",
      "2023-08-27 16:26:09.627305: W tensorflow/compiler/tf2tensorrt/utils/py_utils.cc:38] TF-TRT Warning: Could not find TensorRT\n"
     ]
    }
   ],
   "source": [
    "\n",
    "from keras.datasets import mnist\n"
   ]
  },
  {
   "cell_type": "code",
   "execution_count": 4,
   "id": "423b9433",
   "metadata": {
    "execution": {
     "iopub.execute_input": "2023-08-26T20:02:40.218444Z",
     "iopub.status.busy": "2023-08-26T20:02:40.218082Z",
     "iopub.status.idle": "2023-08-26T20:02:41.632540Z",
     "shell.execute_reply": "2023-08-26T20:02:41.631078Z",
     "shell.execute_reply.started": "2023-08-26T20:02:40.218414Z"
    }
   },
   "outputs": [
    {
     "name": "stdout",
     "output_type": "stream",
     "text": [
      "Downloading data from https://storage.googleapis.com/tensorflow/tf-keras-datasets/mnist.npz\n",
      "11490434/11490434 [==============================] - 1s 0us/step\n"
     ]
    }
   ],
   "source": [
    "\n",
    "(images_entrainement,labels_entrainement),(images_test,labels_test)=mnist.load_data()\n"
   ]
  },
  {
   "cell_type": "code",
   "execution_count": 5,
   "id": "b8f607dc",
   "metadata": {
    "execution": {
     "iopub.execute_input": "2023-08-26T20:02:41.635747Z",
     "iopub.status.busy": "2023-08-26T20:02:41.635257Z",
     "iopub.status.idle": "2023-08-26T20:02:41.644461Z",
     "shell.execute_reply": "2023-08-26T20:02:41.643058Z",
     "shell.execute_reply.started": "2023-08-26T20:02:41.635695Z"
    }
   },
   "outputs": [
    {
     "data": {
      "text/plain": [
       "(60000, 28, 28)"
      ]
     },
     "execution_count": 5,
     "metadata": {},
     "output_type": "execute_result"
    }
   ],
   "source": [
    "\n",
    "images_entrainement.shape\n"
   ]
  },
  {
   "cell_type": "code",
   "execution_count": 6,
   "id": "9d6dcfdd",
   "metadata": {
    "execution": {
     "iopub.execute_input": "2023-08-26T20:02:41.646981Z",
     "iopub.status.busy": "2023-08-26T20:02:41.646551Z",
     "iopub.status.idle": "2023-08-26T20:02:41.658131Z",
     "shell.execute_reply": "2023-08-26T20:02:41.657177Z",
     "shell.execute_reply.started": "2023-08-26T20:02:41.646947Z"
    }
   },
   "outputs": [
    {
     "data": {
      "text/plain": [
       "(60000,)"
      ]
     },
     "execution_count": 6,
     "metadata": {},
     "output_type": "execute_result"
    }
   ],
   "source": [
    "\n",
    "labels_entrainement.shape\n"
   ]
  },
  {
   "cell_type": "code",
   "execution_count": 7,
   "id": "733c270e",
   "metadata": {
    "execution": {
     "iopub.execute_input": "2023-08-26T20:02:41.659808Z",
     "iopub.status.busy": "2023-08-26T20:02:41.659447Z",
     "iopub.status.idle": "2023-08-26T20:02:41.670249Z",
     "shell.execute_reply": "2023-08-26T20:02:41.669192Z",
     "shell.execute_reply.started": "2023-08-26T20:02:41.659775Z"
    }
   },
   "outputs": [
    {
     "data": {
      "text/plain": [
       "(10000, 28, 28)"
      ]
     },
     "execution_count": 7,
     "metadata": {},
     "output_type": "execute_result"
    }
   ],
   "source": [
    "\n",
    "images_test.shape\n"
   ]
  },
  {
   "cell_type": "code",
   "execution_count": 8,
   "id": "c4d19002",
   "metadata": {
    "execution": {
     "iopub.execute_input": "2023-08-26T20:02:41.671881Z",
     "iopub.status.busy": "2023-08-26T20:02:41.671552Z",
     "iopub.status.idle": "2023-08-26T20:02:41.681841Z",
     "shell.execute_reply": "2023-08-26T20:02:41.681030Z",
     "shell.execute_reply.started": "2023-08-26T20:02:41.671853Z"
    }
   },
   "outputs": [
    {
     "data": {
      "text/plain": [
       "(10000,)"
      ]
     },
     "execution_count": 8,
     "metadata": {},
     "output_type": "execute_result"
    }
   ],
   "source": [
    "\n",
    "labels_test.shape\n"
   ]
  },
  {
   "cell_type": "code",
   "execution_count": 9,
   "id": "6e7bf124",
   "metadata": {
    "execution": {
     "iopub.execute_input": "2023-08-26T20:02:41.683865Z",
     "iopub.status.busy": "2023-08-26T20:02:41.683448Z",
     "iopub.status.idle": "2023-08-26T20:02:41.692979Z",
     "shell.execute_reply": "2023-08-26T20:02:41.692002Z",
     "shell.execute_reply.started": "2023-08-26T20:02:41.683826Z"
    }
   },
   "outputs": [
    {
     "data": {
      "text/plain": [
       "array([5, 0, 4, 1, 9, 2, 1, 3, 1, 4], dtype=uint8)"
      ]
     },
     "execution_count": 9,
     "metadata": {},
     "output_type": "execute_result"
    }
   ],
   "source": [
    "\n",
    "labels_entrainement[0:10]\n"
   ]
  },
  {
   "cell_type": "markdown",
   "id": "68581541",
   "metadata": {},
   "source": [
    "# Préparation des données"
   ]
  },
  {
   "cell_type": "code",
   "execution_count": 10,
   "id": "67e570ef",
   "metadata": {
    "execution": {
     "iopub.execute_input": "2023-08-26T20:02:41.694502Z",
     "iopub.status.busy": "2023-08-26T20:02:41.694107Z",
     "iopub.status.idle": "2023-08-26T20:02:41.710674Z",
     "shell.execute_reply": "2023-08-26T20:02:41.709501Z",
     "shell.execute_reply.started": "2023-08-26T20:02:41.694463Z"
    }
   },
   "outputs": [],
   "source": [
    "# Données d'Entrainement : \n",
    "# selection des chiffres 5 et 6\n",
    "\n",
    "images_entrainement_new, labels_entrainement_new = images_entrainement[(labels_entrainement==5) | (labels_entrainement==6)],\\\n",
    "labels_entrainement[(labels_entrainement==5) | (labels_entrainement==6)]\n"
   ]
  },
  {
   "cell_type": "code",
   "execution_count": 11,
   "id": "36e5f51b",
   "metadata": {
    "execution": {
     "iopub.execute_input": "2023-08-26T20:02:41.715980Z",
     "iopub.status.busy": "2023-08-26T20:02:41.715638Z",
     "iopub.status.idle": "2023-08-26T20:02:41.723080Z",
     "shell.execute_reply": "2023-08-26T20:02:41.721981Z",
     "shell.execute_reply.started": "2023-08-26T20:02:41.715951Z"
    }
   },
   "outputs": [
    {
     "data": {
      "text/plain": [
       "(11339, 28, 28)"
      ]
     },
     "execution_count": 11,
     "metadata": {},
     "output_type": "execute_result"
    }
   ],
   "source": [
    "\n",
    "images_entrainement_new.shape\n"
   ]
  },
  {
   "cell_type": "code",
   "execution_count": 12,
   "id": "a5f6be8d",
   "metadata": {
    "execution": {
     "iopub.execute_input": "2023-08-26T20:02:41.725603Z",
     "iopub.status.busy": "2023-08-26T20:02:41.725184Z",
     "iopub.status.idle": "2023-08-26T20:02:41.755302Z",
     "shell.execute_reply": "2023-08-26T20:02:41.754311Z",
     "shell.execute_reply.started": "2023-08-26T20:02:41.725563Z"
    }
   },
   "outputs": [],
   "source": [
    "# Données d'entrainement:\n",
    "# Normalisation\n",
    "\n",
    "images_entrainement_final = images_entrainement_new.reshape(11339, 784)\n",
    "images_entrainement_final = images_entrainement_final.astype('float32')/255\n"
   ]
  },
  {
   "cell_type": "code",
   "execution_count": 13,
   "id": "b11ccd9d",
   "metadata": {
    "execution": {
     "iopub.execute_input": "2023-08-26T20:02:41.757749Z",
     "iopub.status.busy": "2023-08-26T20:02:41.756755Z",
     "iopub.status.idle": "2023-08-26T20:02:41.763498Z",
     "shell.execute_reply": "2023-08-26T20:02:41.762432Z",
     "shell.execute_reply.started": "2023-08-26T20:02:41.757712Z"
    }
   },
   "outputs": [],
   "source": [
    "# Données de test :\n",
    "# selection des chiffres 5 et 6\n",
    "\n",
    "images_test_new, labels_test_new = images_test[(labels_test==5) | (labels_test==6)],\\\n",
    "labels_test[(labels_test==5) | (labels_test==6)]\n"
   ]
  },
  {
   "cell_type": "code",
   "execution_count": 14,
   "id": "2cea3f85",
   "metadata": {
    "execution": {
     "iopub.execute_input": "2023-08-26T20:02:41.765453Z",
     "iopub.status.busy": "2023-08-26T20:02:41.765108Z",
     "iopub.status.idle": "2023-08-26T20:02:41.776035Z",
     "shell.execute_reply": "2023-08-26T20:02:41.774610Z",
     "shell.execute_reply.started": "2023-08-26T20:02:41.765416Z"
    }
   },
   "outputs": [
    {
     "data": {
      "text/plain": [
       "(1850, 28, 28)"
      ]
     },
     "execution_count": 14,
     "metadata": {},
     "output_type": "execute_result"
    }
   ],
   "source": [
    "\n",
    "images_test_new.shape\n"
   ]
  },
  {
   "cell_type": "code",
   "execution_count": 15,
   "id": "740a8493",
   "metadata": {
    "execution": {
     "iopub.execute_input": "2023-08-26T20:02:41.777657Z",
     "iopub.status.busy": "2023-08-26T20:02:41.777351Z",
     "iopub.status.idle": "2023-08-26T20:02:41.793155Z",
     "shell.execute_reply": "2023-08-26T20:02:41.791882Z",
     "shell.execute_reply.started": "2023-08-26T20:02:41.777629Z"
    }
   },
   "outputs": [],
   "source": [
    "# Données de test:\n",
    "# Normalisation \n",
    "\n",
    "images_test_final = images_test_new.reshape(1850, 784)\n",
    "images_test_final = images_test_final.astype('float32')/255\n"
   ]
  },
  {
   "cell_type": "code",
   "execution_count": 16,
   "id": "cff4a73b",
   "metadata": {
    "execution": {
     "iopub.execute_input": "2023-08-26T20:02:41.795582Z",
     "iopub.status.busy": "2023-08-26T20:02:41.794472Z",
     "iopub.status.idle": "2023-08-26T20:02:41.804525Z",
     "shell.execute_reply": "2023-08-26T20:02:41.803349Z",
     "shell.execute_reply.started": "2023-08-26T20:02:41.795547Z"
    }
   },
   "outputs": [],
   "source": [
    "# Données d'entrainement \n",
    "\n",
    "# Encodage des étiquettes\n",
    "from sklearn import preprocessing\n",
    "import tensorflow as tf\n",
    "\n",
    "# Encodage des etiquettes afin qu'elles soit utilisable par le réseau de neurones\n",
    "le = preprocessing.LabelEncoder()\n",
    "\n",
    "# Encodage des chiffres\n",
    "labels_entrainement_new_fit=le.fit_transform(labels_entrainement_new)\n",
    "catego_labels_entrainement_new=tf.keras.utils.to_categorical(labels_entrainement_new_fit,num_classes=2,dtype='float32')\n"
   ]
  },
  {
   "cell_type": "code",
   "execution_count": 17,
   "id": "45326ae3",
   "metadata": {
    "execution": {
     "iopub.execute_input": "2023-08-26T20:02:41.807183Z",
     "iopub.status.busy": "2023-08-26T20:02:41.806466Z",
     "iopub.status.idle": "2023-08-26T20:02:41.815063Z",
     "shell.execute_reply": "2023-08-26T20:02:41.813979Z",
     "shell.execute_reply.started": "2023-08-26T20:02:41.807142Z"
    }
   },
   "outputs": [],
   "source": [
    "# Données de test\n",
    "\n",
    "# Encodage des étiquettes\n",
    "from sklearn import preprocessing\n",
    "import tensorflow as tf\n",
    "\n",
    "# Encodage des etiquettes afin qu'elles soit utilisable par le réseau de neurones\n",
    "le = preprocessing.LabelEncoder()\n",
    "\n",
    "# Encodage des chiffres.\n",
    "labels_test_new_fit=le.fit_transform(labels_test_new)\n",
    "catego_labels_test_new=tf.keras.utils.to_categorical(labels_test_new_fit,num_classes=2,dtype='float32')\n"
   ]
  },
  {
   "cell_type": "markdown",
   "id": "d9d24ec7",
   "metadata": {},
   "source": [
    "## Architecture de reseau"
   ]
  },
  {
   "cell_type": "code",
   "execution_count": 115,
   "id": "fe68d58e",
   "metadata": {
    "execution": {
     "iopub.execute_input": "2023-08-26T20:22:53.276849Z",
     "iopub.status.busy": "2023-08-26T20:22:53.276465Z",
     "iopub.status.idle": "2023-08-26T20:22:53.343128Z",
     "shell.execute_reply": "2023-08-26T20:22:53.341949Z",
     "shell.execute_reply.started": "2023-08-26T20:22:53.276819Z"
    }
   },
   "outputs": [],
   "source": [
    "\n",
    "\n",
    "model = Sequential([\n",
    "   Dense(16, activation='relu', input_shape=(784,)),\n",
    "   Dropout(rate=0.05),\n",
    "   Dense(16, activation='relu'),\n",
    "   Dropout(rate=0.05),\n",
    "   Dense(16, activation='relu'),\n",
    "   Dense(2, activation='softmax')\n",
    "])\n"
   ]
  },
  {
   "cell_type": "code",
   "execution_count": null,
   "id": "12f84a1b",
   "metadata": {},
   "outputs": [],
   "source": [
    "model.summary()"
   ]
  },
  {
   "cell_type": "markdown",
   "id": "a35ccd7b",
   "metadata": {},
   "source": [
    "## Compilation  du modele"
   ]
  },
  {
   "cell_type": "code",
   "execution_count": 116,
   "id": "adf17c80",
   "metadata": {
    "execution": {
     "iopub.execute_input": "2023-08-26T20:22:56.300813Z",
     "iopub.status.busy": "2023-08-26T20:22:56.299794Z",
     "iopub.status.idle": "2023-08-26T20:22:56.315192Z",
     "shell.execute_reply": "2023-08-26T20:22:56.313943Z",
     "shell.execute_reply.started": "2023-08-26T20:22:56.300772Z"
    }
   },
   "outputs": [],
   "source": [
    "model.compile(optimizer='Adam',\n",
    "              loss='categorical_crossentropy',\n",
    "              metrics=['accuracy'])"
   ]
  },
  {
   "cell_type": "markdown",
   "id": "2b2d8031",
   "metadata": {},
   "source": [
    "## Entrainement du modele"
   ]
  },
  {
   "cell_type": "markdown",
   "id": "8a41de69",
   "metadata": {
    "execution": {
     "iopub.execute_input": "2023-08-26T20:22:58.916576Z",
     "iopub.status.busy": "2023-08-26T20:22:58.916183Z",
     "iopub.status.idle": "2023-08-26T20:23:02.526694Z",
     "shell.execute_reply": "2023-08-26T20:23:02.525629Z",
     "shell.execute_reply.started": "2023-08-26T20:22:58.916545Z"
    }
   },
   "source": [
    "\n",
    "history=model.fit(\n",
    "  x=images_entrainement_final,\n",
    "  y=catego_labels_entrainement_new,\n",
    "  shuffle=True,\n",
    "  epochs=3,\n",
    "  batch_size=64,\n",
    "  validation_split=0.3\n",
    ")\n"
   ]
  },
  {
   "cell_type": "code",
   "execution_count": 118,
   "id": "1dbdc8e3",
   "metadata": {
    "execution": {
     "iopub.execute_input": "2023-08-26T20:23:06.243720Z",
     "iopub.status.busy": "2023-08-26T20:23:06.242836Z",
     "iopub.status.idle": "2023-08-26T20:23:06.455504Z",
     "shell.execute_reply": "2023-08-26T20:23:06.454331Z",
     "shell.execute_reply.started": "2023-08-26T20:23:06.243684Z"
    }
   },
   "outputs": [
    {
     "name": "stdout",
     "output_type": "stream",
     "text": [
      "58/58 [==============================] - 0s 1ms/step - loss: 0.0538 - accuracy: 0.9805\n"
     ]
    }
   ],
   "source": [
    "# Pour faire une évaluation\n",
    "\n",
    "evaluation = model.evaluate(images_test_final, catego_labels_test_new)\n"
   ]
  },
  {
   "cell_type": "markdown",
   "id": "de829e65",
   "metadata": {},
   "source": [
    "# Tracé des courbes"
   ]
  },
  {
   "cell_type": "code",
   "execution_count": 119,
   "id": "896e411f",
   "metadata": {
    "execution": {
     "iopub.execute_input": "2023-08-26T20:23:13.882381Z",
     "iopub.status.busy": "2023-08-26T20:23:13.881943Z",
     "iopub.status.idle": "2023-08-26T20:23:14.234746Z",
     "shell.execute_reply": "2023-08-26T20:23:14.233642Z",
     "shell.execute_reply.started": "2023-08-26T20:23:13.882338Z"
    }
   },
   "outputs": [
    {
     "data": {
      "image/png": "[encoded data removed]",
      "text/plain": [
       "<Figure size 640x480 with 1 Axes>"
      ]
     },
     "metadata": {},
     "output_type": "display_data"
    }
   ],
   "source": [
    "# Affichage des pertes\n",
    "\n",
    "from matplotlib import pyplot\n",
    "\n",
    "pyplot.title('Performances')\n",
    "pyplot.xlabel('Epoch')\n",
    "pyplot.ylabel('pertes')\n",
    "pyplot.plot(history.history['loss'], label='entrainement')\n",
    "pyplot.plot(history.history['val_loss'], label='validation')\n",
    "\n",
    "\n",
    "pyplot.legend()\n",
    "pyplot.show()\n"
   ]
  },
  {
   "cell_type": "code",
   "execution_count": 120,
   "id": "c0938098",
   "metadata": {
    "execution": {
     "iopub.execute_input": "2023-08-26T20:23:19.262767Z",
     "iopub.status.busy": "2023-08-26T20:23:19.261766Z",
     "iopub.status.idle": "2023-08-26T20:23:19.627009Z",
     "shell.execute_reply": "2023-08-26T20:23:19.625887Z",
     "shell.execute_reply.started": "2023-08-26T20:23:19.262722Z"
    }
   },
   "outputs": [
    {
     "data": {
      "image/png": "[encoded data removed]",
      "text/plain": [
       "<Figure size 640x480 with 1 Axes>"
      ]
     },
     "metadata": {},
     "output_type": "display_data"
    }
   ],
   "source": [
    "# Affichage de la précision\n",
    "\n",
    "from matplotlib import pyplot\n",
    "\n",
    "pyplot.title('Performances')\n",
    "pyplot.xlabel('Epoch')\n",
    "pyplot.ylabel('precision')\n",
    "pyplot.plot(history.history['accuracy'], label='entrainement')\n",
    "pyplot.plot(history.history['val_accuracy'], label='validation')\n",
    "\n",
    "pyplot.legend()\n",
    "pyplot.show()\n"
   ]
  },
  {
   "cell_type": "markdown",
   "id": "8b6d4b6a",
   "metadata": {},
   "source": [
    "# Sauvegarde du modele"
   ]
  },
  {
   "cell_type": "code",
   "execution_count": 98,
   "id": "53f46151",
   "metadata": {
    "execution": {
     "iopub.execute_input": "2023-08-26T20:21:02.567166Z",
     "iopub.status.busy": "2023-08-26T20:21:02.566754Z",
     "iopub.status.idle": "2023-08-26T20:21:02.603052Z",
     "shell.execute_reply": "2023-08-26T20:21:02.602191Z",
     "shell.execute_reply.started": "2023-08-26T20:21:02.567132Z"
    }
   },
   "outputs": [],
   "source": [
    "\n",
    "# Sauvegarde du modele\n",
    "\n",
    "\n",
    "model.save(r'./classification_2_classes_Keras.hdf5')\n"
   ]
  },
  {
   "cell_type": "markdown",
   "id": "31928e59",
   "metadata": {},
   "source": [
    "# Prédictions"
   ]
  },
  {
   "cell_type": "code",
   "execution_count": 99,
   "id": "a2a16439",
   "metadata": {
    "execution": {
     "iopub.execute_input": "2023-08-26T20:21:04.877772Z",
     "iopub.status.busy": "2023-08-26T20:21:04.877284Z",
     "iopub.status.idle": "2023-08-26T20:21:05.257287Z",
     "shell.execute_reply": "2023-08-26T20:21:05.255979Z",
     "shell.execute_reply.started": "2023-08-26T20:21:04.877737Z"
    }
   },
   "outputs": [],
   "source": [
    "# Pour faire des prédictions\n",
    "\n",
    "predictions = model.predict(images_test_final,\n",
    "                            batch_size=10,\n",
    "                            verbose=0) \n"
   ]
  },
  {
   "cell_type": "code",
   "execution_count": 100,
   "id": "d19cb590",
   "metadata": {
    "execution": {
     "iopub.execute_input": "2023-08-26T20:21:08.838498Z",
     "iopub.status.busy": "2023-08-26T20:21:08.838105Z",
     "iopub.status.idle": "2023-08-26T20:21:08.966894Z",
     "shell.execute_reply": "2023-08-26T20:21:08.965765Z",
     "shell.execute_reply.started": "2023-08-26T20:21:08.838468Z"
    }
   },
   "outputs": [
    {
     "name": "stdout",
     "output_type": "stream",
     "text": [
      "4/4 [==============================] - 0s 2ms/step\n"
     ]
    }
   ],
   "source": [
    "# Keras nous propose une autre méthode intéressante,\n",
    "# qui peut être utilisée pour prédire les valeurs de nouvelles données \n",
    "# (données que le réseau n'a pas encore vues). \n",
    "# Comme nous n'avons pas séparé auparavant un tel ensemble,\n",
    "# mais seulement divisé l'ensemble MNIST en données d'apprentissage et de test,\n",
    "# nous n'utiliserons qu'un sous-ensemble des données de test.\n",
    "# La méthode renverra un tableau de bord de 100 éléments.\n",
    "# Chaque élément indiquera les probabilités que l'entrée appartienne à une classe donnée.\n",
    "\n",
    "\n",
    "predictions = model.predict(images_test_final[0:100])\n"
   ]
  },
  {
   "cell_type": "code",
   "execution_count": 101,
   "id": "f1757b3d",
   "metadata": {
    "execution": {
     "iopub.execute_input": "2023-08-26T20:21:13.955320Z",
     "iopub.status.busy": "2023-08-26T20:21:13.954902Z",
     "iopub.status.idle": "2023-08-26T20:21:13.963787Z",
     "shell.execute_reply": "2023-08-26T20:21:13.962221Z",
     "shell.execute_reply.started": "2023-08-26T20:21:13.955287Z"
    }
   },
   "outputs": [
    {
     "data": {
      "text/plain": [
       "array([0.00624066, 0.9937594 ], dtype=float32)"
      ]
     },
     "execution_count": 101,
     "metadata": {},
     "output_type": "execute_result"
    }
   ],
   "source": [
    "#  pour voir la prédiction \n",
    "# la plupart des valeurs sont de très petits nombres \n",
    "# (très faible probabilité que l'image appartienne à cette classe)\n",
    "# \n",
    "\n",
    "predictions[0]\n"
   ]
  },
  {
   "cell_type": "code",
   "execution_count": 102,
   "id": "f0d7ba06",
   "metadata": {
    "execution": {
     "iopub.execute_input": "2023-08-26T20:21:17.049529Z",
     "iopub.status.busy": "2023-08-26T20:21:17.049119Z",
     "iopub.status.idle": "2023-08-26T20:21:17.057552Z",
     "shell.execute_reply": "2023-08-26T20:21:17.056357Z",
     "shell.execute_reply.started": "2023-08-26T20:21:17.049495Z"
    }
   },
   "outputs": [
    {
     "data": {
      "text/plain": [
       "1"
      ]
     },
     "execution_count": 102,
     "metadata": {},
     "output_type": "execute_result"
    }
   ],
   "source": [
    "\n",
    "np.argmax(predictions[1])\n"
   ]
  },
  {
   "cell_type": "code",
   "execution_count": 103,
   "id": "8d7bcc73",
   "metadata": {
    "execution": {
     "iopub.execute_input": "2023-08-26T20:21:20.234755Z",
     "iopub.status.busy": "2023-08-26T20:21:20.234338Z",
     "iopub.status.idle": "2023-08-26T20:21:20.242589Z",
     "shell.execute_reply": "2023-08-26T20:21:20.241389Z",
     "shell.execute_reply.started": "2023-08-26T20:21:20.234722Z"
    }
   },
   "outputs": [
    {
     "data": {
      "text/plain": [
       "6"
      ]
     },
     "execution_count": 103,
     "metadata": {},
     "output_type": "execute_result"
    }
   ],
   "source": [
    "\n",
    "labels_test_new[1]\n"
   ]
  },
  {
   "cell_type": "code",
   "execution_count": 104,
   "id": "5599f084",
   "metadata": {
    "execution": {
     "iopub.execute_input": "2023-08-26T20:21:23.285776Z",
     "iopub.status.busy": "2023-08-26T20:21:23.284965Z",
     "iopub.status.idle": "2023-08-26T20:21:23.570849Z",
     "shell.execute_reply": "2023-08-26T20:21:23.569782Z",
     "shell.execute_reply.started": "2023-08-26T20:21:23.285736Z"
    }
   },
   "outputs": [
    {
     "data": {
      "text/plain": [
       "<matplotlib.image.AxesImage at 0x7b4cf0453c10>"
      ]
     },
     "execution_count": 104,
     "metadata": {},
     "output_type": "execute_result"
    },
    {
     "data": {
      "image/png": "[encoded data removed]",
      "text/plain": [
       "<Figure size 640x480 with 1 Axes>"
      ]
     },
     "metadata": {},
     "output_type": "display_data"
    }
   ],
   "source": [
    "# Vérifions à quoi ressemble l'image. \n",
    "# Rappelez-vous que les données d'entrée du réseau ont été aplaties \n",
    "# dans le but de creer un vecteur d'une longueur de 784.\n",
    "# Avant de l'afficher, nous devons le reconvertir à la taille de 28 x 28 pixels. \n",
    "\n",
    "plt.imshow(images_test_new[1].reshape(28,28))\n"
   ]
  },
  {
   "cell_type": "code",
   "execution_count": 105,
   "id": "5f17e030",
   "metadata": {
    "execution": {
     "iopub.execute_input": "2023-08-26T20:21:26.857579Z",
     "iopub.status.busy": "2023-08-26T20:21:26.857184Z",
     "iopub.status.idle": "2023-08-26T20:21:26.863230Z",
     "shell.execute_reply": "2023-08-26T20:21:26.861931Z",
     "shell.execute_reply.started": "2023-08-26T20:21:26.857549Z"
    }
   },
   "outputs": [],
   "source": [
    "# nous avons un tableau à deux dimensions, \n",
    "# et non à un vecteur comme avec l'utilisation précédente de argmax,\n",
    "# Dans notre cas, le long de l'axe y, c'est-à-dire axis = 1. \n",
    "\n",
    "# le chiffre 0 représente le 5\n",
    "# le chiffre 1 représente le 6\n",
    "\n",
    "\n",
    "la_prediction=np.argmax(predictions, axis=1)\n"
   ]
  },
  {
   "cell_type": "code",
   "execution_count": 4,
   "id": "ce05e082",
   "metadata": {
    "execution": {
     "iopub.execute_input": "2023-08-26T20:21:31.356609Z",
     "iopub.status.busy": "2023-08-26T20:21:31.356217Z",
     "iopub.status.idle": "2023-08-26T20:21:31.365463Z",
     "shell.execute_reply": "2023-08-26T20:21:31.364302Z",
     "shell.execute_reply.started": "2023-08-26T20:21:31.356578Z"
    }
   },
   "outputs": [
    {
     "ename": "NameError",
     "evalue": "name 'np' is not defined",
     "output_type": "error",
     "traceback": [
      "\u001b[0;31m---------------------------------------------------------------------------\u001b[0m",
      "\u001b[0;31mNameError\u001b[0m                                 Traceback (most recent call last)",
      "\u001b[0;32m/tmp/ipykernel_4128/376776796.py\u001b[0m in \u001b[0;36m<module>\u001b[0;34m\u001b[0m\n\u001b[1;32m      6\u001b[0m \u001b[0;34m\u001b[0m\u001b[0m\n\u001b[1;32m      7\u001b[0m \u001b[0;34m\u001b[0m\u001b[0m\n\u001b[0;32m----> 8\u001b[0;31m \u001b[0mlabels_test_new_final\u001b[0m \u001b[0;34m=\u001b[0m \u001b[0mnp\u001b[0m\u001b[0;34m.\u001b[0m\u001b[0mzeros\u001b[0m\u001b[0;34m(\u001b[0m\u001b[0mla_prediction\u001b[0m\u001b[0;34m.\u001b[0m\u001b[0mshape\u001b[0m\u001b[0;34m)\u001b[0m\u001b[0;34m\u001b[0m\u001b[0;34m\u001b[0m\u001b[0m\n\u001b[0m\u001b[1;32m      9\u001b[0m \u001b[0mlabels_test_new_final\u001b[0m\u001b[0;34m[\u001b[0m\u001b[0mnp\u001b[0m\u001b[0;34m.\u001b[0m\u001b[0mwhere\u001b[0m\u001b[0;34m(\u001b[0m\u001b[0mla_prediction\u001b[0m\u001b[0;34m==\u001b[0m\u001b[0;36m1.0\u001b[0m\u001b[0;34m)\u001b[0m\u001b[0;34m[\u001b[0m\u001b[0;36m0\u001b[0m\u001b[0;34m]\u001b[0m\u001b[0;34m]\u001b[0m \u001b[0;34m=\u001b[0m \u001b[0;36m6\u001b[0m \u001b[0;31m# remplace le 6 par 1\u001b[0m\u001b[0;34m\u001b[0m\u001b[0;34m\u001b[0m\u001b[0m\n\u001b[1;32m     10\u001b[0m \u001b[0mlabels_test_new_final\u001b[0m\u001b[0;34m[\u001b[0m\u001b[0mnp\u001b[0m\u001b[0;34m.\u001b[0m\u001b[0mwhere\u001b[0m\u001b[0;34m(\u001b[0m\u001b[0mla_prediction\u001b[0m\u001b[0;34m==\u001b[0m\u001b[0;36m0.0\u001b[0m\u001b[0;34m)\u001b[0m\u001b[0;34m[\u001b[0m\u001b[0;36m0\u001b[0m\u001b[0;34m]\u001b[0m\u001b[0;34m]\u001b[0m \u001b[0;34m=\u001b[0m \u001b[0;36m5\u001b[0m \u001b[0;31m# remplace le 5 par 0\u001b[0m\u001b[0;34m\u001b[0m\u001b[0;34m\u001b[0m\u001b[0m\n",
      "\u001b[0;31mNameError\u001b[0m: name 'np' is not defined"
     ]
    }
   ],
   "source": [
    "# Dans le cadre d une classification \n",
    "# pour remplacer des chiffres par d'autres\n",
    "# le chiffre 5 est labelisé 0\n",
    "# le chiffre 6 est labelidé 1\n",
    "\n",
    "\n",
    "\n",
    "labels_test_new_final = np.zeros(la_prediction.shape)\n",
    "labels_test_new_final[np.where(la_prediction==1.0)[0]] = 6 # remplace le 6 par 1\n",
    "labels_test_new_final[np.where(la_prediction==0.0)[0]] = 5 # remplace le 5 par 0\n",
    "labels_test = labels_test_new_final\n",
    "\n",
    "labels_test_prediction = labels_test_new_final.T\n",
    "\n",
    "print('\\n labels_test_prediction =',labels_test_prediction[0:10])\n"
   ]
  },
  {
   "cell_type": "code",
   "execution_count": 107,
   "id": "6c1d31b4",
   "metadata": {
    "execution": {
     "iopub.execute_input": "2023-08-26T20:21:35.190985Z",
     "iopub.status.busy": "2023-08-26T20:21:35.190602Z",
     "iopub.status.idle": "2023-08-26T20:21:35.196092Z",
     "shell.execute_reply": "2023-08-26T20:21:35.194836Z",
     "shell.execute_reply.started": "2023-08-26T20:21:35.190954Z"
    }
   },
   "outputs": [],
   "source": [
    "labels_test_prediction=labels_test_prediction.astype(np.uint8)"
   ]
  },
  {
   "cell_type": "code",
   "execution_count": 108,
   "id": "978c89e3",
   "metadata": {
    "execution": {
     "iopub.execute_input": "2023-08-26T20:21:38.677455Z",
     "iopub.status.busy": "2023-08-26T20:21:38.677056Z",
     "iopub.status.idle": "2023-08-26T20:21:38.685884Z",
     "shell.execute_reply": "2023-08-26T20:21:38.684425Z",
     "shell.execute_reply.started": "2023-08-26T20:21:38.677422Z"
    }
   },
   "outputs": [
    {
     "data": {
      "text/plain": [
       "array([6, 6, 5, 6, 6, 5, 5, 6, 5, 5, 6, 5, 6, 6, 6, 6, 6, 6, 5, 5, 6, 5,\n",
       "       5, 6, 6, 5, 6, 6, 5, 5, 5, 6, 6, 5, 6, 5, 5, 5, 5, 6, 6, 5, 5, 6,\n",
       "       5, 5, 5, 5, 6, 5, 5, 6, 5, 6, 5, 5, 5, 6, 5, 6, 5, 5, 5, 6, 5, 6,\n",
       "       5, 6, 5, 6, 5, 6, 6, 6, 5, 5, 5, 5, 5, 6, 6, 6, 6, 5, 6, 6, 6, 5,\n",
       "       6, 5, 5, 5, 6, 5, 6, 5, 6, 6, 5, 6], dtype=uint8)"
      ]
     },
     "execution_count": 108,
     "metadata": {},
     "output_type": "execute_result"
    }
   ],
   "source": [
    "labels_test_prediction[0:100]"
   ]
  },
  {
   "cell_type": "code",
   "execution_count": 109,
   "id": "3e632aa4",
   "metadata": {
    "execution": {
     "iopub.execute_input": "2023-08-26T20:21:45.712399Z",
     "iopub.status.busy": "2023-08-26T20:21:45.711236Z",
     "iopub.status.idle": "2023-08-26T20:21:45.720652Z",
     "shell.execute_reply": "2023-08-26T20:21:45.719773Z",
     "shell.execute_reply.started": "2023-08-26T20:21:45.712351Z"
    }
   },
   "outputs": [
    {
     "data": {
      "text/plain": [
       "array([5, 6, 5, 6, 6, 5, 5, 6, 5, 5, 6, 5, 6, 6, 6, 6, 6, 6, 5, 5, 6, 5,\n",
       "       5, 6, 6, 5, 6, 6, 5, 5, 5, 6, 6, 5, 6, 5, 5, 5, 5, 6, 6, 5, 5, 6,\n",
       "       5, 5, 5, 5, 6, 5, 5, 6, 5, 6, 5, 5, 5, 6, 5, 6, 5, 5, 5, 6, 5, 6,\n",
       "       5, 6, 5, 6, 5, 6, 6, 6, 5, 5, 5, 5, 5, 6, 6, 6, 6, 5, 6, 6, 6, 5,\n",
       "       6, 5, 5, 5, 6, 5, 6, 5, 6, 6, 5, 6], dtype=uint8)"
      ]
     },
     "execution_count": 109,
     "metadata": {},
     "output_type": "execute_result"
    }
   ],
   "source": [
    "labels_test_new[0:100]"
   ]
  },
  {
   "cell_type": "code",
   "execution_count": 36,
   "id": "cbe50225",
   "metadata": {
    "execution": {
     "iopub.execute_input": "2023-08-26T20:02:54.937119Z",
     "iopub.status.busy": "2023-08-26T20:02:54.936724Z",
     "iopub.status.idle": "2023-08-26T20:02:54.949540Z",
     "shell.execute_reply": "2023-08-26T20:02:54.948232Z",
     "shell.execute_reply.started": "2023-08-26T20:02:54.937071Z"
    }
   },
   "outputs": [
    {
     "data": {
      "text/plain": [
       "0"
      ]
     },
     "execution_count": 36,
     "metadata": {},
     "output_type": "execute_result"
    }
   ],
   "source": [
    "# pour verifier ou il y a des erreurs.....si elle existe !\n",
    "\n",
    "fausse_prediction = np.argmin(np.argmax(predictions, axis=1) == labels_test_new[0:100])\n",
    "fausse_prediction\n"
   ]
  },
  {
   "cell_type": "code",
   "execution_count": 37,
   "id": "2ef63ac9",
   "metadata": {
    "execution": {
     "iopub.execute_input": "2023-08-26T20:02:54.953700Z",
     "iopub.status.busy": "2023-08-26T20:02:54.953332Z",
     "iopub.status.idle": "2023-08-26T20:02:54.988935Z",
     "shell.execute_reply": "2023-08-26T20:02:54.987723Z",
     "shell.execute_reply.started": "2023-08-26T20:02:54.953665Z"
    }
   },
   "outputs": [
    {
     "name": "stdout",
     "output_type": "stream",
     "text": [
      "tf.Tensor(\n",
      "[[0.66115654 0.33884346]\n",
      " [0.26894718 0.7310529 ]\n",
      " [0.73105276 0.26894724]\n",
      " [0.35361135 0.64638865]\n",
      " [0.26894832 0.7310516 ]\n",
      " [0.7310485  0.26895148]\n",
      " [0.7310353  0.26896468]\n",
      " [0.26940918 0.7305908 ]\n",
      " [0.7310539  0.2689461 ]\n",
      " [0.731019   0.26898092]], shape=(10, 2), dtype=float32)\n"
     ]
    },
    {
     "data": {
      "text/html": [
       "<div>\n",
       "<style scoped>\n",
       "    .dataframe tbody tr th:only-of-type {\n",
       "        vertical-align: middle;\n",
       "    }\n",
       "\n",
       "    .dataframe tbody tr th {\n",
       "        vertical-align: top;\n",
       "    }\n",
       "\n",
       "    .dataframe thead th {\n",
       "        text-align: right;\n",
       "    }\n",
       "</style>\n",
       "<table border=\"1\" class=\"dataframe\">\n",
       "  <thead>\n",
       "    <tr style=\"text-align: right;\">\n",
       "      <th></th>\n",
       "      <th>5</th>\n",
       "      <th>6</th>\n",
       "    </tr>\n",
       "  </thead>\n",
       "  <tbody>\n",
       "    <tr>\n",
       "      <th>0</th>\n",
       "      <td>1</td>\n",
       "      <td>0</td>\n",
       "    </tr>\n",
       "    <tr>\n",
       "      <th>1</th>\n",
       "      <td>0</td>\n",
       "      <td>1</td>\n",
       "    </tr>\n",
       "  </tbody>\n",
       "</table>\n",
       "</div>"
      ],
      "text/plain": [
       "   5  6\n",
       "0  1  0\n",
       "1  0  1"
      ]
     },
     "execution_count": 37,
     "metadata": {},
     "output_type": "execute_result"
    }
   ],
   "source": [
    "# Appliquons un softmax, pour obtenir des probabilités\n",
    "# La somme d une ligne est égale à 1\n",
    "# La fonction tf.nn.softmax convertit ces logits en probabilités pour chaque classe :\n",
    "# La première colonne correspond aux probabilités de la classe 0 c'est à dire le premier chiffre\n",
    "# La seconde colonne correspond aux probabilités de la classe 1 c'est à dire le deuxieme chiffre\n",
    "# \n",
    "# ici la classe 5 est représentée par 0\n",
    "# ici la classe 6 est représentée par 1\n",
    "\n",
    "\n",
    "\n",
    "\n",
    "print(tf.nn.softmax(predictions[:10]))\n",
    "\n",
    "# Methone pour afficher les classes des chiffres\n",
    "name_classes=[5,6]\n",
    "one_hot_encode=pandas.get_dummies(name_classes)\n",
    "one_hot_encode\n"
   ]
  },
  {
   "cell_type": "code",
   "execution_count": 38,
   "id": "3cafac8f",
   "metadata": {
    "execution": {
     "iopub.execute_input": "2023-08-26T20:02:54.990987Z",
     "iopub.status.busy": "2023-08-26T20:02:54.990651Z",
     "iopub.status.idle": "2023-08-26T20:02:55.007970Z",
     "shell.execute_reply": "2023-08-26T20:02:55.007103Z",
     "shell.execute_reply.started": "2023-08-26T20:02:54.990958Z"
    }
   },
   "outputs": [
    {
     "name": "stdout",
     "output_type": "stream",
     "text": [
      "Prediction: [0 1 0 1 1 0 0 1 0 0 1 0 1 1 1 1 1 1 0 0 1 0 0 1 1 0 1 1 0 0]\n",
      "    Labels: [5 6 5 6 6 5 5 6 5 5 6 5 6 6 6 6 6 6 5 5 6 5 5 6 6 5 6 6 5 5]\n"
     ]
    },
    {
     "data": {
      "text/html": [
       "<div>\n",
       "<style scoped>\n",
       "    .dataframe tbody tr th:only-of-type {\n",
       "        vertical-align: middle;\n",
       "    }\n",
       "\n",
       "    .dataframe tbody tr th {\n",
       "        vertical-align: top;\n",
       "    }\n",
       "\n",
       "    .dataframe thead th {\n",
       "        text-align: right;\n",
       "    }\n",
       "</style>\n",
       "<table border=\"1\" class=\"dataframe\">\n",
       "  <thead>\n",
       "    <tr style=\"text-align: right;\">\n",
       "      <th></th>\n",
       "      <th>3</th>\n",
       "      <th>6</th>\n",
       "      <th>8</th>\n",
       "      <th>9</th>\n",
       "    </tr>\n",
       "  </thead>\n",
       "  <tbody>\n",
       "    <tr>\n",
       "      <th>0</th>\n",
       "      <td>1</td>\n",
       "      <td>0</td>\n",
       "      <td>0</td>\n",
       "      <td>0</td>\n",
       "    </tr>\n",
       "    <tr>\n",
       "      <th>1</th>\n",
       "      <td>0</td>\n",
       "      <td>1</td>\n",
       "      <td>0</td>\n",
       "      <td>0</td>\n",
       "    </tr>\n",
       "    <tr>\n",
       "      <th>2</th>\n",
       "      <td>0</td>\n",
       "      <td>0</td>\n",
       "      <td>1</td>\n",
       "      <td>0</td>\n",
       "    </tr>\n",
       "    <tr>\n",
       "      <th>3</th>\n",
       "      <td>0</td>\n",
       "      <td>0</td>\n",
       "      <td>0</td>\n",
       "      <td>1</td>\n",
       "    </tr>\n",
       "  </tbody>\n",
       "</table>\n",
       "</div>"
      ],
      "text/plain": [
       "   3  6  8  9\n",
       "0  1  0  0  0\n",
       "1  0  1  0  0\n",
       "2  0  0  1  0\n",
       "3  0  0  0  1"
      ]
     },
     "execution_count": 38,
     "metadata": {},
     "output_type": "execute_result"
    }
   ],
   "source": [
    "\n",
    "labels = (labels_test_new)[0:30]\n",
    "print(\"Prediction: {}\".format(tf.argmax(predictions[0:30], axis=1)))\n",
    "print(\"    Labels: {}\".format(labels))\n",
    "\n",
    "name_classes=[3,6,8,9]\n",
    "one_hot_encode=pandas.get_dummies(name_classes)\n",
    "one_hot_encode\n"
   ]
  },
  {
   "cell_type": "code",
   "execution_count": 39,
   "id": "ce728ba2",
   "metadata": {
    "execution": {
     "iopub.execute_input": "2023-08-26T20:02:55.009913Z",
     "iopub.status.busy": "2023-08-26T20:02:55.009155Z",
     "iopub.status.idle": "2023-08-26T20:02:55.014542Z",
     "shell.execute_reply": "2023-08-26T20:02:55.013116Z",
     "shell.execute_reply.started": "2023-08-26T20:02:55.009879Z"
    }
   },
   "outputs": [],
   "source": [
    "\n",
    "\n",
    "# fin ************************************************************************************\n",
    "\n"
   ]
  }
 ],
 "metadata": {
  "kernelspec": {
   "display_name": "Python 3",
   "language": "python",
   "name": "python3"
  },
  "language_info": {
   "codemirror_mode": {
    "name": "ipython",
    "version": 3
   },
   "file_extension": ".py",
   "mimetype": "text/x-python",
   "name": "python",
   "nbconvert_exporter": "python",
   "pygments_lexer": "ipython3",
   "version": "3.9.13"
  }
 },
 "nbformat": 4,
 "nbformat_minor": 5
}
