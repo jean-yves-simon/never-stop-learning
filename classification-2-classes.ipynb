{
 "cells": [
  {
   "cell_type": "code",
   "execution_count": 1,
   "id": "732caaca",
   "metadata": {
    "execution": {
     "iopub.execute_input": "2023-08-26T20:02:29.635779Z",
     "iopub.status.busy": "2023-08-26T20:02:29.635352Z",
     "iopub.status.idle": "2023-08-26T20:02:29.662587Z",
     "shell.execute_reply": "2023-08-26T20:02:29.661437Z",
     "shell.execute_reply.started": "2023-08-26T20:02:29.635743Z"
    }
   },
   "outputs": [],
   "source": [
    "\n",
    "\n",
    "# debut *********************************************************************************\n",
    "\n"
   ]
  },
  {
   "cell_type": "code",
   "execution_count": 1,
   "id": "12e5f345",
   "metadata": {},
   "outputs": [
    {
     "name": "stderr",
     "output_type": "stream",
     "text": [
      "2024-07-11 15:14:20.488344: I external/local_tsl/tsl/cuda/cudart_stub.cc:32] Could not find cuda drivers on your machine, GPU will not be used.\n",
      "2024-07-11 15:14:20.492712: I external/local_tsl/tsl/cuda/cudart_stub.cc:32] Could not find cuda drivers on your machine, GPU will not be used.\n",
      "2024-07-11 15:14:20.535186: E external/local_xla/xla/stream_executor/cuda/cuda_fft.cc:479] Unable to register cuFFT factory: Attempting to register factory for plugin cuFFT when one has already been registered\n",
      "2024-07-11 15:14:20.589897: E external/local_xla/xla/stream_executor/cuda/cuda_dnn.cc:10575] Unable to register cuDNN factory: Attempting to register factory for plugin cuDNN when one has already been registered\n",
      "2024-07-11 15:14:20.590837: E external/local_xla/xla/stream_executor/cuda/cuda_blas.cc:1442] Unable to register cuBLAS factory: Attempting to register factory for plugin cuBLAS when one has already been registered\n",
      "2024-07-11 15:14:20.670187: I tensorflow/core/platform/cpu_feature_guard.cc:210] This TensorFlow binary is optimized to use available CPU instructions in performance-critical operations.\n",
      "To enable the following instructions: AVX2 FMA, in other operations, rebuild TensorFlow with the appropriate compiler flags.\n",
      "2024-07-11 15:14:22.713131: W tensorflow/compiler/tf2tensorrt/utils/py_utils.cc:38] TF-TRT Warning: Could not find TensorRT\n"
     ]
    },
    {
     "name": "stdout",
     "output_type": "stream",
     "text": [
      "3.4.1\n"
     ]
    }
   ],
   "source": [
    "import numpy as np\n",
    "import matplotlib.pyplot as plt\n",
    "from PIL import Image\n",
    "from keras.layers import Dense, Dropout\n",
    "from matplotlib.pyplot import imshow\n",
    "%matplotlib inline\n",
    "from tensorflow.keras.optimizers import Adam\n",
    "from tensorflow.keras.models import Sequential\n",
    "from tensorflow import keras\n",
    "from tensorflow.keras.layers import Activation, Dense\n",
    "print (keras.__version__)\n",
    "from sklearn.preprocessing import MinMaxScaler\n",
    "import keras\n",
    "import pandas\n",
    "from PIL import Image\n",
    "from matplotlib.pyplot import imshow\n",
    "from keras import utils as np_utils\n",
    "from keras.datasets import mnist\n",
    "from keras.models import Sequential\n",
    "from keras.layers import Dense, Dropout\n",
    "from tensorflow.keras.optimizers import RMSprop\n",
    "import numpy as np\n",
    "from sklearn.metrics import accuracy_score\n",
    "from sklearn.model_selection import train_test_split\n",
    "from sklearn import preprocessing\n",
    "import tensorflow as tf\n",
    "from tensorflow.keras import layers\n",
    "from tensorflow.keras.utils import to_categorical\n",
    "from sklearn.preprocessing import MinMaxScaler"
   ]
  },
  {
   "cell_type": "markdown",
   "id": "5dc89693",
   "metadata": {},
   "source": [
    "#  Chargement des jeux de données"
   ]
  },
  {
   "cell_type": "code",
   "execution_count": 4,
   "id": "f1a41de5",
   "metadata": {},
   "outputs": [],
   "source": [
    "\n",
    "from keras.datasets import mnist\n"
   ]
  },
  {
   "cell_type": "code",
   "execution_count": 6,
   "id": "423b9433",
   "metadata": {},
   "outputs": [],
   "source": [
    "\n",
    "(images_entrainement,labels_entrainement),(images_test,labels_test)=mnist.load_data()\n"
   ]
  },
  {
   "cell_type": "code",
   "execution_count": 8,
   "id": "b8f607dc",
   "metadata": {},
   "outputs": [
    {
     "data": {
      "text/plain": [
       "(60000, 28, 28)"
      ]
     },
     "execution_count": 8,
     "metadata": {},
     "output_type": "execute_result"
    }
   ],
   "source": [
    "\n",
    "images_entrainement.shape\n"
   ]
  },
  {
   "cell_type": "code",
   "execution_count": 10,
   "id": "9d6dcfdd",
   "metadata": {},
   "outputs": [
    {
     "data": {
      "text/plain": [
       "(60000,)"
      ]
     },
     "execution_count": 10,
     "metadata": {},
     "output_type": "execute_result"
    }
   ],
   "source": [
    "\n",
    "labels_entrainement.shape\n"
   ]
  },
  {
   "cell_type": "code",
   "execution_count": 12,
   "id": "733c270e",
   "metadata": {},
   "outputs": [
    {
     "data": {
      "text/plain": [
       "(10000, 28, 28)"
      ]
     },
     "execution_count": 12,
     "metadata": {},
     "output_type": "execute_result"
    }
   ],
   "source": [
    "\n",
    "images_test.shape\n"
   ]
  },
  {
   "cell_type": "code",
   "execution_count": 14,
   "id": "c4d19002",
   "metadata": {},
   "outputs": [
    {
     "data": {
      "text/plain": [
       "(10000,)"
      ]
     },
     "execution_count": 14,
     "metadata": {},
     "output_type": "execute_result"
    }
   ],
   "source": [
    "\n",
    "labels_test.shape\n"
   ]
  },
  {
   "cell_type": "code",
   "execution_count": 16,
   "id": "6e7bf124",
   "metadata": {},
   "outputs": [
    {
     "data": {
      "text/plain": [
       "array([5, 0, 4, 1, 9, 2, 1, 3, 1, 4], dtype=uint8)"
      ]
     },
     "execution_count": 16,
     "metadata": {},
     "output_type": "execute_result"
    }
   ],
   "source": [
    "\n",
    "labels_entrainement[0:10]\n"
   ]
  },
  {
   "cell_type": "markdown",
   "id": "68581541",
   "metadata": {},
   "source": [
    "# Préparation des données"
   ]
  },
  {
   "cell_type": "code",
   "execution_count": 21,
   "id": "67e570ef",
   "metadata": {},
   "outputs": [],
   "source": [
    "# Données d'Entrainement : \n",
    "# ici je selectionne par exemple les chiffres 5 et 6\n",
    "\n",
    "images_entrainement_new, labels_entrainement_new = images_entrainement[(labels_entrainement==5) | (labels_entrainement==6)],\\\n",
    "labels_entrainement[(labels_entrainement==5) | (labels_entrainement==6)]\n"
   ]
  },
  {
   "cell_type": "code",
   "execution_count": 23,
   "id": "36e5f51b",
   "metadata": {},
   "outputs": [
    {
     "data": {
      "text/plain": [
       "(11339, 28, 28)"
      ]
     },
     "execution_count": 23,
     "metadata": {},
     "output_type": "execute_result"
    }
   ],
   "source": [
    "# nombre d image et dimension\n",
    "\n",
    "images_entrainement_new.shape\n"
   ]
  },
  {
   "cell_type": "code",
   "execution_count": 25,
   "id": "a5f6be8d",
   "metadata": {},
   "outputs": [],
   "source": [
    "# Données d'entrainement:\n",
    "# je Normalise les données avec reshape et ( 28 * 28 ) = 784\n",
    "\n",
    "images_entrainement_final = images_entrainement_new.reshape(11339, 784)\n",
    "images_entrainement_final = images_entrainement_final.astype('float32')/255\n"
   ]
  },
  {
   "cell_type": "code",
   "execution_count": 27,
   "id": "b11ccd9d",
   "metadata": {},
   "outputs": [],
   "source": [
    "# Maintenant je procede de la meme maniere pour les données de test :\n",
    "# et je selection egalement les chiffres 5 et 6\n",
    "\n",
    "images_test_new, labels_test_new = images_test[(labels_test==5) | (labels_test==6)],\\\n",
    "labels_test[(labels_test==5) | (labels_test==6)]\n"
   ]
  },
  {
   "cell_type": "code",
   "execution_count": 29,
   "id": "2cea3f85",
   "metadata": {},
   "outputs": [
    {
     "data": {
      "text/plain": [
       "(1850, 28, 28)"
      ]
     },
     "execution_count": 29,
     "metadata": {},
     "output_type": "execute_result"
    }
   ],
   "source": [
    "\n",
    "images_test_new.shape\n"
   ]
  },
  {
   "cell_type": "code",
   "execution_count": 37,
   "id": "740a8493",
   "metadata": {},
   "outputs": [],
   "source": [
    "# Données de test:\n",
    "# meme chose pour la Normalisation \n",
    "\n",
    "images_test_final = images_test_new.reshape(1850, 784)\n",
    "images_test_final = images_test_final.astype('float32')/255\n"
   ]
  },
  {
   "cell_type": "code",
   "execution_count": 47,
   "id": "cff4a73b",
   "metadata": {},
   "outputs": [],
   "source": [
    "# Données d'entrainement \n",
    "# maintenant ça se corse... un peu !\n",
    "from keras.utils import to_categorical\n",
    "# je procede à l'Encodage des étiquettes  afin qu'elles soient utilisable par le réseau de neurones\n",
    "\n",
    "from sklearn import preprocessing\n",
    "le = preprocessing.LabelEncoder()\n",
    "\n",
    "# Encodage des chiffres\n",
    "labels_entrainement_new_fit=le.fit_transform(labels_entrainement_new)\n",
    "catego_labels_entrainement_new=tf.keras.utils.to_categorical(labels_entrainement_new_fit,num_classes=2)\n"
   ]
  },
  {
   "cell_type": "code",
   "execution_count": 49,
   "id": "45326ae3",
   "metadata": {},
   "outputs": [],
   "source": [
    "# idem pour les données de test\n",
    "\n",
    "\n",
    "from sklearn import preprocessing\n",
    "le = preprocessing.LabelEncoder()\n",
    "\n",
    "# Encodage des chiffres.\n",
    "labels_test_new_fit=le.fit_transform(labels_test_new)\n",
    "catego_labels_test_new=tf.keras.utils.to_categorical(labels_test_new_fit,num_classes=2)\n"
   ]
  },
  {
   "cell_type": "markdown",
   "id": "d9d24ec7",
   "metadata": {},
   "source": [
    "## Architecture de reseau"
   ]
  },
  {
   "cell_type": "code",
   "execution_count": 52,
   "id": "fe68d58e",
   "metadata": {},
   "outputs": [
    {
     "name": "stderr",
     "output_type": "stream",
     "text": [
      "/home/jean/anaconda3/lib/python3.12/site-packages/keras/src/layers/core/dense.py:87: UserWarning: Do not pass an `input_shape`/`input_dim` argument to a layer. When using Sequential models, prefer using an `Input(shape)` object as the first layer in the model instead.\n",
      "  super().__init__(activity_regularizer=activity_regularizer, **kwargs)\n"
     ]
    }
   ],
   "source": [
    "\n",
    "\n",
    "model = Sequential([\n",
    "   Dense(16, activation='relu', input_shape=(784,)),\n",
    "   Dropout(rate=0.05),\n",
    "   Dense(16, activation='relu'),\n",
    "   Dropout(rate=0.05),\n",
    "   Dense(16, activation='relu'),\n",
    "   Dense(2, activation='softmax')\n",
    "])\n"
   ]
  },
  {
   "cell_type": "code",
   "execution_count": 54,
   "id": "12f84a1b",
   "metadata": {},
   "outputs": [
    {
     "data": {
      "text/html": [
       "<pre style=\"white-space:pre;overflow-x:auto;line-height:normal;font-family:Menlo,'DejaVu Sans Mono',consolas,'Courier New',monospace\"><span style=\"font-weight: bold\">Model: \"sequential\"</span>\n",
       "</pre>\n"
      ],
      "text/plain": [
       "\u001b[1mModel: \"sequential\"\u001b[0m\n"
      ]
     },
     "metadata": {},
     "output_type": "display_data"
    },
    {
     "data": {
      "text/html": [
       "<pre style=\"white-space:pre;overflow-x:auto;line-height:normal;font-family:Menlo,'DejaVu Sans Mono',consolas,'Courier New',monospace\">┏━━━━━━━━━━━━━━━━━━━━━━━━━━━━━━━━━┳━━━━━━━━━━━━━━━━━━━━━━━━┳━━━━━━━━━━━━━━━┓\n",
       "┃<span style=\"font-weight: bold\"> Layer (type)                    </span>┃<span style=\"font-weight: bold\"> Output Shape           </span>┃<span style=\"font-weight: bold\">       Param # </span>┃\n",
       "┡━━━━━━━━━━━━━━━━━━━━━━━━━━━━━━━━━╇━━━━━━━━━━━━━━━━━━━━━━━━╇━━━━━━━━━━━━━━━┩\n",
       "│ dense (<span style=\"color: #0087ff; text-decoration-color: #0087ff\">Dense</span>)                   │ (<span style=\"color: #00d7ff; text-decoration-color: #00d7ff\">None</span>, <span style=\"color: #00af00; text-decoration-color: #00af00\">16</span>)             │        <span style=\"color: #00af00; text-decoration-color: #00af00\">12,560</span> │\n",
       "├─────────────────────────────────┼────────────────────────┼───────────────┤\n",
       "│ dropout (<span style=\"color: #0087ff; text-decoration-color: #0087ff\">Dropout</span>)               │ (<span style=\"color: #00d7ff; text-decoration-color: #00d7ff\">None</span>, <span style=\"color: #00af00; text-decoration-color: #00af00\">16</span>)             │             <span style=\"color: #00af00; text-decoration-color: #00af00\">0</span> │\n",
       "├─────────────────────────────────┼────────────────────────┼───────────────┤\n",
       "│ dense_1 (<span style=\"color: #0087ff; text-decoration-color: #0087ff\">Dense</span>)                 │ (<span style=\"color: #00d7ff; text-decoration-color: #00d7ff\">None</span>, <span style=\"color: #00af00; text-decoration-color: #00af00\">16</span>)             │           <span style=\"color: #00af00; text-decoration-color: #00af00\">272</span> │\n",
       "├─────────────────────────────────┼────────────────────────┼───────────────┤\n",
       "│ dropout_1 (<span style=\"color: #0087ff; text-decoration-color: #0087ff\">Dropout</span>)             │ (<span style=\"color: #00d7ff; text-decoration-color: #00d7ff\">None</span>, <span style=\"color: #00af00; text-decoration-color: #00af00\">16</span>)             │             <span style=\"color: #00af00; text-decoration-color: #00af00\">0</span> │\n",
       "├─────────────────────────────────┼────────────────────────┼───────────────┤\n",
       "│ dense_2 (<span style=\"color: #0087ff; text-decoration-color: #0087ff\">Dense</span>)                 │ (<span style=\"color: #00d7ff; text-decoration-color: #00d7ff\">None</span>, <span style=\"color: #00af00; text-decoration-color: #00af00\">16</span>)             │           <span style=\"color: #00af00; text-decoration-color: #00af00\">272</span> │\n",
       "├─────────────────────────────────┼────────────────────────┼───────────────┤\n",
       "│ dense_3 (<span style=\"color: #0087ff; text-decoration-color: #0087ff\">Dense</span>)                 │ (<span style=\"color: #00d7ff; text-decoration-color: #00d7ff\">None</span>, <span style=\"color: #00af00; text-decoration-color: #00af00\">2</span>)              │            <span style=\"color: #00af00; text-decoration-color: #00af00\">34</span> │\n",
       "└─────────────────────────────────┴────────────────────────┴───────────────┘\n",
       "</pre>\n"
      ],
      "text/plain": [
       "┏━━━━━━━━━━━━━━━━━━━━━━━━━━━━━━━━━┳━━━━━━━━━━━━━━━━━━━━━━━━┳━━━━━━━━━━━━━━━┓\n",
       "┃\u001b[1m \u001b[0m\u001b[1mLayer (type)                   \u001b[0m\u001b[1m \u001b[0m┃\u001b[1m \u001b[0m\u001b[1mOutput Shape          \u001b[0m\u001b[1m \u001b[0m┃\u001b[1m \u001b[0m\u001b[1m      Param #\u001b[0m\u001b[1m \u001b[0m┃\n",
       "┡━━━━━━━━━━━━━━━━━━━━━━━━━━━━━━━━━╇━━━━━━━━━━━━━━━━━━━━━━━━╇━━━━━━━━━━━━━━━┩\n",
       "│ dense (\u001b[38;5;33mDense\u001b[0m)                   │ (\u001b[38;5;45mNone\u001b[0m, \u001b[38;5;34m16\u001b[0m)             │        \u001b[38;5;34m12,560\u001b[0m │\n",
       "├─────────────────────────────────┼────────────────────────┼───────────────┤\n",
       "│ dropout (\u001b[38;5;33mDropout\u001b[0m)               │ (\u001b[38;5;45mNone\u001b[0m, \u001b[38;5;34m16\u001b[0m)             │             \u001b[38;5;34m0\u001b[0m │\n",
       "├─────────────────────────────────┼────────────────────────┼───────────────┤\n",
       "│ dense_1 (\u001b[38;5;33mDense\u001b[0m)                 │ (\u001b[38;5;45mNone\u001b[0m, \u001b[38;5;34m16\u001b[0m)             │           \u001b[38;5;34m272\u001b[0m │\n",
       "├─────────────────────────────────┼────────────────────────┼───────────────┤\n",
       "│ dropout_1 (\u001b[38;5;33mDropout\u001b[0m)             │ (\u001b[38;5;45mNone\u001b[0m, \u001b[38;5;34m16\u001b[0m)             │             \u001b[38;5;34m0\u001b[0m │\n",
       "├─────────────────────────────────┼────────────────────────┼───────────────┤\n",
       "│ dense_2 (\u001b[38;5;33mDense\u001b[0m)                 │ (\u001b[38;5;45mNone\u001b[0m, \u001b[38;5;34m16\u001b[0m)             │           \u001b[38;5;34m272\u001b[0m │\n",
       "├─────────────────────────────────┼────────────────────────┼───────────────┤\n",
       "│ dense_3 (\u001b[38;5;33mDense\u001b[0m)                 │ (\u001b[38;5;45mNone\u001b[0m, \u001b[38;5;34m2\u001b[0m)              │            \u001b[38;5;34m34\u001b[0m │\n",
       "└─────────────────────────────────┴────────────────────────┴───────────────┘\n"
      ]
     },
     "metadata": {},
     "output_type": "display_data"
    },
    {
     "data": {
      "text/html": [
       "<pre style=\"white-space:pre;overflow-x:auto;line-height:normal;font-family:Menlo,'DejaVu Sans Mono',consolas,'Courier New',monospace\"><span style=\"font-weight: bold\"> Total params: </span><span style=\"color: #00af00; text-decoration-color: #00af00\">13,138</span> (51.32 KB)\n",
       "</pre>\n"
      ],
      "text/plain": [
       "\u001b[1m Total params: \u001b[0m\u001b[38;5;34m13,138\u001b[0m (51.32 KB)\n"
      ]
     },
     "metadata": {},
     "output_type": "display_data"
    },
    {
     "data": {
      "text/html": [
       "<pre style=\"white-space:pre;overflow-x:auto;line-height:normal;font-family:Menlo,'DejaVu Sans Mono',consolas,'Courier New',monospace\"><span style=\"font-weight: bold\"> Trainable params: </span><span style=\"color: #00af00; text-decoration-color: #00af00\">13,138</span> (51.32 KB)\n",
       "</pre>\n"
      ],
      "text/plain": [
       "\u001b[1m Trainable params: \u001b[0m\u001b[38;5;34m13,138\u001b[0m (51.32 KB)\n"
      ]
     },
     "metadata": {},
     "output_type": "display_data"
    },
    {
     "data": {
      "text/html": [
       "<pre style=\"white-space:pre;overflow-x:auto;line-height:normal;font-family:Menlo,'DejaVu Sans Mono',consolas,'Courier New',monospace\"><span style=\"font-weight: bold\"> Non-trainable params: </span><span style=\"color: #00af00; text-decoration-color: #00af00\">0</span> (0.00 B)\n",
       "</pre>\n"
      ],
      "text/plain": [
       "\u001b[1m Non-trainable params: \u001b[0m\u001b[38;5;34m0\u001b[0m (0.00 B)\n"
      ]
     },
     "metadata": {},
     "output_type": "display_data"
    }
   ],
   "source": [
    "model.summary()"
   ]
  },
  {
   "cell_type": "markdown",
   "id": "a35ccd7b",
   "metadata": {},
   "source": [
    "## Compilation  du modele"
   ]
  },
  {
   "cell_type": "code",
   "execution_count": 57,
   "id": "adf17c80",
   "metadata": {},
   "outputs": [],
   "source": [
    "model.compile(optimizer='Adam',\n",
    "              loss='categorical_crossentropy',\n",
    "              metrics=['accuracy'])"
   ]
  },
  {
   "cell_type": "markdown",
   "id": "2b2d8031",
   "metadata": {},
   "source": [
    "## Entrainement du modele"
   ]
  },
  {
   "cell_type": "code",
   "execution_count": 73,
   "id": "f6c8c8f0-089c-417d-b8b2-98452b72be55",
   "metadata": {},
   "outputs": [
    {
     "name": "stdout",
     "output_type": "stream",
     "text": [
      "Epoch 1/3\n",
      "\u001b[1m125/125\u001b[0m \u001b[32m━━━━━━━━━━━━━━━━━━━━\u001b[0m\u001b[37m\u001b[0m \u001b[1m2s\u001b[0m 4ms/step - accuracy: 0.8577 - loss: 0.3513 - val_accuracy: 0.9785 - val_loss: 0.0680\n",
      "Epoch 2/3\n",
      "\u001b[1m125/125\u001b[0m \u001b[32m━━━━━━━━━━━━━━━━━━━━\u001b[0m\u001b[37m\u001b[0m \u001b[1m0s\u001b[0m 3ms/step - accuracy: 0.9730 - loss: 0.0745 - val_accuracy: 0.9774 - val_loss: 0.0649\n",
      "Epoch 3/3\n",
      "\u001b[1m125/125\u001b[0m \u001b[32m━━━━━━━━━━━━━━━━━━━━\u001b[0m\u001b[37m\u001b[0m \u001b[1m0s\u001b[0m 3ms/step - accuracy: 0.9775 - loss: 0.0602 - val_accuracy: 0.9800 - val_loss: 0.0617\n"
     ]
    }
   ],
   "source": [
    "\n",
    "history=model.fit(\n",
    "  x=images_entrainement_final,\n",
    "  y=catego_labels_entrainement_new,\n",
    "  shuffle=True,\n",
    "  epochs=3,\n",
    "  batch_size=64,\n",
    "  validation_split=0.3\n",
    ")"
   ]
  },
  {
   "cell_type": "code",
   "execution_count": 75,
   "id": "1dbdc8e3",
   "metadata": {},
   "outputs": [
    {
     "name": "stdout",
     "output_type": "stream",
     "text": [
      "\u001b[1m58/58\u001b[0m \u001b[32m━━━━━━━━━━━━━━━━━━━━\u001b[0m\u001b[37m\u001b[0m \u001b[1m0s\u001b[0m 2ms/step - accuracy: 0.9834 - loss: 0.0571\n"
     ]
    }
   ],
   "source": [
    "# Pour faire une évaluation\n",
    "\n",
    "evaluation = model.evaluate(images_test_final, catego_labels_test_new)\n"
   ]
  },
  {
   "cell_type": "markdown",
   "id": "de829e65",
   "metadata": {},
   "source": [
    "# Tracé des courbes"
   ]
  },
  {
   "cell_type": "code",
   "execution_count": 78,
   "id": "896e411f",
   "metadata": {},
   "outputs": [
    {
     "data": {
      "image/png": "[encoded data removed]",
      "text/plain": [
       "<Figure size 640x480 with 1 Axes>"
      ]
     },
     "metadata": {},
     "output_type": "display_data"
    }
   ],
   "source": [
    "# Affichage des pertes\n",
    "\n",
    "from matplotlib import pyplot\n",
    "\n",
    "pyplot.title('Performances')\n",
    "pyplot.xlabel('Epoch')\n",
    "pyplot.ylabel('pertes')\n",
    "pyplot.plot(history.history['loss'], label='entrainement')\n",
    "pyplot.plot(history.history['val_loss'], label='validation')\n",
    "\n",
    "\n",
    "pyplot.legend()\n",
    "pyplot.show()\n"
   ]
  },
  {
   "cell_type": "code",
   "execution_count": 80,
   "id": "c0938098",
   "metadata": {},
   "outputs": [
    {
     "data": {
      "image/png": "[encoded data removed]",
      "text/plain": [
       "<Figure size 640x480 with 1 Axes>"
      ]
     },
     "metadata": {},
     "output_type": "display_data"
    }
   ],
   "source": [
    "# Affichage de la précision\n",
    "\n",
    "from matplotlib import pyplot\n",
    "\n",
    "pyplot.title('Performances')\n",
    "pyplot.xlabel('Epoch')\n",
    "pyplot.ylabel('precision')\n",
    "pyplot.plot(history.history['accuracy'], label='entrainement')\n",
    "pyplot.plot(history.history['val_accuracy'], label='validation')\n",
    "\n",
    "pyplot.legend()\n",
    "pyplot.show()\n"
   ]
  },
  {
   "cell_type": "markdown",
   "id": "8b6d4b6a",
   "metadata": {},
   "source": [
    "# Sauvegarde du modele"
   ]
  },
  {
   "cell_type": "code",
   "execution_count": 82,
   "id": "53f46151",
   "metadata": {},
   "outputs": [
    {
     "name": "stderr",
     "output_type": "stream",
     "text": [
      "WARNING:absl:You are saving your model as an HDF5 file via `model.save()` or `keras.saving.save_model(model)`. This file format is considered legacy. We recommend using instead the native Keras format, e.g. `model.save('my_model.keras')` or `keras.saving.save_model(model, 'my_model.keras')`. \n"
     ]
    }
   ],
   "source": [
    "\n",
    "# Sauvegarde du modele\n",
    "\n",
    "\n",
    "model.save(r'./classification_2_classes_Keras.hdf5')\n"
   ]
  },
  {
   "cell_type": "markdown",
   "id": "31928e59",
   "metadata": {},
   "source": [
    "# Prédictions"
   ]
  },
  {
   "cell_type": "code",
   "execution_count": 84,
   "id": "a2a16439",
   "metadata": {},
   "outputs": [],
   "source": [
    "# Pour faire des prédictions\n",
    "\n",
    "predictions = model.predict(images_test_final,\n",
    "                            batch_size=10,\n",
    "                            verbose=0) \n"
   ]
  },
  {
   "cell_type": "code",
   "execution_count": 86,
   "id": "d19cb590",
   "metadata": {},
   "outputs": [
    {
     "name": "stdout",
     "output_type": "stream",
     "text": [
      "\u001b[1m4/4\u001b[0m \u001b[32m━━━━━━━━━━━━━━━━━━━━\u001b[0m\u001b[37m\u001b[0m \u001b[1m0s\u001b[0m 3ms/step \n"
     ]
    }
   ],
   "source": [
    "# Keras nous propose une autre méthode intéressante,\n",
    "# qui peut être utilisée pour prédire les valeurs de nouvelles données \n",
    "# (données que le réseau n'a pas encore vues). \n",
    "# Comme nous n'avons pas séparé auparavant un tel ensemble,\n",
    "# mais seulement divisé l'ensemble MNIST en données d'apprentissage et de test,\n",
    "# nous n'utiliserons qu'un sous-ensemble des données de test.\n",
    "# La méthode renverra un tableau de bord de 100 éléments.\n",
    "# Chaque élément indiquera les probabilités que l'entrée appartienne à une classe donnée.\n",
    "\n",
    "\n",
    "predictions = model.predict(images_test_final[0:100])\n"
   ]
  },
  {
   "cell_type": "code",
   "execution_count": 88,
   "id": "f1757b3d",
   "metadata": {},
   "outputs": [
    {
     "data": {
      "text/plain": [
       "array([7.9069065e-04, 9.9920934e-01], dtype=float32)"
      ]
     },
     "execution_count": 88,
     "metadata": {},
     "output_type": "execute_result"
    }
   ],
   "source": [
    "#  pour voir la prédiction \n",
    "# la plupart des valeurs sont de très petits nombres \n",
    "# (très faible probabilité que l'image appartienne à cette classe)\n",
    "# \n",
    "\n",
    "predictions[0]\n"
   ]
  },
  {
   "cell_type": "code",
   "execution_count": 90,
   "id": "f0d7ba06",
   "metadata": {},
   "outputs": [
    {
     "data": {
      "text/plain": [
       "1"
      ]
     },
     "execution_count": 90,
     "metadata": {},
     "output_type": "execute_result"
    }
   ],
   "source": [
    "\n",
    "np.argmax(predictions[1])\n"
   ]
  },
  {
   "cell_type": "code",
   "execution_count": 92,
   "id": "8d7bcc73",
   "metadata": {},
   "outputs": [
    {
     "data": {
      "text/plain": [
       "6"
      ]
     },
     "execution_count": 92,
     "metadata": {},
     "output_type": "execute_result"
    }
   ],
   "source": [
    "\n",
    "labels_test_new[1]\n"
   ]
  },
  {
   "cell_type": "code",
   "execution_count": 94,
   "id": "5599f084",
   "metadata": {},
   "outputs": [
    {
     "data": {
      "text/plain": [
       "<matplotlib.image.AxesImage at 0x77945812b890>"
      ]
     },
     "execution_count": 94,
     "metadata": {},
     "output_type": "execute_result"
    },
    {
     "data": {
      "image/png": "[encoded data removed]",
      "text/plain": [
       "<Figure size 640x480 with 1 Axes>"
      ]
     },
     "metadata": {},
     "output_type": "display_data"
    }
   ],
   "source": [
    "# Vérifions à quoi ressemble l'image. \n",
    "# Rappelez-vous que les données d'entrée du réseau ont été aplaties \n",
    "# dans le but de creer un vecteur d'une longueur de 784.\n",
    "# Avant de l'afficher, nous devons le reconvertir à la taille de 28 x 28 pixels. \n",
    "\n",
    "plt.imshow(images_test_new[1].reshape(28,28))\n"
   ]
  },
  {
   "cell_type": "code",
   "execution_count": 96,
   "id": "5f17e030",
   "metadata": {},
   "outputs": [],
   "source": [
    "# nous avons un tableau à deux dimensions, \n",
    "# et non à un vecteur comme avec l'utilisation précédente de argmax,\n",
    "# Dans notre cas, le long de l'axe y, c'est-à-dire axis = 1. \n",
    "\n",
    "# le chiffre 0 représente le 5\n",
    "# le chiffre 1 représente le 6\n",
    "\n",
    "\n",
    "la_prediction=np.argmax(predictions, axis=1)\n"
   ]
  },
  {
   "cell_type": "code",
   "execution_count": 98,
   "id": "ce05e082",
   "metadata": {},
   "outputs": [
    {
     "name": "stdout",
     "output_type": "stream",
     "text": [
      "\n",
      " labels_test_prediction = [6. 6. 5. 6. 6. 5. 5. 6. 5. 5.]\n"
     ]
    }
   ],
   "source": [
    "# Dans le cadre d une classification \n",
    "# pour remplacer des chiffres par d'autres\n",
    "# le chiffre 5 est labelisé 0\n",
    "# le chiffre 6 est labelidé 1\n",
    "\n",
    "\n",
    "\n",
    "labels_test_new_final = np.zeros(la_prediction.shape)\n",
    "labels_test_new_final[np.where(la_prediction==1.0)[0]] = 6 # remplace le 6 par 1\n",
    "labels_test_new_final[np.where(la_prediction==0.0)[0]] = 5 # remplace le 5 par 0\n",
    "labels_test = labels_test_new_final\n",
    "\n",
    "labels_test_prediction = labels_test_new_final.T\n",
    "\n",
    "print('\\n labels_test_prediction =',labels_test_prediction[0:10])\n"
   ]
  },
  {
   "cell_type": "code",
   "execution_count": 107,
   "id": "6c1d31b4",
   "metadata": {
    "execution": {
     "iopub.execute_input": "2023-08-26T20:21:35.190985Z",
     "iopub.status.busy": "2023-08-26T20:21:35.190602Z",
     "iopub.status.idle": "2023-08-26T20:21:35.196092Z",
     "shell.execute_reply": "2023-08-26T20:21:35.194836Z",
     "shell.execute_reply.started": "2023-08-26T20:21:35.190954Z"
    }
   },
   "outputs": [],
   "source": [
    "labels_test_prediction=labels_test_prediction.astype(np.uint8)"
   ]
  },
  {
   "cell_type": "code",
   "execution_count": 108,
   "id": "978c89e3",
   "metadata": {
    "execution": {
     "iopub.execute_input": "2023-08-26T20:21:38.677455Z",
     "iopub.status.busy": "2023-08-26T20:21:38.677056Z",
     "iopub.status.idle": "2023-08-26T20:21:38.685884Z",
     "shell.execute_reply": "2023-08-26T20:21:38.684425Z",
     "shell.execute_reply.started": "2023-08-26T20:21:38.677422Z"
    }
   },
   "outputs": [
    {
     "data": {
      "text/plain": [
       "array([6, 6, 5, 6, 6, 5, 5, 6, 5, 5, 6, 5, 6, 6, 6, 6, 6, 6, 5, 5, 6, 5,\n",
       "       5, 6, 6, 5, 6, 6, 5, 5, 5, 6, 6, 5, 6, 5, 5, 5, 5, 6, 6, 5, 5, 6,\n",
       "       5, 5, 5, 5, 6, 5, 5, 6, 5, 6, 5, 5, 5, 6, 5, 6, 5, 5, 5, 6, 5, 6,\n",
       "       5, 6, 5, 6, 5, 6, 6, 6, 5, 5, 5, 5, 5, 6, 6, 6, 6, 5, 6, 6, 6, 5,\n",
       "       6, 5, 5, 5, 6, 5, 6, 5, 6, 6, 5, 6], dtype=uint8)"
      ]
     },
     "execution_count": 108,
     "metadata": {},
     "output_type": "execute_result"
    }
   ],
   "source": [
    "labels_test_prediction[0:100]"
   ]
  },
  {
   "cell_type": "code",
   "execution_count": 109,
   "id": "3e632aa4",
   "metadata": {
    "execution": {
     "iopub.execute_input": "2023-08-26T20:21:45.712399Z",
     "iopub.status.busy": "2023-08-26T20:21:45.711236Z",
     "iopub.status.idle": "2023-08-26T20:21:45.720652Z",
     "shell.execute_reply": "2023-08-26T20:21:45.719773Z",
     "shell.execute_reply.started": "2023-08-26T20:21:45.712351Z"
    }
   },
   "outputs": [
    {
     "data": {
      "text/plain": [
       "array([5, 6, 5, 6, 6, 5, 5, 6, 5, 5, 6, 5, 6, 6, 6, 6, 6, 6, 5, 5, 6, 5,\n",
       "       5, 6, 6, 5, 6, 6, 5, 5, 5, 6, 6, 5, 6, 5, 5, 5, 5, 6, 6, 5, 5, 6,\n",
       "       5, 5, 5, 5, 6, 5, 5, 6, 5, 6, 5, 5, 5, 6, 5, 6, 5, 5, 5, 6, 5, 6,\n",
       "       5, 6, 5, 6, 5, 6, 6, 6, 5, 5, 5, 5, 5, 6, 6, 6, 6, 5, 6, 6, 6, 5,\n",
       "       6, 5, 5, 5, 6, 5, 6, 5, 6, 6, 5, 6], dtype=uint8)"
      ]
     },
     "execution_count": 109,
     "metadata": {},
     "output_type": "execute_result"
    }
   ],
   "source": [
    "labels_test_new[0:100]"
   ]
  },
  {
   "cell_type": "code",
   "execution_count": 36,
   "id": "cbe50225",
   "metadata": {
    "execution": {
     "iopub.execute_input": "2023-08-26T20:02:54.937119Z",
     "iopub.status.busy": "2023-08-26T20:02:54.936724Z",
     "iopub.status.idle": "2023-08-26T20:02:54.949540Z",
     "shell.execute_reply": "2023-08-26T20:02:54.948232Z",
     "shell.execute_reply.started": "2023-08-26T20:02:54.937071Z"
    }
   },
   "outputs": [
    {
     "data": {
      "text/plain": [
       "0"
      ]
     },
     "execution_count": 36,
     "metadata": {},
     "output_type": "execute_result"
    }
   ],
   "source": [
    "# pour verifier ou il y a des erreurs.....si elle existe !\n",
    "\n",
    "fausse_prediction = np.argmin(np.argmax(predictions, axis=1) == labels_test_new[0:100])\n",
    "fausse_prediction\n"
   ]
  },
  {
   "cell_type": "code",
   "execution_count": 37,
   "id": "2ef63ac9",
   "metadata": {
    "execution": {
     "iopub.execute_input": "2023-08-26T20:02:54.953700Z",
     "iopub.status.busy": "2023-08-26T20:02:54.953332Z",
     "iopub.status.idle": "2023-08-26T20:02:54.988935Z",
     "shell.execute_reply": "2023-08-26T20:02:54.987723Z",
     "shell.execute_reply.started": "2023-08-26T20:02:54.953665Z"
    }
   },
   "outputs": [
    {
     "name": "stdout",
     "output_type": "stream",
     "text": [
      "tf.Tensor(\n",
      "[[0.66115654 0.33884346]\n",
      " [0.26894718 0.7310529 ]\n",
      " [0.73105276 0.26894724]\n",
      " [0.35361135 0.64638865]\n",
      " [0.26894832 0.7310516 ]\n",
      " [0.7310485  0.26895148]\n",
      " [0.7310353  0.26896468]\n",
      " [0.26940918 0.7305908 ]\n",
      " [0.7310539  0.2689461 ]\n",
      " [0.731019   0.26898092]], shape=(10, 2), dtype=float32)\n"
     ]
    },
    {
     "data": {
      "text/html": [
       "<div>\n",
       "<style scoped>\n",
       "    .dataframe tbody tr th:only-of-type {\n",
       "        vertical-align: middle;\n",
       "    }\n",
       "\n",
       "    .dataframe tbody tr th {\n",
       "        vertical-align: top;\n",
       "    }\n",
       "\n",
       "    .dataframe thead th {\n",
       "        text-align: right;\n",
       "    }\n",
       "</style>\n",
       "<table border=\"1\" class=\"dataframe\">\n",
       "  <thead>\n",
       "    <tr style=\"text-align: right;\">\n",
       "      <th></th>\n",
       "      <th>5</th>\n",
       "      <th>6</th>\n",
       "    </tr>\n",
       "  </thead>\n",
       "  <tbody>\n",
       "    <tr>\n",
       "      <th>0</th>\n",
       "      <td>1</td>\n",
       "      <td>0</td>\n",
       "    </tr>\n",
       "    <tr>\n",
       "      <th>1</th>\n",
       "      <td>0</td>\n",
       "      <td>1</td>\n",
       "    </tr>\n",
       "  </tbody>\n",
       "</table>\n",
       "</div>"
      ],
      "text/plain": [
       "   5  6\n",
       "0  1  0\n",
       "1  0  1"
      ]
     },
     "execution_count": 37,
     "metadata": {},
     "output_type": "execute_result"
    }
   ],
   "source": [
    "# Appliquons un softmax, pour obtenir des probabilités\n",
    "# La somme d une ligne est égale à 1\n",
    "# La fonction tf.nn.softmax convertit ces logits en probabilités pour chaque classe :\n",
    "# La première colonne correspond aux probabilités de la classe 0 c'est à dire le premier chiffre\n",
    "# La seconde colonne correspond aux probabilités de la classe 1 c'est à dire le deuxieme chiffre\n",
    "# \n",
    "# ici la classe 5 est représentée par 0\n",
    "# ici la classe 6 est représentée par 1\n",
    "\n",
    "\n",
    "\n",
    "\n",
    "print(tf.nn.softmax(predictions[:10]))\n",
    "\n",
    "# Methone pour afficher les classes des chiffres\n",
    "name_classes=[5,6]\n",
    "one_hot_encode=pandas.get_dummies(name_classes)\n",
    "one_hot_encode\n"
   ]
  },
  {
   "cell_type": "code",
   "execution_count": 38,
   "id": "3cafac8f",
   "metadata": {
    "execution": {
     "iopub.execute_input": "2023-08-26T20:02:54.990987Z",
     "iopub.status.busy": "2023-08-26T20:02:54.990651Z",
     "iopub.status.idle": "2023-08-26T20:02:55.007970Z",
     "shell.execute_reply": "2023-08-26T20:02:55.007103Z",
     "shell.execute_reply.started": "2023-08-26T20:02:54.990958Z"
    }
   },
   "outputs": [
    {
     "name": "stdout",
     "output_type": "stream",
     "text": [
      "Prediction: [0 1 0 1 1 0 0 1 0 0 1 0 1 1 1 1 1 1 0 0 1 0 0 1 1 0 1 1 0 0]\n",
      "    Labels: [5 6 5 6 6 5 5 6 5 5 6 5 6 6 6 6 6 6 5 5 6 5 5 6 6 5 6 6 5 5]\n"
     ]
    },
    {
     "data": {
      "text/html": [
       "<div>\n",
       "<style scoped>\n",
       "    .dataframe tbody tr th:only-of-type {\n",
       "        vertical-align: middle;\n",
       "    }\n",
       "\n",
       "    .dataframe tbody tr th {\n",
       "        vertical-align: top;\n",
       "    }\n",
       "\n",
       "    .dataframe thead th {\n",
       "        text-align: right;\n",
       "    }\n",
       "</style>\n",
       "<table border=\"1\" class=\"dataframe\">\n",
       "  <thead>\n",
       "    <tr style=\"text-align: right;\">\n",
       "      <th></th>\n",
       "      <th>3</th>\n",
       "      <th>6</th>\n",
       "      <th>8</th>\n",
       "      <th>9</th>\n",
       "    </tr>\n",
       "  </thead>\n",
       "  <tbody>\n",
       "    <tr>\n",
       "      <th>0</th>\n",
       "      <td>1</td>\n",
       "      <td>0</td>\n",
       "      <td>0</td>\n",
       "      <td>0</td>\n",
       "    </tr>\n",
       "    <tr>\n",
       "      <th>1</th>\n",
       "      <td>0</td>\n",
       "      <td>1</td>\n",
       "      <td>0</td>\n",
       "      <td>0</td>\n",
       "    </tr>\n",
       "    <tr>\n",
       "      <th>2</th>\n",
       "      <td>0</td>\n",
       "      <td>0</td>\n",
       "      <td>1</td>\n",
       "      <td>0</td>\n",
       "    </tr>\n",
       "    <tr>\n",
       "      <th>3</th>\n",
       "      <td>0</td>\n",
       "      <td>0</td>\n",
       "      <td>0</td>\n",
       "      <td>1</td>\n",
       "    </tr>\n",
       "  </tbody>\n",
       "</table>\n",
       "</div>"
      ],
      "text/plain": [
       "   3  6  8  9\n",
       "0  1  0  0  0\n",
       "1  0  1  0  0\n",
       "2  0  0  1  0\n",
       "3  0  0  0  1"
      ]
     },
     "execution_count": 38,
     "metadata": {},
     "output_type": "execute_result"
    }
   ],
   "source": [
    "\n",
    "labels = (labels_test_new)[0:30]\n",
    "print(\"Prediction: {}\".format(tf.argmax(predictions[0:30], axis=1)))\n",
    "print(\"    Labels: {}\".format(labels))\n",
    "\n",
    "name_classes=[3,6,8,9]\n",
    "one_hot_encode=pandas.get_dummies(name_classes)\n",
    "one_hot_encode\n"
   ]
  },
  {
   "cell_type": "code",
   "execution_count": 39,
   "id": "ce728ba2",
   "metadata": {
    "execution": {
     "iopub.execute_input": "2023-08-26T20:02:55.009913Z",
     "iopub.status.busy": "2023-08-26T20:02:55.009155Z",
     "iopub.status.idle": "2023-08-26T20:02:55.014542Z",
     "shell.execute_reply": "2023-08-26T20:02:55.013116Z",
     "shell.execute_reply.started": "2023-08-26T20:02:55.009879Z"
    }
   },
   "outputs": [],
   "source": [
    "\n",
    "\n",
    "# fin ************************************************************************************\n",
    "\n"
   ]
  }
 ],
 "metadata": {
  "kernelspec": {
   "display_name": "Python 3 (ipykernel)",
   "language": "python",
   "name": "python3"
  },
  "language_info": {
   "codemirror_mode": {
    "name": "ipython",
    "version": 3
   },
   "file_extension": ".py",
   "mimetype": "text/x-python",
   "name": "python",
   "nbconvert_exporter": "python",
   "pygments_lexer": "ipython3",
   "version": "3.12.4"
  }
 },
 "nbformat": 4,
 "nbformat_minor": 5
}
