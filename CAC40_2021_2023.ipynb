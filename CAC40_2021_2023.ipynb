{
 "cells": [
  {
   "cell_type": "code",
   "execution_count": 1,
   "id": "c7e785ea",
   "metadata": {},
   "outputs": [
    {
     "name": "stdout",
     "output_type": "stream",
     "text": [
      "2.6.0\n"
     ]
    }
   ],
   "source": [
    "# chargement des bibliotheques .......\n",
    "\n",
    "import matplotlib.pyplot as plt\n",
    "import numpy as np\n",
    "import pandas as pd\n",
    "import tensorflow as tf\n",
    "from tensorflow import keras\n",
    "from tensorflow.keras import layers\n",
    "np.set_printoptions(precision=3, suppress=True)\n",
    "print(tf.__version__)\n"
   ]
  },
  {
   "cell_type": "code",
   "execution_count": 3,
   "id": "3c5b997d",
   "metadata": {},
   "outputs": [
    {
     "data": {
      "text/html": [
       "<div>\n",
       "<style scoped>\n",
       "    .dataframe tbody tr th:only-of-type {\n",
       "        vertical-align: middle;\n",
       "    }\n",
       "\n",
       "    .dataframe tbody tr th {\n",
       "        vertical-align: top;\n",
       "    }\n",
       "\n",
       "    .dataframe thead th {\n",
       "        text-align: right;\n",
       "    }\n",
       "</style>\n",
       "<table border=\"1\" class=\"dataframe\">\n",
       "  <thead>\n",
       "    <tr style=\"text-align: right;\">\n",
       "      <th></th>\n",
       "      <th>Date</th>\n",
       "      <th>Open</th>\n",
       "      <th>High</th>\n",
       "      <th>Low</th>\n",
       "      <th>Close</th>\n",
       "      <th>Adj Close</th>\n",
       "      <th>Volume</th>\n",
       "      <th>Stock</th>\n",
       "    </tr>\n",
       "  </thead>\n",
       "  <tbody>\n",
       "    <tr>\n",
       "      <th>0</th>\n",
       "      <td>2020-04-08</td>\n",
       "      <td>28.559999</td>\n",
       "      <td>28.559999</td>\n",
       "      <td>26.639999</td>\n",
       "      <td>28.270000</td>\n",
       "      <td>28.270000</td>\n",
       "      <td>1051666.0</td>\n",
       "      <td>AC.PA</td>\n",
       "    </tr>\n",
       "    <tr>\n",
       "      <th>1</th>\n",
       "      <td>2020-04-09</td>\n",
       "      <td>28.629999</td>\n",
       "      <td>29.570000</td>\n",
       "      <td>28.049999</td>\n",
       "      <td>28.639999</td>\n",
       "      <td>28.639999</td>\n",
       "      <td>990955.0</td>\n",
       "      <td>AC.PA</td>\n",
       "    </tr>\n",
       "    <tr>\n",
       "      <th>2</th>\n",
       "      <td>2020-04-14</td>\n",
       "      <td>28.010000</td>\n",
       "      <td>28.340000</td>\n",
       "      <td>27.150000</td>\n",
       "      <td>27.590000</td>\n",
       "      <td>27.590000</td>\n",
       "      <td>907178.0</td>\n",
       "      <td>AC.PA</td>\n",
       "    </tr>\n",
       "    <tr>\n",
       "      <th>3</th>\n",
       "      <td>2020-04-15</td>\n",
       "      <td>27.170000</td>\n",
       "      <td>27.299999</td>\n",
       "      <td>25.459999</td>\n",
       "      <td>25.660000</td>\n",
       "      <td>25.660000</td>\n",
       "      <td>1378290.0</td>\n",
       "      <td>AC.PA</td>\n",
       "    </tr>\n",
       "    <tr>\n",
       "      <th>4</th>\n",
       "      <td>2020-04-16</td>\n",
       "      <td>25.879999</td>\n",
       "      <td>26.700001</td>\n",
       "      <td>24.080000</td>\n",
       "      <td>24.570000</td>\n",
       "      <td>24.570000</td>\n",
       "      <td>1474307.0</td>\n",
       "      <td>AC.PA</td>\n",
       "    </tr>\n",
       "  </tbody>\n",
       "</table>\n",
       "</div>"
      ],
      "text/plain": [
       "         Date       Open       High        Low      Close  Adj Close  \\\n",
       "0  2020-04-08  28.559999  28.559999  26.639999  28.270000  28.270000   \n",
       "1  2020-04-09  28.629999  29.570000  28.049999  28.639999  28.639999   \n",
       "2  2020-04-14  28.010000  28.340000  27.150000  27.590000  27.590000   \n",
       "3  2020-04-15  27.170000  27.299999  25.459999  25.660000  25.660000   \n",
       "4  2020-04-16  25.879999  26.700001  24.080000  24.570000  24.570000   \n",
       "\n",
       "      Volume  Stock  \n",
       "0  1051666.0  AC.PA  \n",
       "1   990955.0  AC.PA  \n",
       "2   907178.0  AC.PA  \n",
       "3  1378290.0  AC.PA  \n",
       "4  1474307.0  AC.PA  "
      ]
     },
     "execution_count": 3,
     "metadata": {},
     "output_type": "execute_result"
    }
   ],
   "source": [
    "# chargement du dataset..........\n",
    "\n",
    "\n",
    "dataset = pd.read_csv('CAC40_2021_2023.csv') \n",
    "dataset.head()"
   ]
  },
  {
   "cell_type": "code",
   "execution_count": 4,
   "id": "8bd48ae0",
   "metadata": {},
   "outputs": [
    {
     "data": {
      "text/plain": [
       "(28564, 8)"
      ]
     },
     "execution_count": 4,
     "metadata": {},
     "output_type": "execute_result"
    }
   ],
   "source": [
    "# nombre de lignes et de colonnes\n",
    "\n",
    "dataset.shape"
   ]
  },
  {
   "cell_type": "code",
   "execution_count": 5,
   "id": "902750bc",
   "metadata": {},
   "outputs": [],
   "source": [
    "# suppression des colonnes inutiles............\n",
    "\n",
    "dataset=dataset.drop(['Date','Stock'], axis=1)"
   ]
  },
  {
   "cell_type": "code",
   "execution_count": 6,
   "id": "298380b4",
   "metadata": {},
   "outputs": [
    {
     "name": "stdout",
     "output_type": "stream",
     "text": [
      "Nombre de lignes l entrainement (22851, 6)\n",
      "Nombre de lignes pour les test (5713, 6)\n"
     ]
    }
   ],
   "source": [
    "# divisions les données en un ensembles d'entrainement et de test...............\n",
    "\n",
    "# utilisation de l'ensemble des données de test pour l'évaluation finale.........\n",
    "\n",
    "train_dataset = dataset.sample(frac=0.8, random_state=0)\n",
    "test_dataset = dataset.drop(train_dataset.index)\n",
    "\n",
    "print('Nombre de lignes l entrainement',train_dataset.shape)\n",
    "print('Nombre de lignes pour les test', test_dataset.shape)"
   ]
  },
  {
   "cell_type": "code",
   "execution_count": 7,
   "id": "5bdc671b",
   "metadata": {},
   "outputs": [],
   "source": [
    "# séparation  les entités des étiquettes...........\n",
    "# séparation de la valeur cible des caractéristiques ( features )..........\n",
    "# c'est cette cible que le modele va devoir prédire.\n",
    "\n",
    "train_features = train_dataset.copy()\n",
    "test_features = test_dataset.copy()\n",
    "\n",
    "train_labels = train_features.pop('Close') # cible\n",
    "test_labels = test_features.pop('Close') # cible"
   ]
  },
  {
   "cell_type": "code",
   "execution_count": 8,
   "id": "45ad0784",
   "metadata": {},
   "outputs": [],
   "source": [
    "# normalisation les données avec (tf.keras.layers.Normalization)...........\n",
    "\n",
    "\n",
    "normalizer = tf.keras.layers.Normalization(axis=-1)"
   ]
  },
  {
   "cell_type": "code",
   "execution_count": 9,
   "id": "b1fa2388",
   "metadata": {},
   "outputs": [
    {
     "name": "stderr",
     "output_type": "stream",
     "text": [
      "2023-11-27 20:58:46.068572: I tensorflow/compiler/mlir/mlir_graph_optimization_pass.cc:185] None of the MLIR Optimization Passes are enabled (registered 2)\n"
     ]
    }
   ],
   "source": [
    "normalizer.adapt(np.array(train_features))"
   ]
  },
  {
   "cell_type": "code",
   "execution_count": 10,
   "id": "5f45f734",
   "metadata": {},
   "outputs": [],
   "source": [
    "# Definition du modele .............\n",
    "\n",
    "# Créez à nouveau un modèle séquentiel Keras en deux étapes avec :\n",
    "# la première couche étant le normalizer ( tf.keras.layers.Normalization(axis=-1)\n",
    "# défini précédemment\n",
    "# nous l'adaptons  à l'ensemble des données :\n",
    "\n",
    "\n",
    "\n",
    "linear_model = tf.keras.Sequential([\n",
    "    normalizer,\n",
    "    layers.Dense(units=1)\n",
    "])\n"
   ]
  },
  {
   "cell_type": "code",
   "execution_count": 11,
   "id": "0bedffac",
   "metadata": {},
   "outputs": [],
   "source": [
    "# compilation du modele..........\n",
    "\n",
    "# (mean_absolute_error) est la difference entre les prédictions et les étiquettes cibles.\n",
    "\n",
    "linear_model.compile(\n",
    "    optimizer=tf.optimizers.Adam(learning_rate=0.1),\n",
    "    loss='mean_absolute_error') # erreur absolue moyenne ou MAE"
   ]
  },
  {
   "cell_type": "code",
   "execution_count": 12,
   "id": "1e4fc3db",
   "metadata": {},
   "outputs": [],
   "source": [
    "# Entrainement du modele.....\n",
    "\n",
    "history = linear_model.fit(\n",
    "    train_features,\n",
    "    train_labels,\n",
    "    epochs=100,\n",
    "    verbose=0,\n",
    "    validation_split = 0.2)"
   ]
  },
  {
   "cell_type": "code",
   "execution_count": 15,
   "id": "f2f28cd4",
   "metadata": {},
   "outputs": [],
   "source": [
    "# fonction d affichage....\n",
    "\n",
    "def plot_loss(history):\n",
    "  plt.plot(history.history['loss'], label='MAE')\n",
    "  plt.plot(history.history['val_loss'], label='val_MAE')\n",
    "  plt.ylim([0, 150])\n",
    "  plt.xlabel('Epoch')\n",
    "  plt.ylabel('Erreur en $ [Close]')\n",
    "  plt.legend()\n",
    "  plt.grid(True)"
   ]
  },
  {
   "cell_type": "code",
   "execution_count": 16,
   "id": "0e920230",
   "metadata": {},
   "outputs": [
    {
     "data": {
      "image/png": "[encoded data removed]",
      "text/plain": [
       "<Figure size 432x288 with 1 Axes>"
      ]
     },
     "metadata": {
      "needs_background": "light"
     },
     "output_type": "display_data"
    }
   ],
   "source": [
    "# Affichage .........\n",
    "\n",
    "plot_loss(history)"
   ]
  },
  {
   "cell_type": "code",
   "execution_count": 17,
   "id": "2ac58c8a",
   "metadata": {},
   "outputs": [],
   "source": [
    "# collecte les résultats sur le jeu de test.........\n",
    "\n",
    "test_resultats = {}\n",
    "\n",
    "test_resultats['linear_model'] = linear_model.evaluate(\n",
    "    test_features, test_labels, verbose=0)\n",
    "\n"
   ]
  },
  {
   "cell_type": "code",
   "execution_count": 18,
   "id": "4981d849",
   "metadata": {},
   "outputs": [
    {
     "data": {
      "text/plain": [
       "{'linear_model': 0.818208634853363}"
      ]
     },
     "execution_count": 18,
     "metadata": {},
     "output_type": "execute_result"
    }
   ],
   "source": [
    "test_resultats"
   ]
  },
  {
   "cell_type": "code",
   "execution_count": 19,
   "id": "a310e050",
   "metadata": {},
   "outputs": [
    {
     "name": "stdout",
     "output_type": "stream",
     "text": [
      "prédiction index 1 ..... [[26.707]]\n",
      "valeur attendue en position 1 et index 13    26.870001\n",
      "Name: Close, dtype: float64\n"
     ]
    }
   ],
   "source": [
    "# prédiction..........\n",
    "\n",
    "y_pred = linear_model.predict(test_features)\n",
    "print('prédiction index 1 .....',y_pred[1:2])\n",
    "print('valeur attendue en position 1 et index',test_labels[1:2])"
   ]
  },
  {
   "cell_type": "code",
   "execution_count": 20,
   "id": "f111d31b",
   "metadata": {},
   "outputs": [
    {
     "name": "stdout",
     "output_type": "stream",
     "text": [
      "prédiction index 5 ..... [[26.009]]\n",
      "valeur attendue en position 5 et index 43    25.34\n",
      "Name: Close, dtype: float64\n"
     ]
    }
   ],
   "source": [
    "# prédiction.............\n",
    "\n",
    "y_pred = linear_model.predict(test_features)\n",
    "print('prédiction index 5 .....',y_pred[5:6])\n",
    "print('valeur attendue en position 5 et index',test_labels[5:6])"
   ]
  },
  {
   "cell_type": "code",
   "execution_count": null,
   "id": "48c5e3af",
   "metadata": {},
   "outputs": [],
   "source": []
  }
 ],
 "metadata": {
  "kernelspec": {
   "display_name": "Python 3 (ipykernel)",
   "language": "python",
   "name": "python3"
  },
  "language_info": {
   "codemirror_mode": {
    "name": "ipython",
    "version": 3
   },
   "file_extension": ".py",
   "mimetype": "text/x-python",
   "name": "python",
   "nbconvert_exporter": "python",
   "pygments_lexer": "ipython3",
   "version": "3.8.11"
  }
 },
 "nbformat": 4,
 "nbformat_minor": 5
}
