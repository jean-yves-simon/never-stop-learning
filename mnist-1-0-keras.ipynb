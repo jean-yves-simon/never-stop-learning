{
 "cells": [
  {
   "cell_type": "code",
   "execution_count": 1,
   "id": "80424c47",
   "metadata": {
    "execution": {
     "iopub.execute_input": "2022-12-13T14:23:44.210102Z",
     "iopub.status.busy": "2022-12-13T14:23:44.209623Z",
     "iopub.status.idle": "2022-12-13T14:23:50.934974Z",
     "shell.execute_reply": "2022-12-13T14:23:50.933611Z"
    },
    "papermill": {
     "duration": 6.745593,
     "end_time": "2022-12-13T14:23:50.938632",
     "exception": false,
     "start_time": "2022-12-13T14:23:44.193039",
     "status": "completed"
    },
    "tags": []
   },
   "outputs": [
    {
     "name": "stdout",
     "output_type": "stream",
     "text": [
      "2.6.0\n"
     ]
    }
   ],
   "source": [
    "\n",
    "from matplotlib import image\n",
    "from tensorflow.keras.preprocessing.image import load_img\n",
    "from tensorflow.keras.preprocessing.image import img_to_array\n",
    "from matplotlib import pyplot\n",
    "\n",
    "from PIL import Image\n",
    "import numpy as np\n",
    "from tensorflow import keras\n",
    "import matplotlib.pyplot as plt\n",
    "import tensorflow as tf\n",
    "print (keras.__version__)"
   ]
  },
  {
   "cell_type": "code",
   "execution_count": null,
   "id": "42177db8",
   "metadata": {
    "papermill": {
     "duration": 0.014852,
     "end_time": "2022-12-13T14:23:50.967511",
     "exception": false,
     "start_time": "2022-12-13T14:23:50.952659",
     "status": "completed"
    },
    "tags": []
   },
   "outputs": [],
   "source": []
  },
  {
   "cell_type": "code",
   "execution_count": 2,
   "id": "f20c4d1b",
   "metadata": {
    "execution": {
     "iopub.execute_input": "2022-12-13T14:23:50.995309Z",
     "iopub.status.busy": "2022-12-13T14:23:50.994484Z",
     "iopub.status.idle": "2022-12-13T14:23:51.000140Z",
     "shell.execute_reply": "2022-12-13T14:23:50.998955Z"
    },
    "papermill": {
     "duration": 0.02235,
     "end_time": "2022-12-13T14:23:51.002730",
     "exception": false,
     "start_time": "2022-12-13T14:23:50.980380",
     "status": "completed"
    },
    "tags": []
   },
   "outputs": [],
   "source": [
    "# Nous importons l'ensemble de données MNIST directement à partir de la bibliothèque Keras.\n",
    "\n",
    "\n",
    "from keras.datasets import mnist\n",
    "\n"
   ]
  },
  {
   "cell_type": "code",
   "execution_count": 3,
   "id": "1e3955e4",
   "metadata": {
    "execution": {
     "iopub.execute_input": "2022-12-13T14:23:51.030492Z",
     "iopub.status.busy": "2022-12-13T14:23:51.030062Z",
     "iopub.status.idle": "2022-12-13T14:23:51.480431Z",
     "shell.execute_reply": "2022-12-13T14:23:51.479249Z"
    },
    "papermill": {
     "duration": 0.467521,
     "end_time": "2022-12-13T14:23:51.483333",
     "exception": false,
     "start_time": "2022-12-13T14:23:51.015812",
     "status": "completed"
    },
    "tags": []
   },
   "outputs": [
    {
     "name": "stdout",
     "output_type": "stream",
     "text": [
      "Downloading data from https://storage.googleapis.com/tensorflow/tf-keras-datasets/mnist.npz\n",
      "11493376/11490434 [==============================] - 0s 0us/step\n",
      "11501568/11490434 [==============================] - 0s 0us/step\n"
     ]
    }
   ],
   "source": [
    "# Nous importons des données dans des variables et vérifions leur forme. \n",
    "\n",
    "(x_train, y_train), (x_test, y_test) = mnist.load_data()\n"
   ]
  },
  {
   "cell_type": "code",
   "execution_count": 4,
   "id": "93cf4245",
   "metadata": {
    "execution": {
     "iopub.execute_input": "2022-12-13T14:23:51.511507Z",
     "iopub.status.busy": "2022-12-13T14:23:51.511084Z",
     "iopub.status.idle": "2022-12-13T14:23:51.520197Z",
     "shell.execute_reply": "2022-12-13T14:23:51.518929Z"
    },
    "papermill": {
     "duration": 0.025962,
     "end_time": "2022-12-13T14:23:51.522629",
     "exception": false,
     "start_time": "2022-12-13T14:23:51.496667",
     "status": "completed"
    },
    "tags": []
   },
   "outputs": [
    {
     "data": {
      "text/plain": [
       "(60000, 28, 28)"
      ]
     },
     "execution_count": 4,
     "metadata": {},
     "output_type": "execute_result"
    }
   ],
   "source": [
    "# 60000 images de taille 28*28\n",
    "\n",
    "x_train.shape\n"
   ]
  },
  {
   "cell_type": "code",
   "execution_count": 5,
   "id": "edc197f0",
   "metadata": {
    "execution": {
     "iopub.execute_input": "2022-12-13T14:23:51.551398Z",
     "iopub.status.busy": "2022-12-13T14:23:51.550959Z",
     "iopub.status.idle": "2022-12-13T14:23:51.558631Z",
     "shell.execute_reply": "2022-12-13T14:23:51.557509Z"
    },
    "papermill": {
     "duration": 0.024983,
     "end_time": "2022-12-13T14:23:51.561106",
     "exception": false,
     "start_time": "2022-12-13T14:23:51.536123",
     "status": "completed"
    },
    "tags": []
   },
   "outputs": [
    {
     "data": {
      "text/plain": [
       "(60000,)"
      ]
     },
     "execution_count": 5,
     "metadata": {},
     "output_type": "execute_result"
    }
   ],
   "source": [
    "# 60000 Etiquettes des images \n",
    "\n",
    "y_train.shape\n"
   ]
  },
  {
   "cell_type": "code",
   "execution_count": 6,
   "id": "dc0c92a8",
   "metadata": {
    "execution": {
     "iopub.execute_input": "2022-12-13T14:23:51.590319Z",
     "iopub.status.busy": "2022-12-13T14:23:51.589396Z",
     "iopub.status.idle": "2022-12-13T14:23:51.595886Z",
     "shell.execute_reply": "2022-12-13T14:23:51.595092Z"
    },
    "papermill": {
     "duration": 0.023465,
     "end_time": "2022-12-13T14:23:51.598023",
     "exception": false,
     "start_time": "2022-12-13T14:23:51.574558",
     "status": "completed"
    },
    "tags": []
   },
   "outputs": [
    {
     "data": {
      "text/plain": [
       "(10000, 28, 28)"
      ]
     },
     "execution_count": 6,
     "metadata": {},
     "output_type": "execute_result"
    }
   ],
   "source": [
    "# 10000 exemples d'imges de test tailles 28*28\n",
    "\n",
    "x_test.shape\n"
   ]
  },
  {
   "cell_type": "code",
   "execution_count": 7,
   "id": "8692ad44",
   "metadata": {
    "execution": {
     "iopub.execute_input": "2022-12-13T14:23:51.627614Z",
     "iopub.status.busy": "2022-12-13T14:23:51.626919Z",
     "iopub.status.idle": "2022-12-13T14:23:51.635376Z",
     "shell.execute_reply": "2022-12-13T14:23:51.634251Z"
    },
    "papermill": {
     "duration": 0.026341,
     "end_time": "2022-12-13T14:23:51.637869",
     "exception": false,
     "start_time": "2022-12-13T14:23:51.611528",
     "status": "completed"
    },
    "tags": []
   },
   "outputs": [
    {
     "data": {
      "text/plain": [
       "array([7, 2, 1, 0, 4, 1, 4, 9, 5, 9], dtype=uint8)"
      ]
     },
     "execution_count": 7,
     "metadata": {},
     "output_type": "execute_result"
    }
   ],
   "source": [
    "y_test[0:10]"
   ]
  },
  {
   "cell_type": "code",
   "execution_count": 8,
   "id": "d0de4dee",
   "metadata": {
    "execution": {
     "iopub.execute_input": "2022-12-13T14:23:51.666813Z",
     "iopub.status.busy": "2022-12-13T14:23:51.666397Z",
     "iopub.status.idle": "2022-12-13T14:23:51.673132Z",
     "shell.execute_reply": "2022-12-13T14:23:51.672317Z"
    },
    "papermill": {
     "duration": 0.023477,
     "end_time": "2022-12-13T14:23:51.675176",
     "exception": false,
     "start_time": "2022-12-13T14:23:51.651699",
     "status": "completed"
    },
    "tags": []
   },
   "outputs": [
    {
     "data": {
      "text/plain": [
       "array([5, 0, 4, 1, 9, 2, 1, 3, 1, 4], dtype=uint8)"
      ]
     },
     "execution_count": 8,
     "metadata": {},
     "output_type": "execute_result"
    }
   ],
   "source": [
    "# Vérifions les 10 premières étiquettes. \n",
    "\n",
    "y_train[0:10]"
   ]
  },
  {
   "cell_type": "markdown",
   "id": "907957e1",
   "metadata": {
    "papermill": {
     "duration": 0.013171,
     "end_time": "2022-12-13T14:23:51.702003",
     "exception": false,
     "start_time": "2022-12-13T14:23:51.688832",
     "status": "completed"
    },
    "tags": []
   },
   "source": [
    "## Visualisation des données"
   ]
  },
  {
   "cell_type": "code",
   "execution_count": 9,
   "id": "ea9480dd",
   "metadata": {
    "execution": {
     "iopub.execute_input": "2022-12-13T14:23:51.731083Z",
     "iopub.status.busy": "2022-12-13T14:23:51.730642Z",
     "iopub.status.idle": "2022-12-13T14:23:51.958684Z",
     "shell.execute_reply": "2022-12-13T14:23:51.957365Z"
    },
    "papermill": {
     "duration": 0.245793,
     "end_time": "2022-12-13T14:23:51.961377",
     "exception": false,
     "start_time": "2022-12-13T14:23:51.715584",
     "status": "completed"
    },
    "tags": []
   },
   "outputs": [
    {
     "data": {
      "text/plain": [
       "<function matplotlib.pyplot.show(close=None, block=None)>"
      ]
     },
     "execution_count": 9,
     "metadata": {},
     "output_type": "execute_result"
    },
    {
     "data": {
      "image/png": "[encoded data removed]",
      "text/plain": [
       "<Figure size 432x288 with 1 Axes>"
      ]
     },
     "metadata": {
      "needs_background": "light"
     },
     "output_type": "display_data"
    }
   ],
   "source": [
    "# Affichage en niveaux de gris\n",
    "\n",
    "plt.imshow(x_train[0],cmap='gray')\n",
    "plt.show\n"
   ]
  },
  {
   "cell_type": "code",
   "execution_count": 10,
   "id": "98676464",
   "metadata": {
    "execution": {
     "iopub.execute_input": "2022-12-13T14:23:51.992732Z",
     "iopub.status.busy": "2022-12-13T14:23:51.992336Z",
     "iopub.status.idle": "2022-12-13T14:23:52.185649Z",
     "shell.execute_reply": "2022-12-13T14:23:52.184643Z"
    },
    "papermill": {
     "duration": 0.211811,
     "end_time": "2022-12-13T14:23:52.188226",
     "exception": false,
     "start_time": "2022-12-13T14:23:51.976415",
     "status": "completed"
    },
    "tags": []
   },
   "outputs": [
    {
     "data": {
      "text/plain": [
       "<function matplotlib.pyplot.show(close=None, block=None)>"
      ]
     },
     "execution_count": 10,
     "metadata": {},
     "output_type": "execute_result"
    },
    {
     "data": {
      "image/png": "[encoded data removed]",
      "text/plain": [
       "<Figure size 432x288 with 1 Axes>"
      ]
     },
     "metadata": {
      "needs_background": "light"
     },
     "output_type": "display_data"
    }
   ],
   "source": [
    "# Affichage en couleurs\n",
    "\n",
    "plt.imshow(x_train[0])\n",
    "plt.show\n"
   ]
  },
  {
   "cell_type": "code",
   "execution_count": 11,
   "id": "6752ae6e",
   "metadata": {
    "execution": {
     "iopub.execute_input": "2022-12-13T14:23:52.219228Z",
     "iopub.status.busy": "2022-12-13T14:23:52.218003Z",
     "iopub.status.idle": "2022-12-13T14:23:52.225492Z",
     "shell.execute_reply": "2022-12-13T14:23:52.224567Z"
    },
    "papermill": {
     "duration": 0.025179,
     "end_time": "2022-12-13T14:23:52.227731",
     "exception": false,
     "start_time": "2022-12-13T14:23:52.202552",
     "status": "completed"
    },
    "tags": []
   },
   "outputs": [
    {
     "data": {
      "text/plain": [
       "array([5, 0, 4, 1, 9, 2, 1, 3, 1, 4], dtype=uint8)"
      ]
     },
     "execution_count": 11,
     "metadata": {},
     "output_type": "execute_result"
    }
   ],
   "source": [
    "# Vérifions les 10 premières étiquettes. \n",
    "\n",
    "y_train[0:10]"
   ]
  },
  {
   "cell_type": "markdown",
   "id": "42681980",
   "metadata": {
    "papermill": {
     "duration": 0.014081,
     "end_time": "2022-12-13T14:23:52.256238",
     "exception": false,
     "start_time": "2022-12-13T14:23:52.242157",
     "status": "completed"
    },
    "tags": []
   },
   "source": [
    "## Nouveau jeu de données"
   ]
  },
  {
   "cell_type": "code",
   "execution_count": 12,
   "id": "434022bc",
   "metadata": {
    "execution": {
     "iopub.execute_input": "2022-12-13T14:23:52.287690Z",
     "iopub.status.busy": "2022-12-13T14:23:52.286193Z",
     "iopub.status.idle": "2022-12-13T14:23:52.301514Z",
     "shell.execute_reply": "2022-12-13T14:23:52.300213Z"
    },
    "papermill": {
     "duration": 0.033987,
     "end_time": "2022-12-13T14:23:52.304589",
     "exception": false,
     "start_time": "2022-12-13T14:23:52.270602",
     "status": "completed"
    },
    "tags": []
   },
   "outputs": [],
   "source": [
    "# Comme vous pouvez le voir, ils contiennent des chiffres différents.\n",
    "# Et nous ne nous intéressons qu'à deux d'entre eux.Les 1 et les 0 \n",
    "# c'est-à-dire une division en deux ensembles.\n",
    "# Nous nous occuperons des uns et des zéros\n",
    "# nous créons de nouvelles variables qui ne contiennent que des zéros et des uns. \n",
    "\n",
    "\n",
    "x_train_new, y_train_new = x_train[(y_train==0) | (y_train==1)], y_train[(y_train==0) | (y_train==1)]\n",
    "\n"
   ]
  },
  {
   "cell_type": "code",
   "execution_count": 13,
   "id": "70cd2518",
   "metadata": {
    "execution": {
     "iopub.execute_input": "2022-12-13T14:23:52.335437Z",
     "iopub.status.busy": "2022-12-13T14:23:52.335035Z",
     "iopub.status.idle": "2022-12-13T14:23:52.341826Z",
     "shell.execute_reply": "2022-12-13T14:23:52.340615Z"
    },
    "papermill": {
     "duration": 0.025548,
     "end_time": "2022-12-13T14:23:52.344331",
     "exception": false,
     "start_time": "2022-12-13T14:23:52.318783",
     "status": "completed"
    },
    "tags": []
   },
   "outputs": [
    {
     "data": {
      "text/plain": [
       "(12665, 28, 28)"
      ]
     },
     "execution_count": 13,
     "metadata": {},
     "output_type": "execute_result"
    }
   ],
   "source": [
    "x_train_new.shape"
   ]
  },
  {
   "cell_type": "code",
   "execution_count": 14,
   "id": "7ef62bbc",
   "metadata": {
    "execution": {
     "iopub.execute_input": "2022-12-13T14:23:52.374821Z",
     "iopub.status.busy": "2022-12-13T14:23:52.373993Z",
     "iopub.status.idle": "2022-12-13T14:23:52.381085Z",
     "shell.execute_reply": "2022-12-13T14:23:52.379906Z"
    },
    "papermill": {
     "duration": 0.024568,
     "end_time": "2022-12-13T14:23:52.383145",
     "exception": false,
     "start_time": "2022-12-13T14:23:52.358577",
     "status": "completed"
    },
    "tags": []
   },
   "outputs": [
    {
     "data": {
      "text/plain": [
       "(12665,)"
      ]
     },
     "execution_count": 14,
     "metadata": {},
     "output_type": "execute_result"
    }
   ],
   "source": [
    "y_train_new.shape"
   ]
  },
  {
   "cell_type": "code",
   "execution_count": 15,
   "id": "4b6fb311",
   "metadata": {
    "execution": {
     "iopub.execute_input": "2022-12-13T14:23:52.413828Z",
     "iopub.status.busy": "2022-12-13T14:23:52.412961Z",
     "iopub.status.idle": "2022-12-13T14:23:52.420307Z",
     "shell.execute_reply": "2022-12-13T14:23:52.419096Z"
    },
    "papermill": {
     "duration": 0.025107,
     "end_time": "2022-12-13T14:23:52.422602",
     "exception": false,
     "start_time": "2022-12-13T14:23:52.397495",
     "status": "completed"
    },
    "tags": []
   },
   "outputs": [
    {
     "data": {
      "text/plain": [
       "array([0, 1, 1, 1, 1, 0, 1, 1, 0, 0], dtype=uint8)"
      ]
     },
     "execution_count": 15,
     "metadata": {},
     "output_type": "execute_result"
    }
   ],
   "source": [
    "# Vérifions les 10 premieres étiquettes \n",
    "\n",
    "y_train_new[0:10]\n",
    "\n"
   ]
  },
  {
   "cell_type": "code",
   "execution_count": 16,
   "id": "037f553d",
   "metadata": {
    "execution": {
     "iopub.execute_input": "2022-12-13T14:23:52.453339Z",
     "iopub.status.busy": "2022-12-13T14:23:52.452930Z",
     "iopub.status.idle": "2022-12-13T14:23:52.461274Z",
     "shell.execute_reply": "2022-12-13T14:23:52.459763Z"
    },
    "papermill": {
     "duration": 0.026675,
     "end_time": "2022-12-13T14:23:52.463945",
     "exception": false,
     "start_time": "2022-12-13T14:23:52.437270",
     "status": "completed"
    },
    "tags": []
   },
   "outputs": [
    {
     "data": {
      "text/plain": [
       "(12665, 784)"
      ]
     },
     "execution_count": 16,
     "metadata": {},
     "output_type": "execute_result"
    }
   ],
   "source": [
    "# \n",
    "\n",
    "x_train_final = x_train_new.reshape(-1,784)\n",
    "x_train_final.shape\n",
    "\n",
    "# ci dessous nombre et dimension"
   ]
  },
  {
   "cell_type": "code",
   "execution_count": 17,
   "id": "c420a20c",
   "metadata": {
    "execution": {
     "iopub.execute_input": "2022-12-13T14:23:52.495731Z",
     "iopub.status.busy": "2022-12-13T14:23:52.495310Z",
     "iopub.status.idle": "2022-12-13T14:23:52.504938Z",
     "shell.execute_reply": "2022-12-13T14:23:52.503766Z"
    },
    "papermill": {
     "duration": 0.028738,
     "end_time": "2022-12-13T14:23:52.507458",
     "exception": false,
     "start_time": "2022-12-13T14:23:52.478720",
     "status": "completed"
    },
    "tags": []
   },
   "outputs": [
    {
     "data": {
      "text/plain": [
       "(2115, 28, 28)"
      ]
     },
     "execution_count": 17,
     "metadata": {},
     "output_type": "execute_result"
    }
   ],
   "source": [
    "# Pour l'ensemble de test nous créons aussi de nouvelles variables qui ne contiennent que des zéros et des uns.\n",
    "\n",
    "x_test_new, y_test_new = x_test[(y_test==0) | (y_test==1)], y_test[(y_test==0) | (y_test==1)]\n",
    "x_test_new.shape\n",
    "\n",
    "# ci dessous nombre et dimension"
   ]
  },
  {
   "cell_type": "code",
   "execution_count": 18,
   "id": "c06f3c84",
   "metadata": {
    "execution": {
     "iopub.execute_input": "2022-12-13T14:23:52.539001Z",
     "iopub.status.busy": "2022-12-13T14:23:52.538567Z",
     "iopub.status.idle": "2022-12-13T14:23:52.543440Z",
     "shell.execute_reply": "2022-12-13T14:23:52.542475Z"
    },
    "papermill": {
     "duration": 0.023264,
     "end_time": "2022-12-13T14:23:52.545610",
     "exception": false,
     "start_time": "2022-12-13T14:23:52.522346",
     "status": "completed"
    },
    "tags": []
   },
   "outputs": [],
   "source": [
    "# Normalisation des données\n",
    "\n",
    "x_test_final = x_test_new.reshape(-1,784)\n"
   ]
  },
  {
   "cell_type": "code",
   "execution_count": 19,
   "id": "f9242803",
   "metadata": {
    "execution": {
     "iopub.execute_input": "2022-12-13T14:23:52.576767Z",
     "iopub.status.busy": "2022-12-13T14:23:52.576339Z",
     "iopub.status.idle": "2022-12-13T14:23:52.629653Z",
     "shell.execute_reply": "2022-12-13T14:23:52.628486Z"
    },
    "papermill": {
     "duration": 0.072137,
     "end_time": "2022-12-13T14:23:52.632491",
     "exception": false,
     "start_time": "2022-12-13T14:23:52.560354",
     "status": "completed"
    },
    "tags": []
   },
   "outputs": [],
   "source": [
    "# Normalisation des données \n",
    "\n",
    "x_train_final = x_train_final / 255\n",
    "x_test_final = x_test_final / 255\n"
   ]
  },
  {
   "cell_type": "code",
   "execution_count": 20,
   "id": "a4d5ade1",
   "metadata": {
    "execution": {
     "iopub.execute_input": "2022-12-13T14:23:52.663707Z",
     "iopub.status.busy": "2022-12-13T14:23:52.663284Z",
     "iopub.status.idle": "2022-12-13T14:23:52.670860Z",
     "shell.execute_reply": "2022-12-13T14:23:52.669675Z"
    },
    "papermill": {
     "duration": 0.026015,
     "end_time": "2022-12-13T14:23:52.673263",
     "exception": false,
     "start_time": "2022-12-13T14:23:52.647248",
     "status": "completed"
    },
    "tags": []
   },
   "outputs": [
    {
     "data": {
      "text/plain": [
       "array([[0., 0., 0., ..., 0., 0., 0.],\n",
       "       [0., 0., 0., ..., 0., 0., 0.],\n",
       "       [0., 0., 0., ..., 0., 0., 0.],\n",
       "       ...,\n",
       "       [0., 0., 0., ..., 0., 0., 0.],\n",
       "       [0., 0., 0., ..., 0., 0., 0.],\n",
       "       [0., 0., 0., ..., 0., 0., 0.]])"
      ]
     },
     "execution_count": 20,
     "metadata": {},
     "output_type": "execute_result"
    }
   ],
   "source": [
    "\n",
    "x_train_final\n"
   ]
  },
  {
   "attachments": {
    "Capture%20d%E2%80%99e%CC%81cran%202022-12-11%20a%CC%80%2022.54.55.png": {
     "image/png": "[encoded data removed]"
    }
   },
   "cell_type": "markdown",
   "id": "5e9330bd",
   "metadata": {
    "papermill": {
     "duration": 0.015651,
     "end_time": "2022-12-13T14:23:52.704168",
     "exception": false,
     "start_time": "2022-12-13T14:23:52.688517",
     "status": "completed"
    },
    "tags": []
   },
   "source": [
    "![Capture%20d%E2%80%99e%CC%81cran%202022-12-11%20a%CC%80%2022.54.55.png](attachment:Capture%20d%E2%80%99e%CC%81cran%202022-12-11%20a%CC%80%2022.54.55.png)"
   ]
  },
  {
   "cell_type": "code",
   "execution_count": 21,
   "id": "183a5189",
   "metadata": {
    "execution": {
     "iopub.execute_input": "2022-12-13T14:23:52.736469Z",
     "iopub.status.busy": "2022-12-13T14:23:52.736049Z",
     "iopub.status.idle": "2022-12-13T14:23:52.846043Z",
     "shell.execute_reply": "2022-12-13T14:23:52.844695Z"
    },
    "papermill": {
     "duration": 0.129541,
     "end_time": "2022-12-13T14:23:52.849040",
     "exception": false,
     "start_time": "2022-12-13T14:23:52.719499",
     "status": "completed"
    },
    "tags": []
   },
   "outputs": [
    {
     "name": "stderr",
     "output_type": "stream",
     "text": [
      "2022-12-13 14:23:52.781537: I tensorflow/core/common_runtime/process_util.cc:146] Creating new thread pool with default inter op setting: 2. Tune using inter_op_parallelism_threads for best performance.\n"
     ]
    }
   ],
   "source": [
    "model = keras.Sequential(\n",
    "  keras.layers.Dense(1, input_shape=(784,), activation='sigmoid')\n",
    ")"
   ]
  },
  {
   "cell_type": "code",
   "execution_count": 22,
   "id": "4fc7a580",
   "metadata": {
    "execution": {
     "iopub.execute_input": "2022-12-13T14:23:52.880614Z",
     "iopub.status.busy": "2022-12-13T14:23:52.880224Z",
     "iopub.status.idle": "2022-12-13T14:23:53.077930Z",
     "shell.execute_reply": "2022-12-13T14:23:53.076685Z"
    },
    "papermill": {
     "duration": 0.216579,
     "end_time": "2022-12-13T14:23:53.080607",
     "exception": false,
     "start_time": "2022-12-13T14:23:52.864028",
     "status": "completed"
    },
    "tags": []
   },
   "outputs": [],
   "source": [
    "from keras import models\n",
    "from keras import layers\n",
    "\n",
    "model = models.Sequential()\n",
    "model.add(layers.Dense(1, activation='relu',input_shape=(28*28,)))\n",
    "model.add(layers.Dense(1, activation='sigmoid'))"
   ]
  },
  {
   "cell_type": "markdown",
   "id": "b6e4bb06",
   "metadata": {
    "papermill": {
     "duration": 0.014567,
     "end_time": "2022-12-13T14:23:53.111687",
     "exception": false,
     "start_time": "2022-12-13T14:23:53.097120",
     "status": "completed"
    },
    "tags": []
   },
   "source": [
    "## Compilation du model"
   ]
  },
  {
   "cell_type": "code",
   "execution_count": 23,
   "id": "85905188",
   "metadata": {
    "execution": {
     "iopub.execute_input": "2022-12-13T14:23:53.144938Z",
     "iopub.status.busy": "2022-12-13T14:23:53.143670Z",
     "iopub.status.idle": "2022-12-13T14:23:53.157533Z",
     "shell.execute_reply": "2022-12-13T14:23:53.156534Z"
    },
    "papermill": {
     "duration": 0.033536,
     "end_time": "2022-12-13T14:23:53.160235",
     "exception": false,
     "start_time": "2022-12-13T14:23:53.126699",
     "status": "completed"
    },
    "tags": []
   },
   "outputs": [],
   "source": [
    "# Compilation du model\n",
    "\n",
    "model.compile(optimizer='sgd',\n",
    "                loss='binary_crossentropy',\n",
    "                metrics=['binary_accuracy'])"
   ]
  },
  {
   "cell_type": "markdown",
   "id": "2ead06ad",
   "metadata": {
    "papermill": {
     "duration": 0.014845,
     "end_time": "2022-12-13T14:23:53.191125",
     "exception": false,
     "start_time": "2022-12-13T14:23:53.176280",
     "status": "completed"
    },
    "tags": []
   },
   "source": [
    "## Entrainement du model"
   ]
  },
  {
   "cell_type": "code",
   "execution_count": 24,
   "id": "aac4b85a",
   "metadata": {
    "execution": {
     "iopub.execute_input": "2022-12-13T14:23:53.223116Z",
     "iopub.status.busy": "2022-12-13T14:23:53.222049Z",
     "iopub.status.idle": "2022-12-13T14:24:04.136409Z",
     "shell.execute_reply": "2022-12-13T14:24:04.135126Z"
    },
    "papermill": {
     "duration": 10.932987,
     "end_time": "2022-12-13T14:24:04.139018",
     "exception": false,
     "start_time": "2022-12-13T14:23:53.206031",
     "status": "completed"
    },
    "tags": []
   },
   "outputs": [
    {
     "name": "stderr",
     "output_type": "stream",
     "text": [
      "2022-12-13 14:23:53.392246: I tensorflow/compiler/mlir/mlir_graph_optimization_pass.cc:185] None of the MLIR Optimization Passes are enabled (registered 2)\n"
     ]
    },
    {
     "name": "stdout",
     "output_type": "stream",
     "text": [
      "Epoch 1/10\n",
      "792/792 [==============================] - 2s 1ms/step - loss: 0.2720 - binary_accuracy: 0.9673\n",
      "Epoch 2/10\n",
      "792/792 [==============================] - 1s 1ms/step - loss: 0.1081 - binary_accuracy: 0.9971\n",
      "Epoch 3/10\n",
      "792/792 [==============================] - 1s 1ms/step - loss: 0.0668 - binary_accuracy: 0.9976\n",
      "Epoch 4/10\n",
      "792/792 [==============================] - 1s 1ms/step - loss: 0.0482 - binary_accuracy: 0.9979\n",
      "Epoch 5/10\n",
      "792/792 [==============================] - 1s 1ms/step - loss: 0.0378 - binary_accuracy: 0.9980\n",
      "Epoch 6/10\n",
      "792/792 [==============================] - 1s 1ms/step - loss: 0.0312 - binary_accuracy: 0.9980\n",
      "Epoch 7/10\n",
      "792/792 [==============================] - 1s 1ms/step - loss: 0.0266 - binary_accuracy: 0.9983\n",
      "Epoch 8/10\n",
      "792/792 [==============================] - 1s 1ms/step - loss: 0.0232 - binary_accuracy: 0.9983\n",
      "Epoch 9/10\n",
      "792/792 [==============================] - 1s 1ms/step - loss: 0.0206 - binary_accuracy: 0.9987\n",
      "Epoch 10/10\n",
      "792/792 [==============================] - 1s 1ms/step - loss: 0.0185 - binary_accuracy: 0.9985\n"
     ]
    },
    {
     "data": {
      "text/plain": [
       "<keras.callbacks.History at 0x7fb9b0293a10>"
      ]
     },
     "execution_count": 24,
     "metadata": {},
     "output_type": "execute_result"
    }
   ],
   "source": [
    "model.fit(\n",
    "  x=x_train_final,\n",
    "  y=y_train_new,\n",
    "  shuffle=True,\n",
    "  epochs=10,\n",
    "  batch_size=16\n",
    ")"
   ]
  },
  {
   "cell_type": "markdown",
   "id": "b778d342",
   "metadata": {
    "papermill": {
     "duration": 0.0281,
     "end_time": "2022-12-13T14:24:04.197169",
     "exception": false,
     "start_time": "2022-12-13T14:24:04.169069",
     "status": "completed"
    },
    "tags": []
   },
   "source": [
    "## Evaluation"
   ]
  },
  {
   "cell_type": "code",
   "execution_count": 25,
   "id": "50d72d5b",
   "metadata": {
    "execution": {
     "iopub.execute_input": "2022-12-13T14:24:04.257580Z",
     "iopub.status.busy": "2022-12-13T14:24:04.256859Z",
     "iopub.status.idle": "2022-12-13T14:24:04.571591Z",
     "shell.execute_reply": "2022-12-13T14:24:04.570459Z"
    },
    "papermill": {
     "duration": 0.348624,
     "end_time": "2022-12-13T14:24:04.575419",
     "exception": false,
     "start_time": "2022-12-13T14:24:04.226795",
     "status": "completed"
    },
    "tags": []
   },
   "outputs": [
    {
     "name": "stdout",
     "output_type": "stream",
     "text": [
      "67/67 [==============================] - 0s 1ms/step - loss: 0.0170 - binary_accuracy: 0.9991\n"
     ]
    }
   ],
   "source": [
    "# \n",
    "\n",
    "eval = model.evaluate(x=x_test_final, y=y_test_new)\n"
   ]
  },
  {
   "cell_type": "code",
   "execution_count": 26,
   "id": "34b852fb",
   "metadata": {
    "execution": {
     "iopub.execute_input": "2022-12-13T14:24:04.635155Z",
     "iopub.status.busy": "2022-12-13T14:24:04.634717Z",
     "iopub.status.idle": "2022-12-13T14:24:04.641561Z",
     "shell.execute_reply": "2022-12-13T14:24:04.640438Z"
    },
    "papermill": {
     "duration": 0.039359,
     "end_time": "2022-12-13T14:24:04.643993",
     "exception": false,
     "start_time": "2022-12-13T14:24:04.604634",
     "status": "completed"
    },
    "tags": []
   },
   "outputs": [
    {
     "data": {
      "text/plain": [
       "[0.017032280564308167, 0.9990543723106384]"
      ]
     },
     "execution_count": 26,
     "metadata": {},
     "output_type": "execute_result"
    }
   ],
   "source": [
    "#\n",
    "\n",
    "eval\n"
   ]
  },
  {
   "cell_type": "code",
   "execution_count": 27,
   "id": "164d649c",
   "metadata": {
    "execution": {
     "iopub.execute_input": "2022-12-13T14:24:04.706183Z",
     "iopub.status.busy": "2022-12-13T14:24:04.705317Z",
     "iopub.status.idle": "2022-12-13T14:24:04.722225Z",
     "shell.execute_reply": "2022-12-13T14:24:04.721181Z"
    },
    "papermill": {
     "duration": 0.051658,
     "end_time": "2022-12-13T14:24:04.725346",
     "exception": false,
     "start_time": "2022-12-13T14:24:04.673688",
     "status": "completed"
    },
    "tags": []
   },
   "outputs": [],
   "source": [
    "\n",
    "model.save('un_zero_Keras.hdf5')\n"
   ]
  },
  {
   "cell_type": "markdown",
   "id": "b7d7cfb7",
   "metadata": {
    "papermill": {
     "duration": 0.028607,
     "end_time": "2022-12-13T14:24:04.783278",
     "exception": false,
     "start_time": "2022-12-13T14:24:04.754671",
     "status": "completed"
    },
    "tags": []
   },
   "source": [
    "## Entrainement données de test"
   ]
  },
  {
   "cell_type": "code",
   "execution_count": 28,
   "id": "0de80ff0",
   "metadata": {
    "execution": {
     "iopub.execute_input": "2022-12-13T14:24:04.843086Z",
     "iopub.status.busy": "2022-12-13T14:24:04.842628Z",
     "iopub.status.idle": "2022-12-13T14:24:04.850023Z",
     "shell.execute_reply": "2022-12-13T14:24:04.848836Z"
    },
    "papermill": {
     "duration": 0.039916,
     "end_time": "2022-12-13T14:24:04.852132",
     "exception": false,
     "start_time": "2022-12-13T14:24:04.812216",
     "status": "completed"
    },
    "tags": []
   },
   "outputs": [],
   "source": [
    "# Chargement des librairies\n",
    "\n",
    "import numpy as np\n",
    "from tensorflow import keras\n",
    "from PIL import Image\n",
    "from matplotlib.pyplot import imshow\n",
    "%matplotlib inline\n",
    "\n"
   ]
  },
  {
   "cell_type": "code",
   "execution_count": 29,
   "id": "aedf963b",
   "metadata": {
    "execution": {
     "iopub.execute_input": "2022-12-13T14:24:04.911328Z",
     "iopub.status.busy": "2022-12-13T14:24:04.910875Z",
     "iopub.status.idle": "2022-12-13T14:24:04.955471Z",
     "shell.execute_reply": "2022-12-13T14:24:04.954258Z"
    },
    "papermill": {
     "duration": 0.077548,
     "end_time": "2022-12-13T14:24:04.958226",
     "exception": false,
     "start_time": "2022-12-13T14:24:04.880678",
     "status": "completed"
    },
    "tags": []
   },
   "outputs": [],
   "source": [
    "# On charge notre nouveau model :\n",
    "# nous avons appris à notre model de reconnaitre que les zero et un\n",
    "\n",
    "model = keras.models.load_model('un_zero_Keras.hdf5')\n"
   ]
  },
  {
   "cell_type": "code",
   "execution_count": 30,
   "id": "3b903152",
   "metadata": {
    "execution": {
     "iopub.execute_input": "2022-12-13T14:24:05.018166Z",
     "iopub.status.busy": "2022-12-13T14:24:05.017685Z",
     "iopub.status.idle": "2022-12-13T14:24:05.355520Z",
     "shell.execute_reply": "2022-12-13T14:24:05.353964Z"
    },
    "papermill": {
     "duration": 0.371294,
     "end_time": "2022-12-13T14:24:05.358183",
     "exception": false,
     "start_time": "2022-12-13T14:24:04.986889",
     "status": "completed"
    },
    "tags": []
   },
   "outputs": [],
   "source": [
    "# On charge  le jeu de données de test\n",
    "# On selectionne uniquement les zero et un\n",
    "# attention notre model ne peut reconnaitre que les zero et un \n",
    "\n",
    "from keras.datasets import mnist\n",
    "\n",
    "(x_train, y_train), (x_test, y_test) = mnist.load_data()\n",
    "x_test_new, y_test_new = x_test[(y_test==0) | (y_test==1)], y_test[(y_test==0) | (y_test==1)]\n",
    "\n",
    "x_test_final = x_test_new.reshape((-1, 784)) / 255"
   ]
  },
  {
   "cell_type": "code",
   "execution_count": 31,
   "id": "c3397864",
   "metadata": {
    "execution": {
     "iopub.execute_input": "2022-12-13T14:24:05.421053Z",
     "iopub.status.busy": "2022-12-13T14:24:05.420555Z",
     "iopub.status.idle": "2022-12-13T14:24:05.710206Z",
     "shell.execute_reply": "2022-12-13T14:24:05.708841Z"
    },
    "papermill": {
     "duration": 0.322882,
     "end_time": "2022-12-13T14:24:05.713038",
     "exception": false,
     "start_time": "2022-12-13T14:24:05.390156",
     "status": "completed"
    },
    "tags": []
   },
   "outputs": [
    {
     "name": "stdout",
     "output_type": "stream",
     "text": [
      "67/67 [==============================] - 0s 1ms/step - loss: 0.0170 - binary_accuracy: 0.9991\n"
     ]
    }
   ],
   "source": [
    "#\n",
    "\n",
    "eval = model.evaluate(x=x_test_final, y=y_test_new)\n"
   ]
  },
  {
   "cell_type": "code",
   "execution_count": 32,
   "id": "53905723",
   "metadata": {
    "execution": {
     "iopub.execute_input": "2022-12-13T14:24:05.774596Z",
     "iopub.status.busy": "2022-12-13T14:24:05.773883Z",
     "iopub.status.idle": "2022-12-13T14:24:05.780706Z",
     "shell.execute_reply": "2022-12-13T14:24:05.779704Z"
    },
    "papermill": {
     "duration": 0.040497,
     "end_time": "2022-12-13T14:24:05.783010",
     "exception": false,
     "start_time": "2022-12-13T14:24:05.742513",
     "status": "completed"
    },
    "tags": []
   },
   "outputs": [
    {
     "data": {
      "text/plain": [
       "[0.017032280564308167, 0.9990543723106384]"
      ]
     },
     "execution_count": 32,
     "metadata": {},
     "output_type": "execute_result"
    }
   ],
   "source": [
    "# Evaluation données de test\n",
    "\n",
    "eval\n"
   ]
  },
  {
   "cell_type": "markdown",
   "id": "d506e6b6",
   "metadata": {
    "papermill": {
     "duration": 0.028932,
     "end_time": "2022-12-13T14:24:05.841092",
     "exception": false,
     "start_time": "2022-12-13T14:24:05.812160",
     "status": "completed"
    },
    "tags": []
   },
   "source": [
    "## Entrainement sur de nouvelles images"
   ]
  },
  {
   "cell_type": "markdown",
   "id": "4bd71d6d",
   "metadata": {
    "papermill": {
     "duration": 0.028844,
     "end_time": "2022-12-13T14:24:05.899384",
     "exception": false,
     "start_time": "2022-12-13T14:24:05.870540",
     "status": "completed"
    },
    "tags": []
   },
   "source": [
    "### Cette routine permet de normaliser l'image introduite, de la traité de \n",
    "### maniere à correspondre exactement au niveaux des pixels de notre modele.\n",
    "### Sur notre image les pixels éclairées représentent le chiffre.( Apres traitement)\n",
    "### Sinon c'est le contraire est donc incompatible avec notre model d entrainement"
   ]
  },
  {
   "cell_type": "code",
   "execution_count": 33,
   "id": "ccb7a585",
   "metadata": {
    "execution": {
     "iopub.execute_input": "2022-12-13T14:24:05.959887Z",
     "iopub.status.busy": "2022-12-13T14:24:05.959233Z",
     "iopub.status.idle": "2022-12-13T14:24:05.965307Z",
     "shell.execute_reply": "2022-12-13T14:24:05.964139Z"
    },
    "papermill": {
     "duration": 0.039098,
     "end_time": "2022-12-13T14:24:05.967847",
     "exception": false,
     "start_time": "2022-12-13T14:24:05.928749",
     "status": "completed"
    },
    "tags": []
   },
   "outputs": [],
   "source": [
    "def convert_image(file):\n",
    "  image = np.array(Image.open(file).convert('L'))\n",
    "  return np.abs(((image / 255) - 1)*(-1))"
   ]
  },
  {
   "cell_type": "code",
   "execution_count": 34,
   "id": "e6b637b4",
   "metadata": {
    "execution": {
     "iopub.execute_input": "2022-12-13T14:24:06.029271Z",
     "iopub.status.busy": "2022-12-13T14:24:06.028847Z",
     "iopub.status.idle": "2022-12-13T14:24:06.033987Z",
     "shell.execute_reply": "2022-12-13T14:24:06.032752Z"
    },
    "papermill": {
     "duration": 0.039105,
     "end_time": "2022-12-13T14:24:06.036523",
     "exception": false,
     "start_time": "2022-12-13T14:24:05.997418",
     "status": "completed"
    },
    "tags": []
   },
   "outputs": [],
   "source": [
    "# Avant d'introduire votre image ne pas oublier de la redimensionner en 28*28"
   ]
  },
  {
   "cell_type": "markdown",
   "id": "7e094c33",
   "metadata": {
    "papermill": {
     "duration": 0.028989,
     "end_time": "2022-12-13T14:24:06.095460",
     "exception": false,
     "start_time": "2022-12-13T14:24:06.066471",
     "status": "completed"
    },
    "tags": []
   },
   "source": [
    "## Chargement du chiffre zéro"
   ]
  },
  {
   "cell_type": "code",
   "execution_count": 35,
   "id": "5c750a6e",
   "metadata": {
    "execution": {
     "iopub.execute_input": "2022-12-13T14:24:06.155927Z",
     "iopub.status.busy": "2022-12-13T14:24:06.155152Z",
     "iopub.status.idle": "2022-12-13T14:24:06.361083Z",
     "shell.execute_reply": "2022-12-13T14:24:06.359990Z"
    },
    "papermill": {
     "duration": 0.239601,
     "end_time": "2022-12-13T14:24:06.364200",
     "exception": false,
     "start_time": "2022-12-13T14:24:06.124599",
     "status": "completed"
    },
    "tags": []
   },
   "outputs": [
    {
     "data": {
      "text/plain": [
       "<matplotlib.image.AxesImage at 0x7fb9b29d6fd0>"
      ]
     },
     "execution_count": 35,
     "metadata": {},
     "output_type": "execute_result"
    },
    {
     "data": {
      "image/png": "[encoded data removed]",
      "text/plain": [
       "<Figure size 432x288 with 1 Axes>"
      ]
     },
     "metadata": {
      "needs_background": "light"
     },
     "output_type": "display_data"
    }
   ],
   "source": [
    "im = convert_image('/kaggle/input/chiffre-zero/zero.png')\n",
    "imshow(im)"
   ]
  },
  {
   "cell_type": "markdown",
   "id": "21330ef6",
   "metadata": {
    "papermill": {
     "duration": 0.029491,
     "end_time": "2022-12-13T14:24:06.423990",
     "exception": false,
     "start_time": "2022-12-13T14:24:06.394499",
     "status": "completed"
    },
    "tags": []
   },
   "source": [
    "## Prédiction"
   ]
  },
  {
   "cell_type": "markdown",
   "id": "86c9f3c7",
   "metadata": {
    "papermill": {
     "duration": 0.029064,
     "end_time": "2022-12-13T14:24:06.482924",
     "exception": false,
     "start_time": "2022-12-13T14:24:06.453860",
     "status": "completed"
    },
    "tags": []
   },
   "source": [
    "On peut utiliser notre modele pour lui faire prédire notre chiffre:"
   ]
  },
  {
   "cell_type": "code",
   "execution_count": 36,
   "id": "5d46e219",
   "metadata": {
    "execution": {
     "iopub.execute_input": "2022-12-13T14:24:06.545378Z",
     "iopub.status.busy": "2022-12-13T14:24:06.544952Z",
     "iopub.status.idle": "2022-12-13T14:24:06.679216Z",
     "shell.execute_reply": "2022-12-13T14:24:06.678067Z"
    },
    "papermill": {
     "duration": 0.168862,
     "end_time": "2022-12-13T14:24:06.682130",
     "exception": false,
     "start_time": "2022-12-13T14:24:06.513268",
     "status": "completed"
    },
    "tags": []
   },
   "outputs": [
    {
     "data": {
      "text/plain": [
       "array([[0.00414667]], dtype=float32)"
      ]
     },
     "execution_count": 36,
     "metadata": {},
     "output_type": "execute_result"
    }
   ],
   "source": [
    "# Prédiction sur notre image\n",
    "\n",
    "predict_input = im.reshape((-1,784))\n",
    "prediction = model.predict(predict_input)\n",
    "prediction\n",
    "\n",
    "# ci dessous résultat de la prédiction, une probabilité:"
   ]
  },
  {
   "cell_type": "markdown",
   "id": "7643b99a",
   "metadata": {
    "papermill": {
     "duration": 0.029463,
     "end_time": "2022-12-13T14:24:06.741386",
     "exception": false,
     "start_time": "2022-12-13T14:24:06.711923",
     "status": "completed"
    },
    "tags": []
   },
   "source": [
    "Nous obtenons un tableau de prédiction:\n",
    "Un chiffre à virgule qui représente une probabilité.\n",
    "## Si la probabilité est au dessus de 50% c'est un 1\n",
    "## Si la probabilité est en dessous de 50% c'est un 0"
   ]
  },
  {
   "cell_type": "code",
   "execution_count": 37,
   "id": "e0ca9bd4",
   "metadata": {
    "execution": {
     "iopub.execute_input": "2022-12-13T14:24:06.802680Z",
     "iopub.status.busy": "2022-12-13T14:24:06.802025Z",
     "iopub.status.idle": "2022-12-13T14:24:06.866318Z",
     "shell.execute_reply": "2022-12-13T14:24:06.864791Z"
    },
    "papermill": {
     "duration": 0.098063,
     "end_time": "2022-12-13T14:24:06.868892",
     "exception": false,
     "start_time": "2022-12-13T14:24:06.770829",
     "status": "completed"
    },
    "tags": []
   },
   "outputs": [
    {
     "data": {
      "text/plain": [
       "array([[0]])"
      ]
     },
     "execution_count": 37,
     "metadata": {},
     "output_type": "execute_result"
    }
   ],
   "source": [
    "prediction=(model.predict(predict_input)>0.5).astype(int)\n",
    "prediction\n",
    "\n",
    "# ci dessous résultat de la prédiction: le chiffre correspondant à l image"
   ]
  },
  {
   "cell_type": "markdown",
   "id": "2f553dfa",
   "metadata": {
    "papermill": {
     "duration": 0.029097,
     "end_time": "2022-12-13T14:24:06.927421",
     "exception": false,
     "start_time": "2022-12-13T14:24:06.898324",
     "status": "completed"
    },
    "tags": []
   },
   "source": [
    "## Chargement du chiffre Un"
   ]
  },
  {
   "cell_type": "code",
   "execution_count": 38,
   "id": "8dbaae4e",
   "metadata": {
    "execution": {
     "iopub.execute_input": "2022-12-13T14:24:06.987790Z",
     "iopub.status.busy": "2022-12-13T14:24:06.987366Z",
     "iopub.status.idle": "2022-12-13T14:24:07.186473Z",
     "shell.execute_reply": "2022-12-13T14:24:07.185560Z"
    },
    "papermill": {
     "duration": 0.232274,
     "end_time": "2022-12-13T14:24:07.188931",
     "exception": false,
     "start_time": "2022-12-13T14:24:06.956657",
     "status": "completed"
    },
    "tags": []
   },
   "outputs": [
    {
     "data": {
      "text/plain": [
       "<matplotlib.image.AxesImage at 0x7fb9b2895fd0>"
      ]
     },
     "execution_count": 38,
     "metadata": {},
     "output_type": "execute_result"
    },
    {
     "data": {
      "image/png": "[encoded data removed]",
      "text/plain": [
       "<Figure size 432x288 with 1 Axes>"
      ]
     },
     "metadata": {
      "needs_background": "light"
     },
     "output_type": "display_data"
    }
   ],
   "source": [
    "im = convert_image('/kaggle/input/unbis/unbis.png')\n",
    "imshow(im)"
   ]
  },
  {
   "cell_type": "code",
   "execution_count": 39,
   "id": "ea577601",
   "metadata": {
    "execution": {
     "iopub.execute_input": "2022-12-13T14:24:07.251414Z",
     "iopub.status.busy": "2022-12-13T14:24:07.250255Z",
     "iopub.status.idle": "2022-12-13T14:24:07.316736Z",
     "shell.execute_reply": "2022-12-13T14:24:07.315675Z"
    },
    "papermill": {
     "duration": 0.100365,
     "end_time": "2022-12-13T14:24:07.319540",
     "exception": false,
     "start_time": "2022-12-13T14:24:07.219175",
     "status": "completed"
    },
    "tags": []
   },
   "outputs": [
    {
     "data": {
      "text/plain": [
       "array([[0.84283334]], dtype=float32)"
      ]
     },
     "execution_count": 39,
     "metadata": {},
     "output_type": "execute_result"
    }
   ],
   "source": [
    "predict_input = im.reshape((-1,784))\n",
    "prediction = model.predict(predict_input)\n",
    "prediction\n",
    "\n",
    "# ci dessous résultat de la prédiction: une probabilité:"
   ]
  },
  {
   "cell_type": "code",
   "execution_count": 40,
   "id": "f0941f48",
   "metadata": {
    "execution": {
     "iopub.execute_input": "2022-12-13T14:24:07.382065Z",
     "iopub.status.busy": "2022-12-13T14:24:07.380972Z",
     "iopub.status.idle": "2022-12-13T14:24:07.444303Z",
     "shell.execute_reply": "2022-12-13T14:24:07.442993Z"
    },
    "papermill": {
     "duration": 0.097134,
     "end_time": "2022-12-13T14:24:07.446923",
     "exception": false,
     "start_time": "2022-12-13T14:24:07.349789",
     "status": "completed"
    },
    "tags": []
   },
   "outputs": [
    {
     "data": {
      "text/plain": [
       "array([[1]])"
      ]
     },
     "execution_count": 40,
     "metadata": {},
     "output_type": "execute_result"
    }
   ],
   "source": [
    "prediction=(model.predict(predict_input)>0.5).astype(int)\n",
    "prediction\n",
    "\n",
    "# ci dessous résultat de la prédiction: le chiffre correspondant à l image"
   ]
  }
 ],
 "metadata": {
  "kernelspec": {
   "display_name": "Python 3",
   "language": "python",
   "name": "python3"
  },
  "language_info": {
   "codemirror_mode": {
    "name": "ipython",
    "version": 3
   },
   "file_extension": ".py",
   "mimetype": "text/x-python",
   "name": "python",
   "nbconvert_exporter": "python",
   "pygments_lexer": "ipython3",
   "version": "3.7.12"
  },
  "papermill": {
   "default_parameters": {},
   "duration": 35.205963,
   "end_time": "2022-12-13T14:24:10.514692",
   "environment_variables": {},
   "exception": null,
   "input_path": "__notebook__.ipynb",
   "output_path": "__notebook__.ipynb",
   "parameters": {},
   "start_time": "2022-12-13T14:23:35.308729",
   "version": "2.3.4"
  }
 },
 "nbformat": 4,
 "nbformat_minor": 5
}
