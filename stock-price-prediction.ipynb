{
 "cells": [
  {
   "cell_type": "markdown",
   "id": "8830e0d8",
   "metadata": {},
   "source": [
    "## Basé sur la mémoire à long terme et à court terme (LSTM) - Prédiction des stocks - # basé sur le processeur "
   ]
  },
  {
   "cell_type": "markdown",
   "id": "0b91c8a6",
   "metadata": {},
   "source": [
    "Objectif : prédire le cours d’ouverture de l’action en utilisant le cours de l’action des 60 derniers jours. "
   ]
  },
  {
   "cell_type": "code",
   "execution_count": 1,
   "id": "a50ff527",
   "metadata": {},
   "outputs": [],
   "source": [
    "import math\n",
    "import numpy as np\n",
    "import pandas as pd\n",
    "import pandas_datareader as web\n",
    "#from sklearn.tree import DecisionTreeRegressor\n",
    "#from sklearn.linear_model import LinearRegression\n",
    "#from sklearn.model_selection import train_test_split\n",
    "from sklearn.preprocessing import MinMaxScaler\n",
    "from keras.models import Sequential\n",
    "from keras.layers import Dense, LSTM\n",
    "import matplotlib.pyplot as plt\n"
   ]
  },
  {
   "cell_type": "markdown",
   "id": "9a5e864c",
   "metadata": {},
   "source": [
    "## Préparation des données "
   ]
  },
  {
   "cell_type": "markdown",
   "id": "59a45af9",
   "metadata": {},
   "source": [
    "Fonctionne sur les données basées sur Yahoo. (Ne contient pas les valeurs des actions indiennes) "
   ]
  },
  {
   "cell_type": "code",
   "execution_count": 2,
   "id": "f875d16b",
   "metadata": {},
   "outputs": [
    {
     "name": "stdout",
     "output_type": "stream",
     "text": [
      "DataFrame Shape: 2335 rows, 7 columns\n"
     ]
    },
    {
     "data": {
      "text/html": [
       "<div>\n",
       "<style scoped>\n",
       "    .dataframe tbody tr th:only-of-type {\n",
       "        vertical-align: middle;\n",
       "    }\n",
       "\n",
       "    .dataframe tbody tr th {\n",
       "        vertical-align: top;\n",
       "    }\n",
       "\n",
       "    .dataframe thead th {\n",
       "        text-align: right;\n",
       "    }\n",
       "</style>\n",
       "<table border=\"1\" class=\"dataframe\">\n",
       "  <thead>\n",
       "    <tr style=\"text-align: right;\">\n",
       "      <th></th>\n",
       "      <th>Date</th>\n",
       "      <th>Open</th>\n",
       "      <th>High</th>\n",
       "      <th>Low</th>\n",
       "      <th>Close</th>\n",
       "      <th>Adj Close</th>\n",
       "      <th>Volume</th>\n",
       "    </tr>\n",
       "  </thead>\n",
       "  <tbody>\n",
       "    <tr>\n",
       "      <th>0</th>\n",
       "      <td>2009-05-22</td>\n",
       "      <td>198.528534</td>\n",
       "      <td>199.524521</td>\n",
       "      <td>196.196198</td>\n",
       "      <td>196.946945</td>\n",
       "      <td>196.946945</td>\n",
       "      <td>3433700</td>\n",
       "    </tr>\n",
       "    <tr>\n",
       "      <th>1</th>\n",
       "      <td>2009-05-26</td>\n",
       "      <td>196.171173</td>\n",
       "      <td>202.702698</td>\n",
       "      <td>195.195190</td>\n",
       "      <td>202.382385</td>\n",
       "      <td>202.382385</td>\n",
       "      <td>6202700</td>\n",
       "    </tr>\n",
       "    <tr>\n",
       "      <th>2</th>\n",
       "      <td>2009-05-27</td>\n",
       "      <td>203.023026</td>\n",
       "      <td>206.136139</td>\n",
       "      <td>202.607605</td>\n",
       "      <td>202.982986</td>\n",
       "      <td>202.982986</td>\n",
       "      <td>6062500</td>\n",
       "    </tr>\n",
       "    <tr>\n",
       "      <th>3</th>\n",
       "      <td>2009-05-28</td>\n",
       "      <td>204.544540</td>\n",
       "      <td>206.016022</td>\n",
       "      <td>202.507507</td>\n",
       "      <td>205.405411</td>\n",
       "      <td>205.405411</td>\n",
       "      <td>5332200</td>\n",
       "    </tr>\n",
       "    <tr>\n",
       "      <th>4</th>\n",
       "      <td>2009-05-29</td>\n",
       "      <td>206.261261</td>\n",
       "      <td>208.823822</td>\n",
       "      <td>205.555557</td>\n",
       "      <td>208.823822</td>\n",
       "      <td>208.823822</td>\n",
       "      <td>5291100</td>\n",
       "    </tr>\n",
       "  </tbody>\n",
       "</table>\n",
       "</div>"
      ],
      "text/plain": [
       "         Date        Open        High         Low       Close   Adj Close  \\\n",
       "0  2009-05-22  198.528534  199.524521  196.196198  196.946945  196.946945   \n",
       "1  2009-05-26  196.171173  202.702698  195.195190  202.382385  202.382385   \n",
       "2  2009-05-27  203.023026  206.136139  202.607605  202.982986  202.982986   \n",
       "3  2009-05-28  204.544540  206.016022  202.507507  205.405411  205.405411   \n",
       "4  2009-05-29  206.261261  208.823822  205.555557  208.823822  208.823822   \n",
       "\n",
       "    Volume  \n",
       "0  3433700  \n",
       "1  6202700  \n",
       "2  6062500  \n",
       "3  5332200  \n",
       "4  5291100  "
      ]
     },
     "metadata": {},
     "output_type": "display_data"
    }
   ],
   "source": [
    "df = pd.read_csv('datasets/GOOGL.csv')\n",
    "print(\"DataFrame Shape: {} rows, {} columns\".format(*df.shape))\n",
    "display(df.head())"
   ]
  },
  {
   "cell_type": "code",
   "execution_count": 3,
   "id": "ba0bad18",
   "metadata": {},
   "outputs": [
    {
     "data": {
      "text/plain": [
       "(2335, 7)"
      ]
     },
     "execution_count": 3,
     "metadata": {},
     "output_type": "execute_result"
    }
   ],
   "source": [
    "\n",
    "\n",
    "df.shape\n",
    "\n"
   ]
  },
  {
   "cell_type": "code",
   "execution_count": 4,
   "id": "b240d16b",
   "metadata": {},
   "outputs": [],
   "source": [
    "# choix du pype d affichage\n",
    "\n",
    "#plt.style.use('fivethirtyeight')\n",
    "# plt.style.use('dark_background')\n",
    "plt.style.use('ggplot')\n",
    "#plt.style.use('seaborn-whitegrid')\n",
    "#plt.style.use('bmh')\n",
    "#plt.style.use('seaborn')\n"
   ]
  },
  {
   "cell_type": "code",
   "execution_count": 5,
   "id": "22ee87e4",
   "metadata": {},
   "outputs": [
    {
     "data": {
      "image/png": "[encoded data removed]",
      "text/plain": [
       "<Figure size 1152x576 with 1 Axes>"
      ]
     },
     "metadata": {},
     "output_type": "display_data"
    }
   ],
   "source": [
    "# affichage\n",
    "\n",
    "plt.figure(figsize=(16,8))\n",
    "plt.title('Prix d ouverture en $')\n",
    "plt.plot(df['Open'])\n",
    "plt.xlabel('Date', fontsize=18)\n",
    "plt.ylabel('Open Price USD ($)', fontsize=18)\n",
    "plt.show()\n"
   ]
  },
  {
   "cell_type": "code",
   "execution_count": 6,
   "id": "057e5f23",
   "metadata": {},
   "outputs": [
    {
     "data": {
      "text/plain": [
       "1868"
      ]
     },
     "execution_count": 6,
     "metadata": {},
     "output_type": "execute_result"
    }
   ],
   "source": [
    "data=df.filter(['Open'])\n",
    "\n",
    "# Convertir en tableau np\n",
    "dataset=data.values\n",
    "\n",
    "#Get the number of rows to train the model on\n",
    "#math.ceil to round up \n",
    "\n",
    "training_data_len = math.ceil(len(dataset)*.8)\n",
    "\n",
    "\n",
    "# print(dataset)\n",
    "training_data_len"
   ]
  },
  {
   "cell_type": "code",
   "execution_count": 7,
   "id": "b9288c45",
   "metadata": {},
   "outputs": [],
   "source": [
    "# normalisation\n",
    "\n",
    "scaler = MinMaxScaler(feature_range=(0,1))\n",
    "scaled_data = scaler.fit_transform(dataset)\n"
   ]
  },
  {
   "cell_type": "code",
   "execution_count": 8,
   "id": "e7f76299",
   "metadata": {},
   "outputs": [
    {
     "name": "stdout",
     "output_type": "stream",
     "text": [
      "[array([0.00215688, 0.        , 0.00626914, 0.00766126, 0.00923199,\n",
      "       0.01226352, 0.01570719, 0.01559271, 0.01985153, 0.02432555,\n",
      "       0.02177485, 0.02135355, 0.0202774 , 0.01823501, 0.01598654,\n",
      "       0.01353201, 0.01252913, 0.01110036, 0.01086682, 0.0120254 ,\n",
      "       0.0114484 , 0.00673166, 0.00768874, 0.00689193, 0.00995094,\n",
      "       0.01559271, 0.01467685, 0.01476844, 0.01074318, 0.00666297,\n",
      "       0.00745978, 0.00368638, 0.00648895, 0.00807341, 0.0110912 ,\n",
      "       0.01454404, 0.01726876, 0.02048348, 0.01879827, 0.0173695 ,\n",
      "       0.01785492, 0.01650859, 0.01681998, 0.02008507, 0.02476975,\n",
      "       0.02246175, 0.02073533, 0.02319902, 0.02657401, 0.02600617,\n",
      "       0.02629468, 0.02933079, 0.0285523 , 0.02917968, 0.02893696,\n",
      "       0.0282638 , 0.02906062, 0.0321471 , 0.0324356 , 0.02727009])]\n",
      "[0.024339285119793108]\n",
      "\n"
     ]
    }
   ],
   "source": [
    "# Créer un ensemble de données d'entraînement\n",
    "# Créer un ensemble de données d'entraînement à l'échelle\n",
    "\n",
    "train_data = scaled_data[0:training_data_len,:]\n",
    "\n",
    "# Divisez les données en ensembles de données x_train et y_train\n",
    "\n",
    "x_train=[]\n",
    "y_train=[]\n",
    "\n",
    "for i in range(60, len(train_data)):\n",
    "    x_train.append(train_data[i-60:i,0])\n",
    "    y_train.append(train_data[i,0])\n",
    "    if i<=60:\n",
    "        print(x_train)\n",
    "        print(y_train)\n",
    "        print()"
   ]
  },
  {
   "cell_type": "code",
   "execution_count": 9,
   "id": "1ae02074",
   "metadata": {},
   "outputs": [],
   "source": [
    "# convertissez les x_train et y_train en tableaux numpy \n",
    "x_train, y_train = np.array(x_train), np.array(y_train)\n"
   ]
  },
  {
   "cell_type": "code",
   "execution_count": 10,
   "id": "593d4e2c",
   "metadata": {},
   "outputs": [
    {
     "data": {
      "text/plain": [
       "(1808, 60, 1)"
      ]
     },
     "execution_count": 10,
     "metadata": {},
     "output_type": "execute_result"
    }
   ],
   "source": [
    "# Remodelez les données en 3 dimensions\n",
    "\n",
    "x_train = np.reshape(x_train, (x_train.shape[0], x_train.shape[1], 1))\n",
    "x_train.shape"
   ]
  },
  {
   "cell_type": "markdown",
   "id": "51ff88b3",
   "metadata": {},
   "source": [
    "## Formation sur modèle "
   ]
  },
  {
   "cell_type": "code",
   "execution_count": 11,
   "id": "16347c73",
   "metadata": {},
   "outputs": [],
   "source": [
    "# Build LSTM model\n",
    "model=Sequential()\n",
    "\n",
    "# Add first layer to model\n",
    "model.add(LSTM(50, return_sequences=True, input_shape=(x_train.shape[1],1)))\n",
    "\n",
    "# Add second layer to model\n",
    "model.add(LSTM(50, return_sequences=False))\n",
    "\n",
    "# Add Dense Layer to model with 25 neurons\n",
    "model.add(Dense(25))\n",
    "\n",
    "# Add Dense Layer to model with 1 neuron\n",
    "model.add(Dense(1))\n"
   ]
  },
  {
   "cell_type": "code",
   "execution_count": 12,
   "id": "d3894f04",
   "metadata": {},
   "outputs": [],
   "source": [
    "# Compile the model\n",
    "model.compile(optimizer='adam', loss='mean_squared_error')\n"
   ]
  },
  {
   "cell_type": "code",
   "execution_count": 13,
   "id": "57720178",
   "metadata": {},
   "outputs": [
    {
     "name": "stderr",
     "output_type": "stream",
     "text": [
      "2023-10-14 21:06:47.236144: I tensorflow/compiler/mlir/mlir_graph_optimization_pass.cc:185] None of the MLIR Optimization Passes are enabled (registered 2)\n"
     ]
    },
    {
     "name": "stdout",
     "output_type": "stream",
     "text": [
      "Epoch 1/3\n",
      "1808/1808 [==============================] - 67s 35ms/step - loss: 7.9913e-04\n",
      "Epoch 2/3\n",
      "1808/1808 [==============================] - 63s 35ms/step - loss: 2.7456e-04\n",
      "Epoch 3/3\n",
      "1808/1808 [==============================] - 63s 35ms/step - loss: 2.3621e-04\n"
     ]
    },
    {
     "data": {
      "text/plain": [
       "<keras.callbacks.History at 0x7f8ba9950c40>"
      ]
     },
     "execution_count": 13,
     "metadata": {},
     "output_type": "execute_result"
    }
   ],
   "source": [
    "# Train the model\n",
    "model.fit(x_train, y_train, batch_size=1,epochs=3)"
   ]
  },
  {
   "cell_type": "markdown",
   "id": "00afec07",
   "metadata": {},
   "source": [
    "## Modèle de test et de validation "
   ]
  },
  {
   "cell_type": "code",
   "execution_count": 14,
   "id": "3f4eb611",
   "metadata": {},
   "outputs": [],
   "source": [
    "# Créer l'ensemble de données de test \n",
    "# Créer un nouveau tableau contenant des valeurs mises à l'échelle \n",
    "    \n",
    "test_data=scaled_data[training_data_len-60: , : ]\n",
    "\n",
    "# Créer les ensembles de données x_test et y_test\n",
    "\n",
    "x_test=[]\n",
    "y_test=dataset[training_data_len:,:]\n",
    "for i in range(60, len(test_data)):\n",
    "    x_test.append(test_data[i-60:i,0])\n",
    "    "
   ]
  },
  {
   "cell_type": "code",
   "execution_count": 15,
   "id": "c71ed730",
   "metadata": {},
   "outputs": [],
   "source": [
    "# Convertissez les données en un tableau numpy \n",
    "\n",
    "x_test=np.array(x_test)\n"
   ]
  },
  {
   "cell_type": "code",
   "execution_count": 16,
   "id": "363ec19e",
   "metadata": {},
   "outputs": [],
   "source": [
    "# Remodeler les données en 3D \n",
    "\n",
    "x_test=np.reshape(x_test,(x_test.shape[0], x_test.shape[1], 1))"
   ]
  },
  {
   "cell_type": "code",
   "execution_count": 17,
   "id": "16dbd478",
   "metadata": {},
   "outputs": [],
   "source": [
    "# Obtenez les modèles de valeurs de prix prédites \n",
    "\n",
    "predictions=model.predict(x_test)\n",
    "predictions=scaler.inverse_transform(predictions)"
   ]
  },
  {
   "cell_type": "code",
   "execution_count": 18,
   "id": "ce281556",
   "metadata": {},
   "outputs": [
    {
     "data": {
      "text/plain": [
       "7.66513983469118"
      ]
     },
     "execution_count": 18,
     "metadata": {},
     "output_type": "execute_result"
    }
   ],
   "source": [
    "# Obtenir l'erreur quadratique moyenne (RMSE) \n",
    "\n",
    "rmse =np.sqrt(np.mean(predictions-y_test)**2)\n",
    "rmse"
   ]
  },
  {
   "cell_type": "code",
   "execution_count": 19,
   "id": "3da0f568",
   "metadata": {},
   "outputs": [],
   "source": [
    "#choisissez le style de traçage \n",
    "\n",
    "#plt.style.use('fivethirtyeight')\n",
    "#plt.style.use('dark_background')\n",
    "plt.style.use('ggplot')\n",
    "#plt.style.use('seaborn-whitegrid')\n",
    "#plt.style.use('bmh')\n",
    "#plt.style.use('seaborn')\n"
   ]
  },
  {
   "cell_type": "code",
   "execution_count": 20,
   "id": "0bd2a511",
   "metadata": {},
   "outputs": [
    {
     "name": "stderr",
     "output_type": "stream",
     "text": [
      "/var/folders/f2/nwh0qtfn1dx9nd5d1sl92d940000gn/T/ipykernel_971/2563169301.py:5: SettingWithCopyWarning: \n",
      "A value is trying to be set on a copy of a slice from a DataFrame.\n",
      "Try using .loc[row_indexer,col_indexer] = value instead\n",
      "\n",
      "See the caveats in the documentation: https://pandas.pydata.org/pandas-docs/stable/user_guide/indexing.html#returning-a-view-versus-a-copy\n",
      "  valid['predictions'] = predictions\n"
     ]
    },
    {
     "data": {
      "image/png": "[encoded data removed]",
      "text/plain": [
       "<Figure size 1152x576 with 1 Axes>"
      ]
     },
     "metadata": {},
     "output_type": "display_data"
    }
   ],
   "source": [
    "#tracer le \n",
    "\n",
    "train=data[:training_data_len]\n",
    "valid=data[training_data_len:]\n",
    "valid['predictions'] = predictions\n",
    "\n",
    "#Visualize the data\n",
    "plt.figure(figsize=(16,8))\n",
    "plt.title('TESLA company - Model prediciton comparison')\n",
    "plt.xlabel('Date', fontsize=18)\n",
    "plt.ylabel('Open Price USD($)', fontsize=18)\n",
    "plt.plot(train['Open'] , color='red')\n",
    "plt.plot(valid['Open'] , color='yellow')\n",
    "plt.plot(valid[ 'predictions'] , color='green')\n",
    "plt.legend(['Train','Validation', 'predictions'], loc='lower right')\n",
    "plt.savefig('prediction.png')\n",
    "plt.show()\n"
   ]
  },
  {
   "cell_type": "code",
   "execution_count": 27,
   "id": "fc7945d5",
   "metadata": {},
   "outputs": [
    {
     "data": {
      "text/html": [
       "<div>\n",
       "<style scoped>\n",
       "    .dataframe tbody tr th:only-of-type {\n",
       "        vertical-align: middle;\n",
       "    }\n",
       "\n",
       "    .dataframe tbody tr th {\n",
       "        vertical-align: top;\n",
       "    }\n",
       "\n",
       "    .dataframe thead th {\n",
       "        text-align: right;\n",
       "    }\n",
       "</style>\n",
       "<table border=\"1\" class=\"dataframe\">\n",
       "  <thead>\n",
       "    <tr style=\"text-align: right;\">\n",
       "      <th></th>\n",
       "      <th>Date</th>\n",
       "      <th>Open</th>\n",
       "      <th>High</th>\n",
       "      <th>Low</th>\n",
       "      <th>Close</th>\n",
       "      <th>Adj Close</th>\n",
       "      <th>Volume</th>\n",
       "    </tr>\n",
       "  </thead>\n",
       "  <tbody>\n",
       "    <tr>\n",
       "      <th>2320</th>\n",
       "      <td>2018-08-09</td>\n",
       "      <td>1262.72998</td>\n",
       "      <td>1271.959961</td>\n",
       "      <td>1260.099976</td>\n",
       "      <td>1264.459961</td>\n",
       "      <td>1264.459961</td>\n",
       "      <td>1365700</td>\n",
       "    </tr>\n",
       "  </tbody>\n",
       "</table>\n",
       "</div>"
      ],
      "text/plain": [
       "            Date        Open         High          Low        Close  \\\n",
       "2320  2018-08-09  1262.72998  1271.959961  1260.099976  1264.459961   \n",
       "\n",
       "        Adj Close   Volume  \n",
       "2320  1264.459961  1365700  "
      ]
     },
     "execution_count": 27,
     "metadata": {},
     "output_type": "execute_result"
    }
   ],
   "source": [
    "df[2320:2321]"
   ]
  },
  {
   "cell_type": "code",
   "execution_count": 36,
   "id": "4967d929",
   "metadata": {},
   "outputs": [
    {
     "data": {
      "text/html": [
       "<div>\n",
       "<style scoped>\n",
       "    .dataframe tbody tr th:only-of-type {\n",
       "        vertical-align: middle;\n",
       "    }\n",
       "\n",
       "    .dataframe tbody tr th {\n",
       "        vertical-align: top;\n",
       "    }\n",
       "\n",
       "    .dataframe thead th {\n",
       "        text-align: right;\n",
       "    }\n",
       "</style>\n",
       "<table border=\"1\" class=\"dataframe\">\n",
       "  <thead>\n",
       "    <tr style=\"text-align: right;\">\n",
       "      <th></th>\n",
       "      <th>Open</th>\n",
       "      <th>predictions</th>\n",
       "    </tr>\n",
       "  </thead>\n",
       "  <tbody>\n",
       "    <tr>\n",
       "      <th>2320</th>\n",
       "      <td>1262.729980</td>\n",
       "      <td>1246.024780</td>\n",
       "    </tr>\n",
       "    <tr>\n",
       "      <th>2321</th>\n",
       "      <td>1259.180054</td>\n",
       "      <td>1251.488647</td>\n",
       "    </tr>\n",
       "    <tr>\n",
       "      <th>2322</th>\n",
       "      <td>1251.199951</td>\n",
       "      <td>1251.372559</td>\n",
       "    </tr>\n",
       "    <tr>\n",
       "      <th>2323</th>\n",
       "      <td>1252.500000</td>\n",
       "      <td>1245.817505</td>\n",
       "    </tr>\n",
       "    <tr>\n",
       "      <th>2324</th>\n",
       "      <td>1244.280029</td>\n",
       "      <td>1242.956909</td>\n",
       "    </tr>\n",
       "    <tr>\n",
       "      <th>2325</th>\n",
       "      <td>1241.989990</td>\n",
       "      <td>1237.825317</td>\n",
       "    </tr>\n",
       "    <tr>\n",
       "      <th>2326</th>\n",
       "      <td>1222.040039</td>\n",
       "      <td>1234.310303</td>\n",
       "    </tr>\n",
       "    <tr>\n",
       "      <th>2327</th>\n",
       "      <td>1220.660034</td>\n",
       "      <td>1222.885864</td>\n",
       "    </tr>\n",
       "    <tr>\n",
       "      <th>2328</th>\n",
       "      <td>1223.020020</td>\n",
       "      <td>1216.266602</td>\n",
       "    </tr>\n",
       "    <tr>\n",
       "      <th>2329</th>\n",
       "      <td>1214.219971</td>\n",
       "      <td>1215.711914</td>\n",
       "    </tr>\n",
       "    <tr>\n",
       "      <th>2330</th>\n",
       "      <td>1219.880005</td>\n",
       "      <td>1212.328979</td>\n",
       "    </tr>\n",
       "    <tr>\n",
       "      <th>2331</th>\n",
       "      <td>1226.000000</td>\n",
       "      <td>1213.635010</td>\n",
       "    </tr>\n",
       "    <tr>\n",
       "      <th>2332</th>\n",
       "      <td>1244.140015</td>\n",
       "      <td>1218.207642</td>\n",
       "    </tr>\n",
       "    <tr>\n",
       "      <th>2333</th>\n",
       "      <td>1255.900024</td>\n",
       "      <td>1230.219971</td>\n",
       "    </tr>\n",
       "    <tr>\n",
       "      <th>2334</th>\n",
       "      <td>1255.000000</td>\n",
       "      <td>1242.644775</td>\n",
       "    </tr>\n",
       "  </tbody>\n",
       "</table>\n",
       "</div>"
      ],
      "text/plain": [
       "             Open  predictions\n",
       "2320  1262.729980  1246.024780\n",
       "2321  1259.180054  1251.488647\n",
       "2322  1251.199951  1251.372559\n",
       "2323  1252.500000  1245.817505\n",
       "2324  1244.280029  1242.956909\n",
       "2325  1241.989990  1237.825317\n",
       "2326  1222.040039  1234.310303\n",
       "2327  1220.660034  1222.885864\n",
       "2328  1223.020020  1216.266602\n",
       "2329  1214.219971  1215.711914\n",
       "2330  1219.880005  1212.328979\n",
       "2331  1226.000000  1213.635010\n",
       "2332  1244.140015  1218.207642\n",
       "2333  1255.900024  1230.219971\n",
       "2334  1255.000000  1242.644775"
      ]
     },
     "execution_count": 36,
     "metadata": {},
     "output_type": "execute_result"
    }
   ],
   "source": [
    "# Afficher les prix valides et prévus \n",
    "\n",
    "valid.tail(15)"
   ]
  },
  {
   "cell_type": "markdown",
   "id": "a5ace5de",
   "metadata": {},
   "source": [
    "## Obtenir des prédictions - pour demain "
   ]
  },
  {
   "cell_type": "code",
   "execution_count": 28,
   "id": "646a1328",
   "metadata": {},
   "outputs": [
    {
     "name": "stdout",
     "output_type": "stream",
     "text": [
      " tomorrow:[[1247.1915]]\n"
     ]
    }
   ],
   "source": [
    "\n",
    "\n",
    "# Get the quote\n",
    "# stock_quote = web.DataReader(ticker, data_source='yahoo', start='2012-01-01', end='2020-05-24')\n",
    "\n",
    "new_df = df.filter(['Open'])\n",
    " #new_df = stock_quote.filter(['Open'])\n",
    "    \n",
    "# Obtenez les valeurs des 60 derniers jours et convertissez-les en tableau\n",
    "last_60_days=new_df[-60:].values\n",
    "\n",
    "# Mettez à l'échelle les données pour qu'elles soient des valeurs comprises entre 0 et 1\n",
    "last_60_days_scaled=scaler.transform(last_60_days)\n",
    "\n",
    "# Créer une liste vide\n",
    "X_test=[]\n",
    "\n",
    "# Ajouter les 60 derniers jours\n",
    "X_test.append(last_60_days_scaled)\n",
    "\n",
    "# Convertir les données X_test en tableau numpy\n",
    "X_test = np.array(X_test)\n",
    "\n",
    "# Remodeler les données\n",
    "X_test = np.reshape(X_test, (X_test.shape[0], X_test.shape[1],1))\n",
    "\n",
    "# Obtenez un prix échelonné prévu\n",
    "pred_price = model.predict(X_test)\n",
    "\n",
    "# annuler la mise à l'échelle\n",
    "pred_price=scaler.inverse_transform(pred_price)\n",
    "print(f' tomorrow:{pred_price}')\n"
   ]
  },
  {
   "cell_type": "markdown",
   "id": "6e9621f4",
   "metadata": {},
   "source": [
    "## Obtenir des pronostics pour 2 mois à partir de maintenant ? "
   ]
  },
  {
   "cell_type": "code",
   "execution_count": 29,
   "id": "e878de92",
   "metadata": {},
   "outputs": [
    {
     "name": "stdout",
     "output_type": "stream",
     "text": [
      " tomorrow:[[1247.1915]]\n"
     ]
    }
   ],
   "source": [
    "#Get the quote\n",
    "# stock_quote = web.DataReader(ticker, data_source='yahoo', start='2012-01-01', end='2020-05-24')\n",
    "\n",
    "new_df = df.filter(['Open'])\n",
    "#new_df=stock_quote.filter(['Open'])\n",
    "#Get last 60 days values and convert into array\n",
    "last_60_days=new_df[-60:].values\n",
    "\n",
    "#Scale the data to be values between 0\n",
    "last_60_days_scaled=scaler.transform(last_60_days)\n",
    "\n",
    "#Create an empty list\n",
    "X_test=[]\n",
    "#Appemd the past 60days\n",
    "X_test.append(last_60_days_scaled)\n",
    "\n",
    "#Conver the X_test data into numpy array\n",
    "X_test = np.array(X_test)\n",
    "\n",
    "#Reshape the data\n",
    "X_test = np.reshape(X_test, (X_test.shape[0], X_test.shape[1],1))\n",
    "#Get predicted scaled price\n",
    "pred_price = model.predict(X_test)\n",
    "#undo the scaling\n",
    "pred_price=scaler.inverse_transform(pred_price)\n",
    "print(f' tomorrow:{pred_price}')\n"
   ]
  },
  {
   "cell_type": "code",
   "execution_count": null,
   "id": "1b6d3bc5",
   "metadata": {},
   "outputs": [],
   "source": []
  }
 ],
 "metadata": {
  "kernelspec": {
   "display_name": "Python 3 (ipykernel)",
   "language": "python",
   "name": "python3"
  },
  "language_info": {
   "codemirror_mode": {
    "name": "ipython",
    "version": 3
   },
   "file_extension": ".py",
   "mimetype": "text/x-python",
   "name": "python",
   "nbconvert_exporter": "python",
   "pygments_lexer": "ipython3",
   "version": "3.8.11"
  }
 },
 "nbformat": 4,
 "nbformat_minor": 5
}
