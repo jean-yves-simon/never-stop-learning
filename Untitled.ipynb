{
 "cells": [
  {
   "cell_type": "code",
   "execution_count": 4,
   "id": "64595f7e",
   "metadata": {},
   "outputs": [
    {
     "name": "stdout",
     "output_type": "stream",
     "text": [
      "-100\n"
     ]
    }
   ],
   "source": [
    "# calcul du minimum d'une liste\n",
    "\n",
    "def Minimum(L) :\n",
    "    min_courant = L[0]\n",
    "    for v in L :\n",
    "        if v < min_courant :\n",
    "            min_courant = v\n",
    "    return min_courant\n",
    "\n",
    "print( Minimum([4,88,9,-11,-100]) )\n"
   ]
  },
  {
   "cell_type": "code",
   "execution_count": null,
   "id": "e7194d2a",
   "metadata": {},
   "outputs": [],
   "source": []
  }
 ],
 "metadata": {
  "kernelspec": {
   "display_name": "Python 3",
   "language": "python",
   "name": "python3"
  },
  "language_info": {
   "codemirror_mode": {
    "name": "ipython",
    "version": 3
   },
   "file_extension": ".py",
   "mimetype": "text/x-python",
   "name": "python",
   "nbconvert_exporter": "python",
   "pygments_lexer": "ipython3",
   "version": "3.9.12"
  }
 },
 "nbformat": 4,
 "nbformat_minor": 5
}
