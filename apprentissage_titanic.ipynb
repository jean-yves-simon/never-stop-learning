{
 "cells": [
  {
   "cell_type": "markdown",
   "id": "bfedf47b",
   "metadata": {},
   "source": [
    "# Logique régression"
   ]
  },
  {
   "cell_type": "markdown",
   "id": "096df782",
   "metadata": {},
   "source": [
    "- Le but de ce dossier est de prédire les survivants du titanic.\n",
    "- Je cré un fichier (submission.csv) pour le soumettre à Kaggle.\n",
    "- Ce fichier contient 2 colonnes:\n",
    "- PassengerId qui provient du fichier de test\n",
    "- Survived contient les prédictions obtenues à partir des données de (test) par le réseau de neurones"
   ]
  },
  {
   "cell_type": "markdown",
   "id": "2dd70ed5",
   "metadata": {},
   "source": [
    "Avant de commencer, il est trés important de bien connaitre le contenu du fichier csv\n",
    " - Savoir combien il y a de lignes et de colonnes.\n",
    " - la présence de données catégorielles ou non\n",
    " - identifier la cible ou target ou variable à expliquée.\n"
   ]
  },
  {
   "cell_type": "markdown",
   "id": "7225849a",
   "metadata": {},
   "source": [
    "# Installation des bibliotheques"
   ]
  },
  {
   "cell_type": "code",
   "execution_count": 1,
   "id": "44c3c86b",
   "metadata": {},
   "outputs": [],
   "source": [
    "'''\n",
    "\n",
    "    importation des bibliotheques\n",
    "\n",
    "'''\n",
    "import pandas as pd\n",
    "import tensorflow as tf\n",
    "import matplotlib.pyplot as plt\n",
    "from sklearn.preprocessing import MinMaxScaler\n",
    "from sklearn.metrics import accuracy_score\n",
    "from sklearn.model_selection import train_test_split\n",
    "from sklearn.linear_model import LogisticRegression\n",
    "from sklearn import tree\n",
    "from sklearn.tree import export_text\n",
    "from sklearn.ensemble import RandomForestClassifier\n",
    "import numpy as np\n",
    "import sklearn.metrics as metrics\n",
    "import seaborn as sns \n",
    "%matplotlib inline\n",
    "\n"
   ]
  },
  {
   "cell_type": "code",
   "execution_count": 2,
   "id": "95aca337",
   "metadata": {},
   "outputs": [],
   "source": [
    "'''\n",
    "\n",
    "    charger le dataframe  \n",
    "\n",
    "'''\n",
    "\n",
    "train = pd.read_csv('train.csv')\n",
    "\n",
    "\n"
   ]
  },
  {
   "cell_type": "markdown",
   "id": "4b005488",
   "metadata": {},
   "source": [
    "- PassengerId = est l'identifiant unique de la ligne et il n'a aucun effet sur la cible\n",
    "- Survived    = est la variable cible que nous essayons de prédire (0 ou 1)\n",
    "- Pclass      = (Classe Passager) est le statut socio-économique du passager et il s'agit d'une caractéristique ordinale catégorielle qui a 3 valeurs uniques (1, 2 ou 3)\n",
    "- Name\n",
    "- Sex\n",
    "- Age\n",
    "- SibSp       = est le nombre total de frères et sœurs et du conjoint des passagers\n",
    "- Parch       = est le nombre total de parents et d'enfants des passagers\n",
    "- Ticket      = est le numéro de billet du passager\n",
    "- Fare        = est le tarif passager\n",
    "- Cabin       = est le numéro de cabine du passager\n",
    "- Embarked    = est le port d'embarquement et c'est une caractéristique catégorielle qui a 3 valeurs uniques \n",
    "- C = Cherbourg\n",
    "- Q = Queenstown\n",
    "- S = Southampton"
   ]
  },
  {
   "cell_type": "markdown",
   "id": "2f5d6cb7",
   "metadata": {},
   "source": [
    "# Prétraitement des données"
   ]
  },
  {
   "cell_type": "code",
   "execution_count": 12,
   "id": "6e03ac35",
   "metadata": {},
   "outputs": [
    {
     "name": "stdout",
     "output_type": "stream",
     "text": [
      "<class 'pandas.core.frame.DataFrame'>\n",
      "RangeIndex: 891 entries, 0 to 890\n",
      "Data columns (total 9 columns):\n",
      " #   Column       Non-Null Count  Dtype  \n",
      "---  ------       --------------  -----  \n",
      " 0   PassengerId  891 non-null    int64  \n",
      " 1   Survived     891 non-null    int64  \n",
      " 2   Pclass       891 non-null    int64  \n",
      " 3   Sex          891 non-null    object \n",
      " 4   Age          891 non-null    float64\n",
      " 5   SibSp        891 non-null    int64  \n",
      " 6   Parch        891 non-null    int64  \n",
      " 7   Fare         891 non-null    float64\n",
      " 8   Embarked     891 non-null    object \n",
      "dtypes: float64(2), int64(5), object(2)\n",
      "memory usage: 62.8+ KB\n"
     ]
    }
   ],
   "source": [
    "'''\n",
    "    informations\n",
    "\n",
    "'''\n",
    "\n",
    "train.info()"
   ]
  },
  {
   "cell_type": "markdown",
   "id": "4605c14e",
   "metadata": {},
   "source": [
    "# Gestion des valeurs manquantes"
   ]
  },
  {
   "cell_type": "code",
   "execution_count": 16,
   "id": "354b28a0",
   "metadata": {},
   "outputs": [
    {
     "data": {
      "text/plain": [
       "PassengerId    0\n",
       "Survived       0\n",
       "Pclass         0\n",
       "Sex            0\n",
       "Age            0\n",
       "SibSp          0\n",
       "Parch          0\n",
       "Fare           0\n",
       "Embarked       2\n",
       "dtype: int64"
      ]
     },
     "execution_count": 16,
     "metadata": {},
     "output_type": "execute_result"
    }
   ],
   "source": [
    "'''\n",
    "\n",
    "    verifier si il y a des données nan \n",
    "\n",
    "'''\n",
    "\n",
    "train.isnull().sum()\n"
   ]
  },
  {
   "cell_type": "code",
   "execution_count": 5,
   "id": "f300be43",
   "metadata": {},
   "outputs": [
    {
     "data": {
      "text/plain": [
       "PassengerId    0\n",
       "Survived       0\n",
       "Pclass         0\n",
       "Name           0\n",
       "Sex            0\n",
       "Age            0\n",
       "SibSp          0\n",
       "Parch          0\n",
       "Ticket         0\n",
       "Fare           0\n",
       "Cabin          0\n",
       "Embarked       0\n",
       "dtype: int64"
      ]
     },
     "execution_count": 5,
     "metadata": {},
     "output_type": "execute_result"
    }
   ],
   "source": [
    "'''\n",
    "\n",
    "    remplacer les valeurs manquantes de colonne par la moyenne de la colonne\n",
    "\n",
    "'''\n",
    "\n",
    "train= train.fillna(value=train['Age'].mean())\n",
    "#train = train.fillna(value=train['Fare'].mean())\n",
    "\n",
    "# Pour vérifier les modifications..............\n",
    "\n",
    "train.isnull().sum()"
   ]
  },
  {
   "cell_type": "code",
   "execution_count": 8,
   "id": "84c49785",
   "metadata": {},
   "outputs": [
    {
     "data": {
      "text/html": [
       "<div>\n",
       "<style scoped>\n",
       "    .dataframe tbody tr th:only-of-type {\n",
       "        vertical-align: middle;\n",
       "    }\n",
       "\n",
       "    .dataframe tbody tr th {\n",
       "        vertical-align: top;\n",
       "    }\n",
       "\n",
       "    .dataframe thead th {\n",
       "        text-align: right;\n",
       "    }\n",
       "</style>\n",
       "<table border=\"1\" class=\"dataframe\">\n",
       "  <thead>\n",
       "    <tr style=\"text-align: right;\">\n",
       "      <th></th>\n",
       "      <th>PassengerId</th>\n",
       "      <th>Survived</th>\n",
       "      <th>Pclass</th>\n",
       "      <th>Name</th>\n",
       "      <th>Sex</th>\n",
       "      <th>Age</th>\n",
       "      <th>SibSp</th>\n",
       "      <th>Parch</th>\n",
       "      <th>Ticket</th>\n",
       "      <th>Fare</th>\n",
       "      <th>Cabin</th>\n",
       "      <th>Embarked</th>\n",
       "    </tr>\n",
       "  </thead>\n",
       "  <tbody>\n",
       "    <tr>\n",
       "      <th>0</th>\n",
       "      <td>1</td>\n",
       "      <td>0</td>\n",
       "      <td>3</td>\n",
       "      <td>Braund, Mr. Owen Harris</td>\n",
       "      <td>male</td>\n",
       "      <td>22.0</td>\n",
       "      <td>1</td>\n",
       "      <td>0</td>\n",
       "      <td>A/5 21171</td>\n",
       "      <td>7.2500</td>\n",
       "      <td>29.699118</td>\n",
       "      <td>S</td>\n",
       "    </tr>\n",
       "    <tr>\n",
       "      <th>1</th>\n",
       "      <td>2</td>\n",
       "      <td>1</td>\n",
       "      <td>1</td>\n",
       "      <td>Cumings, Mrs. John Bradley (Florence Briggs Th...</td>\n",
       "      <td>female</td>\n",
       "      <td>38.0</td>\n",
       "      <td>1</td>\n",
       "      <td>0</td>\n",
       "      <td>PC 17599</td>\n",
       "      <td>71.2833</td>\n",
       "      <td>C85</td>\n",
       "      <td>C</td>\n",
       "    </tr>\n",
       "    <tr>\n",
       "      <th>2</th>\n",
       "      <td>3</td>\n",
       "      <td>1</td>\n",
       "      <td>3</td>\n",
       "      <td>Heikkinen, Miss. Laina</td>\n",
       "      <td>female</td>\n",
       "      <td>26.0</td>\n",
       "      <td>0</td>\n",
       "      <td>0</td>\n",
       "      <td>STON/O2. 3101282</td>\n",
       "      <td>7.9250</td>\n",
       "      <td>29.699118</td>\n",
       "      <td>S</td>\n",
       "    </tr>\n",
       "    <tr>\n",
       "      <th>3</th>\n",
       "      <td>4</td>\n",
       "      <td>1</td>\n",
       "      <td>1</td>\n",
       "      <td>Futrelle, Mrs. Jacques Heath (Lily May Peel)</td>\n",
       "      <td>female</td>\n",
       "      <td>35.0</td>\n",
       "      <td>1</td>\n",
       "      <td>0</td>\n",
       "      <td>113803</td>\n",
       "      <td>53.1000</td>\n",
       "      <td>C123</td>\n",
       "      <td>S</td>\n",
       "    </tr>\n",
       "    <tr>\n",
       "      <th>4</th>\n",
       "      <td>5</td>\n",
       "      <td>0</td>\n",
       "      <td>3</td>\n",
       "      <td>Allen, Mr. William Henry</td>\n",
       "      <td>male</td>\n",
       "      <td>35.0</td>\n",
       "      <td>0</td>\n",
       "      <td>0</td>\n",
       "      <td>373450</td>\n",
       "      <td>8.0500</td>\n",
       "      <td>29.699118</td>\n",
       "      <td>S</td>\n",
       "    </tr>\n",
       "  </tbody>\n",
       "</table>\n",
       "</div>"
      ],
      "text/plain": [
       "   PassengerId  Survived  Pclass  \\\n",
       "0            1         0       3   \n",
       "1            2         1       1   \n",
       "2            3         1       3   \n",
       "3            4         1       1   \n",
       "4            5         0       3   \n",
       "\n",
       "                                                Name     Sex   Age  SibSp  \\\n",
       "0                            Braund, Mr. Owen Harris    male  22.0      1   \n",
       "1  Cumings, Mrs. John Bradley (Florence Briggs Th...  female  38.0      1   \n",
       "2                             Heikkinen, Miss. Laina  female  26.0      0   \n",
       "3       Futrelle, Mrs. Jacques Heath (Lily May Peel)  female  35.0      1   \n",
       "4                           Allen, Mr. William Henry    male  35.0      0   \n",
       "\n",
       "   Parch            Ticket     Fare      Cabin Embarked  \n",
       "0      0         A/5 21171   7.2500  29.699118        S  \n",
       "1      0          PC 17599  71.2833        C85        C  \n",
       "2      0  STON/O2. 3101282   7.9250  29.699118        S  \n",
       "3      0            113803  53.1000       C123        S  \n",
       "4      0            373450   8.0500  29.699118        S  "
      ]
     },
     "execution_count": 8,
     "metadata": {},
     "output_type": "execute_result"
    }
   ],
   "source": [
    "train.head()"
   ]
  },
  {
   "cell_type": "code",
   "execution_count": 9,
   "id": "557be8a8",
   "metadata": {},
   "outputs": [],
   "source": [
    "'''\n",
    "\n",
    "    supprimer les colonnes inutiles \n",
    "\n",
    "'''\n",
    "\n",
    "train = train.drop('Name', axis=1)\n",
    "train = train.drop('Ticket', axis=1)\n",
    "train = train.drop('Cabin', axis=1)\n",
    "\n",
    "# ou\n",
    "\n",
    "#dataset.drop(columns=['colonne1', 'colonne2', 'colonne3'])\n"
   ]
  },
  {
   "cell_type": "code",
   "execution_count": 10,
   "id": "c06638b4",
   "metadata": {},
   "outputs": [
    {
     "data": {
      "text/html": [
       "<div>\n",
       "<style scoped>\n",
       "    .dataframe tbody tr th:only-of-type {\n",
       "        vertical-align: middle;\n",
       "    }\n",
       "\n",
       "    .dataframe tbody tr th {\n",
       "        vertical-align: top;\n",
       "    }\n",
       "\n",
       "    .dataframe thead th {\n",
       "        text-align: right;\n",
       "    }\n",
       "</style>\n",
       "<table border=\"1\" class=\"dataframe\">\n",
       "  <thead>\n",
       "    <tr style=\"text-align: right;\">\n",
       "      <th></th>\n",
       "      <th>PassengerId</th>\n",
       "      <th>Survived</th>\n",
       "      <th>Pclass</th>\n",
       "      <th>Sex</th>\n",
       "      <th>Age</th>\n",
       "      <th>SibSp</th>\n",
       "      <th>Parch</th>\n",
       "      <th>Fare</th>\n",
       "      <th>Embarked</th>\n",
       "    </tr>\n",
       "  </thead>\n",
       "  <tbody>\n",
       "    <tr>\n",
       "      <th>0</th>\n",
       "      <td>1</td>\n",
       "      <td>0</td>\n",
       "      <td>3</td>\n",
       "      <td>male</td>\n",
       "      <td>22.0</td>\n",
       "      <td>1</td>\n",
       "      <td>0</td>\n",
       "      <td>7.2500</td>\n",
       "      <td>S</td>\n",
       "    </tr>\n",
       "    <tr>\n",
       "      <th>1</th>\n",
       "      <td>2</td>\n",
       "      <td>1</td>\n",
       "      <td>1</td>\n",
       "      <td>female</td>\n",
       "      <td>38.0</td>\n",
       "      <td>1</td>\n",
       "      <td>0</td>\n",
       "      <td>71.2833</td>\n",
       "      <td>C</td>\n",
       "    </tr>\n",
       "    <tr>\n",
       "      <th>2</th>\n",
       "      <td>3</td>\n",
       "      <td>1</td>\n",
       "      <td>3</td>\n",
       "      <td>female</td>\n",
       "      <td>26.0</td>\n",
       "      <td>0</td>\n",
       "      <td>0</td>\n",
       "      <td>7.9250</td>\n",
       "      <td>S</td>\n",
       "    </tr>\n",
       "    <tr>\n",
       "      <th>3</th>\n",
       "      <td>4</td>\n",
       "      <td>1</td>\n",
       "      <td>1</td>\n",
       "      <td>female</td>\n",
       "      <td>35.0</td>\n",
       "      <td>1</td>\n",
       "      <td>0</td>\n",
       "      <td>53.1000</td>\n",
       "      <td>S</td>\n",
       "    </tr>\n",
       "    <tr>\n",
       "      <th>4</th>\n",
       "      <td>5</td>\n",
       "      <td>0</td>\n",
       "      <td>3</td>\n",
       "      <td>male</td>\n",
       "      <td>35.0</td>\n",
       "      <td>0</td>\n",
       "      <td>0</td>\n",
       "      <td>8.0500</td>\n",
       "      <td>S</td>\n",
       "    </tr>\n",
       "  </tbody>\n",
       "</table>\n",
       "</div>"
      ],
      "text/plain": [
       "   PassengerId  Survived  Pclass     Sex   Age  SibSp  Parch     Fare Embarked\n",
       "0            1         0       3    male  22.0      1      0   7.2500        S\n",
       "1            2         1       1  female  38.0      1      0  71.2833        C\n",
       "2            3         1       3  female  26.0      0      0   7.9250        S\n",
       "3            4         1       1  female  35.0      1      0  53.1000        S\n",
       "4            5         0       3    male  35.0      0      0   8.0500        S"
      ]
     },
     "execution_count": 10,
     "metadata": {},
     "output_type": "execute_result"
    }
   ],
   "source": [
    "train.head()"
   ]
  },
  {
   "cell_type": "code",
   "execution_count": 13,
   "id": "73e1ef16",
   "metadata": {},
   "outputs": [],
   "source": [
    "'''\n",
    "\n",
    "    une methode pour convertir et avoir moins de colonnes\n",
    "\n",
    "'''\n",
    "\n",
    "train['Sex'] = train['Sex'].map({'male': 0, 'female': 1})\n",
    "#test['Sex'] = test['Sex'].map({'male': 0, 'female': 1})"
   ]
  },
  {
   "cell_type": "code",
   "execution_count": 14,
   "id": "60982421",
   "metadata": {},
   "outputs": [],
   "source": [
    "'''\n",
    "\n",
    "    remplacer les variables catégorielles\n",
    "\n",
    "'''\n",
    "\n",
    "train['Embarked'] = train['Embarked'].map({'Q': 0, 'S': 1, 'C': 2})\n",
    "#test['Embarked'] = test['Embarked'].map({'Q': 0, 'S': 1, 'C': 2})\n"
   ]
  },
  {
   "cell_type": "code",
   "execution_count": 15,
   "id": "7115a7a2",
   "metadata": {},
   "outputs": [
    {
     "data": {
      "text/html": [
       "<div>\n",
       "<style scoped>\n",
       "    .dataframe tbody tr th:only-of-type {\n",
       "        vertical-align: middle;\n",
       "    }\n",
       "\n",
       "    .dataframe tbody tr th {\n",
       "        vertical-align: top;\n",
       "    }\n",
       "\n",
       "    .dataframe thead th {\n",
       "        text-align: right;\n",
       "    }\n",
       "</style>\n",
       "<table border=\"1\" class=\"dataframe\">\n",
       "  <thead>\n",
       "    <tr style=\"text-align: right;\">\n",
       "      <th></th>\n",
       "      <th>PassengerId</th>\n",
       "      <th>Survived</th>\n",
       "      <th>Pclass</th>\n",
       "      <th>Sex</th>\n",
       "      <th>Age</th>\n",
       "      <th>SibSp</th>\n",
       "      <th>Parch</th>\n",
       "      <th>Fare</th>\n",
       "      <th>Embarked</th>\n",
       "    </tr>\n",
       "  </thead>\n",
       "  <tbody>\n",
       "    <tr>\n",
       "      <th>0</th>\n",
       "      <td>1</td>\n",
       "      <td>0</td>\n",
       "      <td>3</td>\n",
       "      <td>0</td>\n",
       "      <td>22.0</td>\n",
       "      <td>1</td>\n",
       "      <td>0</td>\n",
       "      <td>7.2500</td>\n",
       "      <td>1.0</td>\n",
       "    </tr>\n",
       "    <tr>\n",
       "      <th>1</th>\n",
       "      <td>2</td>\n",
       "      <td>1</td>\n",
       "      <td>1</td>\n",
       "      <td>1</td>\n",
       "      <td>38.0</td>\n",
       "      <td>1</td>\n",
       "      <td>0</td>\n",
       "      <td>71.2833</td>\n",
       "      <td>2.0</td>\n",
       "    </tr>\n",
       "    <tr>\n",
       "      <th>2</th>\n",
       "      <td>3</td>\n",
       "      <td>1</td>\n",
       "      <td>3</td>\n",
       "      <td>1</td>\n",
       "      <td>26.0</td>\n",
       "      <td>0</td>\n",
       "      <td>0</td>\n",
       "      <td>7.9250</td>\n",
       "      <td>1.0</td>\n",
       "    </tr>\n",
       "    <tr>\n",
       "      <th>3</th>\n",
       "      <td>4</td>\n",
       "      <td>1</td>\n",
       "      <td>1</td>\n",
       "      <td>1</td>\n",
       "      <td>35.0</td>\n",
       "      <td>1</td>\n",
       "      <td>0</td>\n",
       "      <td>53.1000</td>\n",
       "      <td>1.0</td>\n",
       "    </tr>\n",
       "    <tr>\n",
       "      <th>4</th>\n",
       "      <td>5</td>\n",
       "      <td>0</td>\n",
       "      <td>3</td>\n",
       "      <td>0</td>\n",
       "      <td>35.0</td>\n",
       "      <td>0</td>\n",
       "      <td>0</td>\n",
       "      <td>8.0500</td>\n",
       "      <td>1.0</td>\n",
       "    </tr>\n",
       "  </tbody>\n",
       "</table>\n",
       "</div>"
      ],
      "text/plain": [
       "   PassengerId  Survived  Pclass  Sex   Age  SibSp  Parch     Fare  Embarked\n",
       "0            1         0       3    0  22.0      1      0   7.2500       1.0\n",
       "1            2         1       1    1  38.0      1      0  71.2833       2.0\n",
       "2            3         1       3    1  26.0      0      0   7.9250       1.0\n",
       "3            4         1       1    1  35.0      1      0  53.1000       1.0\n",
       "4            5         0       3    0  35.0      0      0   8.0500       1.0"
      ]
     },
     "execution_count": 15,
     "metadata": {},
     "output_type": "execute_result"
    }
   ],
   "source": [
    "train.head()"
   ]
  },
  {
   "cell_type": "code",
   "execution_count": 17,
   "id": "3e194bf0",
   "metadata": {},
   "outputs": [
    {
     "data": {
      "text/plain": [
       "PassengerId    0\n",
       "Survived       0\n",
       "Pclass         0\n",
       "Sex            0\n",
       "Age            0\n",
       "SibSp          0\n",
       "Parch          0\n",
       "Fare           0\n",
       "Embarked       2\n",
       "dtype: int64"
      ]
     },
     "execution_count": 17,
     "metadata": {},
     "output_type": "execute_result"
    }
   ],
   "source": [
    "\n",
    "train.isnull().sum()"
   ]
  },
  {
   "cell_type": "code",
   "execution_count": 18,
   "id": "1f166048",
   "metadata": {},
   "outputs": [],
   "source": [
    "'''\n",
    "\n",
    "    supprimer des lignes ou colonnes avec des valeurs manquantes NaN \n",
    "\n",
    "'''\n",
    "\n",
    "train = train.dropna()\n"
   ]
  },
  {
   "cell_type": "code",
   "execution_count": 19,
   "id": "31774f61",
   "metadata": {},
   "outputs": [
    {
     "data": {
      "text/plain": [
       "PassengerId    0\n",
       "Survived       0\n",
       "Pclass         0\n",
       "Sex            0\n",
       "Age            0\n",
       "SibSp          0\n",
       "Parch          0\n",
       "Fare           0\n",
       "Embarked       0\n",
       "dtype: int64"
      ]
     },
     "execution_count": 19,
     "metadata": {},
     "output_type": "execute_result"
    }
   ],
   "source": [
    "train.isnull().sum()"
   ]
  },
  {
   "cell_type": "code",
   "execution_count": 22,
   "id": "a9e2ec16",
   "metadata": {},
   "outputs": [],
   "source": [
    "'''\n",
    "\n",
    "        isoler la variable à expliquer des variables explicatives\n",
    "\n",
    "'''\n",
    "\n",
    "X = train.drop(\"Survived\", axis=1)\n",
    "y = train[\"Survived\"] # cible\n",
    "\n"
   ]
  },
  {
   "cell_type": "code",
   "execution_count": 23,
   "id": "bbd326d2",
   "metadata": {},
   "outputs": [],
   "source": [
    "'''\n",
    "\n",
    "création ensemble train et test\n",
    "\n",
    "'''\n",
    "\n",
    "from sklearn.model_selection import train_test_split\n",
    "\n",
    "X_train, X_test, y_train, y_test = train_test_split(X, y, test_size=0.2, random_state=42)\n"
   ]
  },
  {
   "cell_type": "code",
   "execution_count": 60,
   "id": "b6e3e48d",
   "metadata": {},
   "outputs": [],
   "source": [
    "\n",
    "from sklearn.ensemble import RandomForestClassifier\n",
    "\n",
    "\n",
    "clf = RandomForestClassifier()\n",
    "\n",
    "\n",
    "clf.fit(X_train, y_train)\n",
    "\n",
    "\n",
    "y_pred = clf.predict(X_test)\n"
   ]
  },
  {
   "cell_type": "code",
   "execution_count": 61,
   "id": "5b71d61c",
   "metadata": {},
   "outputs": [
    {
     "data": {
      "text/plain": [
       "0.7921348314606742"
      ]
     },
     "execution_count": 61,
     "metadata": {},
     "output_type": "execute_result"
    }
   ],
   "source": [
    "accuracy = accuracy_score(y_test, y_pred)\n",
    "accuracy"
   ]
  },
  {
   "cell_type": "code",
   "execution_count": 62,
   "id": "3813fa80",
   "metadata": {},
   "outputs": [
    {
     "data": {
      "image/png": "[encoded data removed]",
      "text/plain": [
       "<Figure size 432x288 with 2 Axes>"
      ]
     },
     "metadata": {
      "needs_background": "light"
     },
     "output_type": "display_data"
    }
   ],
   "source": [
    "'''\n",
    "\n",
    "    matrice de confusion\n",
    "\n",
    "'''\n",
    "\n",
    "import sklearn.metrics as metrics\n",
    "matrix = metrics.confusion_matrix(y_test, y_pred)\n",
    "sns.heatmap(matrix, annot = True,fmt = 'g')\n",
    "plt.show()\n"
   ]
  },
  {
   "cell_type": "code",
   "execution_count": 63,
   "id": "72b3890c",
   "metadata": {},
   "outputs": [],
   "source": [
    "'''\n",
    "\n",
    "    Démarrage de la sequence Logistic Regression\n",
    "\n",
    "'''\n",
    "\n",
    "from sklearn.linear_model import LogisticRegression\n",
    "\n",
    "# Pour Initialiser le model\n",
    "logistic_regression = LogisticRegression()\n",
    "\n",
    "logistic_regression =LogisticRegression(max_iter=3000)\n",
    "\n",
    "\n",
    "# Pour entrainer le model\n",
    "logistic_regression.fit(X_train, y_train)\n",
    "\n",
    "# Pour prédire la cible ou target en utilisant les données de test\n",
    "y_pred = logistic_regression.predict(X_test)\n"
   ]
  },
  {
   "cell_type": "code",
   "execution_count": 64,
   "id": "439e69aa",
   "metadata": {},
   "outputs": [
    {
     "data": {
      "text/plain": [
       "0.7865168539325843"
      ]
     },
     "execution_count": 64,
     "metadata": {},
     "output_type": "execute_result"
    }
   ],
   "source": [
    "accuracy = accuracy_score(y_test, y_pred)\n",
    "accuracy"
   ]
  },
  {
   "cell_type": "code",
   "execution_count": 65,
   "id": "e80d4b53",
   "metadata": {},
   "outputs": [
    {
     "data": {
      "image/png": "[encoded data removed]",
      "text/plain": [
       "<Figure size 432x288 with 2 Axes>"
      ]
     },
     "metadata": {
      "needs_background": "light"
     },
     "output_type": "display_data"
    }
   ],
   "source": [
    "'''\n",
    "\n",
    "    matrice de confusion\n",
    "\n",
    "'''\n",
    "\n",
    "import sklearn.metrics as metrics\n",
    "matrix = metrics.confusion_matrix(y_test, y_pred)\n",
    "sns.heatmap(matrix, annot = True,fmt = 'g')\n",
    "plt.show()\n"
   ]
  },
  {
   "cell_type": "code",
   "execution_count": null,
   "id": "9e2e6200",
   "metadata": {},
   "outputs": [],
   "source": []
  },
  {
   "cell_type": "code",
   "execution_count": 66,
   "id": "d02604fc",
   "metadata": {},
   "outputs": [],
   "source": [
    "\n",
    "from sklearn import tree\n",
    "\n",
    "\n",
    "clf = tree.DecisionTreeClassifier()\n",
    "\n",
    "\n",
    "clf.fit(X_train, y_train)\n",
    "\n",
    "\n",
    "y_pred = clf.predict(X_test)\n",
    "\n"
   ]
  },
  {
   "cell_type": "code",
   "execution_count": 67,
   "id": "5f850c9d",
   "metadata": {},
   "outputs": [
    {
     "data": {
      "text/plain": [
       "0.7415730337078652"
      ]
     },
     "execution_count": 67,
     "metadata": {},
     "output_type": "execute_result"
    }
   ],
   "source": [
    "accuracy = accuracy_score(y_test, y_pred)\n",
    "accuracy"
   ]
  },
  {
   "cell_type": "code",
   "execution_count": 68,
   "id": "724f12f6",
   "metadata": {},
   "outputs": [
    {
     "data": {
      "image/png": "[encoded data removed]",
      "text/plain": [
       "<Figure size 432x288 with 2 Axes>"
      ]
     },
     "metadata": {
      "needs_background": "light"
     },
     "output_type": "display_data"
    }
   ],
   "source": [
    "'''\n",
    "\n",
    "    matrice de confusion\n",
    "\n",
    "'''\n",
    "\n",
    "import sklearn.metrics as metrics\n",
    "matrix = metrics.confusion_matrix(y_test, y_pred)\n",
    "sns.heatmap(matrix, annot = True,fmt = 'g')\n",
    "plt.show()"
   ]
  },
  {
   "cell_type": "code",
   "execution_count": null,
   "id": "bfaa5569",
   "metadata": {},
   "outputs": [],
   "source": []
  },
  {
   "cell_type": "code",
   "execution_count": 69,
   "id": "81e1105f",
   "metadata": {},
   "outputs": [],
   "source": [
    "\n",
    "from sklearn.ensemble import RandomForestClassifier\n",
    "\n",
    "\n",
    "clf = RandomForestClassifier()\n",
    "\n",
    "\n",
    "clf.fit(X_train, y_train)\n",
    "\n",
    "\n",
    "y_pred = clf.predict(X_test)\n"
   ]
  },
  {
   "cell_type": "code",
   "execution_count": 70,
   "id": "63246a33",
   "metadata": {},
   "outputs": [
    {
     "data": {
      "text/plain": [
       "0.7808988764044944"
      ]
     },
     "execution_count": 70,
     "metadata": {},
     "output_type": "execute_result"
    }
   ],
   "source": [
    "accuracy = accuracy_score(y_test, y_pred)\n",
    "accuracy"
   ]
  },
  {
   "cell_type": "code",
   "execution_count": 71,
   "id": "a0d67a98",
   "metadata": {},
   "outputs": [
    {
     "data": {
      "image/png": "[encoded data removed]",
      "text/plain": [
       "<Figure size 432x288 with 2 Axes>"
      ]
     },
     "metadata": {
      "needs_background": "light"
     },
     "output_type": "display_data"
    }
   ],
   "source": [
    "'''\n",
    "\n",
    "    matrice de confusion\n",
    "\n",
    "'''\n",
    "\n",
    "import sklearn.metrics as metrics\n",
    "matrix = metrics.confusion_matrix(y_test, y_pred)\n",
    "sns.heatmap(matrix, annot = True,fmt = 'g')\n",
    "plt.show()"
   ]
  },
  {
   "cell_type": "code",
   "execution_count": null,
   "id": "adf2427c",
   "metadata": {},
   "outputs": [],
   "source": []
  },
  {
   "cell_type": "code",
   "execution_count": null,
   "id": "b3e0aa6f",
   "metadata": {},
   "outputs": [],
   "source": []
  },
  {
   "cell_type": "code",
   "execution_count": null,
   "id": "f1ef6ac0",
   "metadata": {},
   "outputs": [],
   "source": []
  },
  {
   "cell_type": "code",
   "execution_count": null,
   "id": "c73113bb",
   "metadata": {},
   "outputs": [],
   "source": []
  },
  {
   "cell_type": "markdown",
   "id": "008ce905",
   "metadata": {},
   "source": [
    "# Outils"
   ]
  },
  {
   "cell_type": "code",
   "execution_count": 24,
   "id": "77d85059",
   "metadata": {},
   "outputs": [],
   "source": [
    "'''\n",
    "\n",
    "    convertir en float32 toutes les colonnes...........\n",
    "\n",
    "'''\n",
    "\n",
    "X_train = X_train.astype('float32')\n",
    "y_train = y_train.astype('float32')"
   ]
  },
  {
   "cell_type": "code",
   "execution_count": null,
   "id": "0b0ef311",
   "metadata": {},
   "outputs": [],
   "source": [
    "'''\n",
    "\n",
    "    convertir certaines colonnes\n",
    "\n",
    "'''\n",
    "\n",
    "# dataset[float64_cols] = dataset[float64_cols].astype('float32')"
   ]
  },
  {
   "cell_type": "code",
   "execution_count": null,
   "id": "e40443bc",
   "metadata": {},
   "outputs": [],
   "source": [
    "'''\n",
    "\n",
    "    renommer les colonnes \n",
    "\n",
    "'''\n",
    "\n",
    "dataset_rename = dataset.rename(columns={'nom':'nouveau nom', 'nom2':'nouveau nom2'})\n",
    "dataset_rename"
   ]
  },
  {
   "cell_type": "code",
   "execution_count": null,
   "id": "0abcc870",
   "metadata": {},
   "outputs": [],
   "source": [
    "'''\n",
    "\n",
    "    supprimer les doublons\n",
    "\n",
    "'''\n",
    "\n",
    "dataset_doublons = dataset.drop_duplicates()"
   ]
  },
  {
   "cell_type": "code",
   "execution_count": 16,
   "id": "346ce841",
   "metadata": {},
   "outputs": [],
   "source": [
    "'''\n",
    "\n",
    "    Remplassez les valeurs NA/NaN en utilisant la méthode spécifiée.\n",
    "    \n",
    "'''\n",
    "\n",
    "#train_preprocesed = train.fillna(train.mean())\n",
    "#train_preprocesed.head()\n"
   ]
  },
  {
   "cell_type": "code",
   "execution_count": 37,
   "id": "7975bcd5",
   "metadata": {},
   "outputs": [],
   "source": [
    "'''\n",
    "\n",
    "    supprimer des lignes ou colonnes avec des valeurs manquantes NaN \n",
    "\n",
    "'''\n",
    "\n",
    "X_train = X_train.dropna()\n"
   ]
  },
  {
   "cell_type": "markdown",
   "id": "8f4af920",
   "metadata": {},
   "source": [
    "# Traitements des variables catégorielles"
   ]
  },
  {
   "cell_type": "code",
   "execution_count": 19,
   "id": "3cfba375",
   "metadata": {},
   "outputs": [],
   "source": [
    "'''\n",
    "\n",
    "    méthode pour le codage catégorielle\n",
    "\n",
    "'''\n",
    "\n",
    "#train = pd.get_dummies(train, columns=[\"Sex\", \"Embarked\"])\n",
    "\n",
    "#test = pd.get_dummies(test, columns=[\"Sex\",\"Embarked\"])\n",
    "\n",
    "#train.head(5)"
   ]
  },
  {
   "cell_type": "code",
   "execution_count": null,
   "id": "53498982",
   "metadata": {},
   "outputs": [],
   "source": [
    "'''\n",
    "\n",
    "    Vectorisation des labels ou étiquettes\n",
    "\n",
    "'''\n",
    "\n",
    "y_train = np.asarray(train_labels).astype('float32')\n",
    "y_test = np.asarray(test_labels).astype('float32')\n"
   ]
  },
  {
   "cell_type": "code",
   "execution_count": 57,
   "id": "0dd1d88d",
   "metadata": {},
   "outputs": [
    {
     "data": {
      "text/plain": [
       "'\\n\\n    visualiser les modification dans les données..............\\n\\n'"
      ]
     },
     "execution_count": 57,
     "metadata": {},
     "output_type": "execute_result"
    }
   ],
   "source": [
    "'''\n",
    "\n",
    "    visualiser les modification dans les données..............\n",
    "\n",
    "'''\n",
    "\n",
    "train.head()\n"
   ]
  },
  {
   "cell_type": "markdown",
   "id": "9ad0c456",
   "metadata": {},
   "source": [
    "# Sélection des fonctionnalités"
   ]
  },
  {
   "cell_type": "code",
   "execution_count": 11,
   "id": "f0531ff0",
   "metadata": {},
   "outputs": [],
   "source": [
    "'''\n",
    "\n",
    "        Pour supprimer les colonnes inutiles de l'ensemble \n",
    "\n",
    "'''\n",
    "\n",
    "train = train.drop('Name', axis=1)\n",
    "train = train.drop('Ticket', axis=1)\n",
    "train = train.drop('Cabin', axis=1)\n"
   ]
  },
  {
   "cell_type": "code",
   "execution_count": 28,
   "id": "326962fe",
   "metadata": {},
   "outputs": [],
   "source": [
    "'''\n",
    "\n",
    "        sélectionner des colonnes...\n",
    "\n",
    "'''\n",
    "\n",
    "X = train[['Pclass', 'Age', 'Fare', 'Sex']]\n",
    "y = train['Survived']\n"
   ]
  },
  {
   "cell_type": "code",
   "execution_count": 44,
   "id": "e672797c",
   "metadata": {},
   "outputs": [],
   "source": [
    "'''\n",
    "\n",
    "        normalisation des données\n",
    "\n",
    "'''\n",
    "\n",
    "# Scaler Min-Max\n",
    "\n",
    "#from sklearn.preprocessing import MinMaxScaler\n",
    "\n",
    "#col_names = test.columns\n",
    "#features = test[col_names]\n",
    "\n",
    "#scaler = MinMaxScaler().fit(features.values)\n",
    "#features = scaler.transform(features.values)\n",
    "#scaled_test = pd.DataFrame(features, columns = col_names)\n",
    "#scaled_test.head()"
   ]
  },
  {
   "cell_type": "code",
   "execution_count": 48,
   "id": "c00b5355",
   "metadata": {},
   "outputs": [],
   "source": [
    "'''\n",
    "         remplacer les valeurs manquantes des colonnes par la moyenne de la colonne\n",
    "\n",
    "'''\n",
    "#scaled_test = scaled_test.fillna(value=scaled_test['Age'].mean())\n",
    "#scaled_test = scaled_test.fillna(value=scaled_test['Fare'].mean())\n",
    "\n"
   ]
  },
  {
   "cell_type": "code",
   "execution_count": 19,
   "id": "225925f4",
   "metadata": {},
   "outputs": [],
   "source": [
    " \n",
    "from sklearn.model_selection import train_test_split\n",
    "\n",
    "# pd.options.mode.chained_assignement\n",
    "# None, ignore l'avertissement\n",
    "# warn, impression d'un message d'avertissement\n",
    "# raise, soulevant d'une exception\n",
    "\n",
    "pd.options.mode.chained_assignment = None\n",
    "\n"
   ]
  },
  {
   "cell_type": "code",
   "execution_count": 21,
   "id": "5be65e05",
   "metadata": {},
   "outputs": [],
   "source": [
    "'''\n",
    "    vectorisation les données\n",
    "    \n",
    "'''\n",
    "\n",
    "vectorisation_X=np.asarray(scaled_X)\n",
    "vectorisation_y=np.asarray(y)\n"
   ]
  },
  {
   "cell_type": "code",
   "execution_count": 58,
   "id": "41733740",
   "metadata": {
    "scrolled": true
   },
   "outputs": [
    {
     "name": "stdout",
     "output_type": "stream",
     "text": [
      "28/28 [==============================] - 0s 1ms/step - loss: 0.3081 - binary_accuracy: 0.8608\n"
     ]
    }
   ],
   "source": [
    "resultats = model.evaluate(scaled_X,y)"
   ]
  },
  {
   "cell_type": "code",
   "execution_count": 59,
   "id": "e0417743",
   "metadata": {},
   "outputs": [
    {
     "data": {
      "text/plain": [
       "<AxesSubplot:title={'center':'Loss and Accuracy'}>"
      ]
     },
     "execution_count": 59,
     "metadata": {},
     "output_type": "execute_result"
    },
    {
     "data": {
      "image/png": "[encoded data removed]",
      "text/plain": [
       "<Figure size 432x288 with 1 Axes>"
      ]
     },
     "metadata": {
      "needs_background": "light"
     },
     "output_type": "display_data"
    }
   ],
   "source": [
    "\n",
    "# Je trace la perte et la précision \n",
    "\n",
    "pd.DataFrame(history.history).plot(title=\"Loss and Accuracy\")"
   ]
  },
  {
   "cell_type": "code",
   "execution_count": 60,
   "id": "b1cbc160",
   "metadata": {},
   "outputs": [],
   "source": [
    "'''\n",
    "\n",
    "    Enregistrement du modele dans un fichier .hdf5\n",
    "\n",
    "'''\n",
    "\n",
    "model.save('model1.hdf5')\n"
   ]
  },
  {
   "cell_type": "markdown",
   "id": "6d0138b0",
   "metadata": {},
   "source": [
    "# Prédiction et résultats"
   ]
  },
  {
   "cell_type": "code",
   "execution_count": 64,
   "id": "08bf5141",
   "metadata": {},
   "outputs": [],
   "source": [
    "'''\n",
    "\n",
    "    création d'un dataframe et fichier .csv\n",
    "\n",
    "'''\n",
    "\n",
    "prediction = model.predict(vectorisation_test)\n",
    "submission = pd.read_csv('gender_submission.csv')\n",
    "submission['Survived'] = prediction\n",
    "submission.loc[submission['Survived']>=0.5, 'Survived'] = 1\n",
    "submission.loc[submission['Survived']<0.5, 'Survived'] = 0\n",
    "submission.Survived = submission.Survived.astype(int)\n",
    "submission.to_csv('gender_submission4.csv',index=False)\n"
   ]
  },
  {
   "cell_type": "code",
   "execution_count": 72,
   "id": "2908b56e",
   "metadata": {},
   "outputs": [],
   "source": [
    "'''\n",
    "\n",
    "    création d'un dataframe et fichier .csv\n",
    "\n",
    "'''\n",
    "\n",
    "submit = pd.DataFrame({\"PassengerId\":test.PassengerId, 'Survived':predict})\n",
    "submit.to_csv(\"final_submission.csv\",index = False)\n"
   ]
  },
  {
   "cell_type": "code",
   "execution_count": 75,
   "id": "e5d633b6",
   "metadata": {},
   "outputs": [
    {
     "name": "stdout",
     "output_type": "stream",
     "text": [
      "[0 1 0 0 1 0 1 0 0 0 0 0 1 0 1 1 0 0 0 0 0 1 1 0 1 0 1 0 0 0 0 0 1 1 0 0 0\n",
      " 1 0 0 0 0 0 1 1 0 0 0 1 1 0 0 1 1 0 0 0 0 0 1 0 0 0 1 1 1 1 0 0 1 1 0 0 0\n",
      " 1 0 0 1 0 1 1 0 0 0 0 0 1 0 1 1 0 0 1 0 0 0 1 0 0 0 1 0 0 0 1 0 0 0 0 0 0\n",
      " 1 1 1 1 0 0 1 0 1 1 0 1 0 0 0 0 1 0 0 0 0 0 0 0 0 0 0 0 0 0 1 0 0 0 0 0 0\n",
      " 0 0 1 0 0 0 0 0 1 0 0 0 1 1 1 0 0 0 0 0 1 0 0 0 0 0 0 1 1 1 1 1 0 0 1 0 1\n",
      " 0 1 0 0 0 0 0 0 0 1 0 1 0 0 0 1 1 0 1 0 0 1 0 1 0 0 0 0 1 0 0 1 0 1 0 1 0\n",
      " 1 0 1 1 0 1 0 0 0 1 0 0 1 0 0 0 1 1 1 1 0 0 0 1 1 0 1 0 1 0 0 0 0 0 0 0 1\n",
      " 0 0 0 1 1 0 0 0 0 0 0 0 0 1 1 0 1 0 0 0 0 0 1 1 1 1 0 0 1 0 0 0 1 0 0 0 0\n",
      " 1 0 0 0 0 0 0 0 1 1 0 1 0 1 0 0 0 1 1 0 0 0 0 0 0 0 0 0 1 0 1 0 0 0 1 0 0\n",
      " 1 0 0 0 0 0 0 0 0 0 1 0 1 0 0 0 1 1 0 0 0 1 0 1 0 0 0 0 1 1 0 1 0 0 0 1 0\n",
      " 0 1 0 0 1 1 0 0 0 0 0 0 0 0 0 1 0 0 0 0 0 1 1 0 0 1 0 1 0 0 1 0 1 0 1 0 0\n",
      " 0 1 1 1 1 0 0 1 0 0 0]\n"
     ]
    }
   ],
   "source": [
    "'''\n",
    "\n",
    "    prédictions\n",
    "\n",
    "'''\n",
    "\n",
    "predict = model.predict(vectorisation_test)\n",
    "predict = (predict > 0.5).astype(int).ravel()\n",
    "print(predict)\n",
    "\n"
   ]
  },
  {
   "cell_type": "code",
   "execution_count": 76,
   "id": "bf1836dd",
   "metadata": {},
   "outputs": [
    {
     "name": "stdout",
     "output_type": "stream",
     "text": [
      "Precision :  89.49\n",
      "Accuracy :  86.08\n",
      "Recall :  72.22\n",
      "F1 score :  79.94\n",
      "AUC :  83.47\n"
     ]
    }
   ],
   "source": [
    "'''\n",
    "\n",
    "    performances\n",
    "\n",
    "'''\n",
    "from sklearn import metrics\n",
    "\n",
    "Y_pred_rand = (model.predict(vectorisation_X) > 0.5).astype(int)\n",
    "print('Precision : ', np.round(metrics.precision_score(vectorisation_y, Y_pred_rand)*100,2))\n",
    "print('Accuracy : ', np.round(metrics.accuracy_score(vectorisation_y, Y_pred_rand)*100,2))\n",
    "print('Recall : ', np.round(metrics.recall_score(vectorisation_y, Y_pred_rand)*100,2))\n",
    "print('F1 score : ', np.round(metrics.f1_score(vectorisation_y, Y_pred_rand)*100,2))\n",
    "print('AUC : ', np.round(metrics.roc_auc_score(vectorisation_y, Y_pred_rand)*100,2))\n"
   ]
  },
  {
   "cell_type": "markdown",
   "id": "dde38b3e",
   "metadata": {},
   "source": [
    "\n",
    "- 520 + 247 = 767 prédictions exactes.\n",
    "- 95 + 29 = 124 fausses prédictions."
   ]
  },
  {
   "cell_type": "code",
   "execution_count": 39,
   "id": "add5eb77",
   "metadata": {},
   "outputs": [
    {
     "data": {
      "image/png": "[encoded data removed]",
      "text/plain": [
       "<Figure size 432x288 with 2 Axes>"
      ]
     },
     "metadata": {
      "needs_background": "light"
     },
     "output_type": "display_data"
    }
   ],
   "source": [
    "'''\n",
    "\n",
    "    carte thermique de correlation\n",
    "\n",
    "'''\n",
    "\n",
    "corr_train = train.corr()\n",
    "sns.heatmap(corr_train)\n",
    "plt.show()\n"
   ]
  },
  {
   "attachments": {
    "Capture%20d%E2%80%99e%CC%81cran%202024-01-21%20a%CC%80%2020.20.06.png": {
     "image/png": "[encoded data removed]"
    }
   },
   "cell_type": "markdown",
   "id": "857c1d4c",
   "metadata": {},
   "source": [
    "![Capture%20d%E2%80%99e%CC%81cran%202024-01-21%20a%CC%80%2020.20.06.png](attachment:Capture%20d%E2%80%99e%CC%81cran%202024-01-21%20a%CC%80%2020.20.06.png)"
   ]
  },
  {
   "cell_type": "code",
   "execution_count": null,
   "id": "208d99fb",
   "metadata": {},
   "outputs": [],
   "source": []
  }
 ],
 "metadata": {
  "kernelspec": {
   "display_name": "Python 3 (ipykernel)",
   "language": "python",
   "name": "python3"
  },
  "language_info": {
   "codemirror_mode": {
    "name": "ipython",
    "version": 3
   },
   "file_extension": ".py",
   "mimetype": "text/x-python",
   "name": "python",
   "nbconvert_exporter": "python",
   "pygments_lexer": "ipython3",
   "version": "3.8.11"
  }
 },
 "nbformat": 4,
 "nbformat_minor": 5
}
