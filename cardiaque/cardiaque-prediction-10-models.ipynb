{
 "cells": [
  {
   "cell_type": "markdown",
   "metadata": {},
   "source": [
    "# Importation des librairies"
   ]
  },
  {
   "cell_type": "code",
   "execution_count": 1,
   "metadata": {
    "execution": {
     "iopub.execute_input": "2021-06-13T20:02:45.12247Z",
     "iopub.status.busy": "2021-06-13T20:02:45.122027Z",
     "iopub.status.idle": "2021-06-13T20:02:45.130765Z",
     "shell.execute_reply": "2021-06-13T20:02:45.129307Z",
     "shell.execute_reply.started": "2021-06-13T20:02:45.122436Z"
    }
   },
   "outputs": [],
   "source": [
    "# charger un maximun de bibliotheques\n",
    "\n",
    "import numpy as np\n",
    "import pandas as pd\n",
    "import matplotlib.pyplot as plt\n",
    "import seaborn as sns\n",
    "import os\n",
    "import scipy as sp\n",
    "from sklearn.metrics import accuracy_score,classification_report,confusion_matrix\n",
    "import warnings\n",
    "warnings.filterwarnings(\"ignore\")\n",
    "import pandas as pd\n",
    "import tensorflow as tf\n",
    "import matplotlib.pyplot as plt\n",
    "from sklearn.preprocessing import MinMaxScaler\n",
    "from sklearn.metrics import accuracy_score\n",
    "from sklearn.model_selection import train_test_split\n",
    "from sklearn.linear_model import LogisticRegression\n",
    "from sklearn import tree\n",
    "from sklearn.tree import export_text\n",
    "from sklearn.ensemble import RandomForestClassifier\n",
    "from sklearn.metrics import accuracy_score,classification_report,confusion_matrix\n",
    "from sklearn.metrics import r2_score\n",
    "from sklearn.metrics import mean_squared_error\n",
    "import numpy as np\n",
    "import sklearn.metrics as metrics\n",
    "import seaborn as sns \n",
    "%matplotlib inline\n",
    "\n",
    "%matplotlib inline\n"
   ]
  },
  {
   "cell_type": "markdown",
   "metadata": {},
   "source": [
    "# Chargement du ou des dataframe"
   ]
  },
  {
   "cell_type": "code",
   "execution_count": 2,
   "metadata": {
    "execution": {
     "iopub.execute_input": "2021-06-13T20:02:45.157518Z",
     "iopub.status.busy": "2021-06-13T20:02:45.156572Z",
     "iopub.status.idle": "2021-06-13T20:02:45.169992Z",
     "shell.execute_reply": "2021-06-13T20:02:45.16901Z",
     "shell.execute_reply.started": "2021-06-13T20:02:45.157418Z"
    }
   },
   "outputs": [],
   "source": [
    "# chargement du dataframe\n",
    "\n",
    "train = pd.read_csv('heart_failure_clinical_records_dataset 2.csv') \n",
    "\n"
   ]
  },
  {
   "cell_type": "code",
   "execution_count": 3,
   "metadata": {
    "execution": {
     "iopub.execute_input": "2021-06-13T20:02:45.177954Z",
     "iopub.status.busy": "2021-06-13T20:02:45.177421Z",
     "iopub.status.idle": "2021-06-13T20:02:45.194751Z",
     "shell.execute_reply": "2021-06-13T20:02:45.193445Z",
     "shell.execute_reply.started": "2021-06-13T20:02:45.17792Z"
    }
   },
   "outputs": [
    {
     "data": {
      "text/html": [
       "<div>\n",
       "<style scoped>\n",
       "    .dataframe tbody tr th:only-of-type {\n",
       "        vertical-align: middle;\n",
       "    }\n",
       "\n",
       "    .dataframe tbody tr th {\n",
       "        vertical-align: top;\n",
       "    }\n",
       "\n",
       "    .dataframe thead th {\n",
       "        text-align: right;\n",
       "    }\n",
       "</style>\n",
       "<table border=\"1\" class=\"dataframe\">\n",
       "  <thead>\n",
       "    <tr style=\"text-align: right;\">\n",
       "      <th></th>\n",
       "      <th>age</th>\n",
       "      <th>anaemia</th>\n",
       "      <th>creatinine_phosphokinase</th>\n",
       "      <th>diabetes</th>\n",
       "      <th>ejection_fraction</th>\n",
       "      <th>high_blood_pressure</th>\n",
       "      <th>platelets</th>\n",
       "      <th>serum_creatinine</th>\n",
       "      <th>serum_sodium</th>\n",
       "      <th>sex</th>\n",
       "      <th>smoking</th>\n",
       "      <th>time</th>\n",
       "      <th>DEATH_EVENT</th>\n",
       "    </tr>\n",
       "  </thead>\n",
       "  <tbody>\n",
       "    <tr>\n",
       "      <th>0</th>\n",
       "      <td>75.0</td>\n",
       "      <td>0</td>\n",
       "      <td>582</td>\n",
       "      <td>0</td>\n",
       "      <td>20</td>\n",
       "      <td>1</td>\n",
       "      <td>265000.00</td>\n",
       "      <td>1.9</td>\n",
       "      <td>130</td>\n",
       "      <td>1</td>\n",
       "      <td>0</td>\n",
       "      <td>4</td>\n",
       "      <td>1</td>\n",
       "    </tr>\n",
       "    <tr>\n",
       "      <th>1</th>\n",
       "      <td>55.0</td>\n",
       "      <td>0</td>\n",
       "      <td>7861</td>\n",
       "      <td>0</td>\n",
       "      <td>38</td>\n",
       "      <td>0</td>\n",
       "      <td>263358.03</td>\n",
       "      <td>1.1</td>\n",
       "      <td>136</td>\n",
       "      <td>1</td>\n",
       "      <td>0</td>\n",
       "      <td>6</td>\n",
       "      <td>1</td>\n",
       "    </tr>\n",
       "    <tr>\n",
       "      <th>2</th>\n",
       "      <td>65.0</td>\n",
       "      <td>0</td>\n",
       "      <td>146</td>\n",
       "      <td>0</td>\n",
       "      <td>20</td>\n",
       "      <td>0</td>\n",
       "      <td>162000.00</td>\n",
       "      <td>1.3</td>\n",
       "      <td>129</td>\n",
       "      <td>1</td>\n",
       "      <td>1</td>\n",
       "      <td>7</td>\n",
       "      <td>1</td>\n",
       "    </tr>\n",
       "    <tr>\n",
       "      <th>3</th>\n",
       "      <td>50.0</td>\n",
       "      <td>1</td>\n",
       "      <td>111</td>\n",
       "      <td>0</td>\n",
       "      <td>20</td>\n",
       "      <td>0</td>\n",
       "      <td>210000.00</td>\n",
       "      <td>1.9</td>\n",
       "      <td>137</td>\n",
       "      <td>1</td>\n",
       "      <td>0</td>\n",
       "      <td>7</td>\n",
       "      <td>1</td>\n",
       "    </tr>\n",
       "    <tr>\n",
       "      <th>4</th>\n",
       "      <td>65.0</td>\n",
       "      <td>1</td>\n",
       "      <td>160</td>\n",
       "      <td>1</td>\n",
       "      <td>20</td>\n",
       "      <td>0</td>\n",
       "      <td>327000.00</td>\n",
       "      <td>2.7</td>\n",
       "      <td>116</td>\n",
       "      <td>0</td>\n",
       "      <td>0</td>\n",
       "      <td>8</td>\n",
       "      <td>1</td>\n",
       "    </tr>\n",
       "  </tbody>\n",
       "</table>\n",
       "</div>"
      ],
      "text/plain": [
       "    age  anaemia  creatinine_phosphokinase  diabetes  ejection_fraction  \\\n",
       "0  75.0        0                       582         0                 20   \n",
       "1  55.0        0                      7861         0                 38   \n",
       "2  65.0        0                       146         0                 20   \n",
       "3  50.0        1                       111         0                 20   \n",
       "4  65.0        1                       160         1                 20   \n",
       "\n",
       "   high_blood_pressure  platelets  serum_creatinine  serum_sodium  sex  \\\n",
       "0                    1  265000.00               1.9           130    1   \n",
       "1                    0  263358.03               1.1           136    1   \n",
       "2                    0  162000.00               1.3           129    1   \n",
       "3                    0  210000.00               1.9           137    1   \n",
       "4                    0  327000.00               2.7           116    0   \n",
       "\n",
       "   smoking  time  DEATH_EVENT  \n",
       "0        0     4            1  \n",
       "1        0     6            1  \n",
       "2        1     7            1  \n",
       "3        0     7            1  \n",
       "4        0     8            1  "
      ]
     },
     "execution_count": 3,
     "metadata": {},
     "output_type": "execute_result"
    }
   ],
   "source": [
    "# affichage du dataframe\n",
    "\n",
    "train.head()  \n"
   ]
  },
  {
   "cell_type": "code",
   "execution_count": 4,
   "metadata": {},
   "outputs": [],
   "source": [
    "# pour supprimer les colonnes inutiles\n",
    "\n",
    "#train.drop(['PassengerId'],axis=1,inplace=True)\n",
    "#train.drop(['Name'],axis=1,inplace=True)\n",
    "#train.drop(['Ticket'],axis=1,inplace=True)\n",
    "#train.drop(['Cabin'],axis=1,inplace=True)\n",
    "#train.drop(['Age'],axis=1,inplace=True)"
   ]
  },
  {
   "cell_type": "code",
   "execution_count": 5,
   "metadata": {},
   "outputs": [],
   "source": [
    "# pour le traitement des données catégorielles\n",
    "\n",
    "#from sklearn.preprocessing import LabelEncoder\n",
    "#le=LabelEncoder()\n",
    "\n",
    "\n",
    "#train['Sex']=le.fit_transform(train['Sex'].astype(str))\n",
    "#train['Embarked']=le.fit_transform(train['Embarked'].astype(str))\n"
   ]
  },
  {
   "cell_type": "code",
   "execution_count": 4,
   "metadata": {},
   "outputs": [
    {
     "data": {
      "text/html": [
       "<div>\n",
       "<style scoped>\n",
       "    .dataframe tbody tr th:only-of-type {\n",
       "        vertical-align: middle;\n",
       "    }\n",
       "\n",
       "    .dataframe tbody tr th {\n",
       "        vertical-align: top;\n",
       "    }\n",
       "\n",
       "    .dataframe thead th {\n",
       "        text-align: right;\n",
       "    }\n",
       "</style>\n",
       "<table border=\"1\" class=\"dataframe\">\n",
       "  <thead>\n",
       "    <tr style=\"text-align: right;\">\n",
       "      <th></th>\n",
       "      <th>age</th>\n",
       "      <th>anaemia</th>\n",
       "      <th>creatinine_phosphokinase</th>\n",
       "      <th>diabetes</th>\n",
       "      <th>ejection_fraction</th>\n",
       "      <th>high_blood_pressure</th>\n",
       "      <th>platelets</th>\n",
       "      <th>serum_creatinine</th>\n",
       "      <th>serum_sodium</th>\n",
       "      <th>sex</th>\n",
       "      <th>smoking</th>\n",
       "      <th>time</th>\n",
       "      <th>DEATH_EVENT</th>\n",
       "    </tr>\n",
       "  </thead>\n",
       "  <tbody>\n",
       "    <tr>\n",
       "      <th>0</th>\n",
       "      <td>75.0</td>\n",
       "      <td>0</td>\n",
       "      <td>582</td>\n",
       "      <td>0</td>\n",
       "      <td>20</td>\n",
       "      <td>1</td>\n",
       "      <td>265000.00</td>\n",
       "      <td>1.9</td>\n",
       "      <td>130</td>\n",
       "      <td>1</td>\n",
       "      <td>0</td>\n",
       "      <td>4</td>\n",
       "      <td>1</td>\n",
       "    </tr>\n",
       "    <tr>\n",
       "      <th>1</th>\n",
       "      <td>55.0</td>\n",
       "      <td>0</td>\n",
       "      <td>7861</td>\n",
       "      <td>0</td>\n",
       "      <td>38</td>\n",
       "      <td>0</td>\n",
       "      <td>263358.03</td>\n",
       "      <td>1.1</td>\n",
       "      <td>136</td>\n",
       "      <td>1</td>\n",
       "      <td>0</td>\n",
       "      <td>6</td>\n",
       "      <td>1</td>\n",
       "    </tr>\n",
       "    <tr>\n",
       "      <th>2</th>\n",
       "      <td>65.0</td>\n",
       "      <td>0</td>\n",
       "      <td>146</td>\n",
       "      <td>0</td>\n",
       "      <td>20</td>\n",
       "      <td>0</td>\n",
       "      <td>162000.00</td>\n",
       "      <td>1.3</td>\n",
       "      <td>129</td>\n",
       "      <td>1</td>\n",
       "      <td>1</td>\n",
       "      <td>7</td>\n",
       "      <td>1</td>\n",
       "    </tr>\n",
       "    <tr>\n",
       "      <th>3</th>\n",
       "      <td>50.0</td>\n",
       "      <td>1</td>\n",
       "      <td>111</td>\n",
       "      <td>0</td>\n",
       "      <td>20</td>\n",
       "      <td>0</td>\n",
       "      <td>210000.00</td>\n",
       "      <td>1.9</td>\n",
       "      <td>137</td>\n",
       "      <td>1</td>\n",
       "      <td>0</td>\n",
       "      <td>7</td>\n",
       "      <td>1</td>\n",
       "    </tr>\n",
       "    <tr>\n",
       "      <th>4</th>\n",
       "      <td>65.0</td>\n",
       "      <td>1</td>\n",
       "      <td>160</td>\n",
       "      <td>1</td>\n",
       "      <td>20</td>\n",
       "      <td>0</td>\n",
       "      <td>327000.00</td>\n",
       "      <td>2.7</td>\n",
       "      <td>116</td>\n",
       "      <td>0</td>\n",
       "      <td>0</td>\n",
       "      <td>8</td>\n",
       "      <td>1</td>\n",
       "    </tr>\n",
       "  </tbody>\n",
       "</table>\n",
       "</div>"
      ],
      "text/plain": [
       "    age  anaemia  creatinine_phosphokinase  diabetes  ejection_fraction  \\\n",
       "0  75.0        0                       582         0                 20   \n",
       "1  55.0        0                      7861         0                 38   \n",
       "2  65.0        0                       146         0                 20   \n",
       "3  50.0        1                       111         0                 20   \n",
       "4  65.0        1                       160         1                 20   \n",
       "\n",
       "   high_blood_pressure  platelets  serum_creatinine  serum_sodium  sex  \\\n",
       "0                    1  265000.00               1.9           130    1   \n",
       "1                    0  263358.03               1.1           136    1   \n",
       "2                    0  162000.00               1.3           129    1   \n",
       "3                    0  210000.00               1.9           137    1   \n",
       "4                    0  327000.00               2.7           116    0   \n",
       "\n",
       "   smoking  time  DEATH_EVENT  \n",
       "0        0     4            1  \n",
       "1        0     6            1  \n",
       "2        1     7            1  \n",
       "3        0     7            1  \n",
       "4        0     8            1  "
      ]
     },
     "execution_count": 4,
     "metadata": {},
     "output_type": "execute_result"
    }
   ],
   "source": [
    "# pour affichage du dataframe\n",
    "\n",
    "train.head()"
   ]
  },
  {
   "cell_type": "code",
   "execution_count": 7,
   "metadata": {
    "execution": {
     "iopub.execute_input": "2021-06-13T20:02:45.200345Z",
     "iopub.status.busy": "2021-06-13T20:02:45.199819Z",
     "iopub.status.idle": "2021-06-13T20:02:45.246744Z",
     "shell.execute_reply": "2021-06-13T20:02:45.245864Z",
     "shell.execute_reply.started": "2021-06-13T20:02:45.200295Z"
    }
   },
   "outputs": [],
   "source": [
    "# train.describe()    \n"
   ]
  },
  {
   "cell_type": "code",
   "execution_count": 8,
   "metadata": {
    "execution": {
     "iopub.execute_input": "2021-06-13T20:02:45.248433Z",
     "iopub.status.busy": "2021-06-13T20:02:45.24799Z",
     "iopub.status.idle": "2021-06-13T20:02:45.263984Z",
     "shell.execute_reply": "2021-06-13T20:02:45.262658Z",
     "shell.execute_reply.started": "2021-06-13T20:02:45.248401Z"
    }
   },
   "outputs": [],
   "source": [
    "# train.info()"
   ]
  },
  {
   "cell_type": "code",
   "execution_count": 5,
   "metadata": {
    "execution": {
     "iopub.execute_input": "2021-06-13T20:02:45.266056Z",
     "iopub.status.busy": "2021-06-13T20:02:45.265758Z",
     "iopub.status.idle": "2021-06-13T20:02:45.282426Z",
     "shell.execute_reply": "2021-06-13T20:02:45.281251Z",
     "shell.execute_reply.started": "2021-06-13T20:02:45.266027Z"
    }
   },
   "outputs": [
    {
     "data": {
      "text/plain": [
       "(299, 13)"
      ]
     },
     "execution_count": 5,
     "metadata": {},
     "output_type": "execute_result"
    }
   ],
   "source": [
    "# dimension du dataframe\n",
    "\n",
    "train.shape   "
   ]
  },
  {
   "cell_type": "code",
   "execution_count": 10,
   "metadata": {
    "execution": {
     "iopub.execute_input": "2021-06-13T20:02:45.311342Z",
     "iopub.status.busy": "2021-06-13T20:02:45.310988Z",
     "iopub.status.idle": "2021-06-13T20:02:45.319456Z",
     "shell.execute_reply": "2021-06-13T20:02:45.318289Z",
     "shell.execute_reply.started": "2021-06-13T20:02:45.311312Z"
    }
   },
   "outputs": [],
   "source": [
    "# data.dtypes"
   ]
  },
  {
   "cell_type": "code",
   "execution_count": 6,
   "metadata": {
    "execution": {
     "iopub.execute_input": "2021-06-13T20:02:45.345211Z",
     "iopub.status.busy": "2021-06-13T20:02:45.344831Z",
     "iopub.status.idle": "2021-06-13T20:02:45.35502Z",
     "shell.execute_reply": "2021-06-13T20:02:45.353722Z",
     "shell.execute_reply.started": "2021-06-13T20:02:45.34518Z"
    }
   },
   "outputs": [
    {
     "data": {
      "text/plain": [
       "age                         0\n",
       "anaemia                     0\n",
       "creatinine_phosphokinase    0\n",
       "diabetes                    0\n",
       "ejection_fraction           0\n",
       "high_blood_pressure         0\n",
       "platelets                   0\n",
       "serum_creatinine            0\n",
       "serum_sodium                0\n",
       "sex                         0\n",
       "smoking                     0\n",
       "time                        0\n",
       "DEATH_EVENT                 0\n",
       "dtype: int64"
      ]
     },
     "execution_count": 6,
     "metadata": {},
     "output_type": "execute_result"
    }
   ],
   "source": [
    "# rechercher les données NAN\n",
    "\n",
    "train.isnull().sum()"
   ]
  },
  {
   "cell_type": "code",
   "execution_count": 9,
   "metadata": {},
   "outputs": [],
   "source": [
    "# pour remplacer les valeurs manquantes de colonne par la moyenne de la colonne\n",
    "\n",
    "\n",
    "#train= train.fillna(value=train['Age'].mean())\n",
    "#train = train.fillna(value=train['Fare'].mean())\n"
   ]
  },
  {
   "cell_type": "code",
   "execution_count": 10,
   "metadata": {},
   "outputs": [
    {
     "data": {
      "text/plain": [
       "PassengerId    0\n",
       "Survived       0\n",
       "Pclass         0\n",
       "Sex            0\n",
       "Age            0\n",
       "SibSp          0\n",
       "Parch          0\n",
       "Fare           0\n",
       "Embarked       0\n",
       "dtype: int64"
      ]
     },
     "execution_count": 10,
     "metadata": {},
     "output_type": "execute_result"
    }
   ],
   "source": [
    "# pour rechercher les données NAN\n",
    "\n",
    "#train.isnull().sum()"
   ]
  },
  {
   "cell_type": "markdown",
   "metadata": {},
   "source": [
    "# Exploration des données"
   ]
  },
  {
   "cell_type": "code",
   "execution_count": 14,
   "metadata": {
    "execution": {
     "iopub.execute_input": "2021-06-13T20:02:45.398558Z",
     "iopub.status.busy": "2021-06-13T20:02:45.397999Z",
     "iopub.status.idle": "2021-06-13T20:02:45.42551Z",
     "shell.execute_reply": "2021-06-13T20:02:45.423912Z",
     "shell.execute_reply.started": "2021-06-13T20:02:45.398516Z"
    }
   },
   "outputs": [],
   "source": [
    "# data.corr()"
   ]
  },
  {
   "cell_type": "code",
   "execution_count": 15,
   "metadata": {
    "execution": {
     "iopub.execute_input": "2021-06-13T20:02:45.427841Z",
     "iopub.status.busy": "2021-06-13T20:02:45.427461Z",
     "iopub.status.idle": "2021-06-13T20:02:46.163927Z",
     "shell.execute_reply": "2021-06-13T20:02:46.162456Z",
     "shell.execute_reply.started": "2021-06-13T20:02:45.427809Z"
    }
   },
   "outputs": [],
   "source": [
    "# plt.figure(figsize = (12,10))\n",
    "\n",
    "# sns.heatmap(data.corr(), annot =True)\n",
    "\n"
   ]
  },
  {
   "cell_type": "code",
   "execution_count": 16,
   "metadata": {
    "execution": {
     "iopub.execute_input": "2021-06-13T20:02:46.166492Z",
     "iopub.status.busy": "2021-06-13T20:02:46.166161Z",
     "iopub.status.idle": "2021-06-13T20:02:47.705011Z",
     "shell.execute_reply": "2021-06-13T20:02:47.70399Z",
     "shell.execute_reply.started": "2021-06-13T20:02:46.166464Z"
    }
   },
   "outputs": [],
   "source": [
    "# data.hist(figsize=(18,12))\n",
    "# plt.show()\n",
    "\n"
   ]
  },
  {
   "cell_type": "markdown",
   "metadata": {},
   "source": [
    "# "
   ]
  },
  {
   "cell_type": "code",
   "execution_count": 7,
   "metadata": {
    "execution": {
     "iopub.execute_input": "2021-06-13T20:03:30.951336Z",
     "iopub.status.busy": "2021-06-13T20:03:30.95083Z",
     "iopub.status.idle": "2021-06-13T20:03:30.959416Z",
     "shell.execute_reply": "2021-06-13T20:03:30.958459Z",
     "shell.execute_reply.started": "2021-06-13T20:03:30.95129Z"
    }
   },
   "outputs": [],
   "source": [
    "# pour isoler la colonne cible ou variable à expliquer du reste des colonnes\n",
    "x = train.drop(columns = 'DEATH_EVENT')\n",
    "\n",
    "# pour stocker la cible\n",
    "y = train['DEATH_EVENT']\n",
    "\n",
    "#\n",
    "x_train,x_test,y_train,y_test = train_test_split(x,y,test_size=0.2,random_state=0)\n"
   ]
  },
  {
   "cell_type": "code",
   "execution_count": 8,
   "metadata": {},
   "outputs": [
    {
     "data": {
      "text/plain": [
       "(299, 12)"
      ]
     },
     "execution_count": 8,
     "metadata": {},
     "output_type": "execute_result"
    }
   ],
   "source": [
    "x.shape"
   ]
  },
  {
   "cell_type": "code",
   "execution_count": 9,
   "metadata": {},
   "outputs": [
    {
     "data": {
      "text/plain": [
       "(299,)"
      ]
     },
     "execution_count": 9,
     "metadata": {},
     "output_type": "execute_result"
    }
   ],
   "source": [
    "y.shape"
   ]
  },
  {
   "cell_type": "code",
   "execution_count": 16,
   "metadata": {
    "execution": {
     "iopub.execute_input": "2021-06-13T20:03:30.961083Z",
     "iopub.status.busy": "2021-06-13T20:03:30.960751Z",
     "iopub.status.idle": "2021-06-13T20:03:30.97748Z",
     "shell.execute_reply": "2021-06-13T20:03:30.976439Z",
     "shell.execute_reply.started": "2021-06-13T20:03:30.961035Z"
    }
   },
   "outputs": [],
   "source": [
    "#print(len(x_train))\n",
    "#print(len(x_test))\n",
    "#print(len(y_train))\n",
    "#print(len(y_test))\n"
   ]
  },
  {
   "cell_type": "code",
   "execution_count": 14,
   "metadata": {},
   "outputs": [],
   "source": [
    "# maintenant je charge test.csv\n",
    "\n",
    "#x_test= pd.read_csv('test.csv')"
   ]
  },
  {
   "cell_type": "code",
   "execution_count": 10,
   "metadata": {},
   "outputs": [],
   "source": [
    "# affichage du dataframe\n",
    "\n",
    "#x_test.head()"
   ]
  },
  {
   "cell_type": "code",
   "execution_count": 16,
   "metadata": {},
   "outputs": [],
   "source": [
    "# pour supprimer les colonnes inutiles\n",
    "\n",
    "#train.drop(['PassengerId'],axis=1,inplace=True)\n",
    "#x_test.drop(['Name'],axis=1,inplace=True)\n",
    "#x_test.drop(['Ticket'],axis=1,inplace=True)\n",
    "#x_test.drop(['Cabin'],axis=1,inplace=True)\n",
    "#train.drop(['Age'],axis=1,inplace=True)"
   ]
  },
  {
   "cell_type": "code",
   "execution_count": 17,
   "metadata": {},
   "outputs": [],
   "source": [
    "# pour le traitement des données catégorielles\n",
    "\n",
    "#from sklearn.preprocessing import LabelEncoder\n",
    "#le=LabelEncoder()\n",
    "\n",
    "#x_test['Sex']=le.fit_transform(x_test['Sex'].astype(str))\n",
    "#x_test['Embarked']=le.fit_transform(x_test['Embarked'].astype(str))\n"
   ]
  },
  {
   "cell_type": "code",
   "execution_count": 11,
   "metadata": {},
   "outputs": [],
   "source": [
    "# affichage\n",
    "\n",
    "#x_test.head()"
   ]
  },
  {
   "cell_type": "code",
   "execution_count": 12,
   "metadata": {},
   "outputs": [],
   "source": [
    "# recherche de valeurs NAN\n",
    "\n",
    "#x_test.isnull().sum()"
   ]
  },
  {
   "cell_type": "code",
   "execution_count": 13,
   "metadata": {},
   "outputs": [],
   "source": [
    "# pour remplacer les valeurs manquantes de colonne par la moyenne de la colonne\n",
    "\n",
    "\n",
    "\n",
    "#x_test= x_test.fillna(value=x_test['Age'].mean())\n",
    "#train = train.fillna(value=train['Fare'].mean())\n"
   ]
  },
  {
   "cell_type": "code",
   "execution_count": 14,
   "metadata": {},
   "outputs": [],
   "source": [
    "# recherche de valeurs NAN\n",
    "\n",
    "#x_test.isnull().sum()"
   ]
  },
  {
   "cell_type": "code",
   "execution_count": 15,
   "metadata": {},
   "outputs": [],
   "source": [
    "# affichage\n",
    "\n",
    "#x_test"
   ]
  },
  {
   "cell_type": "markdown",
   "metadata": {},
   "source": [
    "# MODELS d'apprentissage"
   ]
  },
  {
   "cell_type": "markdown",
   "metadata": {},
   "source": [
    "# 1. Logistic Regression"
   ]
  },
  {
   "cell_type": "code",
   "execution_count": 10,
   "metadata": {
    "execution": {
     "iopub.execute_input": "2021-06-13T20:03:30.979202Z",
     "iopub.status.busy": "2021-06-13T20:03:30.978686Z",
     "iopub.status.idle": "2021-06-13T20:03:31.031747Z",
     "shell.execute_reply": "2021-06-13T20:03:31.030534Z",
     "shell.execute_reply.started": "2021-06-13T20:03:30.979152Z"
    }
   },
   "outputs": [
    {
     "data": {
      "text/plain": [
       "LogisticRegression()"
      ]
     },
     "execution_count": 10,
     "metadata": {},
     "output_type": "execute_result"
    }
   ],
   "source": [
    "from sklearn.linear_model import LogisticRegression\n",
    "reg = LogisticRegression()\n",
    "reg.fit(x_train,y_train)                         "
   ]
  },
  {
   "cell_type": "code",
   "execution_count": 11,
   "metadata": {},
   "outputs": [],
   "source": [
    "# recherche des prédictions sur les autres données\n",
    "\n",
    "y_pred=reg.predict(x_test)"
   ]
  },
  {
   "cell_type": "code",
   "execution_count": 12,
   "metadata": {
    "execution": {
     "iopub.execute_input": "2021-06-13T20:03:31.03376Z",
     "iopub.status.busy": "2021-06-13T20:03:31.033327Z",
     "iopub.status.idle": "2021-06-13T20:03:31.057126Z",
     "shell.execute_reply": "2021-06-13T20:03:31.055796Z",
     "shell.execute_reply.started": "2021-06-13T20:03:31.033718Z"
    }
   },
   "outputs": [
    {
     "name": "stdout",
     "output_type": "stream",
     "text": [
      "Confusion Matrix:\n",
      " [[35  2]\n",
      " [14  9]]\n",
      "Training Score:\n",
      " 73.33333333333333\n"
     ]
    }
   ],
   "source": [
    "\n",
    "#y_pred=reg.predict(x_test)\n",
    "\n",
    "#print(\"Classification Report is:\\n\",classification_report(y_test,y_pred))\n",
    "print(\"Confusion Matrix:\\n\",confusion_matrix(y_test,y_pred))\n",
    "print(\"Training Score:\\n\",reg.score(x_test,y_test)*100)\n",
    "#print(\"Mean Squared Error:\\n\",mean_squared_error(y_test,y_pred))\n",
    "#print(\"R2 score is:\\n\",r2_score(y_test,y_pred))\n"
   ]
  },
  {
   "cell_type": "code",
   "execution_count": 13,
   "metadata": {},
   "outputs": [
    {
     "data": {
      "text/plain": [
       "array([0, 0, 1, 0, 0, 0, 0, 0, 0, 0, 0, 1, 0, 0, 1, 1, 0, 0, 0, 0, 0, 1,\n",
       "       0, 0, 0, 0, 0, 0, 0, 0, 0, 1, 0, 0, 0, 0, 0, 0, 0, 1, 0, 1, 0, 0,\n",
       "       1, 0, 0, 0, 0, 0, 0, 0, 0, 0, 1, 0, 0, 1, 0, 0])"
      ]
     },
     "execution_count": 13,
     "metadata": {},
     "output_type": "execute_result"
    }
   ],
   "source": [
    "# affichage des prédictions\n",
    "\n",
    "y_pred"
   ]
  },
  {
   "cell_type": "code",
   "execution_count": 14,
   "metadata": {
    "execution": {
     "iopub.execute_input": "2021-06-13T20:03:31.058717Z",
     "iopub.status.busy": "2021-06-13T20:03:31.058301Z",
     "iopub.status.idle": "2021-06-13T20:03:31.064617Z",
     "shell.execute_reply": "2021-06-13T20:03:31.063481Z",
     "shell.execute_reply.started": "2021-06-13T20:03:31.058673Z"
    }
   },
   "outputs": [
    {
     "name": "stdout",
     "output_type": "stream",
     "text": [
      "73.33333333333333\n"
     ]
    }
   ],
   "source": [
    "print(accuracy_score(y_test,y_pred)*100)"
   ]
  },
  {
   "cell_type": "code",
   "execution_count": 15,
   "metadata": {},
   "outputs": [],
   "source": [
    "# création du dataframe pour soumission kaggle\n",
    "\n",
    "#LR_submission = pd.DataFrame({'PassengerId': x_test.PassengerId, 'Survived': y_pred})\n",
    "\n",
    "\n",
    "# création d'un fichier .csv\n",
    "\n",
    "#LR_submission.to_csv(\"LR_submission.csv\",index = False)\n",
    "#LR_submission"
   ]
  },
  {
   "cell_type": "markdown",
   "metadata": {},
   "source": [
    "# 2. KNeighborsClassifier"
   ]
  },
  {
   "cell_type": "code",
   "execution_count": 16,
   "metadata": {
    "execution": {
     "iopub.execute_input": "2021-06-13T20:03:31.067271Z",
     "iopub.status.busy": "2021-06-13T20:03:31.066629Z",
     "iopub.status.idle": "2021-06-13T20:03:31.08779Z",
     "shell.execute_reply": "2021-06-13T20:03:31.086805Z",
     "shell.execute_reply.started": "2021-06-13T20:03:31.067103Z"
    }
   },
   "outputs": [
    {
     "data": {
      "text/plain": [
       "KNeighborsClassifier(n_neighbors=7)"
      ]
     },
     "execution_count": 16,
     "metadata": {},
     "output_type": "execute_result"
    }
   ],
   "source": [
    "from sklearn.neighbors import KNeighborsClassifier\n",
    "knn=KNeighborsClassifier(n_neighbors=7)\n",
    "\n",
    "knn.fit(x_train,y_train)\n"
   ]
  },
  {
   "cell_type": "code",
   "execution_count": 17,
   "metadata": {},
   "outputs": [],
   "source": [
    "# recherche des prédictions sur les autres données\n",
    "\n",
    "y_pred=knn.predict(x_test)"
   ]
  },
  {
   "cell_type": "code",
   "execution_count": 18,
   "metadata": {
    "execution": {
     "iopub.execute_input": "2021-06-13T20:03:31.089411Z",
     "iopub.status.busy": "2021-06-13T20:03:31.089125Z",
     "iopub.status.idle": "2021-06-13T20:03:31.152033Z",
     "shell.execute_reply": "2021-06-13T20:03:31.150904Z",
     "shell.execute_reply.started": "2021-06-13T20:03:31.089385Z"
    }
   },
   "outputs": [
    {
     "name": "stdout",
     "output_type": "stream",
     "text": [
      "Confusion Matrix:\n",
      " [[28  9]\n",
      " [16  7]]\n",
      "Training Score:\n",
      " 74.47698744769873\n"
     ]
    }
   ],
   "source": [
    "\n",
    "#y_pred=knn.predict(x_test)\n",
    "\n",
    "#print(\"Classification Report is:\\n\",classification_report(y_test,y_pred))\n",
    "print(\"Confusion Matrix:\\n\",confusion_matrix(y_test,y_pred))\n",
    "print(\"Training Score:\\n\",knn.score(x_train,y_train)*100)\n",
    "#print(\"Mean Squared Error:\\n\",mean_squared_error(y_test,y_pred))\n",
    "#print(\"R2 score is:\\n\",r2_score(y_test,y_pred))\n"
   ]
  },
  {
   "cell_type": "code",
   "execution_count": 19,
   "metadata": {
    "execution": {
     "iopub.execute_input": "2021-06-13T20:03:31.155902Z",
     "iopub.status.busy": "2021-06-13T20:03:31.155599Z",
     "iopub.status.idle": "2021-06-13T20:03:31.16186Z",
     "shell.execute_reply": "2021-06-13T20:03:31.160707Z",
     "shell.execute_reply.started": "2021-06-13T20:03:31.155875Z"
    }
   },
   "outputs": [
    {
     "name": "stdout",
     "output_type": "stream",
     "text": [
      "58.333333333333336\n"
     ]
    }
   ],
   "source": [
    "# precision sur les données de test\n",
    "\n",
    "print(accuracy_score(y_test,y_pred)*100)\n"
   ]
  },
  {
   "cell_type": "code",
   "execution_count": 20,
   "metadata": {},
   "outputs": [],
   "source": [
    "## création du dataframe pour soumission kaggle\n",
    "\n",
    "#KNC_submission = pd.DataFrame({'PassengerId': x_test.PassengerId, 'Survived': y_pred})\n",
    "\n",
    "\n",
    "# création d'un fichier .csv\n",
    "\n",
    "#KNC_submission.to_csv(\"KNC_submission.csv\",index = False)\n",
    "#KNC_submission"
   ]
  },
  {
   "cell_type": "markdown",
   "metadata": {},
   "source": [
    "# 3. SVC"
   ]
  },
  {
   "cell_type": "code",
   "execution_count": 21,
   "metadata": {
    "execution": {
     "iopub.execute_input": "2021-06-13T20:03:31.164082Z",
     "iopub.status.busy": "2021-06-13T20:03:31.163753Z",
     "iopub.status.idle": "2021-06-13T20:03:31.197406Z",
     "shell.execute_reply": "2021-06-13T20:03:31.196363Z",
     "shell.execute_reply.started": "2021-06-13T20:03:31.16404Z"
    }
   },
   "outputs": [
    {
     "data": {
      "text/plain": [
       "SVC()"
      ]
     },
     "execution_count": 21,
     "metadata": {},
     "output_type": "execute_result"
    }
   ],
   "source": [
    "from sklearn.svm import SVC\n",
    "\n",
    "svc = SVC()\n",
    "svc.fit(x_train, y_train)\n"
   ]
  },
  {
   "cell_type": "code",
   "execution_count": 22,
   "metadata": {},
   "outputs": [],
   "source": [
    "# recherche des prédictions sur les autres données\n",
    "\n",
    "y_pred=svc.predict(x_test)\n"
   ]
  },
  {
   "cell_type": "code",
   "execution_count": 23,
   "metadata": {
    "execution": {
     "iopub.execute_input": "2021-06-13T20:03:31.198852Z",
     "iopub.status.busy": "2021-06-13T20:03:31.198568Z",
     "iopub.status.idle": "2021-06-13T20:03:31.23859Z",
     "shell.execute_reply": "2021-06-13T20:03:31.237524Z",
     "shell.execute_reply.started": "2021-06-13T20:03:31.198825Z"
    }
   },
   "outputs": [
    {
     "name": "stdout",
     "output_type": "stream",
     "text": [
      "Confusion Matrix:\n",
      " [[37  0]\n",
      " [23  0]]\n",
      "Training Score:\n",
      " 69.4560669456067\n"
     ]
    }
   ],
   "source": [
    "\n",
    "#y_pred=svc.predict(x_test)\n",
    "\n",
    "#print(\"Classification Report is:\\n\",classification_report(y_test,y_pred))\n",
    "print(\"Confusion Matrix:\\n\",confusion_matrix(y_test,y_pred))\n",
    "print(\"Training Score:\\n\",svc.score(x_train,y_train)*100)\n",
    "#print(\"Mean Squared Error:\\n\",mean_squared_error(y_test,y_pred))\n",
    "#print(\"R2 score is:\\n\",r2_score(y_test,y_pred))\n"
   ]
  },
  {
   "cell_type": "code",
   "execution_count": 24,
   "metadata": {
    "execution": {
     "iopub.execute_input": "2021-06-13T20:03:31.240033Z",
     "iopub.status.busy": "2021-06-13T20:03:31.239773Z",
     "iopub.status.idle": "2021-06-13T20:03:31.246115Z",
     "shell.execute_reply": "2021-06-13T20:03:31.245136Z",
     "shell.execute_reply.started": "2021-06-13T20:03:31.240007Z"
    }
   },
   "outputs": [
    {
     "name": "stdout",
     "output_type": "stream",
     "text": [
      "61.66666666666667\n"
     ]
    }
   ],
   "source": [
    "\n",
    "\n",
    "print(accuracy_score(y_test,y_pred)*100)\n"
   ]
  },
  {
   "cell_type": "code",
   "execution_count": 25,
   "metadata": {},
   "outputs": [],
   "source": [
    "## création du dataframe pour soumission kaggle\n",
    "\n",
    "#SVC_submission = pd.DataFrame({'PassengerId': x_test.PassengerId, 'Survived': y_pred})\n",
    "\n",
    "# création d'un fichier .csv\n",
    "\n",
    "#SVC_submission.to_csv(\"SVC_submission.csv\",index = False)\n",
    "#SVC_submission"
   ]
  },
  {
   "cell_type": "markdown",
   "metadata": {},
   "source": [
    "# 4. Naive Bayes"
   ]
  },
  {
   "cell_type": "code",
   "execution_count": 26,
   "metadata": {
    "execution": {
     "iopub.execute_input": "2021-06-13T20:03:31.247792Z",
     "iopub.status.busy": "2021-06-13T20:03:31.247497Z",
     "iopub.status.idle": "2021-06-13T20:03:31.266895Z",
     "shell.execute_reply": "2021-06-13T20:03:31.266088Z",
     "shell.execute_reply.started": "2021-06-13T20:03:31.247763Z"
    }
   },
   "outputs": [
    {
     "data": {
      "text/plain": [
       "GaussianNB()"
      ]
     },
     "execution_count": 26,
     "metadata": {},
     "output_type": "execute_result"
    }
   ],
   "source": [
    "from sklearn.naive_bayes import GaussianNB\n",
    "gnb = GaussianNB()\n",
    "gnb.fit(x_train,y_train)\n"
   ]
  },
  {
   "cell_type": "code",
   "execution_count": 27,
   "metadata": {},
   "outputs": [],
   "source": [
    "# recherche des prédictions sur les autres données\n",
    "\n",
    "y_pred=gnb.predict(x_test)"
   ]
  },
  {
   "cell_type": "code",
   "execution_count": 28,
   "metadata": {
    "execution": {
     "iopub.execute_input": "2021-06-13T20:03:31.268611Z",
     "iopub.status.busy": "2021-06-13T20:03:31.26831Z",
     "iopub.status.idle": "2021-06-13T20:03:31.290346Z",
     "shell.execute_reply": "2021-06-13T20:03:31.289299Z",
     "shell.execute_reply.started": "2021-06-13T20:03:31.268582Z"
    }
   },
   "outputs": [
    {
     "name": "stdout",
     "output_type": "stream",
     "text": [
      "Confusion Matrix:\n",
      " [[36  1]\n",
      " [13 10]]\n",
      "Training Score:\n",
      " 82.84518828451883\n"
     ]
    }
   ],
   "source": [
    "\n",
    "#y_pred=gnb.predict(x_test)\n",
    "\n",
    "#print(\"Classification Report is:\\n\",classification_report(y_test,y_pred))\n",
    "print(\"Confusion Matrix:\\n\",confusion_matrix(y_test,y_pred))\n",
    "print(\"Training Score:\\n\",gnb.score(x_train,y_train)*100)\n",
    "#print(\"Mean Squared Error:\\n\",mean_squared_error(y_test,y_pred))\n",
    "#print(\"R2 score is:\\n\",r2_score(y_test,y_pred))\n"
   ]
  },
  {
   "cell_type": "code",
   "execution_count": 34,
   "metadata": {
    "execution": {
     "iopub.execute_input": "2021-06-13T20:03:31.291984Z",
     "iopub.status.busy": "2021-06-13T20:03:31.291521Z",
     "iopub.status.idle": "2021-06-13T20:03:31.299749Z",
     "shell.execute_reply": "2021-06-13T20:03:31.298955Z",
     "shell.execute_reply.started": "2021-06-13T20:03:31.291953Z"
    }
   },
   "outputs": [],
   "source": [
    "#print(\"Accuracy Score:\\n\",gnb.score(y_test,y_pred)*100)"
   ]
  },
  {
   "cell_type": "code",
   "execution_count": 59,
   "metadata": {},
   "outputs": [],
   "source": [
    "## création du dataframe pour soumission kaggle\n",
    "\n",
    "#NB_submission = pd.DataFrame({'PassengerId': x_test.PassengerId, 'Survived': y_pred})\n",
    "\n",
    "\n",
    "# création d'un fichier .csv\n",
    "\n",
    "#NB_submission.to_csv(\"NB_submission.csv\",index = False)\n",
    "#NB_submission"
   ]
  },
  {
   "cell_type": "markdown",
   "metadata": {},
   "source": [
    "# 5. DECISION TREE CLASSIFIER"
   ]
  },
  {
   "cell_type": "code",
   "execution_count": 29,
   "metadata": {
    "execution": {
     "iopub.execute_input": "2021-06-13T20:03:31.301522Z",
     "iopub.status.busy": "2021-06-13T20:03:31.301009Z",
     "iopub.status.idle": "2021-06-13T20:03:31.319571Z",
     "shell.execute_reply": "2021-06-13T20:03:31.318447Z",
     "shell.execute_reply.started": "2021-06-13T20:03:31.30149Z"
    }
   },
   "outputs": [
    {
     "data": {
      "text/plain": [
       "DecisionTreeClassifier(criterion='entropy', max_depth=6, random_state=123)"
      ]
     },
     "execution_count": 29,
     "metadata": {},
     "output_type": "execute_result"
    }
   ],
   "source": [
    "from sklearn.tree import DecisionTreeClassifier\n",
    "dtree = DecisionTreeClassifier(max_depth=6, random_state=123,criterion='entropy')\n",
    "\n",
    "dtree.fit(x_train,y_train)\n"
   ]
  },
  {
   "cell_type": "code",
   "execution_count": 30,
   "metadata": {},
   "outputs": [],
   "source": [
    "# recherche des prédictions sur les autres données\n",
    "\n",
    "y_pred=dtree.predict(x_test)"
   ]
  },
  {
   "cell_type": "code",
   "execution_count": 31,
   "metadata": {
    "execution": {
     "iopub.execute_input": "2021-06-13T20:03:31.32108Z",
     "iopub.status.busy": "2021-06-13T20:03:31.320767Z",
     "iopub.status.idle": "2021-06-13T20:03:31.345231Z",
     "shell.execute_reply": "2021-06-13T20:03:31.343887Z",
     "shell.execute_reply.started": "2021-06-13T20:03:31.321033Z"
    }
   },
   "outputs": [
    {
     "name": "stdout",
     "output_type": "stream",
     "text": [
      "Confusion Matrix:\n",
      " [[32  5]\n",
      " [ 5 18]]\n",
      "Training Score:\n",
      " 95.39748953974896\n"
     ]
    }
   ],
   "source": [
    "\n",
    "#y_pred=dtree.predict(x_test)\n",
    "\n",
    "#print(\"Classification Report is:\\n\",classification_report(y_test,y_pred))\n",
    "print(\"Confusion Matrix:\\n\",confusion_matrix(y_test,y_pred))\n",
    "print(\"Training Score:\\n\",dtree.score(x_train,y_train)*100)\n",
    "#print(\"Mean Squared Error:\\n\",mean_squared_error(y_test,y_pred))\n",
    "#print(\"R2 score is:\\n\",r2_score(y_test,y_pred))"
   ]
  },
  {
   "cell_type": "code",
   "execution_count": 32,
   "metadata": {
    "execution": {
     "iopub.execute_input": "2021-06-13T20:03:31.348941Z",
     "iopub.status.busy": "2021-06-13T20:03:31.348622Z",
     "iopub.status.idle": "2021-06-13T20:03:31.355347Z",
     "shell.execute_reply": "2021-06-13T20:03:31.354039Z",
     "shell.execute_reply.started": "2021-06-13T20:03:31.348911Z"
    }
   },
   "outputs": [
    {
     "name": "stdout",
     "output_type": "stream",
     "text": [
      "83.33333333333334\n"
     ]
    }
   ],
   "source": [
    "print(accuracy_score(y_test,y_pred)*100)\n"
   ]
  },
  {
   "cell_type": "code",
   "execution_count": 33,
   "metadata": {},
   "outputs": [],
   "source": [
    "# création du dataframe pour soumission kaggle\n",
    "\n",
    "#DTC_submission = pd.DataFrame({'PassengerId': x_test.PassengerId, 'Survived': y_pred})\n",
    "\n",
    "\n",
    "# création d'un fichier .csv\n",
    "\n",
    "#DTC_submission.to_csv(\"DTC_submission.csv\",index = False)\n",
    "#DTC_submission"
   ]
  },
  {
   "cell_type": "markdown",
   "metadata": {},
   "source": [
    "# 6.  RandomForestClassifier"
   ]
  },
  {
   "cell_type": "code",
   "execution_count": 34,
   "metadata": {
    "execution": {
     "iopub.execute_input": "2021-06-13T20:03:31.357079Z",
     "iopub.status.busy": "2021-06-13T20:03:31.356717Z",
     "iopub.status.idle": "2021-06-13T20:03:31.611856Z",
     "shell.execute_reply": "2021-06-13T20:03:31.610332Z",
     "shell.execute_reply.started": "2021-06-13T20:03:31.357037Z"
    }
   },
   "outputs": [
    {
     "data": {
      "text/plain": [
       "RandomForestClassifier()"
      ]
     },
     "execution_count": 34,
     "metadata": {},
     "output_type": "execute_result"
    }
   ],
   "source": [
    "from sklearn.ensemble import RandomForestClassifier\n",
    "rfc=RandomForestClassifier()\n",
    "rfc.fit(x_train,y_train)\n"
   ]
  },
  {
   "cell_type": "code",
   "execution_count": 35,
   "metadata": {},
   "outputs": [],
   "source": [
    "# recherche des prédictions sur les autres données\n",
    "\n",
    "y_pred=rfc.predict(x_test)"
   ]
  },
  {
   "cell_type": "code",
   "execution_count": 36,
   "metadata": {
    "execution": {
     "iopub.execute_input": "2021-06-13T20:03:31.613699Z",
     "iopub.status.busy": "2021-06-13T20:03:31.613339Z",
     "iopub.status.idle": "2021-06-13T20:03:31.669852Z",
     "shell.execute_reply": "2021-06-13T20:03:31.668728Z",
     "shell.execute_reply.started": "2021-06-13T20:03:31.613667Z"
    }
   },
   "outputs": [
    {
     "name": "stdout",
     "output_type": "stream",
     "text": [
      "Confusion Matrix:\n",
      " [[36  1]\n",
      " [ 7 16]]\n",
      "Training Score:\n",
      " 100.0\n"
     ]
    }
   ],
   "source": [
    "\n",
    "#y_pred=rfc.predict(x_test)\n",
    "\n",
    "#print(\"Classification Report is:\\n\",classification_report(y_test,y_pred))\n",
    "print(\"Confusion Matrix:\\n\",confusion_matrix(y_test,y_pred))\n",
    "print(\"Training Score:\\n\",rfc.score(x_train,y_train)*100)\n",
    "#print(\"Mean Squared Error:\\n\",mean_squared_error(y_test,y_pred))\n",
    "#print(\"R2 score is:\\n\",r2_score(y_test,y_pred))\n"
   ]
  },
  {
   "cell_type": "code",
   "execution_count": 37,
   "metadata": {
    "execution": {
     "iopub.execute_input": "2021-06-13T20:03:31.671154Z",
     "iopub.status.busy": "2021-06-13T20:03:31.670864Z",
     "iopub.status.idle": "2021-06-13T20:03:31.678139Z",
     "shell.execute_reply": "2021-06-13T20:03:31.676937Z",
     "shell.execute_reply.started": "2021-06-13T20:03:31.671126Z"
    }
   },
   "outputs": [
    {
     "name": "stdout",
     "output_type": "stream",
     "text": [
      "86.66666666666667\n"
     ]
    }
   ],
   "source": [
    "print(accuracy_score(y_test,y_pred)*100)"
   ]
  },
  {
   "cell_type": "code",
   "execution_count": 69,
   "metadata": {},
   "outputs": [],
   "source": [
    "# création du dataframe pour soumission kaggle\n",
    "\n",
    "#RF_submission = pd.DataFrame({'PassengerId': x_test.PassengerId, 'Survived': y_pred})\n",
    "\n",
    "\n",
    "# création d'un fichier .csv\n",
    "\n",
    "#RF_submission.to_csv(\"RF_submission.csv\",index = False)\n",
    "#RF_submission"
   ]
  },
  {
   "cell_type": "markdown",
   "metadata": {},
   "source": [
    "# 7. AdaBoostClassifier"
   ]
  },
  {
   "cell_type": "code",
   "execution_count": 38,
   "metadata": {
    "execution": {
     "iopub.execute_input": "2021-06-13T20:03:31.679905Z",
     "iopub.status.busy": "2021-06-13T20:03:31.679541Z",
     "iopub.status.idle": "2021-06-13T20:03:31.801193Z",
     "shell.execute_reply": "2021-06-13T20:03:31.800113Z",
     "shell.execute_reply.started": "2021-06-13T20:03:31.679867Z"
    }
   },
   "outputs": [
    {
     "data": {
      "text/plain": [
       "AdaBoostClassifier()"
      ]
     },
     "execution_count": 38,
     "metadata": {},
     "output_type": "execute_result"
    }
   ],
   "source": [
    "from sklearn.ensemble import AdaBoostClassifier\n",
    "adb = AdaBoostClassifier(base_estimator = None)\n",
    "adb.fit(x_train,y_train)\n",
    "\n",
    "\n"
   ]
  },
  {
   "cell_type": "code",
   "execution_count": 39,
   "metadata": {},
   "outputs": [],
   "source": [
    "# recherche des prédictions sur les autres données\n",
    "\n",
    "y_pred=adb.predict(x_test)"
   ]
  },
  {
   "cell_type": "code",
   "execution_count": 40,
   "metadata": {
    "execution": {
     "iopub.execute_input": "2021-06-13T20:03:31.802746Z",
     "iopub.status.busy": "2021-06-13T20:03:31.802452Z",
     "iopub.status.idle": "2021-06-13T20:03:31.85326Z",
     "shell.execute_reply": "2021-06-13T20:03:31.852007Z",
     "shell.execute_reply.started": "2021-06-13T20:03:31.802717Z"
    }
   },
   "outputs": [
    {
     "name": "stdout",
     "output_type": "stream",
     "text": [
      "Confusion Matrix:\n",
      " [[35  2]\n",
      " [ 7 16]]\n",
      "Training Score:\n",
      " 95.81589958158996\n"
     ]
    }
   ],
   "source": [
    "\n",
    "#y_pred=adb.predict(x_test)\n",
    "\n",
    "#print(\"Classification Report is:\\n\",classification_report(y_test,y_pred))\n",
    "print(\"Confusion Matrix:\\n\",confusion_matrix(y_test,y_pred))\n",
    "print(\"Training Score:\\n\",adb.score(x_train,y_train)*100)\n",
    "#print(\"Mean Squared Error:\\n\",mean_squared_error(y_test,y_pred))\n",
    "#print(\"R2 score is:\\n\",r2_score(y_test,y_pred))\n"
   ]
  },
  {
   "cell_type": "code",
   "execution_count": 41,
   "metadata": {
    "execution": {
     "iopub.execute_input": "2021-06-13T20:03:31.855507Z",
     "iopub.status.busy": "2021-06-13T20:03:31.855032Z",
     "iopub.status.idle": "2021-06-13T20:03:31.862628Z",
     "shell.execute_reply": "2021-06-13T20:03:31.861277Z",
     "shell.execute_reply.started": "2021-06-13T20:03:31.855462Z"
    }
   },
   "outputs": [
    {
     "name": "stdout",
     "output_type": "stream",
     "text": [
      "85.0\n"
     ]
    }
   ],
   "source": [
    "print(accuracy_score(y_test,y_pred)*100)"
   ]
  },
  {
   "cell_type": "code",
   "execution_count": 42,
   "metadata": {},
   "outputs": [],
   "source": [
    "# création du dataframe pour soumission kaggle\n",
    "\n",
    "#ABC_submission = pd.DataFrame({'PassengerId': x_test.PassengerId, 'Survived': y_pred})\n",
    "\n",
    "\n",
    "# création d'un fichier .csv\n",
    "\n",
    "#ABC_submission.to_csv(\"ABC_submission.csv\",index = False)\n",
    "#ABC_submission"
   ]
  },
  {
   "cell_type": "markdown",
   "metadata": {},
   "source": [
    "# 8. Gradient Boosting Classifier"
   ]
  },
  {
   "cell_type": "code",
   "execution_count": 43,
   "metadata": {
    "execution": {
     "iopub.execute_input": "2021-06-13T20:03:31.864938Z",
     "iopub.status.busy": "2021-06-13T20:03:31.864481Z",
     "iopub.status.idle": "2021-06-13T20:03:32.032277Z",
     "shell.execute_reply": "2021-06-13T20:03:32.031097Z",
     "shell.execute_reply.started": "2021-06-13T20:03:31.86489Z"
    }
   },
   "outputs": [
    {
     "data": {
      "text/plain": [
       "GradientBoostingClassifier()"
      ]
     },
     "execution_count": 43,
     "metadata": {},
     "output_type": "execute_result"
    }
   ],
   "source": [
    "from sklearn.ensemble import GradientBoostingClassifier\n",
    "gbc=GradientBoostingClassifier()\n",
    "gbc.fit(x_train,y_train)\n"
   ]
  },
  {
   "cell_type": "code",
   "execution_count": 44,
   "metadata": {},
   "outputs": [],
   "source": [
    "# recherche des prédictions sur les autres données\n",
    "\n",
    "y_pred=gbc.predict(x_test)"
   ]
  },
  {
   "cell_type": "code",
   "execution_count": 45,
   "metadata": {
    "execution": {
     "iopub.execute_input": "2021-06-13T20:03:32.03435Z",
     "iopub.status.busy": "2021-06-13T20:03:32.033891Z",
     "iopub.status.idle": "2021-06-13T20:03:32.061212Z",
     "shell.execute_reply": "2021-06-13T20:03:32.060103Z",
     "shell.execute_reply.started": "2021-06-13T20:03:32.034307Z"
    }
   },
   "outputs": [
    {
     "name": "stdout",
     "output_type": "stream",
     "text": [
      "Confusion Matrix:\n",
      " [[35  2]\n",
      " [ 8 15]]\n",
      "Training Score:\n",
      " 100.0\n"
     ]
    }
   ],
   "source": [
    "\n",
    "#y_pred=gbc.predict(x_test)\n",
    "\n",
    "#print(\"Classification Report is:\\n\",classification_report(y_test,y_pred))\n",
    "print(\"Confusion Matrix:\\n\",confusion_matrix(y_test,y_pred))\n",
    "print(\"Training Score:\\n\",gbc.score(x_train,y_train)*100)\n",
    "#print(\"Mean Squared Error:\\n\",mean_squared_error(y_test,y_pred))\n",
    "#print(\"R2 score is:\\n\",r2_score(y_test,y_pred))"
   ]
  },
  {
   "cell_type": "code",
   "execution_count": 46,
   "metadata": {
    "execution": {
     "iopub.execute_input": "2021-06-13T20:03:32.063336Z",
     "iopub.status.busy": "2021-06-13T20:03:32.063013Z",
     "iopub.status.idle": "2021-06-13T20:03:32.06979Z",
     "shell.execute_reply": "2021-06-13T20:03:32.068477Z",
     "shell.execute_reply.started": "2021-06-13T20:03:32.063305Z"
    }
   },
   "outputs": [
    {
     "name": "stdout",
     "output_type": "stream",
     "text": [
      "83.33333333333334\n"
     ]
    }
   ],
   "source": [
    "print(accuracy_score(y_test,y_pred)*100)"
   ]
  },
  {
   "cell_type": "code",
   "execution_count": 79,
   "metadata": {},
   "outputs": [],
   "source": [
    "# création du dataframe pour soumission kaggle\n",
    "\n",
    "#GBC_submission = pd.DataFrame({'PassengerId': x_test.PassengerId, 'Survived': y_pred})\n",
    "\n",
    "\n",
    "# création d'un fichier .csv\n",
    "\n",
    "#GBC_submission.to_csv(\"GBC_submission.csv\",index = False)\n",
    "#GBC_submission"
   ]
  },
  {
   "cell_type": "markdown",
   "metadata": {},
   "source": [
    "# 9. XGBClassifier"
   ]
  },
  {
   "cell_type": "code",
   "execution_count": 47,
   "metadata": {
    "execution": {
     "iopub.execute_input": "2021-06-13T20:03:32.071781Z",
     "iopub.status.busy": "2021-06-13T20:03:32.071383Z",
     "iopub.status.idle": "2021-06-13T20:03:32.110896Z",
     "shell.execute_reply": "2021-06-13T20:03:32.109914Z",
     "shell.execute_reply.started": "2021-06-13T20:03:32.071752Z"
    }
   },
   "outputs": [
    {
     "data": {
      "text/plain": [
       "XGBClassifier(alpha=10, base_score=None, booster=None, callbacks=None,\n",
       "              colsample_bylevel=None, colsample_bynode=None,\n",
       "              colsample_bytree=0.3, device=None, early_stopping_rounds=None,\n",
       "              enable_categorical=False, eval_metric=None, feature_types=None,\n",
       "              gamma=None, grow_policy=None, importance_type=None,\n",
       "              interaction_constraints=None, learning_rate=0.1, max_bin=None,\n",
       "              max_cat_threshold=None, max_cat_to_onehot=None,\n",
       "              max_delta_step=None, max_depth=5, max_leaves=None,\n",
       "              min_child_weight=None, missing=nan, monotone_constraints=None,\n",
       "              multi_strategy=None, n_estimators=10, n_jobs=None,\n",
       "              num_parallel_tree=None, ...)"
      ]
     },
     "execution_count": 47,
     "metadata": {},
     "output_type": "execute_result"
    }
   ],
   "source": [
    "from xgboost import XGBClassifier\n",
    "\n",
    "xgb =XGBClassifier(objective ='reg:linear', colsample_bytree = 0.3, learning_rate = 0.1,\n",
    "                max_depth = 5, alpha = 10, n_estimators = 10)\n",
    "\n",
    "xgb.fit(x_train, y_train)\n"
   ]
  },
  {
   "cell_type": "code",
   "execution_count": 48,
   "metadata": {},
   "outputs": [],
   "source": [
    "# recherche des prédictions sur les autres données\n",
    "\n",
    "y_pred=xgb.predict(x_test)"
   ]
  },
  {
   "cell_type": "code",
   "execution_count": 49,
   "metadata": {
    "execution": {
     "iopub.execute_input": "2021-06-13T20:03:32.112565Z",
     "iopub.status.busy": "2021-06-13T20:03:32.112223Z",
     "iopub.status.idle": "2021-06-13T20:03:32.140607Z",
     "shell.execute_reply": "2021-06-13T20:03:32.139595Z",
     "shell.execute_reply.started": "2021-06-13T20:03:32.112533Z"
    }
   },
   "outputs": [
    {
     "name": "stdout",
     "output_type": "stream",
     "text": [
      "Confusion Matrix:\n",
      " [[37  0]\n",
      " [23  0]]\n",
      "Training Score:\n",
      " 69.4560669456067\n"
     ]
    }
   ],
   "source": [
    "\n",
    "#y_pred=xgb.predict(x_test)\n",
    "\n",
    "#print(\"Classification Report is:\\n\",classification_report(y_test,y_pred))\n",
    "print(\"Confusion Matrix:\\n\",confusion_matrix(y_test,y_pred))\n",
    "print(\"Training Score:\\n\",xgb.score(x_train,y_train)*100)\n",
    "#print(\"Mean Squared Error:\\n\",mean_squared_error(y_test,y_pred))\n",
    "#print(\"R2 score is:\\n\",r2_score(y_test,y_pred))"
   ]
  },
  {
   "cell_type": "code",
   "execution_count": 50,
   "metadata": {
    "execution": {
     "iopub.execute_input": "2021-06-13T20:03:32.145019Z",
     "iopub.status.busy": "2021-06-13T20:03:32.14466Z",
     "iopub.status.idle": "2021-06-13T20:03:32.155332Z",
     "shell.execute_reply": "2021-06-13T20:03:32.154159Z",
     "shell.execute_reply.started": "2021-06-13T20:03:32.144987Z"
    }
   },
   "outputs": [
    {
     "name": "stdout",
     "output_type": "stream",
     "text": [
      "61.66666666666667\n"
     ]
    }
   ],
   "source": [
    "xbg_accuracy=print(accuracy_score(y_test,y_pred)*100)"
   ]
  },
  {
   "cell_type": "code",
   "execution_count": 51,
   "metadata": {},
   "outputs": [],
   "source": [
    "# création du dataframe pour soumission kaggle\n",
    "\n",
    "#XGBC_submission = pd.DataFrame({'PassengerId': x_test.PassengerId, 'Survived': y_pred})\n",
    "\n",
    "# création d'un fichier .csv\n",
    "\n",
    "#XGBC_submission.to_csv(\"XGBC_submission.csv\",index = False)\n",
    "#XGBC_submission"
   ]
  },
  {
   "cell_type": "markdown",
   "metadata": {},
   "source": [
    "# 10. ExtraTreesClassifier"
   ]
  },
  {
   "cell_type": "code",
   "execution_count": 51,
   "metadata": {
    "execution": {
     "iopub.execute_input": "2021-06-13T20:03:32.157127Z",
     "iopub.status.busy": "2021-06-13T20:03:32.156726Z",
     "iopub.status.idle": "2021-06-13T20:03:32.331755Z",
     "shell.execute_reply": "2021-06-13T20:03:32.330744Z",
     "shell.execute_reply.started": "2021-06-13T20:03:32.157083Z"
    }
   },
   "outputs": [
    {
     "data": {
      "text/plain": [
       "ExtraTreesClassifier(random_state=0)"
      ]
     },
     "execution_count": 51,
     "metadata": {},
     "output_type": "execute_result"
    }
   ],
   "source": [
    "from sklearn.ensemble import ExtraTreesClassifier\n",
    "etc = ExtraTreesClassifier(n_estimators=100, random_state=0)\n",
    "etc.fit(x_train,y_train)"
   ]
  },
  {
   "cell_type": "code",
   "execution_count": 52,
   "metadata": {},
   "outputs": [],
   "source": [
    "# recherche des prédictions sur les autres données\n",
    "\n",
    "y_pred=etc.predict(x_test)"
   ]
  },
  {
   "cell_type": "code",
   "execution_count": 53,
   "metadata": {
    "execution": {
     "iopub.execute_input": "2021-06-13T20:03:32.333669Z",
     "iopub.status.busy": "2021-06-13T20:03:32.333263Z",
     "iopub.status.idle": "2021-06-13T20:03:32.396481Z",
     "shell.execute_reply": "2021-06-13T20:03:32.395245Z",
     "shell.execute_reply.started": "2021-06-13T20:03:32.333628Z"
    }
   },
   "outputs": [
    {
     "name": "stdout",
     "output_type": "stream",
     "text": [
      "Confusion Matrix:\n",
      " [[35  2]\n",
      " [12 11]]\n",
      "Training Score:\n",
      " 100.0\n"
     ]
    }
   ],
   "source": [
    "\n",
    "#y_pred=etc.predict(x_test)\n",
    "\n",
    "#print(\"Classification Report is:\\n\",classification_report(y_test,y_pred))\n",
    "print(\"Confusion Matrix:\\n\",confusion_matrix(y_test,y_pred))\n",
    "print(\"Training Score:\\n\",etc.score(x_train,y_train)*100)\n",
    "#print(\"Mean Squared Error:\\n\",mean_squared_error(y_test,y_pred))\n",
    "#print(\"R2 score is:\\n\",r2_score(y_test,y_pred))"
   ]
  },
  {
   "cell_type": "code",
   "execution_count": 54,
   "metadata": {
    "execution": {
     "iopub.execute_input": "2021-06-13T20:03:32.39813Z",
     "iopub.status.busy": "2021-06-13T20:03:32.397808Z",
     "iopub.status.idle": "2021-06-13T20:03:32.403846Z",
     "shell.execute_reply": "2021-06-13T20:03:32.403023Z",
     "shell.execute_reply.started": "2021-06-13T20:03:32.398102Z"
    }
   },
   "outputs": [
    {
     "name": "stdout",
     "output_type": "stream",
     "text": [
      "76.66666666666667\n"
     ]
    }
   ],
   "source": [
    "print(accuracy_score(y_test,y_pred)*100)"
   ]
  },
  {
   "cell_type": "code",
   "execution_count": 89,
   "metadata": {
    "execution": {
     "iopub.execute_input": "2021-06-13T20:03:32.40533Z",
     "iopub.status.busy": "2021-06-13T20:03:32.404905Z",
     "iopub.status.idle": "2021-06-13T20:03:32.425759Z",
     "shell.execute_reply": "2021-06-13T20:03:32.424693Z",
     "shell.execute_reply.started": "2021-06-13T20:03:32.405289Z"
    }
   },
   "outputs": [],
   "source": [
    "# création du dataframe pour soumission kaggle\n",
    "\n",
    "#ETC_submission = pd.DataFrame({'PassengerId': x_test.PassengerId, 'Survived': y_pred})\n",
    "\n",
    "# création d'un fichier .csv\n",
    "\n",
    "#ETC_submission.to_csv(\"ETC_submission.csv\",index = False)\n",
    "#ETC_submission"
   ]
  },
  {
   "cell_type": "markdown",
   "metadata": {},
   "source": [
    "\n",
    "\n",
    "* Logistic Regression=  %\n",
    "* KNeighbors Classifier=  %\n",
    "* SVC=  %\n",
    "* Naiye Bayes=  %\n",
    "* Decision Tree Classifier= %\n",
    "* Random Forest Classifier= %\n",
    "* Ada Boost Classifier= %\n",
    "* Gradient Boosting Classifier= %\n",
    "* XGB Classifier= %\n",
    "* Extra Trees Classifier= %\n",
    "\n",
    "\n",
    "\n"
   ]
  },
  {
   "cell_type": "markdown",
   "metadata": {},
   "source": [
    "# Reseau de neurones"
   ]
  },
  {
   "cell_type": "code",
   "execution_count": 55,
   "metadata": {},
   "outputs": [
    {
     "data": {
      "text/html": [
       "<div>\n",
       "<style scoped>\n",
       "    .dataframe tbody tr th:only-of-type {\n",
       "        vertical-align: middle;\n",
       "    }\n",
       "\n",
       "    .dataframe tbody tr th {\n",
       "        vertical-align: top;\n",
       "    }\n",
       "\n",
       "    .dataframe thead th {\n",
       "        text-align: right;\n",
       "    }\n",
       "</style>\n",
       "<table border=\"1\" class=\"dataframe\">\n",
       "  <thead>\n",
       "    <tr style=\"text-align: right;\">\n",
       "      <th></th>\n",
       "      <th>age</th>\n",
       "      <th>anaemia</th>\n",
       "      <th>creatinine_phosphokinase</th>\n",
       "      <th>diabetes</th>\n",
       "      <th>ejection_fraction</th>\n",
       "      <th>high_blood_pressure</th>\n",
       "      <th>platelets</th>\n",
       "      <th>serum_creatinine</th>\n",
       "      <th>serum_sodium</th>\n",
       "      <th>sex</th>\n",
       "      <th>smoking</th>\n",
       "      <th>time</th>\n",
       "    </tr>\n",
       "  </thead>\n",
       "  <tbody>\n",
       "    <tr>\n",
       "      <th>0</th>\n",
       "      <td>0.759259</td>\n",
       "      <td>0.0</td>\n",
       "      <td>0.576295</td>\n",
       "      <td>0.0</td>\n",
       "      <td>0.437500</td>\n",
       "      <td>0.0</td>\n",
       "      <td>0.249606</td>\n",
       "      <td>0.076404</td>\n",
       "      <td>0.685714</td>\n",
       "      <td>1.0</td>\n",
       "      <td>1.0</td>\n",
       "      <td>0.373188</td>\n",
       "    </tr>\n",
       "    <tr>\n",
       "      <th>1</th>\n",
       "      <td>0.185185</td>\n",
       "      <td>0.0</td>\n",
       "      <td>0.020669</td>\n",
       "      <td>0.0</td>\n",
       "      <td>0.333333</td>\n",
       "      <td>0.0</td>\n",
       "      <td>0.292035</td>\n",
       "      <td>0.022472</td>\n",
       "      <td>0.800000</td>\n",
       "      <td>1.0</td>\n",
       "      <td>1.0</td>\n",
       "      <td>0.391304</td>\n",
       "    </tr>\n",
       "    <tr>\n",
       "      <th>2</th>\n",
       "      <td>0.092593</td>\n",
       "      <td>0.0</td>\n",
       "      <td>0.071319</td>\n",
       "      <td>0.0</td>\n",
       "      <td>0.437500</td>\n",
       "      <td>0.0</td>\n",
       "      <td>0.436295</td>\n",
       "      <td>0.056180</td>\n",
       "      <td>0.914286</td>\n",
       "      <td>1.0</td>\n",
       "      <td>0.0</td>\n",
       "      <td>0.206522</td>\n",
       "    </tr>\n",
       "    <tr>\n",
       "      <th>3</th>\n",
       "      <td>0.222222</td>\n",
       "      <td>0.0</td>\n",
       "      <td>0.021306</td>\n",
       "      <td>1.0</td>\n",
       "      <td>0.500000</td>\n",
       "      <td>0.0</td>\n",
       "      <td>0.432659</td>\n",
       "      <td>0.056180</td>\n",
       "      <td>0.771429</td>\n",
       "      <td>1.0</td>\n",
       "      <td>1.0</td>\n",
       "      <td>0.920290</td>\n",
       "    </tr>\n",
       "    <tr>\n",
       "      <th>4</th>\n",
       "      <td>0.185185</td>\n",
       "      <td>1.0</td>\n",
       "      <td>0.003955</td>\n",
       "      <td>0.0</td>\n",
       "      <td>0.541667</td>\n",
       "      <td>0.0</td>\n",
       "      <td>0.307795</td>\n",
       "      <td>0.033708</td>\n",
       "      <td>0.800000</td>\n",
       "      <td>1.0</td>\n",
       "      <td>0.0</td>\n",
       "      <td>0.891304</td>\n",
       "    </tr>\n",
       "  </tbody>\n",
       "</table>\n",
       "</div>"
      ],
      "text/plain": [
       "        age  anaemia  creatinine_phosphokinase  diabetes  ejection_fraction  \\\n",
       "0  0.759259      0.0                  0.576295       0.0           0.437500   \n",
       "1  0.185185      0.0                  0.020669       0.0           0.333333   \n",
       "2  0.092593      0.0                  0.071319       0.0           0.437500   \n",
       "3  0.222222      0.0                  0.021306       1.0           0.500000   \n",
       "4  0.185185      1.0                  0.003955       0.0           0.541667   \n",
       "\n",
       "   high_blood_pressure  platelets  serum_creatinine  serum_sodium  sex  \\\n",
       "0                  0.0   0.249606          0.076404      0.685714  1.0   \n",
       "1                  0.0   0.292035          0.022472      0.800000  1.0   \n",
       "2                  0.0   0.436295          0.056180      0.914286  1.0   \n",
       "3                  0.0   0.432659          0.056180      0.771429  1.0   \n",
       "4                  0.0   0.307795          0.033708      0.800000  1.0   \n",
       "\n",
       "   smoking      time  \n",
       "0      1.0  0.373188  \n",
       "1      1.0  0.391304  \n",
       "2      0.0  0.206522  \n",
       "3      1.0  0.920290  \n",
       "4      0.0  0.891304  "
      ]
     },
     "execution_count": 55,
     "metadata": {},
     "output_type": "execute_result"
    }
   ],
   "source": [
    "# Je Normalise les variables explicatives X ..............\n",
    "# Scaler Min-Max\n",
    "\n",
    "from sklearn.preprocessing import MinMaxScaler\n",
    "\n",
    "col_names = x_train.columns\n",
    "features = x_train[col_names]\n",
    "\n",
    "scaler = MinMaxScaler().fit(features.values)\n",
    "features = scaler.transform(features.values)\n",
    "scaled_x_train = pd.DataFrame(features, columns = col_names)\n",
    "scaled_x_train.head()"
   ]
  },
  {
   "cell_type": "code",
   "execution_count": 57,
   "metadata": {},
   "outputs": [],
   "source": [
    "import tensorflow as tf\n",
    "\n",
    "# \n",
    "model = tf.keras.Sequential([\n",
    "  tf.keras.layers.Dense(8, activation='relu', input_shape=[12]),\n",
    "  #tf.keras.layers.Dropout(0.5),\n",
    "  #tf.keras.layers.Dense(8, activation='relu'),\n",
    "  #tf.keras.layers.Dropout(0.5),\n",
    "  tf.keras.layers.Dense(1, activation='sigmoid')\n",
    "])"
   ]
  },
  {
   "cell_type": "code",
   "execution_count": 58,
   "metadata": {},
   "outputs": [],
   "source": [
    "model.compile(optimizer='Adam', loss='binary_crossentropy', metrics=['accuracy'])"
   ]
  },
  {
   "cell_type": "code",
   "execution_count": 59,
   "metadata": {},
   "outputs": [
    {
     "name": "stderr",
     "output_type": "stream",
     "text": [
      "2024-02-03 18:48:10.992203: I tensorflow/compiler/mlir/mlir_graph_optimization_pass.cc:185] None of the MLIR Optimization Passes are enabled (registered 2)\n"
     ]
    },
    {
     "name": "stdout",
     "output_type": "stream",
     "text": [
      "Epoch 1/100\n",
      "8/8 [==============================] - 1s 3ms/step - loss: 0.7996 - accuracy: 0.3431\n",
      "Epoch 2/100\n",
      "8/8 [==============================] - 0s 3ms/step - loss: 0.7763 - accuracy: 0.3556\n",
      "Epoch 3/100\n",
      "8/8 [==============================] - 0s 2ms/step - loss: 0.7546 - accuracy: 0.3724\n",
      "Epoch 4/100\n",
      "8/8 [==============================] - 0s 3ms/step - loss: 0.7360 - accuracy: 0.4268\n",
      "Epoch 5/100\n",
      "8/8 [==============================] - 0s 2ms/step - loss: 0.7203 - accuracy: 0.4770\n",
      "Epoch 6/100\n",
      "8/8 [==============================] - 0s 2ms/step - loss: 0.7055 - accuracy: 0.4895\n",
      "Epoch 7/100\n",
      "8/8 [==============================] - 0s 2ms/step - loss: 0.6934 - accuracy: 0.5356\n",
      "Epoch 8/100\n",
      "8/8 [==============================] - 0s 2ms/step - loss: 0.6819 - accuracy: 0.5690\n",
      "Epoch 9/100\n",
      "8/8 [==============================] - 0s 3ms/step - loss: 0.6721 - accuracy: 0.5858\n",
      "Epoch 10/100\n",
      "8/8 [==============================] - 0s 2ms/step - loss: 0.6625 - accuracy: 0.6151\n",
      "Epoch 11/100\n",
      "8/8 [==============================] - 0s 2ms/step - loss: 0.6562 - accuracy: 0.6234\n",
      "Epoch 12/100\n",
      "8/8 [==============================] - 0s 2ms/step - loss: 0.6498 - accuracy: 0.6234\n",
      "Epoch 13/100\n",
      "8/8 [==============================] - 0s 2ms/step - loss: 0.6442 - accuracy: 0.6569\n",
      "Epoch 14/100\n",
      "8/8 [==============================] - 0s 2ms/step - loss: 0.6393 - accuracy: 0.6611\n",
      "Epoch 15/100\n",
      "8/8 [==============================] - 0s 2ms/step - loss: 0.6349 - accuracy: 0.6736\n",
      "Epoch 16/100\n",
      "8/8 [==============================] - 0s 2ms/step - loss: 0.6314 - accuracy: 0.6736\n",
      "Epoch 17/100\n",
      "8/8 [==============================] - 0s 3ms/step - loss: 0.6277 - accuracy: 0.6904\n",
      "Epoch 18/100\n",
      "8/8 [==============================] - 0s 2ms/step - loss: 0.6251 - accuracy: 0.6904\n",
      "Epoch 19/100\n",
      "8/8 [==============================] - 0s 2ms/step - loss: 0.6217 - accuracy: 0.6904\n",
      "Epoch 20/100\n",
      "8/8 [==============================] - 0s 2ms/step - loss: 0.6194 - accuracy: 0.6904\n",
      "Epoch 21/100\n",
      "8/8 [==============================] - 0s 2ms/step - loss: 0.6173 - accuracy: 0.6946\n",
      "Epoch 22/100\n",
      "8/8 [==============================] - 0s 3ms/step - loss: 0.6148 - accuracy: 0.6946\n",
      "Epoch 23/100\n",
      "8/8 [==============================] - 0s 2ms/step - loss: 0.6130 - accuracy: 0.6946\n",
      "Epoch 24/100\n",
      "8/8 [==============================] - 0s 2ms/step - loss: 0.6110 - accuracy: 0.6946\n",
      "Epoch 25/100\n",
      "8/8 [==============================] - 0s 3ms/step - loss: 0.6093 - accuracy: 0.6946\n",
      "Epoch 26/100\n",
      "8/8 [==============================] - 0s 2ms/step - loss: 0.6075 - accuracy: 0.6946\n",
      "Epoch 27/100\n",
      "8/8 [==============================] - 0s 3ms/step - loss: 0.6060 - accuracy: 0.6946\n",
      "Epoch 28/100\n",
      "8/8 [==============================] - 0s 2ms/step - loss: 0.6042 - accuracy: 0.6946\n",
      "Epoch 29/100\n",
      "8/8 [==============================] - 0s 2ms/step - loss: 0.6025 - accuracy: 0.6946\n",
      "Epoch 30/100\n",
      "8/8 [==============================] - 0s 3ms/step - loss: 0.6006 - accuracy: 0.6946\n",
      "Epoch 31/100\n",
      "8/8 [==============================] - 0s 2ms/step - loss: 0.5987 - accuracy: 0.6946\n",
      "Epoch 32/100\n",
      "8/8 [==============================] - 0s 3ms/step - loss: 0.5965 - accuracy: 0.6946\n",
      "Epoch 33/100\n",
      "8/8 [==============================] - 0s 2ms/step - loss: 0.5941 - accuracy: 0.6946\n",
      "Epoch 34/100\n",
      "8/8 [==============================] - 0s 3ms/step - loss: 0.5916 - accuracy: 0.6946\n",
      "Epoch 35/100\n",
      "8/8 [==============================] - 0s 3ms/step - loss: 0.5892 - accuracy: 0.6946\n",
      "Epoch 36/100\n",
      "8/8 [==============================] - 0s 2ms/step - loss: 0.5869 - accuracy: 0.6946\n",
      "Epoch 37/100\n",
      "8/8 [==============================] - 0s 3ms/step - loss: 0.5847 - accuracy: 0.6946\n",
      "Epoch 38/100\n",
      "8/8 [==============================] - 0s 2ms/step - loss: 0.5824 - accuracy: 0.6946\n",
      "Epoch 39/100\n",
      "8/8 [==============================] - 0s 2ms/step - loss: 0.5800 - accuracy: 0.6946\n",
      "Epoch 40/100\n",
      "8/8 [==============================] - 0s 2ms/step - loss: 0.5775 - accuracy: 0.6946\n",
      "Epoch 41/100\n",
      "8/8 [==============================] - 0s 2ms/step - loss: 0.5749 - accuracy: 0.6946\n",
      "Epoch 42/100\n",
      "8/8 [==============================] - 0s 2ms/step - loss: 0.5724 - accuracy: 0.6946\n",
      "Epoch 43/100\n",
      "8/8 [==============================] - 0s 2ms/step - loss: 0.5701 - accuracy: 0.6946\n",
      "Epoch 44/100\n",
      "8/8 [==============================] - 0s 2ms/step - loss: 0.5675 - accuracy: 0.6946\n",
      "Epoch 45/100\n",
      "8/8 [==============================] - 0s 3ms/step - loss: 0.5648 - accuracy: 0.6946\n",
      "Epoch 46/100\n",
      "8/8 [==============================] - 0s 2ms/step - loss: 0.5620 - accuracy: 0.6946\n",
      "Epoch 47/100\n",
      "8/8 [==============================] - 0s 3ms/step - loss: 0.5594 - accuracy: 0.6946\n",
      "Epoch 48/100\n",
      "8/8 [==============================] - 0s 2ms/step - loss: 0.5570 - accuracy: 0.6946\n",
      "Epoch 49/100\n",
      "8/8 [==============================] - 0s 3ms/step - loss: 0.5545 - accuracy: 0.6946\n",
      "Epoch 50/100\n",
      "8/8 [==============================] - 0s 3ms/step - loss: 0.5523 - accuracy: 0.6946\n",
      "Epoch 51/100\n",
      "8/8 [==============================] - 0s 3ms/step - loss: 0.5498 - accuracy: 0.6946\n",
      "Epoch 52/100\n",
      "8/8 [==============================] - 0s 3ms/step - loss: 0.5476 - accuracy: 0.6946\n",
      "Epoch 53/100\n",
      "8/8 [==============================] - 0s 2ms/step - loss: 0.5452 - accuracy: 0.6946\n",
      "Epoch 54/100\n",
      "8/8 [==============================] - 0s 2ms/step - loss: 0.5432 - accuracy: 0.6946\n",
      "Epoch 55/100\n",
      "8/8 [==============================] - 0s 2ms/step - loss: 0.5402 - accuracy: 0.6946\n",
      "Epoch 56/100\n",
      "8/8 [==============================] - 0s 2ms/step - loss: 0.5379 - accuracy: 0.6946\n",
      "Epoch 57/100\n",
      "8/8 [==============================] - 0s 2ms/step - loss: 0.5354 - accuracy: 0.6946\n",
      "Epoch 58/100\n",
      "8/8 [==============================] - 0s 2ms/step - loss: 0.5330 - accuracy: 0.6946\n",
      "Epoch 59/100\n",
      "8/8 [==============================] - 0s 2ms/step - loss: 0.5302 - accuracy: 0.6946\n",
      "Epoch 60/100\n",
      "8/8 [==============================] - 0s 2ms/step - loss: 0.5278 - accuracy: 0.6946\n",
      "Epoch 61/100\n",
      "8/8 [==============================] - 0s 2ms/step - loss: 0.5249 - accuracy: 0.6946\n",
      "Epoch 62/100\n",
      "8/8 [==============================] - 0s 2ms/step - loss: 0.5223 - accuracy: 0.6987\n",
      "Epoch 63/100\n",
      "8/8 [==============================] - 0s 2ms/step - loss: 0.5193 - accuracy: 0.7029\n",
      "Epoch 64/100\n",
      "8/8 [==============================] - 0s 2ms/step - loss: 0.5165 - accuracy: 0.7029\n",
      "Epoch 65/100\n",
      "8/8 [==============================] - 0s 2ms/step - loss: 0.5136 - accuracy: 0.7071\n",
      "Epoch 66/100\n",
      "8/8 [==============================] - 0s 2ms/step - loss: 0.5105 - accuracy: 0.7155\n",
      "Epoch 67/100\n",
      "8/8 [==============================] - 0s 2ms/step - loss: 0.5077 - accuracy: 0.7155\n",
      "Epoch 68/100\n",
      "8/8 [==============================] - 0s 2ms/step - loss: 0.5047 - accuracy: 0.7197\n",
      "Epoch 69/100\n",
      "8/8 [==============================] - 0s 2ms/step - loss: 0.5020 - accuracy: 0.7238\n",
      "Epoch 70/100\n",
      "8/8 [==============================] - 0s 2ms/step - loss: 0.4985 - accuracy: 0.7364\n",
      "Epoch 71/100\n",
      "8/8 [==============================] - 0s 2ms/step - loss: 0.4955 - accuracy: 0.7406\n",
      "Epoch 72/100\n",
      "8/8 [==============================] - 0s 2ms/step - loss: 0.4922 - accuracy: 0.7406\n",
      "Epoch 73/100\n",
      "8/8 [==============================] - 0s 2ms/step - loss: 0.4887 - accuracy: 0.7406\n",
      "Epoch 74/100\n",
      "8/8 [==============================] - 0s 2ms/step - loss: 0.4852 - accuracy: 0.7448\n",
      "Epoch 75/100\n",
      "8/8 [==============================] - 0s 2ms/step - loss: 0.4817 - accuracy: 0.7490\n",
      "Epoch 76/100\n",
      "8/8 [==============================] - 0s 2ms/step - loss: 0.4783 - accuracy: 0.7615\n",
      "Epoch 77/100\n",
      "8/8 [==============================] - 0s 2ms/step - loss: 0.4753 - accuracy: 0.7741\n",
      "Epoch 78/100\n",
      "8/8 [==============================] - 0s 2ms/step - loss: 0.4719 - accuracy: 0.7782\n",
      "Epoch 79/100\n",
      "8/8 [==============================] - 0s 2ms/step - loss: 0.4688 - accuracy: 0.7824\n",
      "Epoch 80/100\n",
      "8/8 [==============================] - 0s 3ms/step - loss: 0.4659 - accuracy: 0.7824\n",
      "Epoch 81/100\n",
      "8/8 [==============================] - 0s 2ms/step - loss: 0.4625 - accuracy: 0.7866\n",
      "Epoch 82/100\n",
      "8/8 [==============================] - 0s 2ms/step - loss: 0.4595 - accuracy: 0.7824\n",
      "Epoch 83/100\n",
      "8/8 [==============================] - 0s 2ms/step - loss: 0.4565 - accuracy: 0.7950\n",
      "Epoch 84/100\n",
      "8/8 [==============================] - 0s 2ms/step - loss: 0.4539 - accuracy: 0.7992\n",
      "Epoch 85/100\n",
      "8/8 [==============================] - 0s 2ms/step - loss: 0.4508 - accuracy: 0.7908\n",
      "Epoch 86/100\n",
      "8/8 [==============================] - 0s 2ms/step - loss: 0.4482 - accuracy: 0.7950\n",
      "Epoch 87/100\n",
      "8/8 [==============================] - 0s 2ms/step - loss: 0.4459 - accuracy: 0.7866\n",
      "Epoch 88/100\n",
      "8/8 [==============================] - 0s 2ms/step - loss: 0.4435 - accuracy: 0.7866\n",
      "Epoch 89/100\n",
      "8/8 [==============================] - 0s 2ms/step - loss: 0.4416 - accuracy: 0.7866\n",
      "Epoch 90/100\n",
      "8/8 [==============================] - 0s 2ms/step - loss: 0.4388 - accuracy: 0.7950\n",
      "Epoch 91/100\n",
      "8/8 [==============================] - 0s 2ms/step - loss: 0.4366 - accuracy: 0.7908\n",
      "Epoch 92/100\n",
      "8/8 [==============================] - 0s 2ms/step - loss: 0.4345 - accuracy: 0.7992\n",
      "Epoch 93/100\n",
      "8/8 [==============================] - 0s 2ms/step - loss: 0.4325 - accuracy: 0.8159\n",
      "Epoch 94/100\n",
      "8/8 [==============================] - 0s 2ms/step - loss: 0.4306 - accuracy: 0.8117\n",
      "Epoch 95/100\n",
      "8/8 [==============================] - 0s 2ms/step - loss: 0.4285 - accuracy: 0.8159\n",
      "Epoch 96/100\n",
      "8/8 [==============================] - 0s 2ms/step - loss: 0.4265 - accuracy: 0.8159\n",
      "Epoch 97/100\n",
      "8/8 [==============================] - 0s 2ms/step - loss: 0.4247 - accuracy: 0.8159\n",
      "Epoch 98/100\n",
      "8/8 [==============================] - 0s 2ms/step - loss: 0.4229 - accuracy: 0.8159\n",
      "Epoch 99/100\n",
      "8/8 [==============================] - 0s 2ms/step - loss: 0.4215 - accuracy: 0.8117\n",
      "Epoch 100/100\n",
      "8/8 [==============================] - 0s 2ms/step - loss: 0.4197 - accuracy: 0.8159\n"
     ]
    }
   ],
   "source": [
    "history=model.fit(scaled_x_train, y_train, epochs=100)"
   ]
  },
  {
   "cell_type": "code",
   "execution_count": 60,
   "metadata": {},
   "outputs": [
    {
     "data": {
      "text/plain": [
       "<AxesSubplot:title={'center':'Loss and Accuracy'}>"
      ]
     },
     "execution_count": 60,
     "metadata": {},
     "output_type": "execute_result"
    },
    {
     "data": {
      "image/png": "[encoded data removed]",
      "text/plain": [
       "<Figure size 432x288 with 1 Axes>"
      ]
     },
     "metadata": {
      "needs_background": "light"
     },
     "output_type": "display_data"
    }
   ],
   "source": [
    "\n",
    "# Je trace la perte et la précision \n",
    "\n",
    "pd.DataFrame(history.history).plot(title=\"Loss and Accuracy\")"
   ]
  },
  {
   "cell_type": "code",
   "execution_count": 96,
   "metadata": {},
   "outputs": [],
   "source": [
    "#x_test"
   ]
  },
  {
   "cell_type": "code",
   "execution_count": 61,
   "metadata": {},
   "outputs": [
    {
     "data": {
      "text/html": [
       "<div>\n",
       "<style scoped>\n",
       "    .dataframe tbody tr th:only-of-type {\n",
       "        vertical-align: middle;\n",
       "    }\n",
       "\n",
       "    .dataframe tbody tr th {\n",
       "        vertical-align: top;\n",
       "    }\n",
       "\n",
       "    .dataframe thead th {\n",
       "        text-align: right;\n",
       "    }\n",
       "</style>\n",
       "<table border=\"1\" class=\"dataframe\">\n",
       "  <thead>\n",
       "    <tr style=\"text-align: right;\">\n",
       "      <th></th>\n",
       "      <th>age</th>\n",
       "      <th>anaemia</th>\n",
       "      <th>creatinine_phosphokinase</th>\n",
       "      <th>diabetes</th>\n",
       "      <th>ejection_fraction</th>\n",
       "      <th>high_blood_pressure</th>\n",
       "      <th>platelets</th>\n",
       "      <th>serum_creatinine</th>\n",
       "      <th>serum_sodium</th>\n",
       "      <th>sex</th>\n",
       "      <th>smoking</th>\n",
       "      <th>time</th>\n",
       "    </tr>\n",
       "  </thead>\n",
       "  <tbody>\n",
       "    <tr>\n",
       "      <th>0</th>\n",
       "      <td>0.000000</td>\n",
       "      <td>1.0</td>\n",
       "      <td>0.010461</td>\n",
       "      <td>0.0</td>\n",
       "      <td>0.384615</td>\n",
       "      <td>0.0</td>\n",
       "      <td>0.368313</td>\n",
       "      <td>0.012048</td>\n",
       "      <td>0.736842</td>\n",
       "      <td>0.0</td>\n",
       "      <td>0.0</td>\n",
       "      <td>0.646209</td>\n",
       "    </tr>\n",
       "    <tr>\n",
       "      <th>1</th>\n",
       "      <td>0.375764</td>\n",
       "      <td>1.0</td>\n",
       "      <td>0.020147</td>\n",
       "      <td>1.0</td>\n",
       "      <td>0.384615</td>\n",
       "      <td>1.0</td>\n",
       "      <td>0.316872</td>\n",
       "      <td>0.036145</td>\n",
       "      <td>0.473684</td>\n",
       "      <td>0.0</td>\n",
       "      <td>0.0</td>\n",
       "      <td>0.592058</td>\n",
       "    </tr>\n",
       "    <tr>\n",
       "      <th>2</th>\n",
       "      <td>0.090909</td>\n",
       "      <td>1.0</td>\n",
       "      <td>0.180938</td>\n",
       "      <td>0.0</td>\n",
       "      <td>0.230769</td>\n",
       "      <td>0.0</td>\n",
       "      <td>0.183128</td>\n",
       "      <td>0.048193</td>\n",
       "      <td>0.526316</td>\n",
       "      <td>1.0</td>\n",
       "      <td>0.0</td>\n",
       "      <td>0.010830</td>\n",
       "    </tr>\n",
       "    <tr>\n",
       "      <th>3</th>\n",
       "      <td>0.272727</td>\n",
       "      <td>0.0</td>\n",
       "      <td>0.103642</td>\n",
       "      <td>1.0</td>\n",
       "      <td>0.307692</td>\n",
       "      <td>1.0</td>\n",
       "      <td>0.666667</td>\n",
       "      <td>0.000000</td>\n",
       "      <td>0.684211</td>\n",
       "      <td>0.0</td>\n",
       "      <td>0.0</td>\n",
       "      <td>0.682310</td>\n",
       "    </tr>\n",
       "    <tr>\n",
       "      <th>4</th>\n",
       "      <td>0.545455</td>\n",
       "      <td>0.0</td>\n",
       "      <td>0.035839</td>\n",
       "      <td>0.0</td>\n",
       "      <td>0.230769</td>\n",
       "      <td>0.0</td>\n",
       "      <td>0.259259</td>\n",
       "      <td>0.060241</td>\n",
       "      <td>0.263158</td>\n",
       "      <td>1.0</td>\n",
       "      <td>0.0</td>\n",
       "      <td>0.729242</td>\n",
       "    </tr>\n",
       "  </tbody>\n",
       "</table>\n",
       "</div>"
      ],
      "text/plain": [
       "        age  anaemia  creatinine_phosphokinase  diabetes  ejection_fraction  \\\n",
       "0  0.000000      1.0                  0.010461       0.0           0.384615   \n",
       "1  0.375764      1.0                  0.020147       1.0           0.384615   \n",
       "2  0.090909      1.0                  0.180938       0.0           0.230769   \n",
       "3  0.272727      0.0                  0.103642       1.0           0.307692   \n",
       "4  0.545455      0.0                  0.035839       0.0           0.230769   \n",
       "\n",
       "   high_blood_pressure  platelets  serum_creatinine  serum_sodium  sex  \\\n",
       "0                  0.0   0.368313          0.012048      0.736842  0.0   \n",
       "1                  1.0   0.316872          0.036145      0.473684  0.0   \n",
       "2                  0.0   0.183128          0.048193      0.526316  1.0   \n",
       "3                  1.0   0.666667          0.000000      0.684211  0.0   \n",
       "4                  0.0   0.259259          0.060241      0.263158  1.0   \n",
       "\n",
       "   smoking      time  \n",
       "0      0.0  0.646209  \n",
       "1      0.0  0.592058  \n",
       "2      0.0  0.010830  \n",
       "3      0.0  0.682310  \n",
       "4      0.0  0.729242  "
      ]
     },
     "execution_count": 61,
     "metadata": {},
     "output_type": "execute_result"
    }
   ],
   "source": [
    "# Je Normalise les variables explicatives X ..............\n",
    "# Scaler Min-Max\n",
    "\n",
    "from sklearn.preprocessing import MinMaxScaler\n",
    "\n",
    "col_names = x_test.columns\n",
    "features = x_test[col_names]\n",
    "\n",
    "scaler = MinMaxScaler().fit(features.values)\n",
    "features = scaler.transform(features.values)\n",
    "scaled_x_test = pd.DataFrame(features, columns = col_names)\n",
    "scaled_x_test.head()"
   ]
  },
  {
   "cell_type": "code",
   "execution_count": 62,
   "metadata": {},
   "outputs": [
    {
     "data": {
      "text/plain": [
       "(60, 12)"
      ]
     },
     "execution_count": 62,
     "metadata": {},
     "output_type": "execute_result"
    }
   ],
   "source": [
    "scaled_x_test.shape"
   ]
  },
  {
   "cell_type": "code",
   "execution_count": 63,
   "metadata": {},
   "outputs": [],
   "source": [
    "y_pred = model.predict(scaled_x_test)"
   ]
  },
  {
   "cell_type": "code",
   "execution_count": 64,
   "metadata": {},
   "outputs": [
    {
     "name": "stdout",
     "output_type": "stream",
     "text": [
      "[0 0 1 0 0 0 0 0 1 0 0 1 0 0 1 0 0 0 0 0 0 0 0 0 0 0 0 0 0 0 0 0 0 0 0 0 0\n",
      " 0 0 1 0 0 0 1 1 0 0 0 1 0 0 0 0 0 1 0 0 1 0 0]\n"
     ]
    }
   ],
   "source": [
    "'''\n",
    "\n",
    "    prédictions\n",
    "\n",
    "'''\n",
    "\n",
    "y_pred = model.predict(scaled_x_test)\n",
    "y_pred = (y_pred > 0.5).astype(int).ravel()\n",
    "print(y_pred)"
   ]
  },
  {
   "cell_type": "code",
   "execution_count": 65,
   "metadata": {},
   "outputs": [
    {
     "data": {
      "text/plain": [
       "206    0\n",
       "188    0\n",
       "12     1\n",
       "219    0\n",
       "237    0\n",
       "Name: DEATH_EVENT, dtype: int64"
      ]
     },
     "execution_count": 65,
     "metadata": {},
     "output_type": "execute_result"
    }
   ],
   "source": [
    "y_test.head()"
   ]
  },
  {
   "cell_type": "code",
   "execution_count": 101,
   "metadata": {},
   "outputs": [],
   "source": [
    "train=pd.read_csv('diabetes.csv')"
   ]
  },
  {
   "cell_type": "code",
   "execution_count": 67,
   "metadata": {},
   "outputs": [
    {
     "data": {
      "text/html": [
       "<div>\n",
       "<style scoped>\n",
       "    .dataframe tbody tr th:only-of-type {\n",
       "        vertical-align: middle;\n",
       "    }\n",
       "\n",
       "    .dataframe tbody tr th {\n",
       "        vertical-align: top;\n",
       "    }\n",
       "\n",
       "    .dataframe thead th {\n",
       "        text-align: right;\n",
       "    }\n",
       "</style>\n",
       "<table border=\"1\" class=\"dataframe\">\n",
       "  <thead>\n",
       "    <tr style=\"text-align: right;\">\n",
       "      <th></th>\n",
       "      <th>exacte</th>\n",
       "      <th>prédictions</th>\n",
       "    </tr>\n",
       "  </thead>\n",
       "  <tbody>\n",
       "    <tr>\n",
       "      <th>206</th>\n",
       "      <td>0</td>\n",
       "      <td>0</td>\n",
       "    </tr>\n",
       "    <tr>\n",
       "      <th>188</th>\n",
       "      <td>0</td>\n",
       "      <td>0</td>\n",
       "    </tr>\n",
       "    <tr>\n",
       "      <th>12</th>\n",
       "      <td>1</td>\n",
       "      <td>1</td>\n",
       "    </tr>\n",
       "    <tr>\n",
       "      <th>219</th>\n",
       "      <td>0</td>\n",
       "      <td>0</td>\n",
       "    </tr>\n",
       "    <tr>\n",
       "      <th>237</th>\n",
       "      <td>0</td>\n",
       "      <td>0</td>\n",
       "    </tr>\n",
       "    <tr>\n",
       "      <th>136</th>\n",
       "      <td>0</td>\n",
       "      <td>0</td>\n",
       "    </tr>\n",
       "    <tr>\n",
       "      <th>228</th>\n",
       "      <td>0</td>\n",
       "      <td>0</td>\n",
       "    </tr>\n",
       "    <tr>\n",
       "      <th>205</th>\n",
       "      <td>0</td>\n",
       "      <td>0</td>\n",
       "    </tr>\n",
       "    <tr>\n",
       "      <th>52</th>\n",
       "      <td>1</td>\n",
       "      <td>1</td>\n",
       "    </tr>\n",
       "    <tr>\n",
       "      <th>108</th>\n",
       "      <td>0</td>\n",
       "      <td>0</td>\n",
       "    </tr>\n",
       "    <tr>\n",
       "      <th>240</th>\n",
       "      <td>0</td>\n",
       "      <td>0</td>\n",
       "    </tr>\n",
       "    <tr>\n",
       "      <th>15</th>\n",
       "      <td>1</td>\n",
       "      <td>1</td>\n",
       "    </tr>\n",
       "    <tr>\n",
       "      <th>184</th>\n",
       "      <td>1</td>\n",
       "      <td>0</td>\n",
       "    </tr>\n",
       "    <tr>\n",
       "      <th>246</th>\n",
       "      <td>1</td>\n",
       "      <td>0</td>\n",
       "    </tr>\n",
       "    <tr>\n",
       "      <th>22</th>\n",
       "      <td>1</td>\n",
       "      <td>1</td>\n",
       "    </tr>\n",
       "    <tr>\n",
       "      <th>74</th>\n",
       "      <td>1</td>\n",
       "      <td>0</td>\n",
       "    </tr>\n",
       "    <tr>\n",
       "      <th>269</th>\n",
       "      <td>0</td>\n",
       "      <td>0</td>\n",
       "    </tr>\n",
       "    <tr>\n",
       "      <th>90</th>\n",
       "      <td>0</td>\n",
       "      <td>0</td>\n",
       "    </tr>\n",
       "    <tr>\n",
       "      <th>227</th>\n",
       "      <td>0</td>\n",
       "      <td>0</td>\n",
       "    </tr>\n",
       "    <tr>\n",
       "      <th>255</th>\n",
       "      <td>0</td>\n",
       "      <td>0</td>\n",
       "    </tr>\n",
       "  </tbody>\n",
       "</table>\n",
       "</div>"
      ],
      "text/plain": [
       "     exacte  prédictions\n",
       "206       0            0\n",
       "188       0            0\n",
       "12        1            1\n",
       "219       0            0\n",
       "237       0            0\n",
       "136       0            0\n",
       "228       0            0\n",
       "205       0            0\n",
       "52        1            1\n",
       "108       0            0\n",
       "240       0            0\n",
       "15        1            1\n",
       "184       1            0\n",
       "246       1            0\n",
       "22        1            1\n",
       "74        1            0\n",
       "269       0            0\n",
       "90        0            0\n",
       "227       0            0\n",
       "255       0            0"
      ]
     },
     "execution_count": 67,
     "metadata": {},
     "output_type": "execute_result"
    }
   ],
   "source": [
    "# attention le dataframe doit avoir la meme dimension que y_pred (nombre de lignes)\n",
    "\n",
    "neurones_submission = pd.DataFrame({'exacte': y_test, 'prédictions': y_pred})\n",
    "neurones_submission[0:20]"
   ]
  },
  {
   "cell_type": "code",
   "execution_count": 129,
   "metadata": {},
   "outputs": [],
   "source": [
    "# création d'un dataframe et fichier .csv\n",
    "\n",
    "neurones_submission.to_csv(\"neurones_submission.csv\",index = False)"
   ]
  },
  {
   "cell_type": "code",
   "execution_count": null,
   "metadata": {},
   "outputs": [],
   "source": []
  }
 ],
 "metadata": {
  "kaggle": {
   "accelerator": "none",
   "dataSources": [
    {
     "datasetId": 228,
     "sourceId": 482,
     "sourceType": "datasetVersion"
    }
   ],
   "dockerImageVersionId": 30096,
   "isGpuEnabled": false,
   "isInternetEnabled": true,
   "language": "python",
   "sourceType": "notebook"
  },
  "kernelspec": {
   "display_name": "Python 3 (ipykernel)",
   "language": "python",
   "name": "python3"
  },
  "language_info": {
   "codemirror_mode": {
    "name": "ipython",
    "version": 3
   },
   "file_extension": ".py",
   "mimetype": "text/x-python",
   "name": "python",
   "nbconvert_exporter": "python",
   "pygments_lexer": "ipython3",
   "version": "3.8.11"
  }
 },
 "nbformat": 4,
 "nbformat_minor": 4
}
