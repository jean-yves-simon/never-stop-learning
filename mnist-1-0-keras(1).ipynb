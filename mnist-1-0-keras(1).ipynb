{
 "cells": [
  {
   "cell_type": "code",
   "execution_count": 1,
   "metadata": {
    "execution": {
     "iopub.execute_input": "2022-12-11T20:39:30.274162Z",
     "iopub.status.busy": "2022-12-11T20:39:30.273770Z",
     "iopub.status.idle": "2022-12-11T20:39:30.280798Z",
     "shell.execute_reply": "2022-12-11T20:39:30.279552Z",
     "shell.execute_reply.started": "2022-12-11T20:39:30.274131Z"
    }
   },
   "outputs": [
    {
     "name": "stdout",
     "output_type": "stream",
     "text": [
      "2.6.0\n"
     ]
    }
   ],
   "source": [
    "\n",
    "from matplotlib import image\n",
    "from tensorflow.keras.preprocessing.image import load_img\n",
    "from tensorflow.keras.preprocessing.image import img_to_array\n",
    "from matplotlib import pyplot\n",
    "\n",
    "from PIL import Image\n",
    "import numpy as np\n",
    "from tensorflow import keras\n",
    "import matplotlib.pyplot as plt\n",
    "import tensorflow as tf\n",
    "print (keras.__version__)"
   ]
  },
  {
   "cell_type": "code",
   "execution_count": null,
   "metadata": {},
   "outputs": [],
   "source": []
  },
  {
   "cell_type": "code",
   "execution_count": 2,
   "metadata": {
    "execution": {
     "iopub.execute_input": "2022-12-11T20:39:30.285947Z",
     "iopub.status.busy": "2022-12-11T20:39:30.285606Z",
     "iopub.status.idle": "2022-12-11T20:39:30.295388Z",
     "shell.execute_reply": "2022-12-11T20:39:30.294310Z",
     "shell.execute_reply.started": "2022-12-11T20:39:30.285915Z"
    }
   },
   "outputs": [],
   "source": [
    "# Nous importons l'ensemble de données MNIST directement à partir de la bibliothèque Keras.\n",
    "\n",
    "\n",
    "from keras.datasets import mnist\n",
    "\n"
   ]
  },
  {
   "cell_type": "code",
   "execution_count": 3,
   "metadata": {
    "execution": {
     "iopub.execute_input": "2022-12-11T20:39:30.297567Z",
     "iopub.status.busy": "2022-12-11T20:39:30.297046Z",
     "iopub.status.idle": "2022-12-11T20:39:30.512336Z",
     "shell.execute_reply": "2022-12-11T20:39:30.511330Z",
     "shell.execute_reply.started": "2022-12-11T20:39:30.297535Z"
    }
   },
   "outputs": [],
   "source": [
    "# Nous importons des données dans des variables et vérifions leur forme. \n",
    "\n",
    "(x_train, y_train), (x_test, y_test) = mnist.load_data()\n"
   ]
  },
  {
   "cell_type": "code",
   "execution_count": 4,
   "metadata": {
    "execution": {
     "iopub.execute_input": "2022-12-11T20:39:30.514618Z",
     "iopub.status.busy": "2022-12-11T20:39:30.514133Z",
     "iopub.status.idle": "2022-12-11T20:39:30.520299Z",
     "shell.execute_reply": "2022-12-11T20:39:30.518881Z",
     "shell.execute_reply.started": "2022-12-11T20:39:30.514585Z"
    }
   },
   "outputs": [
    {
     "data": {
      "text/plain": [
       "(60000, 28, 28)"
      ]
     },
     "execution_count": 4,
     "metadata": {},
     "output_type": "execute_result"
    }
   ],
   "source": [
    "# 60000 images de taille 28*28\n",
    "\n",
    "x_train.shape\n"
   ]
  },
  {
   "cell_type": "code",
   "execution_count": 5,
   "metadata": {
    "execution": {
     "iopub.execute_input": "2022-12-11T20:39:30.521891Z",
     "iopub.status.busy": "2022-12-11T20:39:30.521602Z",
     "iopub.status.idle": "2022-12-11T20:39:30.534146Z",
     "shell.execute_reply": "2022-12-11T20:39:30.533107Z",
     "shell.execute_reply.started": "2022-12-11T20:39:30.521865Z"
    }
   },
   "outputs": [
    {
     "data": {
      "text/plain": [
       "(60000,)"
      ]
     },
     "execution_count": 5,
     "metadata": {},
     "output_type": "execute_result"
    }
   ],
   "source": [
    "# 60000 Etiquettes des images \n",
    "\n",
    "y_train.shape\n"
   ]
  },
  {
   "cell_type": "code",
   "execution_count": 6,
   "metadata": {
    "execution": {
     "iopub.execute_input": "2022-12-11T20:39:30.537130Z",
     "iopub.status.busy": "2022-12-11T20:39:30.536626Z",
     "iopub.status.idle": "2022-12-11T20:39:30.547545Z",
     "shell.execute_reply": "2022-12-11T20:39:30.546536Z",
     "shell.execute_reply.started": "2022-12-11T20:39:30.537097Z"
    }
   },
   "outputs": [
    {
     "data": {
      "text/plain": [
       "(10000, 28, 28)"
      ]
     },
     "execution_count": 6,
     "metadata": {},
     "output_type": "execute_result"
    }
   ],
   "source": [
    "# 10000 exemples d'imges de test tailles 28*28\n",
    "\n",
    "x_test.shape\n"
   ]
  },
  {
   "cell_type": "code",
   "execution_count": 7,
   "metadata": {
    "execution": {
     "iopub.execute_input": "2022-12-11T20:39:30.550237Z",
     "iopub.status.busy": "2022-12-11T20:39:30.548928Z",
     "iopub.status.idle": "2022-12-11T20:39:30.561244Z",
     "shell.execute_reply": "2022-12-11T20:39:30.559985Z",
     "shell.execute_reply.started": "2022-12-11T20:39:30.550191Z"
    }
   },
   "outputs": [
    {
     "data": {
      "text/plain": [
       "array([7, 2, 1, 0, 4, 1, 4, 9, 5, 9], dtype=uint8)"
      ]
     },
     "execution_count": 7,
     "metadata": {},
     "output_type": "execute_result"
    }
   ],
   "source": [
    "y_test[0:10]"
   ]
  },
  {
   "cell_type": "code",
   "execution_count": 8,
   "metadata": {
    "execution": {
     "iopub.execute_input": "2022-12-11T20:39:30.563163Z",
     "iopub.status.busy": "2022-12-11T20:39:30.562758Z",
     "iopub.status.idle": "2022-12-11T20:39:30.577322Z",
     "shell.execute_reply": "2022-12-11T20:39:30.576339Z",
     "shell.execute_reply.started": "2022-12-11T20:39:30.563132Z"
    }
   },
   "outputs": [
    {
     "data": {
      "text/plain": [
       "array([5, 0, 4, 1, 9, 2, 1, 3, 1, 4], dtype=uint8)"
      ]
     },
     "execution_count": 8,
     "metadata": {},
     "output_type": "execute_result"
    }
   ],
   "source": [
    "# Vérifions les 10 premières étiquettes. \n",
    "\n",
    "y_train[0:10]"
   ]
  },
  {
   "cell_type": "markdown",
   "metadata": {},
   "source": [
    "## Visualisation des données"
   ]
  },
  {
   "cell_type": "code",
   "execution_count": 9,
   "metadata": {
    "execution": {
     "iopub.execute_input": "2022-12-11T20:39:30.578928Z",
     "iopub.status.busy": "2022-12-11T20:39:30.578629Z",
     "iopub.status.idle": "2022-12-11T20:39:30.731048Z",
     "shell.execute_reply": "2022-12-11T20:39:30.730097Z",
     "shell.execute_reply.started": "2022-12-11T20:39:30.578899Z"
    }
   },
   "outputs": [
    {
     "data": {
      "text/plain": [
       "<function matplotlib.pyplot.show(close=None, block=None)>"
      ]
     },
     "execution_count": 9,
     "metadata": {},
     "output_type": "execute_result"
    },
    {
     "data": {
      "image/png": "[encoded data removed]",
      "text/plain": [
       "<Figure size 432x288 with 1 Axes>"
      ]
     },
     "metadata": {
      "needs_background": "light"
     },
     "output_type": "display_data"
    }
   ],
   "source": [
    "# Affichage en niveaux de gris\n",
    "\n",
    "plt.imshow(x_train[0],cmap='gray')\n",
    "plt.show\n"
   ]
  },
  {
   "cell_type": "code",
   "execution_count": 10,
   "metadata": {
    "execution": {
     "iopub.execute_input": "2022-12-11T20:39:30.732774Z",
     "iopub.status.busy": "2022-12-11T20:39:30.732060Z",
     "iopub.status.idle": "2022-12-11T20:39:30.877613Z",
     "shell.execute_reply": "2022-12-11T20:39:30.876825Z",
     "shell.execute_reply.started": "2022-12-11T20:39:30.732743Z"
    }
   },
   "outputs": [
    {
     "data": {
      "text/plain": [
       "<function matplotlib.pyplot.show(close=None, block=None)>"
      ]
     },
     "execution_count": 10,
     "metadata": {},
     "output_type": "execute_result"
    },
    {
     "data": {
      "image/png": "[encoded data removed]",
      "text/plain": [
       "<Figure size 432x288 with 1 Axes>"
      ]
     },
     "metadata": {
      "needs_background": "light"
     },
     "output_type": "display_data"
    }
   ],
   "source": [
    "# Affichage en couleurs\n",
    "\n",
    "plt.imshow(x_train[0])\n",
    "plt.show\n"
   ]
  },
  {
   "cell_type": "code",
   "execution_count": 11,
   "metadata": {
    "execution": {
     "iopub.execute_input": "2022-12-11T20:39:30.879348Z",
     "iopub.status.busy": "2022-12-11T20:39:30.878592Z",
     "iopub.status.idle": "2022-12-11T20:39:30.884443Z",
     "shell.execute_reply": "2022-12-11T20:39:30.883752Z",
     "shell.execute_reply.started": "2022-12-11T20:39:30.879319Z"
    }
   },
   "outputs": [
    {
     "data": {
      "text/plain": [
       "array([5, 0, 4, 1, 9, 2, 1, 3, 1, 4], dtype=uint8)"
      ]
     },
     "execution_count": 11,
     "metadata": {},
     "output_type": "execute_result"
    }
   ],
   "source": [
    "# Vérifions les 10 premières étiquettes. \n",
    "\n",
    "y_train[0:10]"
   ]
  },
  {
   "cell_type": "markdown",
   "metadata": {},
   "source": [
    "## Nouveau jeu de données"
   ]
  },
  {
   "cell_type": "code",
   "execution_count": 12,
   "metadata": {
    "execution": {
     "iopub.execute_input": "2022-12-11T20:39:30.888358Z",
     "iopub.status.busy": "2022-12-11T20:39:30.887351Z",
     "iopub.status.idle": "2022-12-11T20:39:30.901082Z",
     "shell.execute_reply": "2022-12-11T20:39:30.900292Z",
     "shell.execute_reply.started": "2022-12-11T20:39:30.888327Z"
    }
   },
   "outputs": [],
   "source": [
    "# Comme vous pouvez le voir, ils contiennent des chiffres différents.\n",
    "# Et nous ne nous intéressons qu'à deux d'entre eux.Les 1 et les 0 \n",
    "# c'est-à-dire une division en deux ensembles.\n",
    "# Nous nous occuperons des uns et des zéros\n",
    "# nous créons de nouvelles variables qui ne contiennent que des zéros et des uns. \n",
    "\n",
    "\n",
    "x_train_new, y_train_new = x_train[(y_train==0) | (y_train==1)], y_train[(y_train==0) | (y_train==1)]\n",
    "\n"
   ]
  },
  {
   "cell_type": "code",
   "execution_count": 13,
   "metadata": {
    "execution": {
     "iopub.execute_input": "2022-12-11T20:39:30.902497Z",
     "iopub.status.busy": "2022-12-11T20:39:30.902069Z",
     "iopub.status.idle": "2022-12-11T20:39:30.911673Z",
     "shell.execute_reply": "2022-12-11T20:39:30.910946Z",
     "shell.execute_reply.started": "2022-12-11T20:39:30.902472Z"
    }
   },
   "outputs": [
    {
     "data": {
      "text/plain": [
       "(12665, 28, 28)"
      ]
     },
     "execution_count": 13,
     "metadata": {},
     "output_type": "execute_result"
    }
   ],
   "source": [
    "x_train_new.shape"
   ]
  },
  {
   "cell_type": "code",
   "execution_count": 14,
   "metadata": {
    "execution": {
     "iopub.execute_input": "2022-12-11T20:39:30.914065Z",
     "iopub.status.busy": "2022-12-11T20:39:30.912608Z",
     "iopub.status.idle": "2022-12-11T20:39:30.923165Z",
     "shell.execute_reply": "2022-12-11T20:39:30.922474Z",
     "shell.execute_reply.started": "2022-12-11T20:39:30.913986Z"
    }
   },
   "outputs": [
    {
     "data": {
      "text/plain": [
       "(12665,)"
      ]
     },
     "execution_count": 14,
     "metadata": {},
     "output_type": "execute_result"
    }
   ],
   "source": [
    "y_train_new.shape"
   ]
  },
  {
   "cell_type": "code",
   "execution_count": 15,
   "metadata": {
    "execution": {
     "iopub.execute_input": "2022-12-11T20:39:30.925778Z",
     "iopub.status.busy": "2022-12-11T20:39:30.924944Z",
     "iopub.status.idle": "2022-12-11T20:39:30.937531Z",
     "shell.execute_reply": "2022-12-11T20:39:30.935761Z",
     "shell.execute_reply.started": "2022-12-11T20:39:30.925741Z"
    }
   },
   "outputs": [
    {
     "data": {
      "text/plain": [
       "array([0, 1, 1, 1, 1, 0, 1, 1, 0, 0], dtype=uint8)"
      ]
     },
     "execution_count": 15,
     "metadata": {},
     "output_type": "execute_result"
    }
   ],
   "source": [
    "# Vérifions les 10 premieres étiquettes \n",
    "\n",
    "y_train_new[0:10]\n",
    "\n"
   ]
  },
  {
   "cell_type": "code",
   "execution_count": 16,
   "metadata": {
    "execution": {
     "iopub.execute_input": "2022-12-11T20:39:30.940625Z",
     "iopub.status.busy": "2022-12-11T20:39:30.939438Z",
     "iopub.status.idle": "2022-12-11T20:39:30.949772Z",
     "shell.execute_reply": "2022-12-11T20:39:30.948477Z",
     "shell.execute_reply.started": "2022-12-11T20:39:30.940574Z"
    }
   },
   "outputs": [
    {
     "data": {
      "text/plain": [
       "(12665, 784)"
      ]
     },
     "execution_count": 16,
     "metadata": {},
     "output_type": "execute_result"
    }
   ],
   "source": [
    "# \n",
    "\n",
    "x_train_final = x_train_new.reshape(-1,784)\n",
    "x_train_final.shape\n",
    "\n",
    "# ci dessous nombre et dimension"
   ]
  },
  {
   "cell_type": "code",
   "execution_count": 17,
   "metadata": {
    "execution": {
     "iopub.execute_input": "2022-12-11T20:39:30.951583Z",
     "iopub.status.busy": "2022-12-11T20:39:30.951254Z",
     "iopub.status.idle": "2022-12-11T20:39:30.963360Z",
     "shell.execute_reply": "2022-12-11T20:39:30.962065Z",
     "shell.execute_reply.started": "2022-12-11T20:39:30.951555Z"
    }
   },
   "outputs": [
    {
     "data": {
      "text/plain": [
       "(2115, 28, 28)"
      ]
     },
     "execution_count": 17,
     "metadata": {},
     "output_type": "execute_result"
    }
   ],
   "source": [
    "# Pour l'ensemble de test nous créons aussi de nouvelles variables qui ne contiennent que des zéros et des uns.\n",
    "\n",
    "x_test_new, y_test_new = x_test[(y_test==0) | (y_test==1)], y_test[(y_test==0) | (y_test==1)]\n",
    "x_test_new.shape\n",
    "\n",
    "# ci dessous nombre et dimension"
   ]
  },
  {
   "cell_type": "code",
   "execution_count": 18,
   "metadata": {
    "execution": {
     "iopub.execute_input": "2022-12-11T20:39:30.965385Z",
     "iopub.status.busy": "2022-12-11T20:39:30.964650Z",
     "iopub.status.idle": "2022-12-11T20:39:30.970419Z",
     "shell.execute_reply": "2022-12-11T20:39:30.968570Z",
     "shell.execute_reply.started": "2022-12-11T20:39:30.965359Z"
    }
   },
   "outputs": [],
   "source": [
    "# Normalisation des données\n",
    "\n",
    "x_test_final = x_test_new.reshape(-1,784)\n"
   ]
  },
  {
   "cell_type": "code",
   "execution_count": 19,
   "metadata": {
    "execution": {
     "iopub.execute_input": "2022-12-11T20:39:30.972794Z",
     "iopub.status.busy": "2022-12-11T20:39:30.972231Z",
     "iopub.status.idle": "2022-12-11T20:39:31.004617Z",
     "shell.execute_reply": "2022-12-11T20:39:31.003467Z",
     "shell.execute_reply.started": "2022-12-11T20:39:30.972658Z"
    }
   },
   "outputs": [],
   "source": [
    "# Normalisation des données \n",
    "\n",
    "x_train_final = x_train_final / 255\n",
    "x_test_final = x_test_final / 255\n"
   ]
  },
  {
   "cell_type": "code",
   "execution_count": 20,
   "metadata": {
    "execution": {
     "iopub.execute_input": "2022-12-11T20:39:31.006079Z",
     "iopub.status.busy": "2022-12-11T20:39:31.005787Z",
     "iopub.status.idle": "2022-12-11T20:39:31.013112Z",
     "shell.execute_reply": "2022-12-11T20:39:31.011467Z",
     "shell.execute_reply.started": "2022-12-11T20:39:31.006054Z"
    }
   },
   "outputs": [
    {
     "data": {
      "text/plain": [
       "array([[0., 0., 0., ..., 0., 0., 0.],\n",
       "       [0., 0., 0., ..., 0., 0., 0.],\n",
       "       [0., 0., 0., ..., 0., 0., 0.],\n",
       "       ...,\n",
       "       [0., 0., 0., ..., 0., 0., 0.],\n",
       "       [0., 0., 0., ..., 0., 0., 0.],\n",
       "       [0., 0., 0., ..., 0., 0., 0.]])"
      ]
     },
     "execution_count": 20,
     "metadata": {},
     "output_type": "execute_result"
    }
   ],
   "source": [
    "\n",
    "x_train_final\n"
   ]
  },
  {
   "attachments": {
    "Capture%20d%E2%80%99e%CC%81cran%202022-12-11%20a%CC%80%2022.54.55.png": {
     "image/png": "[encoded data removed]"
    }
   },
   "cell_type": "markdown",
   "metadata": {},
   "source": [
    "![Capture%20d%E2%80%99e%CC%81cran%202022-12-11%20a%CC%80%2022.54.55.png](attachment:Capture%20d%E2%80%99e%CC%81cran%202022-12-11%20a%CC%80%2022.54.55.png)"
   ]
  },
  {
   "cell_type": "code",
   "execution_count": 21,
   "metadata": {
    "execution": {
     "iopub.execute_input": "2022-12-11T20:39:31.015004Z",
     "iopub.status.busy": "2022-12-11T20:39:31.014626Z",
     "iopub.status.idle": "2022-12-11T20:39:31.034177Z",
     "shell.execute_reply": "2022-12-11T20:39:31.032447Z",
     "shell.execute_reply.started": "2022-12-11T20:39:31.014970Z"
    }
   },
   "outputs": [],
   "source": [
    "model = keras.Sequential(\n",
    "  keras.layers.Dense(1, input_shape=(784,), activation='sigmoid')\n",
    ")"
   ]
  },
  {
   "cell_type": "code",
   "execution_count": 22,
   "metadata": {
    "execution": {
     "iopub.execute_input": "2022-12-11T20:39:31.036090Z",
     "iopub.status.busy": "2022-12-11T20:39:31.035695Z",
     "iopub.status.idle": "2022-12-11T20:39:31.061587Z",
     "shell.execute_reply": "2022-12-11T20:39:31.060576Z",
     "shell.execute_reply.started": "2022-12-11T20:39:31.036058Z"
    }
   },
   "outputs": [],
   "source": [
    "from keras import models\n",
    "from keras import layers\n",
    "\n",
    "model = models.Sequential()\n",
    "model.add(layers.Dense(1, activation='relu',input_shape=(28*28,)))\n",
    "model.add(layers.Dense(1, activation='sigmoid'))"
   ]
  },
  {
   "cell_type": "markdown",
   "metadata": {},
   "source": [
    "## Compilation du model"
   ]
  },
  {
   "cell_type": "code",
   "execution_count": 23,
   "metadata": {
    "execution": {
     "iopub.execute_input": "2022-12-11T20:39:31.063184Z",
     "iopub.status.busy": "2022-12-11T20:39:31.062755Z",
     "iopub.status.idle": "2022-12-11T20:39:31.072600Z",
     "shell.execute_reply": "2022-12-11T20:39:31.071195Z",
     "shell.execute_reply.started": "2022-12-11T20:39:31.063159Z"
    }
   },
   "outputs": [],
   "source": [
    "# Compilation du model\n",
    "\n",
    "model.compile(optimizer='sgd',\n",
    "                loss='binary_crossentropy',\n",
    "                metrics=['binary_accuracy'])"
   ]
  },
  {
   "cell_type": "markdown",
   "metadata": {},
   "source": [
    "## Entrainement du model"
   ]
  },
  {
   "cell_type": "code",
   "execution_count": 24,
   "metadata": {
    "execution": {
     "iopub.execute_input": "2022-12-11T20:39:31.074231Z",
     "iopub.status.busy": "2022-12-11T20:39:31.073830Z",
     "iopub.status.idle": "2022-12-11T20:39:43.654253Z",
     "shell.execute_reply": "2022-12-11T20:39:43.653102Z",
     "shell.execute_reply.started": "2022-12-11T20:39:31.074196Z"
    }
   },
   "outputs": [
    {
     "name": "stderr",
     "output_type": "stream",
     "text": [
      "2022-12-17 16:36:39.036948: I tensorflow/compiler/mlir/mlir_graph_optimization_pass.cc:185] None of the MLIR Optimization Passes are enabled (registered 2)\n"
     ]
    },
    {
     "name": "stdout",
     "output_type": "stream",
     "text": [
      "Epoch 1/10\n",
      "792/792 [==============================] - 2s 1ms/step - loss: 0.3223 - binary_accuracy: 0.9325\n",
      "Epoch 2/10\n",
      "792/792 [==============================] - 1s 1ms/step - loss: 0.1237 - binary_accuracy: 0.9957\n",
      "Epoch 3/10\n",
      "792/792 [==============================] - 1s 1ms/step - loss: 0.0758 - binary_accuracy: 0.9969\n",
      "Epoch 4/10\n",
      "792/792 [==============================] - 1s 1ms/step - loss: 0.0546 - binary_accuracy: 0.9973\n",
      "Epoch 5/10\n",
      "792/792 [==============================] - 1s 1ms/step - loss: 0.0429 - binary_accuracy: 0.9976\n",
      "Epoch 6/10\n",
      "792/792 [==============================] - 1s 1ms/step - loss: 0.0356 - binary_accuracy: 0.9979\n",
      "Epoch 7/10\n",
      "792/792 [==============================] - 1s 1ms/step - loss: 0.0305 - binary_accuracy: 0.9979\n",
      "Epoch 8/10\n",
      "792/792 [==============================] - 1s 1ms/step - loss: 0.0268 - binary_accuracy: 0.9982\n",
      "Epoch 9/10\n",
      "792/792 [==============================] - 1s 2ms/step - loss: 0.0240 - binary_accuracy: 0.9983\n",
      "Epoch 10/10\n",
      "792/792 [==============================] - 1s 2ms/step - loss: 0.0218 - binary_accuracy: 0.9983\n"
     ]
    },
    {
     "data": {
      "text/plain": [
       "<keras.callbacks.History at 0x7ff136a45eb0>"
      ]
     },
     "execution_count": 24,
     "metadata": {},
     "output_type": "execute_result"
    }
   ],
   "source": [
    "model.fit(\n",
    "  x=x_train_final,\n",
    "  y=y_train_new,\n",
    "  shuffle=True,\n",
    "  epochs=10,\n",
    "  batch_size=16\n",
    ")"
   ]
  },
  {
   "cell_type": "markdown",
   "metadata": {},
   "source": [
    "## Evaluation"
   ]
  },
  {
   "cell_type": "code",
   "execution_count": 25,
   "metadata": {
    "execution": {
     "iopub.execute_input": "2022-12-11T20:39:43.656308Z",
     "iopub.status.busy": "2022-12-11T20:39:43.655482Z",
     "iopub.status.idle": "2022-12-11T20:39:43.902776Z",
     "shell.execute_reply": "2022-12-11T20:39:43.901693Z",
     "shell.execute_reply.started": "2022-12-11T20:39:43.656223Z"
    }
   },
   "outputs": [
    {
     "name": "stdout",
     "output_type": "stream",
     "text": [
      "67/67 [==============================] - 0s 1ms/step - loss: 0.0181 - binary_accuracy: 0.9986\n"
     ]
    }
   ],
   "source": [
    "# \n",
    "\n",
    "eval = model.evaluate(x=x_test_final, y=y_test_new)\n"
   ]
  },
  {
   "cell_type": "code",
   "execution_count": 26,
   "metadata": {
    "execution": {
     "iopub.execute_input": "2022-12-11T20:39:43.906299Z",
     "iopub.status.busy": "2022-12-11T20:39:43.905170Z",
     "iopub.status.idle": "2022-12-11T20:39:43.915997Z",
     "shell.execute_reply": "2022-12-11T20:39:43.914184Z",
     "shell.execute_reply.started": "2022-12-11T20:39:43.906255Z"
    }
   },
   "outputs": [
    {
     "data": {
      "text/plain": [
       "[0.01810014434158802, 0.99858158826828]"
      ]
     },
     "execution_count": 26,
     "metadata": {},
     "output_type": "execute_result"
    }
   ],
   "source": [
    "#\n",
    "\n",
    "eval\n"
   ]
  },
  {
   "cell_type": "code",
   "execution_count": 27,
   "metadata": {
    "execution": {
     "iopub.execute_input": "2022-12-11T20:39:43.918457Z",
     "iopub.status.busy": "2022-12-11T20:39:43.917653Z",
     "iopub.status.idle": "2022-12-11T20:39:43.933128Z",
     "shell.execute_reply": "2022-12-11T20:39:43.931617Z",
     "shell.execute_reply.started": "2022-12-11T20:39:43.918407Z"
    }
   },
   "outputs": [],
   "source": [
    "\n",
    "model.save('un_zero_Keras.hdf5')\n"
   ]
  },
  {
   "cell_type": "markdown",
   "metadata": {},
   "source": [
    "## Entrainement données de test"
   ]
  },
  {
   "cell_type": "code",
   "execution_count": 28,
   "metadata": {
    "execution": {
     "iopub.execute_input": "2022-12-11T20:39:43.935199Z",
     "iopub.status.busy": "2022-12-11T20:39:43.934474Z",
     "iopub.status.idle": "2022-12-11T20:39:43.943541Z",
     "shell.execute_reply": "2022-12-11T20:39:43.941810Z",
     "shell.execute_reply.started": "2022-12-11T20:39:43.935167Z"
    }
   },
   "outputs": [],
   "source": [
    "# Chargement des librairies\n",
    "\n",
    "import numpy as np\n",
    "from tensorflow import keras\n",
    "from PIL import Image\n",
    "from matplotlib.pyplot import imshow\n",
    "%matplotlib inline\n",
    "\n"
   ]
  },
  {
   "cell_type": "code",
   "execution_count": 29,
   "metadata": {
    "execution": {
     "iopub.execute_input": "2022-12-11T20:39:43.946656Z",
     "iopub.status.busy": "2022-12-11T20:39:43.945511Z",
     "iopub.status.idle": "2022-12-11T20:39:43.989640Z",
     "shell.execute_reply": "2022-12-11T20:39:43.988515Z",
     "shell.execute_reply.started": "2022-12-11T20:39:43.946615Z"
    }
   },
   "outputs": [],
   "source": [
    "# On charge notre nouveau model :\n",
    "# nous avons appris à notre model de reconnaitre que les zero et un\n",
    "\n",
    "model = keras.models.load_model('un_zero_Keras.hdf5')\n"
   ]
  },
  {
   "cell_type": "code",
   "execution_count": 30,
   "metadata": {
    "execution": {
     "iopub.execute_input": "2022-12-11T20:39:43.994447Z",
     "iopub.status.busy": "2022-12-11T20:39:43.993801Z",
     "iopub.status.idle": "2022-12-11T20:39:44.206688Z",
     "shell.execute_reply": "2022-12-11T20:39:44.205935Z",
     "shell.execute_reply.started": "2022-12-11T20:39:43.994393Z"
    }
   },
   "outputs": [],
   "source": [
    "# On charge  le jeu de données de test\n",
    "# On selectionne uniquement les zero et un\n",
    "# attention notre model ne peut reconnaitre que les zero et un \n",
    "\n",
    "from keras.datasets import mnist\n",
    "\n",
    "(x_train, y_train), (x_test, y_test) = mnist.load_data()\n",
    "x_test_new, y_test_new = x_test[(y_test==0) | (y_test==1)], y_test[(y_test==0) | (y_test==1)]\n",
    "\n",
    "x_test_final = x_test_new.reshape((-1, 784)) / 255"
   ]
  },
  {
   "cell_type": "code",
   "execution_count": 31,
   "metadata": {
    "execution": {
     "iopub.execute_input": "2022-12-11T20:39:44.208728Z",
     "iopub.status.busy": "2022-12-11T20:39:44.208124Z",
     "iopub.status.idle": "2022-12-11T20:39:44.448397Z",
     "shell.execute_reply": "2022-12-11T20:39:44.447337Z",
     "shell.execute_reply.started": "2022-12-11T20:39:44.208694Z"
    }
   },
   "outputs": [
    {
     "name": "stdout",
     "output_type": "stream",
     "text": [
      "67/67 [==============================] - 0s 1ms/step - loss: 0.0181 - binary_accuracy: 0.9986\n"
     ]
    }
   ],
   "source": [
    "#\n",
    "\n",
    "eval = model.evaluate(x=x_test_final, y=y_test_new)\n"
   ]
  },
  {
   "cell_type": "code",
   "execution_count": 32,
   "metadata": {
    "execution": {
     "iopub.execute_input": "2022-12-11T20:39:44.451804Z",
     "iopub.status.busy": "2022-12-11T20:39:44.450463Z",
     "iopub.status.idle": "2022-12-11T20:39:44.458036Z",
     "shell.execute_reply": "2022-12-11T20:39:44.457280Z",
     "shell.execute_reply.started": "2022-12-11T20:39:44.451760Z"
    }
   },
   "outputs": [
    {
     "data": {
      "text/plain": [
       "[0.01810014434158802, 0.99858158826828]"
      ]
     },
     "execution_count": 32,
     "metadata": {},
     "output_type": "execute_result"
    }
   ],
   "source": [
    "# Evaluation données de test\n",
    "\n",
    "eval\n"
   ]
  },
  {
   "cell_type": "markdown",
   "metadata": {},
   "source": [
    "## Entrainement sur de nouvelles images"
   ]
  },
  {
   "cell_type": "markdown",
   "metadata": {},
   "source": [
    "### Cette routine permet de normaliser l'image introduite, de la traité de \n",
    "### maniere à correspondre exactement au niveaux des pixels de notre modele.\n",
    "### Sur notre image les pixels éclairées représentent le chiffre.( Apres traitement)\n",
    "### Sinon c'est le contraire est donc incompatible avec notre model d entrainement"
   ]
  },
  {
   "cell_type": "code",
   "execution_count": 33,
   "metadata": {
    "execution": {
     "iopub.execute_input": "2022-12-11T20:39:44.459647Z",
     "iopub.status.busy": "2022-12-11T20:39:44.459183Z",
     "iopub.status.idle": "2022-12-11T20:39:44.468584Z",
     "shell.execute_reply": "2022-12-11T20:39:44.467399Z",
     "shell.execute_reply.started": "2022-12-11T20:39:44.459621Z"
    }
   },
   "outputs": [],
   "source": [
    "def convert_image(file):\n",
    "  image = np.array(Image.open(file).convert('L'))\n",
    "  return np.abs(((image / 255) - 1)*(-1))"
   ]
  },
  {
   "cell_type": "code",
   "execution_count": 34,
   "metadata": {
    "execution": {
     "iopub.execute_input": "2022-12-11T20:39:44.470406Z",
     "iopub.status.busy": "2022-12-11T20:39:44.469737Z",
     "iopub.status.idle": "2022-12-11T20:39:44.481927Z",
     "shell.execute_reply": "2022-12-11T20:39:44.480085Z",
     "shell.execute_reply.started": "2022-12-11T20:39:44.470369Z"
    }
   },
   "outputs": [],
   "source": [
    "# Avant d'introduire votre image ne pas oublier de la redimensionner en 28*28"
   ]
  },
  {
   "cell_type": "markdown",
   "metadata": {},
   "source": [
    "## Chargement du chiffre zéro"
   ]
  },
  {
   "cell_type": "code",
   "execution_count": 36,
   "metadata": {
    "execution": {
     "iopub.execute_input": "2022-12-11T20:39:44.484583Z",
     "iopub.status.busy": "2022-12-11T20:39:44.483587Z",
     "iopub.status.idle": "2022-12-11T20:39:44.622828Z",
     "shell.execute_reply": "2022-12-11T20:39:44.622024Z",
     "shell.execute_reply.started": "2022-12-11T20:39:44.484539Z"
    }
   },
   "outputs": [
    {
     "data": {
      "text/plain": [
       "<matplotlib.image.AxesImage at 0x7ff11e163310>"
      ]
     },
     "execution_count": 36,
     "metadata": {},
     "output_type": "execute_result"
    },
    {
     "data": {
      "image/png": "[encoded data removed]",
      "text/plain": [
       "<Figure size 432x288 with 1 Axes>"
      ]
     },
     "metadata": {
      "needs_background": "light"
     },
     "output_type": "display_data"
    }
   ],
   "source": [
    "im = convert_image('zero.png')\n",
    "imshow(im)"
   ]
  },
  {
   "cell_type": "markdown",
   "metadata": {},
   "source": [
    "## Prédiction"
   ]
  },
  {
   "cell_type": "markdown",
   "metadata": {},
   "source": [
    "On peut utiliser notre modele pour lui faire prédire notre chiffre:"
   ]
  },
  {
   "cell_type": "code",
   "execution_count": 37,
   "metadata": {
    "execution": {
     "iopub.execute_input": "2022-12-11T20:39:44.624562Z",
     "iopub.status.busy": "2022-12-11T20:39:44.624001Z",
     "iopub.status.idle": "2022-12-11T20:39:44.706269Z",
     "shell.execute_reply": "2022-12-11T20:39:44.705363Z",
     "shell.execute_reply.started": "2022-12-11T20:39:44.624525Z"
    }
   },
   "outputs": [
    {
     "data": {
      "text/plain": [
       "array([[0.03133848]], dtype=float32)"
      ]
     },
     "execution_count": 37,
     "metadata": {},
     "output_type": "execute_result"
    }
   ],
   "source": [
    "# Prédiction sur notre image\n",
    "\n",
    "predict_input = im.reshape((-1,784))\n",
    "prediction = model.predict(predict_input)\n",
    "prediction\n",
    "\n",
    "# ci dessous résultat de la prédiction, une probabilité:"
   ]
  },
  {
   "cell_type": "markdown",
   "metadata": {},
   "source": [
    "Nous obtenons un tableau de prédiction:\n",
    "Un chiffre à virgule qui représente une probabilité.\n",
    "## Si la probabilité est au dessus de 50% c'est un 1\n",
    "## Si la probabilité est en dessous de 50% c'est un 0"
   ]
  },
  {
   "cell_type": "code",
   "execution_count": 38,
   "metadata": {
    "execution": {
     "iopub.execute_input": "2022-12-11T20:39:44.707504Z",
     "iopub.status.busy": "2022-12-11T20:39:44.707194Z",
     "iopub.status.idle": "2022-12-11T20:39:44.763890Z",
     "shell.execute_reply": "2022-12-11T20:39:44.762695Z",
     "shell.execute_reply.started": "2022-12-11T20:39:44.707476Z"
    }
   },
   "outputs": [
    {
     "data": {
      "text/plain": [
       "array([[0]])"
      ]
     },
     "execution_count": 38,
     "metadata": {},
     "output_type": "execute_result"
    }
   ],
   "source": [
    "prediction=(model.predict(predict_input)>0.5).astype(int)\n",
    "prediction\n",
    "\n",
    "# ci dessous résultat de la prédiction: le chiffre correspondant à l image"
   ]
  },
  {
   "cell_type": "markdown",
   "metadata": {},
   "source": [
    "## Chargement du chiffre Un"
   ]
  },
  {
   "cell_type": "code",
   "execution_count": 39,
   "metadata": {
    "execution": {
     "iopub.execute_input": "2022-12-11T20:39:44.765586Z",
     "iopub.status.busy": "2022-12-11T20:39:44.765260Z",
     "iopub.status.idle": "2022-12-11T20:39:44.925516Z",
     "shell.execute_reply": "2022-12-11T20:39:44.924503Z",
     "shell.execute_reply.started": "2022-12-11T20:39:44.765557Z"
    }
   },
   "outputs": [
    {
     "data": {
      "text/plain": [
       "<matplotlib.image.AxesImage at 0x7ff11e319d00>"
      ]
     },
     "execution_count": 39,
     "metadata": {},
     "output_type": "execute_result"
    },
    {
     "data": {
      "image/png": "[encoded data removed]",
      "text/plain": [
       "<Figure size 432x288 with 1 Axes>"
      ]
     },
     "metadata": {
      "needs_background": "light"
     },
     "output_type": "display_data"
    }
   ],
   "source": [
    "im = convert_image('unbis.png')\n",
    "imshow(im)"
   ]
  },
  {
   "cell_type": "code",
   "execution_count": 40,
   "metadata": {
    "execution": {
     "iopub.execute_input": "2022-12-11T20:39:44.927990Z",
     "iopub.status.busy": "2022-12-11T20:39:44.926888Z",
     "iopub.status.idle": "2022-12-11T20:39:44.981675Z",
     "shell.execute_reply": "2022-12-11T20:39:44.980157Z",
     "shell.execute_reply.started": "2022-12-11T20:39:44.927955Z"
    }
   },
   "outputs": [
    {
     "data": {
      "text/plain": [
       "array([[0.99969035]], dtype=float32)"
      ]
     },
     "execution_count": 40,
     "metadata": {},
     "output_type": "execute_result"
    }
   ],
   "source": [
    "predict_input = im.reshape((-1,784))\n",
    "prediction = model.predict(predict_input)\n",
    "prediction\n",
    "\n",
    "# ci dessous résultat de la prédiction: une probabilité:"
   ]
  },
  {
   "cell_type": "code",
   "execution_count": 41,
   "metadata": {
    "execution": {
     "iopub.execute_input": "2022-12-11T20:40:20.929751Z",
     "iopub.status.busy": "2022-12-11T20:40:20.929389Z",
     "iopub.status.idle": "2022-12-11T20:40:20.989890Z",
     "shell.execute_reply": "2022-12-11T20:40:20.988567Z",
     "shell.execute_reply.started": "2022-12-11T20:40:20.929721Z"
    }
   },
   "outputs": [
    {
     "data": {
      "text/plain": [
       "array([[1]])"
      ]
     },
     "execution_count": 41,
     "metadata": {},
     "output_type": "execute_result"
    }
   ],
   "source": [
    "prediction=(model.predict(predict_input)>0.5).astype(int)\n",
    "prediction\n",
    "\n",
    "# ci dessous résultat de la prédiction: le chiffre correspondant à l image"
   ]
  },
  {
   "cell_type": "code",
   "execution_count": null,
   "metadata": {},
   "outputs": [],
   "source": []
  }
 ],
 "metadata": {
  "kernelspec": {
   "display_name": "Python 3 (ipykernel)",
   "language": "python",
   "name": "python3"
  },
  "language_info": {
   "codemirror_mode": {
    "name": "ipython",
    "version": 3
   },
   "file_extension": ".py",
   "mimetype": "text/x-python",
   "name": "python",
   "nbconvert_exporter": "python",
   "pygments_lexer": "ipython3",
   "version": "3.8.11"
  }
 },
 "nbformat": 4,
 "nbformat_minor": 4
}
