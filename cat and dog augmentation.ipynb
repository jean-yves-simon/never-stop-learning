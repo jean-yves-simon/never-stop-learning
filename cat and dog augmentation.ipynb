{
 "cells": [
  {
   "cell_type": "markdown",
   "metadata": {
    "editable": false
   },
   "source": [
    "# Cat and dog avec augmentation"
   ]
  },
  {
   "cell_type": "markdown",
   "metadata": {
    "editable": false
   },
   "source": [
    "## Initialisations"
   ]
  },
  {
   "cell_type": "markdown",
   "metadata": {
    "editable": false
   },
   "source": [
    "### Divers"
   ]
  },
  {
   "cell_type": "code",
   "execution_count": 1,
   "metadata": {
    "editable": false,
    "execution": {
     "iopub.execute_input": "2022-08-28T16:08:55.751981Z",
     "iopub.status.busy": "2022-08-28T16:08:55.751468Z",
     "iopub.status.idle": "2022-08-28T16:08:56.821306Z",
     "shell.execute_reply": "2022-08-28T16:08:56.820556Z",
     "shell.execute_reply.started": "2022-08-28T16:08:55.751902Z"
    }
   },
   "outputs": [],
   "source": [
    "# Directive pour afficher les graphiques dans Jupyter\n",
    "%matplotlib inline\n",
    "\n",
    "# Pandas : librairie de manipulation de données\n",
    "# NumPy : librairie de calcul scientifique\n",
    "# MatPlotLib : librairie de visualisation et graphiques\n",
    "import pandas as pd\n",
    "import numpy as np\n",
    "from matplotlib import pyplot as plt\n",
    "import seaborn as sns\n",
    "\n",
    "from sklearn import model_selection\n",
    "\n",
    "from sklearn.metrics import classification_report, confusion_matrix, roc_curve, roc_auc_score,auc, accuracy_score\n",
    "\n",
    "from sklearn.preprocessing import StandardScaler, MinMaxScaler\n",
    "\n",
    "from sklearn.linear_model import LogisticRegression\n",
    "\n",
    "from sklearn.model_selection import train_test_split\n",
    "\n",
    "from sklearn import datasets"
   ]
  },
  {
   "cell_type": "markdown",
   "metadata": {
    "editable": false
   },
   "source": [
    "### Keras"
   ]
  },
  {
   "cell_type": "code",
   "execution_count": 3,
   "metadata": {
    "execution": {
     "iopub.execute_input": "2022-08-28T16:09:09.820043Z",
     "iopub.status.busy": "2022-08-28T16:09:09.819336Z",
     "iopub.status.idle": "2022-08-28T16:09:14.516825Z",
     "shell.execute_reply": "2022-08-28T16:09:14.516030Z",
     "shell.execute_reply.started": "2022-08-28T16:09:09.820008Z"
    }
   },
   "outputs": [],
   "source": [
    "import tensorflow as tf\n",
    "\n",
    "from tensorflow.keras.models import Sequential, load_model\n",
    "\n",
    "from tensorflow.keras.layers import InputLayer, Dense, Dropout, Flatten\n",
    "\n",
    "from tensorflow.keras.layers import Conv2D, MaxPooling2D, MaxPool2D\n",
    "\n",
    "from tensorflow.keras.utils import to_categorical\n",
    "\n",
    "from tensorflow.keras.preprocessing.image import load_img, ImageDataGenerator"
   ]
  },
  {
   "cell_type": "code",
   "execution_count": 4,
   "metadata": {
    "execution": {
     "iopub.execute_input": "2022-08-28T16:09:24.946103Z",
     "iopub.status.busy": "2022-08-28T16:09:24.945624Z",
     "iopub.status.idle": "2022-08-28T16:09:24.950012Z",
     "shell.execute_reply": "2022-08-28T16:09:24.949310Z",
     "shell.execute_reply.started": "2022-08-28T16:09:24.946070Z"
    }
   },
   "outputs": [],
   "source": [
    "from tensorflow.keras.preprocessing import image_dataset_from_directory\n",
    "from tensorflow.keras.layers.experimental.preprocessing import Rescaling, RandomFlip, RandomRotation, RandomZoom, RandomContrast, RandomTranslation"
   ]
  },
  {
   "cell_type": "markdown",
   "metadata": {
    "editable": false
   },
   "source": [
    "### Fonctions utiles"
   ]
  },
  {
   "cell_type": "code",
   "execution_count": 5,
   "metadata": {
    "editable": false,
    "execution": {
     "iopub.execute_input": "2022-08-28T16:09:35.688698Z",
     "iopub.status.busy": "2022-08-28T16:09:35.688132Z",
     "iopub.status.idle": "2022-08-28T16:09:35.693833Z",
     "shell.execute_reply": "2022-08-28T16:09:35.693062Z",
     "shell.execute_reply.started": "2022-08-28T16:09:35.688661Z"
    }
   },
   "outputs": [],
   "source": [
    "def plot_scores(train) :\n",
    "    accuracy = train.history['accuracy']\n",
    "    val_accuracy = train.history['val_accuracy']\n",
    "    epochs = range(len(accuracy))\n",
    "    plt.plot(epochs, accuracy, 'b', label='Score apprentissage')\n",
    "    plt.plot(epochs, val_accuracy, 'r', label='Score validation')\n",
    "    plt.title('Scores')\n",
    "    plt.legend()\n",
    "    plt.show()"
   ]
  },
  {
   "cell_type": "markdown",
   "metadata": {
    "editable": false
   },
   "source": [
    "## Transformations d'images"
   ]
  },
  {
   "cell_type": "code",
   "execution_count": null,
   "metadata": {
    "editable": false,
    "execution": {
     "iopub.execute_input": "2022-08-28T16:09:46.909920Z",
     "iopub.status.busy": "2022-08-28T16:09:46.909629Z",
     "iopub.status.idle": "2022-08-28T16:09:46.934867Z",
     "shell.execute_reply": "2022-08-28T16:09:46.934173Z",
     "shell.execute_reply.started": "2022-08-28T16:09:46.909891Z"
    }
   },
   "outputs": [],
   "source": [
    "img = load_img('../input/cat-and-dog/training_set/training_set/cats/cat.1.jpg')"
   ]
  },
  {
   "cell_type": "code",
   "execution_count": null,
   "metadata": {
    "editable": false,
    "execution": {
     "iopub.execute_input": "2022-08-28T16:09:57.115105Z",
     "iopub.status.busy": "2022-08-28T16:09:57.114552Z",
     "iopub.status.idle": "2022-08-28T16:09:57.380089Z",
     "shell.execute_reply": "2022-08-28T16:09:57.379393Z",
     "shell.execute_reply.started": "2022-08-28T16:09:57.115066Z"
    }
   },
   "outputs": [],
   "source": [
    "plt.imshow(img)"
   ]
  },
  {
   "cell_type": "markdown",
   "metadata": {},
   "source": [
    "Les *couches d'augmentation* (*augmentation layers*) de Keras sont des couches particulières d'un modèle Keras qui permettents de transformer les images d'un *batch* d'images (ou d'un dataset) \n",
    "- **RandomFlip(*mode*)** : retourne une image ; *mode* peut être \"horizontal\", \"vertical\", ou \"horizontal_and_vertical\"\n",
    "- **RandomRotation(*factor*)** : effectue une rotation de l'image de *factor**2*Pi\n",
    "- **RandomZoom(*height_factor*)** : effectue un zoom ; par exemple RandomZoom((-0.1,0.1)) effectue un zoom aléatoire entre -10% et +10%\n",
    "- **RandomContrast(*factor*)** : ajuste le contraste\n",
    "- **RandomTranslation(*height_factor*,*width_factor*)** : décale l'image de *width_factor* horizontalement et *height_factor* verticalement \n",
    " \n",
    " https://keras.io/guides/preprocessing_layers/"
   ]
  },
  {
   "cell_type": "code",
   "execution_count": null,
   "metadata": {
    "execution": {
     "iopub.execute_input": "2022-08-28T16:10:23.353365Z",
     "iopub.status.busy": "2022-08-28T16:10:23.353094Z",
     "iopub.status.idle": "2022-08-28T16:10:25.480044Z",
     "shell.execute_reply": "2022-08-28T16:10:25.479310Z",
     "shell.execute_reply.started": "2022-08-28T16:10:23.353335Z"
    }
   },
   "outputs": [],
   "source": [
    "data_augmentation = Sequential([\n",
    "    RandomFlip(\"horizontal\"),\n",
    "    RandomRotation(1./16),\n",
    "    RandomZoom((-0.1,0.1)),c  \n",
    "    RandomContrast(0.2),  \n",
    "    RandomTranslation(0.1,0.1)\n",
    "])  "
   ]
  },
  {
   "cell_type": "markdown",
   "metadata": {},
   "source": [
    "On transforme l'image en un *batch* d'une image en ajoutant une dimension :"
   ]
  },
  {
   "cell_type": "code",
   "execution_count": null,
   "metadata": {
    "execution": {
     "iopub.execute_input": "2022-08-28T16:10:37.719925Z",
     "iopub.status.busy": "2022-08-28T16:10:37.719628Z",
     "iopub.status.idle": "2022-08-28T16:10:37.724919Z",
     "shell.execute_reply": "2022-08-28T16:10:37.723995Z",
     "shell.execute_reply.started": "2022-08-28T16:10:37.719895Z"
    }
   },
   "outputs": [],
   "source": [
    "batch = np.expand_dims(img,0)"
   ]
  },
  {
   "cell_type": "markdown",
   "metadata": {},
   "source": [
    "On peut générer autant d'images transformées qu'on le souhaite :"
   ]
  },
  {
   "cell_type": "code",
   "execution_count": null,
   "metadata": {
    "execution": {
     "iopub.execute_input": "2022-08-28T16:10:42.171930Z",
     "iopub.status.busy": "2022-08-28T16:10:42.171428Z",
     "iopub.status.idle": "2022-08-28T16:10:44.080226Z",
     "shell.execute_reply": "2022-08-28T16:10:44.079558Z",
     "shell.execute_reply.started": "2022-08-28T16:10:42.171891Z"
    }
   },
   "outputs": [],
   "source": [
    "for i in range(9):\n",
    "  augmented_image = data_augmentation(batch)\n",
    "  plt.imshow(augmented_image[0])\n",
    "  plt.axis(\"off\")\n",
    "  plt.show()"
   ]
  },
  {
   "cell_type": "markdown",
   "metadata": {},
   "source": [
    "## Lecture des images depuis un répertoire"
   ]
  },
  {
   "cell_type": "markdown",
   "metadata": {},
   "source": [
    "**image_dataset_from_directory** crée un *dataset Tensorflow* à partir des images d'un répertoire donné.  \n",
    "\n",
    "On suppose que les images sont rangées dans des sous-répertoires, dont les noms donnent les noms de classes (attribut **class_names**)  \n",
    "\n",
    "Les images sont lues en mémoire par *batch* (32 iamges par défaut)"
   ]
  },
  {
   "cell_type": "code",
   "execution_count": null,
   "metadata": {
    "execution": {
     "iopub.execute_input": "2022-08-28T16:11:05.983062Z",
     "iopub.status.busy": "2022-08-28T16:11:05.982378Z",
     "iopub.status.idle": "2022-08-28T16:11:10.730853Z",
     "shell.execute_reply": "2022-08-28T16:11:10.730030Z",
     "shell.execute_reply.started": "2022-08-28T16:11:05.983026Z"
    }
   },
   "outputs": [],
   "source": [
    "train_data_dir = \"../input/cat-and-dog/training_set/training_set\"\n",
    "image_size = (299, 299)\n",
    "\n",
    "dataset = image_dataset_from_directory(\n",
    "    train_data_dir,\n",
    "    image_size=image_size,\n",
    ")"
   ]
  },
  {
   "cell_type": "markdown",
   "metadata": {},
   "source": [
    "**dataset.take(1)** génère un premier batch (32 images par défaut) :"
   ]
  },
  {
   "cell_type": "code",
   "execution_count": null,
   "metadata": {
    "execution": {
     "iopub.execute_input": "2022-08-28T16:11:16.960992Z",
     "iopub.status.busy": "2022-08-28T16:11:16.960375Z",
     "iopub.status.idle": "2022-08-28T16:11:22.016219Z",
     "shell.execute_reply": "2022-08-28T16:11:22.015589Z",
     "shell.execute_reply.started": "2022-08-28T16:11:16.960953Z"
    }
   },
   "outputs": [],
   "source": [
    "plt.figure(figsize=(15, 25))\n",
    "class_names = dataset.class_names\n",
    "for images, labels in dataset.take(1):\n",
    "    for i in range(32):\n",
    "        plt.subplot(7, 5, i + 1)\n",
    "        plt.imshow(np.array(images[i]).astype(\"uint8\"))\n",
    "        plt.title(class_names[labels[i]])\n",
    "        plt.axis(\"off\")"
   ]
  },
  {
   "cell_type": "markdown",
   "metadata": {},
   "source": [
    "## Création des datasets "
   ]
  },
  {
   "cell_type": "markdown",
   "metadata": {},
   "source": [
    "On peut créer des datasets d'apprentissage et de validation à partir du même répertoire avec l'option **validation_split=0.2** (20% des données pour la validation)  \n",
    "Dans ce cas, il faut donner la même valeur **seed** (initialisation du générateur aléatoire) pour les deux datasets (sinon, il ne seront pas disjoints)  \n",
    "\n",
    "**label_mode** détermine la forme des labels :\n",
    "- **categorical** pour le multiclasses (utiliser une *loss* de type *categorical_crossentropy*)\n",
    "- **int** pour des étiquettes au format entier (utiliser une *loss* de type *sparse_categorical_crossentropy*)\n",
    "- **binary** pour une classification binaire (utiliser une *loss* de type *binary_crossentropy*)\n"
   ]
  },
  {
   "cell_type": "code",
   "execution_count": null,
   "metadata": {
    "execution": {
     "iopub.execute_input": "2022-08-28T16:11:37.572168Z",
     "iopub.status.busy": "2022-08-28T16:11:37.571584Z",
     "iopub.status.idle": "2022-08-28T16:11:38.674355Z",
     "shell.execute_reply": "2022-08-28T16:11:38.673616Z",
     "shell.execute_reply.started": "2022-08-28T16:11:37.572132Z"
    }
   },
   "outputs": [],
   "source": [
    "train_data_dir = \"../input/cat-and-dog/training_set/training_set\"\n",
    "image_size = (299, 299)\n",
    "\n",
    "train_dataset = image_dataset_from_directory(\n",
    "    train_data_dir,\n",
    "    validation_split=0.2,\n",
    "    seed=1,\n",
    "    subset=\"training\",\n",
    "    label_mode=\"categorical\",\n",
    "    image_size=image_size\n",
    ")\n",
    "\n",
    "validation_dataset = image_dataset_from_directory(\n",
    "    train_data_dir,\n",
    "    validation_split=0.2,\n",
    "    seed=1,\n",
    "    subset=\"validation\",\n",
    "    label_mode=\"categorical\",\n",
    "    image_size=image_size\n",
    ")"
   ]
  },
  {
   "cell_type": "markdown",
   "metadata": {},
   "source": [
    "## Amélioration des performances (optionnel)"
   ]
  },
  {
   "cell_type": "markdown",
   "metadata": {},
   "source": [
    "Pour des datasets de grande taille, il est difficile de les charger en mémoire sans risquer de saturation de la mémoire  \n",
    "C'est pourquoi on charge généralement les datasets par *batch* depuis le disque pour les traiter (avec des générateurs comme **ImageDataGenerator**). Néanmoins, la performance peut en souffrir, notamment avec l'utilisation de GPU, l'apprentissage étant principalement ralenti par les temps d'accès au disque.  \n",
    "Avec **image_dataset_from_directory**, on peut régler la *prélecture* (*prefetch*) de manière à optimiser le séquençage des opérations entre lecture des données et apprentissage  \n",
    "Le paramètre **AUTOTUNE** permet de régler dynamiquement la taille du buffer  \n",
    "<img src=\"https://www.tensorflow.org/guide/images/data_performance/naive.svg\">  \n",
    "\n",
    "https://www.tensorflow.org/guide/data_performance   \n",
    "http://restanalytics.com/2020-08-17-Transfer_Learning_and_Fine_tuning_withTensorFlow__Pneumonia_Classification_on_X_rays4/"
   ]
  },
  {
   "cell_type": "code",
   "execution_count": null,
   "metadata": {
    "execution": {
     "iopub.execute_input": "2022-08-28T16:11:48.805520Z",
     "iopub.status.busy": "2022-08-28T16:11:48.805232Z",
     "iopub.status.idle": "2022-08-28T16:11:48.812365Z",
     "shell.execute_reply": "2022-08-28T16:11:48.811527Z",
     "shell.execute_reply.started": "2022-08-28T16:11:48.805474Z"
    }
   },
   "outputs": [],
   "source": [
    "AUTOTUNE = tf.data.experimental.AUTOTUNE\n",
    "\n",
    "train_dataset = train_dataset.cache().prefetch(buffer_size=AUTOTUNE)\n",
    "validation_dataset = validation_dataset.cache().prefetch(buffer_size=AUTOTUNE)"
   ]
  },
  {
   "cell_type": "markdown",
   "metadata": {},
   "source": [
    "## Modèle et entraînement"
   ]
  },
  {
   "cell_type": "markdown",
   "metadata": {},
   "source": [
    "On crée une couche d'augmentation (attention : il n'est pas forcément souhaitable de réaliser trop de transformations, au risque de compromettre la convergence de l'entraînement) :"
   ]
  },
  {
   "cell_type": "code",
   "execution_count": null,
   "metadata": {
    "execution": {
     "iopub.execute_input": "2022-08-28T16:12:13.203929Z",
     "iopub.status.busy": "2022-08-28T16:12:13.203611Z",
     "iopub.status.idle": "2022-08-28T16:12:13.211370Z",
     "shell.execute_reply": "2022-08-28T16:12:13.210218Z",
     "shell.execute_reply.started": "2022-08-28T16:12:13.203896Z"
    }
   },
   "outputs": [],
   "source": [
    "data_augmentation = Sequential([\n",
    "    RandomFlip(\"horizontal\"),\n",
    "    RandomRotation(0.1)\n",
    "    RandomZoom((-0.1,0.1)),\n",
    "    RandomContrast(0.05),  \n",
    "    RandomTranslation(0.1,0.1)\n",
    "])"
   ]
  },
  {
   "cell_type": "markdown",
   "metadata": {},
   "source": [
    "On intègre la couche d'augmentation dans le modèle   \n",
    "On ajoute également une couche **Rescaling**, puisque le dataset est généré \"à la volée\" (pour rappel, les algorithmes de descente du gradient convergent mieux pour des valeurs entre 0 et 1) :"
   ]
  },
  {
   "cell_type": "code",
   "execution_count": null,
   "metadata": {},
   "outputs": [],
   "source": []
  },
  {
   "cell_type": "code",
   "execution_count": null,
   "metadata": {
    "execution": {
     "iopub.execute_input": "2021-10-02T16:44:55.86504Z",
     "iopub.status.busy": "2021-10-02T16:44:55.864777Z",
     "iopub.status.idle": "2021-10-02T16:44:56.003494Z",
     "shell.execute_reply": "2021-10-02T16:44:56.002778Z",
     "shell.execute_reply.started": "2021-10-02T16:44:55.865012Z"
    }
   },
   "outputs": [],
   "source": [
    "# Modèle CNN \n",
    "model = Sequential()\n",
    "model.add(InputLayer(input_shape=(299, 299, 3)))\n",
    "model.add(data_augmentation)\n",
    "model.add(Rescaling(scale=1./255))\n",
    "model.add(Conv2D(32, (3, 3), activation='relu'))\n",
    "model.add(Conv2D(32, (3, 3), activation='relu'))\n",
    "model.add(MaxPooling2D(pool_size=(2, 2)))\n",
    "model.add(Dropout(0.2))\n",
    "model.add(Conv2D(64, (3, 3), activation='relu'))\n",
    "model.add(Conv2D(64, (3, 3), activation='relu'))\n",
    "model.add(MaxPooling2D(pool_size=(2, 2)))\n",
    "model.add(Dropout(0.2))\n",
    "model.add(Conv2D(20, (3, 3), activation='relu'))\n",
    "model.add(MaxPooling2D(pool_size=(2, 2)))\n",
    "model.add(Dropout(0.2))\n",
    "model.add(Flatten())\n",
    "model.add(Dense(2, activation='softmax', kernel_initializer=tf.keras.initializers.Constant(0.01)))\n",
    "\n",
    "# Compilation du modèle\n",
    "model.compile(loss='categorical_crossentropy', optimizer=tf.keras.optimizers.Adam(1e-3), metrics=['accuracy'])"
   ]
  },
  {
   "cell_type": "markdown",
   "metadata": {},
   "source": [
    "On lance l'entraînement   \n",
    "**Remarque :** l'augmentation **ne génère pas un dataset plus important en taille** ; à chaque *epoch*, on utilise un \"nouveau\" dataset, avec des images (légèrement) transformées"
   ]
  },
  {
   "cell_type": "code",
   "execution_count": null,
   "metadata": {
    "execution": {
     "iopub.execute_input": "2021-10-02T16:44:57.804575Z",
     "iopub.status.busy": "2021-10-02T16:44:57.804308Z",
     "iopub.status.idle": "2021-10-02T17:20:36.725543Z",
     "shell.execute_reply": "2021-10-02T17:20:36.724835Z",
     "shell.execute_reply.started": "2021-10-02T16:44:57.804539Z"
    }
   },
   "outputs": [],
   "source": [
    "history = model.fit(\n",
    "    train_dataset, \n",
    "    validation_data=validation_dataset, \n",
    "    epochs=50,\n",
    "    verbose=1)"
   ]
  },
  {
   "cell_type": "code",
   "execution_count": null,
   "metadata": {
    "execution": {
     "iopub.status.busy": "2021-10-02T16:16:31.499784Z",
     "iopub.status.idle": "2021-10-02T16:16:31.500093Z",
     "shell.execute_reply": "2021-10-02T16:16:31.499963Z",
     "shell.execute_reply.started": "2021-10-02T16:16:31.499945Z"
    }
   },
   "outputs": [],
   "source": [
    "plot_scores(history)"
   ]
  },
  {
   "cell_type": "markdown",
   "metadata": {},
   "source": [
    "Avec un modèle de type VGG16 :"
   ]
  },
  {
   "cell_type": "code",
   "execution_count": null,
   "metadata": {},
   "outputs": [],
   "source": [
    "model = Sequential()\n",
    "model.add(InputLayer(input_shape=(299, 299, 3)))\n",
    "model.add(data_augmentation)\n",
    "model.add(Rescaling(scale=1./255))\n",
    "model.add(Conv2D(input_shape=(224,224,3),filters=64,kernel_size=(3,3),padding=\"same\", activation=\"relu\"))\n",
    "model.add(Conv2D(filters=64,kernel_size=(3,3),padding=\"same\", activation=\"relu\"))\n",
    "model.add(MaxPool2D(pool_size=(2,2),strides=(2,2)))\n",
    "model.add(Conv2D(filters=128, kernel_size=(3,3), padding=\"same\", activation=\"relu\"))\n",
    "model.add(Conv2D(filters=128, kernel_size=(3,3), padding=\"same\", activation=\"relu\"))\n",
    "model.add(MaxPool2D(pool_size=(2,2),strides=(2,2)))\n",
    "model.add(Conv2D(filters=256, kernel_size=(3,3), padding=\"same\", activation=\"relu\"))\n",
    "model.add(Conv2D(filters=256, kernel_size=(3,3), padding=\"same\", activation=\"relu\"))\n",
    "model.add(Conv2D(filters=256, kernel_size=(3,3), padding=\"same\", activation=\"relu\"))\n",
    "model.add(MaxPool2D(pool_size=(2,2),strides=(2,2)))\n",
    "model.add(Conv2D(filters=512, kernel_size=(3,3), padding=\"same\", activation=\"relu\"))\n",
    "model.add(Conv2D(filters=512, kernel_size=(3,3), padding=\"same\", activation=\"relu\"))\n",
    "model.add(Conv2D(filters=512, kernel_size=(3,3), padding=\"same\", activation=\"relu\"))\n",
    "model.add(MaxPool2D(pool_size=(2,2),strides=(2,2)))\n",
    "model.add(Conv2D(filters=512, kernel_size=(3,3), padding=\"same\", activation=\"relu\"))\n",
    "model.add(Conv2D(filters=512, kernel_size=(3,3), padding=\"same\", activation=\"relu\"))\n",
    "model.add(Conv2D(filters=512, kernel_size=(3,3), padding=\"same\", activation=\"relu\"))\n",
    "model.add(MaxPool2D(pool_size=(2,2),strides=(2,2)))\n",
    "model.add(Flatten())\n",
    "model.add(Dense(2, activation='softmax'), kernel_initializer=tf.keras.initializers.Constant(0.01)))\n",
    "\n",
    "# Compilation du modèle\n",
    "model.compile(loss='categorical_crossentropy', optimizer=tf.keras.optimizers.Adam(1e-3), metrics=['accuracy'])"
   ]
  },
  {
   "cell_type": "code",
   "execution_count": null,
   "metadata": {},
   "outputs": [],
   "source": [
    "history = model.fit(\n",
    "    train_dataset, \n",
    "    validation_data=validation_dataset, \n",
    "    epochs=50,\n",
    "    verbose=1)"
   ]
  },
  {
   "cell_type": "markdown",
   "metadata": {},
   "source": [
    "## Transfer learning"
   ]
  },
  {
   "cell_type": "markdown",
   "metadata": {},
   "source": [
    "On va utiliser un modèle Xception   \n",
    "https://towardsdatascience.com/review-xception-with-depthwise-separable-convolution-better-than-inception-v3-image-dc967dd42568"
   ]
  },
  {
   "cell_type": "code",
   "execution_count": null,
   "metadata": {
    "execution": {
     "iopub.execute_input": "2021-10-02T15:47:39.301338Z",
     "iopub.status.busy": "2021-10-02T15:47:39.300375Z",
     "iopub.status.idle": "2021-10-02T15:47:40.484453Z",
     "shell.execute_reply": "2021-10-02T15:47:40.483701Z",
     "shell.execute_reply.started": "2021-10-02T15:47:39.301285Z"
    }
   },
   "outputs": [],
   "source": [
    "from tensorflow.keras.applications import Xception\n",
    "xception = Xception(weights='imagenet', include_top=False, input_shape=(299,299,3))\n",
    "xception.trainable = False"
   ]
  },
  {
   "cell_type": "code",
   "execution_count": null,
   "metadata": {
    "execution": {
     "iopub.execute_input": "2021-10-02T15:47:40.487399Z",
     "iopub.status.busy": "2021-10-02T15:47:40.486887Z",
     "iopub.status.idle": "2021-10-02T15:47:40.513859Z",
     "shell.execute_reply": "2021-10-02T15:47:40.513206Z",
     "shell.execute_reply.started": "2021-10-02T15:47:40.48736Z"
    }
   },
   "outputs": [],
   "source": [
    "model = Sequential()\n",
    "model.add(data_augmentation)\n",
    "model.add(Rescaling(scale=1./255))\n",
    "model.add(xception)\n",
    "model.add(Flatten())\n",
    "model.add(Dense(32, activation='relu'))\n",
    "model.add(Dense(2, activation='softmax'))\n",
    "\n",
    "# Compilation du modèle\n",
    "model.compile(loss='categorical_crossentropy', optimizer='adam', metrics=['accuracy'])"
   ]
  },
  {
   "cell_type": "code",
   "execution_count": null,
   "metadata": {
    "execution": {
     "iopub.execute_input": "2021-10-02T15:47:40.516936Z",
     "iopub.status.busy": "2021-10-02T15:47:40.516743Z",
     "iopub.status.idle": "2021-10-02T15:56:32.137593Z",
     "shell.execute_reply": "2021-10-02T15:56:32.13679Z",
     "shell.execute_reply.started": "2021-10-02T15:47:40.516913Z"
    }
   },
   "outputs": [],
   "source": [
    "history = model.fit(\n",
    "    train_dataset, \n",
    "    validation_data=validation_dataset, \n",
    "    epochs=10,\n",
    "    verbose=1)"
   ]
  },
  {
   "cell_type": "code",
   "execution_count": null,
   "metadata": {
    "execution": {
     "iopub.execute_input": "2021-10-02T15:56:32.140221Z",
     "iopub.status.busy": "2021-10-02T15:56:32.139947Z",
     "iopub.status.idle": "2021-10-02T15:56:32.335361Z",
     "shell.execute_reply": "2021-10-02T15:56:32.332963Z",
     "shell.execute_reply.started": "2021-10-02T15:56:32.140183Z"
    }
   },
   "outputs": [],
   "source": [
    "plot_scores(history)"
   ]
  },
  {
   "cell_type": "code",
   "execution_count": null,
   "metadata": {},
   "outputs": [],
   "source": []
  }
 ],
 "metadata": {
  "kernelspec": {
   "display_name": "Python 3",
   "language": "python",
   "name": "python3"
  },
  "language_info": {
   "codemirror_mode": {
    "name": "ipython",
    "version": 3
   },
   "file_extension": ".py",
   "mimetype": "text/x-python",
   "name": "python",
   "nbconvert_exporter": "python",
   "pygments_lexer": "ipython3",
   "version": "3.9.12"
  }
 },
 "nbformat": 4,
 "nbformat_minor": 4
}
