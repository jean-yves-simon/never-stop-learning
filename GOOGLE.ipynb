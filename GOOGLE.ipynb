{
 "cells": [
  {
   "cell_type": "markdown",
   "id": "bc54d568",
   "metadata": {},
   "source": [
    "\n",
    "## Regression avec un réseau neuronal profond   DNN"
   ]
  },
  {
   "cell_type": "code",
   "execution_count": 8,
   "id": "b237b4bf",
   "metadata": {},
   "outputs": [
    {
     "name": "stdout",
     "output_type": "stream",
     "text": [
      "2.6.0\n"
     ]
    }
   ],
   "source": [
    "# chargement des bibliotheques .......\n",
    "\n",
    "import matplotlib.pyplot as plt\n",
    "import numpy as np\n",
    "import pandas as pd\n",
    "import tensorflow as tf\n",
    "from tensorflow import keras\n",
    "from tensorflow.keras import layers\n",
    "np.set_printoptions(precision=3, suppress=True)\n",
    "print(tf.__version__)\n"
   ]
  },
  {
   "cell_type": "markdown",
   "id": "0f326cd0",
   "metadata": {},
   "source": [
    "## Collecter et prétraiter les données¶\n",
    "\n",
    "La première étape consiste à collecter et prétraiter les données appropriées pour garantir qu'elles sont dans un format que le réseau neuronal peut utiliser. Cela peut impliquer le nettoyage des données, la gestion des valeurs manquantes et la normalisation des données.\n"
   ]
  },
  {
   "cell_type": "code",
   "execution_count": 9,
   "id": "c0922f68",
   "metadata": {},
   "outputs": [
    {
     "data": {
      "text/html": [
       "<div>\n",
       "<style scoped>\n",
       "    .dataframe tbody tr th:only-of-type {\n",
       "        vertical-align: middle;\n",
       "    }\n",
       "\n",
       "    .dataframe tbody tr th {\n",
       "        vertical-align: top;\n",
       "    }\n",
       "\n",
       "    .dataframe thead th {\n",
       "        text-align: right;\n",
       "    }\n",
       "</style>\n",
       "<table border=\"1\" class=\"dataframe\">\n",
       "  <thead>\n",
       "    <tr style=\"text-align: right;\">\n",
       "      <th></th>\n",
       "      <th>Date</th>\n",
       "      <th>Open</th>\n",
       "      <th>High</th>\n",
       "      <th>Low</th>\n",
       "      <th>Close</th>\n",
       "      <th>Adj Close</th>\n",
       "      <th>Volume</th>\n",
       "    </tr>\n",
       "  </thead>\n",
       "  <tbody>\n",
       "    <tr>\n",
       "      <th>0</th>\n",
       "      <td>2009-05-22</td>\n",
       "      <td>198.528534</td>\n",
       "      <td>199.524521</td>\n",
       "      <td>196.196198</td>\n",
       "      <td>196.946945</td>\n",
       "      <td>196.946945</td>\n",
       "      <td>3433700</td>\n",
       "    </tr>\n",
       "    <tr>\n",
       "      <th>1</th>\n",
       "      <td>2009-05-26</td>\n",
       "      <td>196.171173</td>\n",
       "      <td>202.702698</td>\n",
       "      <td>195.195190</td>\n",
       "      <td>202.382385</td>\n",
       "      <td>202.382385</td>\n",
       "      <td>6202700</td>\n",
       "    </tr>\n",
       "    <tr>\n",
       "      <th>2</th>\n",
       "      <td>2009-05-27</td>\n",
       "      <td>203.023026</td>\n",
       "      <td>206.136139</td>\n",
       "      <td>202.607605</td>\n",
       "      <td>202.982986</td>\n",
       "      <td>202.982986</td>\n",
       "      <td>6062500</td>\n",
       "    </tr>\n",
       "    <tr>\n",
       "      <th>3</th>\n",
       "      <td>2009-05-28</td>\n",
       "      <td>204.544540</td>\n",
       "      <td>206.016022</td>\n",
       "      <td>202.507507</td>\n",
       "      <td>205.405411</td>\n",
       "      <td>205.405411</td>\n",
       "      <td>5332200</td>\n",
       "    </tr>\n",
       "    <tr>\n",
       "      <th>4</th>\n",
       "      <td>2009-05-29</td>\n",
       "      <td>206.261261</td>\n",
       "      <td>208.823822</td>\n",
       "      <td>205.555557</td>\n",
       "      <td>208.823822</td>\n",
       "      <td>208.823822</td>\n",
       "      <td>5291100</td>\n",
       "    </tr>\n",
       "  </tbody>\n",
       "</table>\n",
       "</div>"
      ],
      "text/plain": [
       "         Date        Open        High         Low       Close   Adj Close  \\\n",
       "0  2009-05-22  198.528534  199.524521  196.196198  196.946945  196.946945   \n",
       "1  2009-05-26  196.171173  202.702698  195.195190  202.382385  202.382385   \n",
       "2  2009-05-27  203.023026  206.136139  202.607605  202.982986  202.982986   \n",
       "3  2009-05-28  204.544540  206.016022  202.507507  205.405411  205.405411   \n",
       "4  2009-05-29  206.261261  208.823822  205.555557  208.823822  208.823822   \n",
       "\n",
       "    Volume  \n",
       "0  3433700  \n",
       "1  6202700  \n",
       "2  6062500  \n",
       "3  5332200  \n",
       "4  5291100  "
      ]
     },
     "execution_count": 9,
     "metadata": {},
     "output_type": "execute_result"
    }
   ],
   "source": [
    "# chargement du dataset..........\n",
    "\n",
    "\n",
    "dataset = pd.read_csv('GOOGL.csv') \n",
    "dataset.head()"
   ]
  },
  {
   "cell_type": "code",
   "execution_count": null,
   "id": "64365932",
   "metadata": {},
   "outputs": [],
   "source": [
    "# descriptif des données\n",
    "\n",
    "\n"
   ]
  },
  {
   "cell_type": "code",
   "execution_count": 10,
   "id": "538d2bd4",
   "metadata": {},
   "outputs": [
    {
     "data": {
      "text/plain": [
       "(2335, 7)"
      ]
     },
     "execution_count": 10,
     "metadata": {},
     "output_type": "execute_result"
    }
   ],
   "source": [
    "# nombre de lignes et de colonnes\n",
    "\n",
    "dataset.shape"
   ]
  },
  {
   "cell_type": "code",
   "execution_count": 11,
   "id": "9a62e11e",
   "metadata": {},
   "outputs": [
    {
     "data": {
      "text/plain": [
       "Date         0\n",
       "Open         0\n",
       "High         0\n",
       "Low          0\n",
       "Close        0\n",
       "Adj Close    0\n",
       "Volume       0\n",
       "dtype: int64"
      ]
     },
     "execution_count": 11,
     "metadata": {},
     "output_type": "execute_result"
    }
   ],
   "source": [
    "# pour visualiser les lignes NaN................\n",
    "\n",
    "dataset.isnull().sum()"
   ]
  },
  {
   "cell_type": "code",
   "execution_count": null,
   "id": "a40d8547",
   "metadata": {},
   "outputs": [],
   "source": [
    "# pour supprimer les NaN..............\n",
    "\n",
    "dataset=dataset.dropna()"
   ]
  },
  {
   "cell_type": "code",
   "execution_count": 12,
   "id": "91f69fd5",
   "metadata": {},
   "outputs": [
    {
     "data": {
      "text/plain": [
       "Date          object\n",
       "Open         float64\n",
       "High         float64\n",
       "Low          float64\n",
       "Close        float64\n",
       "Adj Close    float64\n",
       "Volume         int64\n",
       "dtype: object"
      ]
     },
     "execution_count": 12,
     "metadata": {},
     "output_type": "execute_result"
    }
   ],
   "source": [
    "# Pour voir le type de données de chaque colonne. \n",
    "\n",
    "dataset.dtypes"
   ]
  },
  {
   "cell_type": "code",
   "execution_count": 13,
   "id": "a7b53838",
   "metadata": {},
   "outputs": [],
   "source": [
    "# suppression des colonnes inutiles............\n",
    "\n",
    "dataset=dataset.drop(['Date'], axis=1)"
   ]
  },
  {
   "cell_type": "code",
   "execution_count": 14,
   "id": "68947b8d",
   "metadata": {},
   "outputs": [
    {
     "name": "stdout",
     "output_type": "stream",
     "text": [
      "Nombre de lignes l entrainement (1868, 6)\n",
      "Nombre de lignes pour les test (467, 6)\n"
     ]
    }
   ],
   "source": [
    "# divisions les données en un ensembles d'entrainement et de test...............\n",
    "\n",
    "# utilisation de l'ensemble des données de test pour l'évaluation finale.........\n",
    "\n",
    "train_dataset = dataset.sample(frac=0.8, random_state=0)\n",
    "test_dataset = dataset.drop(train_dataset.index)\n",
    "\n",
    "print('Nombre de lignes l entrainement',train_dataset.shape)\n",
    "print('Nombre de lignes pour les test', test_dataset.shape)"
   ]
  },
  {
   "cell_type": "code",
   "execution_count": 15,
   "id": "7264b46a",
   "metadata": {},
   "outputs": [],
   "source": [
    "# séparation  les entités des étiquettes...........\n",
    "# séparation de la valeur cible des caractéristiques ( features )..........\n",
    "# c'est cette cible que le modele va devoir prédire.\n",
    "\n",
    "train_features = train_dataset.copy()\n",
    "test_features = test_dataset.copy()\n",
    "\n",
    "train_labels = train_features.pop('Close') # cible\n",
    "test_labels = test_features.pop('Close') # cible"
   ]
  },
  {
   "cell_type": "markdown",
   "id": "181aeb67",
   "metadata": {},
   "source": [
    "Dans l'analyse de régression utilisant un DNN, l'objectif est d'apprendre une fonction qui mappe les caractéristiques d'entrée à la sortie, de sorte que les prédictions faites par le modèle soient aussi précises que possible. Les caractéristiques d'entrée passent par la couche d'entrée du DNN puis sont traitées par les couches cachées, qui utilisent des fonctions d'activation non linéaires pour apprendre les relations complexes dans les données. La couche de sortie du DNN produit une prédiction pour la variable dépendante basée sur les caractéristiques d'entrée traitées"
   ]
  },
  {
   "cell_type": "code",
   "execution_count": 16,
   "id": "99342776",
   "metadata": {},
   "outputs": [],
   "source": [
    "# normalisation les données avec (tf.keras.layers.Normalization)...........\n",
    "# La première étape consiste à créer le calque :\n",
    "\n",
    "\n",
    "normalizer = tf.keras.layers.Normalization(axis=-1)"
   ]
  },
  {
   "cell_type": "code",
   "execution_count": 17,
   "id": "84fed2a5",
   "metadata": {},
   "outputs": [
    {
     "name": "stderr",
     "output_type": "stream",
     "text": [
      "2023-11-28 18:40:54.784410: I tensorflow/compiler/mlir/mlir_graph_optimization_pass.cc:185] None of the MLIR Optimization Passes are enabled (registered 2)\n"
     ]
    }
   ],
   "source": [
    "# adaptez l'état de la couche de prétraitement aux données en appelant Normalization.adapt :\n",
    "\n",
    "normalizer.adapt(np.array(train_features))"
   ]
  },
  {
   "cell_type": "code",
   "execution_count": 21,
   "id": "a71f5480",
   "metadata": {},
   "outputs": [],
   "source": [
    "# fonction d affichage....\n",
    "\n",
    "def plot_loss(history):\n",
    "  plt.plot(history.history['loss'], label='MAE')\n",
    "  plt.plot(history.history['val_loss'], label='val_MAE')\n",
    "  plt.ylim([0, 1000])\n",
    "  plt.xlabel('Epoch')\n",
    "  plt.ylabel('Erreur en $ [Close]')\n",
    "  plt.legend()\n",
    "  plt.grid(True)"
   ]
  },
  {
   "cell_type": "markdown",
   "id": "c2a3e903",
   "metadata": {},
   "source": [
    "## Définir l'architecture du mdele\n",
    "\n",
    "L'étape suivante consiste à définir l'architecture du réseau de neurones. Cela inclut la sélection du type de couches (couches denses ou convolutives), du nombre de neurones dans chaque couche et des fonctions d'activation à utiliser.\n"
   ]
  },
  {
   "cell_type": "markdown",
   "id": "f2eb6d44",
   "metadata": {},
   "source": [
    "## Compiler le modele\n",
    "\n",
    "Une fois l'architecture définie, il faut compiler le modèle. Cela implique de spécifier la fonction de perte, l'optimiseur et toutes les métriques que nous utiliserons pour évaluer le modèle.\n"
   ]
  },
  {
   "cell_type": "code",
   "execution_count": 27,
   "id": "f674c6ad",
   "metadata": {},
   "outputs": [],
   "source": [
    "def build_and_compile_model(norm):\n",
    "  model = keras.Sequential([\n",
    "      norm,\n",
    "      layers.Dense(64, activation='relu'),# 2 couches Dense avec fonction activation relu\n",
    "      layers.Dense(64, activation='relu'),\n",
    "      layers.Dense(1) # une couche Dense linéaire à sortie unique\n",
    "  ])\n",
    "\n",
    "  model.compile(loss='mean_absolute_error',\n",
    "                optimizer=tf.keras.optimizers.Adam(0.001))\n",
    "  return model"
   ]
  },
  {
   "cell_type": "code",
   "execution_count": 28,
   "id": "04c9907e",
   "metadata": {},
   "outputs": [
    {
     "name": "stdout",
     "output_type": "stream",
     "text": [
      "Model: \"sequential_1\"\n",
      "_________________________________________________________________\n",
      "Layer (type)                 Output Shape              Param #   \n",
      "=================================================================\n",
      "normalization (Normalization (None, 5)                 11        \n",
      "_________________________________________________________________\n",
      "dense_1 (Dense)              (None, 64)                384       \n",
      "_________________________________________________________________\n",
      "dense_2 (Dense)              (None, 64)                4160      \n",
      "_________________________________________________________________\n",
      "dense_3 (Dense)              (None, 1)                 65        \n",
      "=================================================================\n",
      "Total params: 4,620\n",
      "Trainable params: 4,609\n",
      "Non-trainable params: 11\n",
      "_________________________________________________________________\n"
     ]
    }
   ],
   "source": [
    "# Régression utilisant un DNN et plusieurs entrées\n",
    "\n",
    "# Répétez le processus précédent en utilisant toutes les entrées.\n",
    "# Les performances du modèle s'améliorent légèrement sur l'ensemble de données de validation.\n",
    "\n",
    "dnn_model = build_and_compile_model(normalizer)\n",
    "dnn_model.summary()\n"
   ]
  },
  {
   "cell_type": "markdown",
   "id": "9ba99128",
   "metadata": {},
   "source": [
    "## Entrainer le modele\n",
    "\n",
    "L'étape suivante consiste à entraîner le modèle à l'aide des données prétraitées. Cela implique d'introduire les données dans le modèle et d'ajuster les poids et les biais des neurones du réseau pour minimiser la fonction de perte.\n"
   ]
  },
  {
   "cell_type": "code",
   "execution_count": 29,
   "id": "204e14b2",
   "metadata": {},
   "outputs": [
    {
     "data": {
      "image/png": "[encoded data removed]",
      "text/plain": [
       "<Figure size 432x288 with 1 Axes>"
      ]
     },
     "metadata": {
      "needs_background": "light"
     },
     "output_type": "display_data"
    }
   ],
   "source": [
    "history = dnn_model.fit(\n",
    "    train_features,\n",
    "    train_labels,\n",
    "    validation_split=0.2,\n",
    "    verbose=0, epochs=100)\n",
    "\n",
    "\n",
    "plot_loss(history)"
   ]
  },
  {
   "cell_type": "markdown",
   "id": "3eee6777",
   "metadata": {},
   "source": [
    "## Evaluer le modele\n",
    "\n",
    "Une fois le modèle entraîné, il doit être évalué pour déterminer ses performances. Cela peut impliquer l'utilisation d'un ensemble de données distinct (ou d'un sous-ensemble des données d'entraînement) pour évaluer la capacité du modèle à effectuer des prédictions précises.\n"
   ]
  },
  {
   "cell_type": "code",
   "execution_count": 30,
   "id": "de1f84f5",
   "metadata": {},
   "outputs": [],
   "source": [
    "# je stock les résultats sur l'ensemble de test :\n",
    "\n",
    "test_resultats['dnn_model'] = dnn_model.evaluate(test_features, test_labels, verbose=0)"
   ]
  },
  {
   "cell_type": "code",
   "execution_count": 31,
   "id": "699c9150",
   "metadata": {},
   "outputs": [
    {
     "data": {
      "text/plain": [
       "{'linear_model': 84.92025756835938, 'dnn_model': 1.6456290483474731}"
      ]
     },
     "execution_count": 31,
     "metadata": {},
     "output_type": "execute_result"
    }
   ],
   "source": [
    "test_resultats"
   ]
  },
  {
   "cell_type": "markdown",
   "id": "cbd584eb",
   "metadata": {},
   "source": [
    "## Faire des prédiction\n",
    "\n",
    "Une fois le modèle affiné, nous pouvons l'utiliser pour prédire de nouvelles données.\n"
   ]
  },
  {
   "cell_type": "code",
   "execution_count": 32,
   "id": "df4181bb",
   "metadata": {},
   "outputs": [
    {
     "name": "stdout",
     "output_type": "stream",
     "text": [
      "prédiction index 1 ..... [[204.832]]\n",
      "valeur attendue en position 1 et index 3    205.405411\n",
      "Name: Close, dtype: float64\n"
     ]
    }
   ],
   "source": [
    "# je fais des prédiction...\n",
    "\n",
    "y_pred = dnn_model.predict(test_features)\n",
    "print('prédiction index 1 .....',y_pred[1:2])\n",
    "print('valeur attendue en position 1 et index',test_labels[1:2])"
   ]
  },
  {
   "cell_type": "code",
   "execution_count": null,
   "id": "db9a6f5d",
   "metadata": {},
   "outputs": [],
   "source": []
  }
 ],
 "metadata": {
  "kernelspec": {
   "display_name": "Python 3 (ipykernel)",
   "language": "python",
   "name": "python3"
  },
  "language_info": {
   "codemirror_mode": {
    "name": "ipython",
    "version": 3
   },
   "file_extension": ".py",
   "mimetype": "text/x-python",
   "name": "python",
   "nbconvert_exporter": "python",
   "pygments_lexer": "ipython3",
   "version": "3.8.11"
  }
 },
 "nbformat": 4,
 "nbformat_minor": 5
}
