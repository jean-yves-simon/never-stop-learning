{
 "cells": [
  {
   "cell_type": "markdown",
   "metadata": {},
   "source": [
    "# Bibliotheques"
   ]
  },
  {
   "cell_type": "code",
   "execution_count": null,
   "metadata": {},
   "outputs": [],
   "source": [
    "import keras\n",
    "import pandas\n",
    "from PIL import Image\n",
    "from matplotlib.pyplot import imshow\n",
    "from keras import utils as np_utils\n",
    "from keras.datasets import mnist\n",
    "from keras.models import Sequential\n",
    "from keras.layers import Dense, Dropout\n",
    "from tensorflow.keras.optimizers import RMSprop\n",
    "import numpy as np\n",
    "from sklearn.metrics import accuracy_score\n",
    "from sklearn.model_selection import train_test_split\n",
    "from sklearn import preprocessing\n",
    "import tensorflow as tf\n",
    "from tensorflow.keras import layers\n",
    "from tensorflow.keras.utils import to_categorical\n",
    "from sklearn.preprocessing import MinMaxScaler"
   ]
  },
  {
   "cell_type": "code",
   "execution_count": null,
   "metadata": {},
   "outputs": [],
   "source": [
    "from sklearn.linear_model import LinearRegression\n",
    "\n",
    "model = LinearRegression().fit(x_train,y_train) print(model)"
   ]
  },
  {
   "cell_type": "markdown",
   "metadata": {},
   "source": [
    "# Pour Vectorisation et normalisation.\n",
    "\n",
    "- Transformer les données en tenseurs > vectorisation des données"
   ]
  },
  {
   "cell_type": "code",
   "execution_count": null,
   "metadata": {},
   "outputs": [],
   "source": [
    "# Normalisation avec 'from sklearn.preprocessing import MinMaxScaler'\n",
    "# pour les données d'entrainement \n",
    "\n",
    "scaler = MinMaxScaler(feature_range=(0,1))\n",
    "y_train_new = scaler.fit_transform(y_train.reshape(-1,1))"
   ]
  },
  {
   "cell_type": "code",
   "execution_count": null,
   "metadata": {},
   "outputs": [],
   "source": [
    "x_train = x_train.astype(\"float32\") / 255\n",
    "x_test = x_test.astype(\"float32\") / 255"
   ]
  },
  {
   "cell_type": "code",
   "execution_count": null,
   "metadata": {},
   "outputs": [],
   "source": [
    "x_train = np.expand_dims(x_train, -1)\n",
    "x_test = np.expand_dims(x_test, -1)"
   ]
  },
  {
   "cell_type": "markdown",
   "metadata": {},
   "source": [
    "# Pour convertir des vecteurs de classe en matrices de classe binaires\n",
    "Pour faire du codage catégorique¶\n",
    "\n",
    "    "
   ]
  },
  {
   "cell_type": "code",
   "execution_count": null,
   "metadata": {},
   "outputs": [],
   "source": [
    "# pour un codage par catégories\n",
    "\n",
    "y_train = keras.utils.to_categorical(y_train, nombre_de_classes)\n",
    "y_test = keras.utils.to_categorical(y_test, nombre_de_classes)"
   ]
  },
  {
   "cell_type": "code",
   "execution_count": null,
   "metadata": {},
   "outputs": [],
   "source": [
    "# Pour codage par catégories\n",
    "\n",
    "catego_y_train = keras.utils.to_categorical(y_train)\n"
   ]
  },
  {
   "cell_type": "code",
   "execution_count": null,
   "metadata": {},
   "outputs": [],
   "source": [
    "# Pour l encodage des étiquettes\n",
    "# Encodage des etiquettes afin qu'elles soit utilisable par le réseau de neurones\n",
    "\n",
    "le = preprocessing.LabelEncoder()\n",
    "\n",
    "# encodage de 4 chiffres  par exemple\n",
    "\n",
    "y_train_new=le.fit_transform(y_train)\n",
    "catego_y_train_new=tf.keras.utils.to_categorical(y_train_new,num_classes=4,dtype='float32')\n"
   ]
  },
  {
   "cell_type": "code",
   "execution_count": null,
   "metadata": {},
   "outputs": [],
   "source": [
    "#  Exemple de normalisation de données.\n",
    "# ******************************************************************\n",
    "\n",
    "x_train_final = x_train_new.reshape(23849, 784)\n",
    "x_test_final = x_test_new.reshape(3951, 784)\n",
    "x_train_final = x_train_final.astype('float32')/255\n",
    "x_test_final = x_test_final.astype('float32')/255\n",
    "\n",
    "# *********************************************************************"
   ]
  },
  {
   "cell_type": "code",
   "execution_count": null,
   "metadata": {},
   "outputs": [],
   "source": []
  },
  {
   "cell_type": "markdown",
   "metadata": {},
   "source": [
    "# Exemple d'architecture de reseau"
   ]
  },
  {
   "cell_type": "code",
   "execution_count": null,
   "metadata": {},
   "outputs": [],
   "source": [
    "# TYPE D ARCHITECTURE DE MODELE\n",
    "# Prédiction étiquette unique > activation >softmax\n",
    "# Classification binaire( 2 classes en sorties) > activation > sigmoid\n",
    "\n",
    "# ******************************************************************\n",
    "\n",
    "model = Sequential([\n",
    "   Dense(1024, activation='relu', input_shape=(784,)),\n",
    "   Dense(128, activation='tanh'),\n",
    "   Dropout(rate=0.05),\n",
    "   Dense(64, activation='relu'),\n",
    "   Dense(10, activation='softmax') # une couche > sigmoid\n",
    "])\n",
    "# *******************************************************************"
   ]
  },
  {
   "cell_type": "code",
   "execution_count": null,
   "metadata": {},
   "outputs": [],
   "source": [
    "#  Exemples ***********************************************\n",
    "\n",
    "model = Sequential()\n",
    "model.add(Dense(12, input_shape=(8,), activation='relu'))\n",
    "model.add(Dense(8, activation='relu'))\n",
    "model.add(Dense(1, activation='sigmoid'))\n",
    "\n",
    "# *********************************************************"
   ]
  },
  {
   "cell_type": "code",
   "execution_count": null,
   "metadata": {},
   "outputs": [],
   "source": [
    "# Exemples **************************************************************\n",
    "\n",
    "model = keras.Sequential(\n",
    "    [\n",
    "        keras.Input(shape=input_shape),\n",
    "        layers.Conv2D(32, kernel_size=(3, 3), activation=\"relu\"),\n",
    "        layers.MaxPooling2D(pool_size=(2, 2)),\n",
    "        layers.Conv2D(64, kernel_size=(3, 3), activation=\"relu\"),\n",
    "        layers.MaxPooling2D(pool_size=(2, 2)),\n",
    "        layers.Flatten(),\n",
    "        layers.Dropout(0.5),\n",
    "        layers.Dense(nombre_de_classes, activation=\"softmax\"),\n",
    "    ]\n",
    ")\n",
    "\n",
    "model.summary()\n",
    "\n",
    "# **************************************************************************"
   ]
  },
  {
   "cell_type": "markdown",
   "metadata": {},
   "source": [
    "Exemples de configurateurs de modeles\n",
    "- "
   ]
  },
  {
   "cell_type": "code",
   "execution_count": null,
   "metadata": {},
   "outputs": [],
   "source": [
    "# COMPILATEUR  DE MODELE\n",
    "# IMPORTANT ENCODAGE DES ETIQUETTES , LABELS\n",
    "# Fonction de perte > categorical_crossentropy > Etiquettes codage catégorique\n",
    "# Fonction de perte > sparse_categorical_crossentropy > Etiquettes dans un tenseur d'entiers\n",
    "# de nombres entiers\n",
    "\n",
    "model.compile(\n",
    "   optimizer='Adam',\n",
    "   loss='categorical_crossentropy',\n",
    "   metrics=['accuracy']\n",
    ")"
   ]
  },
  {
   "cell_type": "code",
   "execution_count": null,
   "metadata": {},
   "outputs": [],
   "source": [
    "# Exemple ****************************************************************\n",
    "\n",
    "model.compile(\n",
    "    loss=\"categorical_crossentropy\",\n",
    "    optimizer=\"adam\",\n",
    "    metrics=[\"accuracy\"]\n",
    ")\n",
    "\n",
    "# ***********************************************************************"
   ]
  },
  {
   "cell_type": "markdown",
   "metadata": {},
   "source": [
    "# Pour l'entrainements"
   ]
  },
  {
   "cell_type": "code",
   "execution_count": null,
   "metadata": {},
   "outputs": [],
   "source": [
    "# Exemples ********************************************************************\n",
    "\n",
    "batch_size = 128\n",
    "epochs = 15\n",
    "\n",
    "model.fit(x_train, y_train,\n",
    "          batch_size=batch_size,\n",
    "          epochs=epochs,\n",
    "          validation_split=0.1\n",
    "         )\n",
    "\n",
    "# ****************************************************************************"
   ]
  },
  {
   "cell_type": "markdown",
   "metadata": {},
   "source": [
    "# Pour faire des évaluations"
   ]
  },
  {
   "cell_type": "code",
   "execution_count": null,
   "metadata": {},
   "outputs": [],
   "source": [
    "# Exemples *********************************************************\n",
    "\n",
    "score = model.evaluate(x_test, y_test, verbose=0)\n",
    "print(\"Test loss:\", score[0])\n",
    "print(\"Test accuracy:\", score[1])\n",
    "\n",
    "# ********************************************************************"
   ]
  },
  {
   "cell_type": "markdown",
   "metadata": {},
   "source": [
    "# Pour faire des sauvegardes et chargement des modeles"
   ]
  },
  {
   "cell_type": "code",
   "execution_count": null,
   "metadata": {},
   "outputs": [],
   "source": [
    "# Pour l' Enregistrement de modele dans un fichier .hdf5\n",
    "\n",
    "model.save(r'./logisticRegressionKeras.hdf5')\n"
   ]
  },
  {
   "cell_type": "code",
   "execution_count": null,
   "metadata": {},
   "outputs": [],
   "source": [
    "# Pour charger un modèle à l'aide de la fonction load_model ().\n",
    "\n",
    "model = keras.models.load_model(r'./logisticRegressionKeras.hdf5')\n"
   ]
  },
  {
   "cell_type": "markdown",
   "metadata": {},
   "source": [
    "# Pour faire des  évaluations"
   ]
  },
  {
   "cell_type": "code",
   "execution_count": null,
   "metadata": {},
   "outputs": [],
   "source": [
    "# Pour faire une évaluation\n",
    "\n",
    "evaluation = model.evaluate(x_test, y_test)"
   ]
  },
  {
   "cell_type": "markdown",
   "metadata": {},
   "source": [
    "# Pour faire des prédictions"
   ]
  },
  {
   "cell_type": "code",
   "execution_count": null,
   "metadata": {},
   "outputs": [],
   "source": [
    "# Pour faire des prédictions\n",
    "\n",
    "predictions = model.predict(x_test,\n",
    "                            batch_size=10,\n",
    "                            verbose=0)  "
   ]
  },
  {
   "cell_type": "code",
   "execution_count": null,
   "metadata": {},
   "outputs": [],
   "source": [
    "# Keras nous propose une autre méthode intéressante,\n",
    "# qui peut être utilisée pour prédire les valeurs de nouvelles données \n",
    "# (données que le réseau n'a pas encore vues). \n",
    "# Comme nous n'avons pas séparé auparavant un tel ensemble,\n",
    "# mais seulement divisé l'ensemble MNIST en données d'apprentissage et de test,\n",
    "# nous n'utiliserons qu'un sous-ensemble des données de test.\n",
    "# La méthode renverra un tableau de bord de 100 éléments.\n",
    "# Chaque élément indiquera les probabilités que l'entrée appartienne à une classe donnée.\n",
    "\n",
    "\n",
    "predictions = model.predict(x_test[0:100])"
   ]
  },
  {
   "cell_type": "code",
   "execution_count": null,
   "metadata": {},
   "outputs": [],
   "source": [
    "#  por voir la prédiction pour x_test[0]\n",
    "# la plupart des valeurs sont de très petits nombres \n",
    "# (très faible probabilité que l'image appartienne à cette classe)\n",
    "# à l'exception du nombre en position 7 (compté à partir de 0).\n",
    "\n",
    "predictions[0]"
   ]
  },
  {
   "cell_type": "code",
   "execution_count": null,
   "metadata": {},
   "outputs": [],
   "source": [
    "# Numpy a une fonction très utile qui nous dira immédiatement quelle classe \n",
    "# a été évaluée par le modèle comme la plus probable. \n",
    "\n",
    "np.argmax(predictions[0])"
   ]
  },
  {
   "cell_type": "code",
   "execution_count": null,
   "metadata": {},
   "outputs": [],
   "source": [
    "# Vérifions à quoi ressemble l'image. \n",
    "# Rappelez-vous que les données d'entrée du réseau ont été aplaties \n",
    "# dans le but de creer un vecteur d'une longueur de 784.\n",
    "# Avant de l'afficher, nous devons le reconvertir à la taille de 28 x 28 pixels. \n",
    "\n",
    "plt.imshow(x_test[0].reshape(28,28))"
   ]
  },
  {
   "cell_type": "markdown",
   "metadata": {},
   "source": [
    "# Pour avoir des probabilités avec des 0 et des 1"
   ]
  },
  {
   "cell_type": "code",
   "execution_count": null,
   "metadata": {},
   "outputs": [],
   "source": [
    "# Pour avoir des probabilités avec des 0 et des 1\n",
    "\n",
    "predictions = (model.predict(x_test) > 0.5).astype(int)\n"
   ]
  },
  {
   "cell_type": "code",
   "execution_count": null,
   "metadata": {},
   "outputs": [],
   "source": [
    "# Numpy a une fonction très utile qui nous dira immédiatement quelle classe \n",
    "# a été évaluée par le modèle comme la plus probable. \n",
    "\n",
    "np.argmax(predictions[0])\n"
   ]
  },
  {
   "cell_type": "code",
   "execution_count": null,
   "metadata": {},
   "outputs": [],
   "source": [
    "# Pour vérifions à quoi ressemble l'image. \n",
    "# Rappelez-vous que les données d'entrée du réseau ont été aplaties \n",
    "# dans le but de creer un vecteur d'une longueur de 784.\n",
    "# Avant de l'afficher, nous devons le reconvertir à la taille de 28 x 28 pixels. \n",
    "\n",
    "plt.imshow(x_test[0].reshape(28,28))"
   ]
  },
  {
   "cell_type": "code",
   "execution_count": null,
   "metadata": {},
   "outputs": [],
   "source": [
    "# nous avons un tableau à deux dimensions, \n",
    "# et non à un vecteur comme avec l'utilisation précédente de argmax,\n",
    "# nous devons indiquer à la fonction dans quelle dimension elle doit analyser \n",
    "# les données.\n",
    "# Dans notre cas, le long de l'axe y, c'est-à-dire axis = 1. \n",
    "\n",
    "np.argmax(predictions, axis=1)"
   ]
  },
  {
   "cell_type": "code",
   "execution_count": null,
   "metadata": {},
   "outputs": [],
   "source": [
    "# pour comparer la prediction.....\n",
    "\n",
    "y_test[0:100]"
   ]
  },
  {
   "cell_type": "code",
   "execution_count": null,
   "metadata": {},
   "outputs": [],
   "source": [
    "# une autre maniere de comparer les pedictions avec la realite.......\n",
    "\n",
    "np.argmax(predictions, axis=1) == y_test[0:100]"
   ]
  },
  {
   "cell_type": "code",
   "execution_count": null,
   "metadata": {},
   "outputs": [],
   "source": [
    "# pour calculer la precision.......\n",
    "\n",
    "np.mean(np.argmax(predictions, axis=1) == y_test[0:100])"
   ]
  },
  {
   "cell_type": "code",
   "execution_count": null,
   "metadata": {},
   "outputs": [],
   "source": [
    "# pour verifier ou il y a des erreurs.....si elle existe !\n",
    "\n",
    "fausse_prediction = np.argmin(np.argmax(predictions, axis=1) == y_test[0:100])\n",
    "fausse_prediction"
   ]
  },
  {
   "cell_type": "code",
   "execution_count": null,
   "metadata": {},
   "outputs": [],
   "source": [
    "element = fausse_prediction\n",
    "plt.imshow(x_test[element].reshape(28,28))\n",
    "plt.show()\n",
    "print(\"Label de l image classée\", element,\":\", y_test[element])\n",
    "print(\"Prediction pour cette image:\", np.argmax(predictions[element]))"
   ]
  },
  {
   "cell_type": "code",
   "execution_count": null,
   "metadata": {},
   "outputs": [],
   "source": [
    "# Une autre maniere de comparer les pedictions avec la realite.......\n",
    "#  Dans notre cas, le long de l'axe y, c'est-à-dire axis = 1.\n",
    "\n",
    "np.argmax(predictions, axis=1) == y_test[0:100]"
   ]
  },
  {
   "cell_type": "code",
   "execution_count": null,
   "metadata": {},
   "outputs": [],
   "source": [
    "# Pour calculer la precision.......\n",
    "\n",
    "np.mean(np.argmax(predictions, axis=1) == y_test[0:100])"
   ]
  },
  {
   "cell_type": "code",
   "execution_count": null,
   "metadata": {},
   "outputs": [],
   "source": [
    "# Pour verifier ou il y a des erreurs.....si elle existe !\n",
    "\n",
    "fausse_prediction = np.argmin(np.argmax(predictions, axis=1) == y_test[0:100])\n",
    "fausse_prediction"
   ]
  },
  {
   "cell_type": "code",
   "execution_count": null,
   "metadata": {},
   "outputs": [],
   "source": [
    "# Pour l image et la fausse prédiction\n",
    "\n",
    "element = fausse_prediction\n",
    "plt.imshow(x_test[element].reshape(28,28))\n",
    "plt.show()\n",
    "print(\"Label de l image classée\", element,\":\", y_test[element])\n",
    "print(\"Prediction pour cette image:\", np.argmax(predictions[element]))"
   ]
  },
  {
   "cell_type": "code",
   "execution_count": null,
   "metadata": {},
   "outputs": [],
   "source": [
    "# Classificationen 2 classes > classification binaire\n"
   ]
  },
  {
   "cell_type": "markdown",
   "metadata": {},
   "source": [
    "# Pour évaluer un modèle à l'aide d'une matrice de confusion "
   ]
  },
  {
   "cell_type": "code",
   "execution_count": null,
   "metadata": {},
   "outputs": [],
   "source": [
    "# import the metrics class\n",
    "from sklearn import metrics\n",
    "\n",
    "cnf_matrix = metrics.confusion_matrix(y_test, y_pred)\n",
    "cnf_matrix"
   ]
  },
  {
   "cell_type": "markdown",
   "metadata": {},
   "source": [
    "-Ici, vous pouvez voir la matrice de confusion sous la forme d'un objet tableau. La dimension de cette matrice est 2*2 car ce modèle est une classification binaire. Vous disposez de deux classes 0 et 1. Les valeurs diagonales représentent des prédictions précises, tandis que les éléments non diagonaux sont des prédictions inexactes. Dans le résultat, 115 et 39 sont des prédictions réelles, et 30 et 8 sont des prédictions incorrectes. "
   ]
  },
  {
   "cell_type": "code",
   "execution_count": null,
   "metadata": {},
   "outputs": [],
   "source": [
    "array([[115,   8],\n",
    "      [ 30,  39]])"
   ]
  },
  {
   "cell_type": "markdown",
   "metadata": {},
   "source": [
    "# Pour visualiser la matrice de confusion à l'aide de Heatmap"
   ]
  },
  {
   "cell_type": "code",
   "execution_count": null,
   "metadata": {},
   "outputs": [],
   "source": [
    "# import required modules\n",
    "import numpy as np\n",
    "import matplotlib.pyplot as plt\n",
    "import seaborn as sns\n",
    "\n",
    "class_names=[0,1] # name  of classes\n",
    "fig, ax = plt.subplots()\n",
    "tick_marks = np.arange(len(class_names))\n",
    "plt.xticks(tick_marks, class_names)\n",
    "plt.yticks(tick_marks, class_names)\n",
    "# create heatmap\n",
    "sns.heatmap(pd.DataFrame(cnf_matrix), annot=True, cmap=\"YlGnBu\" ,fmt='g')\n",
    "ax.xaxis.set_label_position(\"top\")\n",
    "plt.tight_layout()\n",
    "plt.title('Confusion matrix', y=1.1)\n",
    "plt.ylabel('Actual label')\n",
    "plt.xlabel('Predicted label')\n",
    "\n",
    "Text(0.5,257.44,'Predicted label');"
   ]
  },
  {
   "attachments": {
    "60ab8b00-e1f1-4d6e-9c30-f4483049bf97.png": {
     "image/png": "[encoded data removed]"
    }
   },
   "cell_type": "markdown",
   "metadata": {},
   "source": [
    "![image.png](attachment:60ab8b00-e1f1-4d6e-9c30-f4483049bf97.png)"
   ]
  },
  {
   "cell_type": "code",
   "execution_count": null,
   "metadata": {},
   "outputs": [],
   "source": []
  }
 ],
 "metadata": {
  "kernelspec": {
   "display_name": "Python 3 (ipykernel)",
   "language": "python",
   "name": "python3"
  },
  "language_info": {
   "codemirror_mode": {
    "name": "ipython",
    "version": 3
   },
   "file_extension": ".py",
   "mimetype": "text/x-python",
   "name": "python",
   "nbconvert_exporter": "python",
   "pygments_lexer": "ipython3",
   "version": "3.11.5"
  }
 },
 "nbformat": 4,
 "nbformat_minor": 4
}
