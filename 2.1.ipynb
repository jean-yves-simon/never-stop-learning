{
 "cells": [
  {
   "cell_type": "markdown",
   "id": "ebce147e",
   "metadata": {},
   "source": [
    "## La base est formée de 60 000 données d'apprentissage et de 10 0000 données de test.\n",
    "\n",
    "## Chaque données représente : une image et le chiffre attendu.\n",
    "\n",
    "## Chaque images est de taille 28 * 28 pixels.\n",
    "\n",
    "## En 256 niveau de gris ( chaque pixel).\n"
   ]
  },
  {
   "cell_type": "code",
   "execution_count": 24,
   "id": "f20a0f15",
   "metadata": {},
   "outputs": [],
   "source": [
    "\n",
    "# ********** Pour télécharger le jeu de données ***************************\n",
    "\n",
    "import numpy as np\n",
    "from tensorflow import keras\n",
    "from tensorflow.keras import layers\n",
    "import matplotlib.pyplot as plt\n",
    "\n",
    "(images_entrainement, labels_entrainement), (images_test, labels_test) = keras.datasets.mnist.load_data()\n",
    "\n",
    "\n"
   ]
  },
  {
   "cell_type": "code",
   "execution_count": 25,
   "id": "d31c995d",
   "metadata": {},
   "outputs": [
    {
     "data": {
      "image/png": "[encoded data removed]",
      "text/plain": [
       "<Figure size 720x720 with 10 Axes>"
      ]
     },
     "metadata": {},
     "output_type": "display_data"
    }
   ],
   "source": [
    "\n",
    "# ****************  Pour afficher les images *********************\n",
    "\n",
    "plt.figure(figsize=(10,10))\n",
    "for i in range(10):\n",
    "    plt.subplot(5,5,i+1)\n",
    "    plt.xticks([])\n",
    "    plt.yticks([])\n",
    "    plt.grid(False)\n",
    "    plt.imshow(images_entrainement[i], cmap=plt.cm.binary)\n",
    "\n",
    "plt.show()\n"
   ]
  },
  {
   "cell_type": "code",
   "execution_count": 26,
   "id": "01119d9e",
   "metadata": {},
   "outputs": [
    {
     "data": {
      "image/png": "[encoded data removed]",
      "text/plain": [
       "<Figure size 432x288 with 1 Axes>"
      ]
     },
     "metadata": {
      "needs_background": "light"
     },
     "output_type": "display_data"
    }
   ],
   "source": [
    "\n",
    "# ******************* Pour afficher une image particulière *******************\n",
    "\n",
    "digit=x_train[3]\n",
    "plt.imshow(digit, cmap=plt.cm.binary)\n",
    "plt.show()"
   ]
  },
  {
   "cell_type": "code",
   "execution_count": null,
   "id": "a18bac7a",
   "metadata": {},
   "outputs": [],
   "source": []
  },
  {
   "cell_type": "code",
   "execution_count": 27,
   "id": "55732f8d",
   "metadata": {},
   "outputs": [],
   "source": [
    "\n",
    "\n",
    "# ************** Préparer les données ******************************\n",
    "\n",
    "\n",
    "num_classes = 10   # sortie correspondant de 0 à 9\n",
    "input_shape = (28, 28, 1)  # tableau 28 x 28 de 0 à 255 "
   ]
  },
  {
   "cell_type": "code",
   "execution_count": 28,
   "id": "26471da9",
   "metadata": {},
   "outputs": [],
   "source": [
    "\n",
    "\n",
    "# **************************************\n",
    "#    Convertissez les exemples de données d'entiers en nombres à virgule flottante :\n",
    "#    Mettez ces valeurs à l'échelle dans une plage de 0 à 1 avant de les alimenter au modèle de réseau neuronal. \n",
    "#    Pour ce faire, divisez les valeurs par 255.\n",
    "#    Il est important que l' ensemble d'apprentissage et\n",
    "#    l' ensemble de test soient prétraités de la même manière :\n",
    "\n",
    "\n",
    "images_entrainement = images_entrainement.astype(\"float32\") / 255\n",
    "images_test = images_test.astype(\"float32\") / 255\n"
   ]
  },
  {
   "cell_type": "code",
   "execution_count": 29,
   "id": "66eb89a7",
   "metadata": {},
   "outputs": [
    {
     "name": "stdout",
     "output_type": "stream",
     "text": [
      "images_entrainement shape: (60000, 28, 28, 1)\n",
      "60000 images d'entrainement\n",
      "10000 images de test\n"
     ]
    }
   ],
   "source": [
    "\n",
    "\n",
    "#  les images sont de la forme (28, 28, 1)\n",
    "\n",
    "images_entrainement = np.expand_dims(images_entrainement, -1)\n",
    "images_test = np.expand_dims(images_test, -1)\n",
    "\n",
    "print(\"images_entrainement shape:\", images_entrainement.shape)\n",
    "print(images_entrainement.shape[0], \"images d'entrainement\")\n",
    "print(images_test.shape[0], \"images de test\")\n"
   ]
  },
  {
   "cell_type": "code",
   "execution_count": 30,
   "id": "b74f25e3",
   "metadata": {},
   "outputs": [],
   "source": [
    "\n",
    "# ****   Convertir \n",
    "\n",
    "labels_entrainement = keras.utils.to_categorical(labels_entrainement, num_classes)\n",
    "labels_test = keras.utils.to_categorical(labels_test, num_classes)\n"
   ]
  },
  {
   "cell_type": "code",
   "execution_count": 31,
   "id": "4e00686c",
   "metadata": {},
   "outputs": [],
   "source": [
    "\n",
    "\n",
    "# ****************** Construire le model *****************************************\n",
    "\n",
    "\n",
    "\n",
    "model = keras.Sequential(\n",
    "    [\n",
    "        keras.Input(shape=input_shape),\n",
    "        layers.Conv2D(32, kernel_size=(3, 3), activation=\"relu\"),\n",
    "        layers.MaxPooling2D(pool_size=(2, 2)),\n",
    "        layers.Conv2D(64, kernel_size=(3, 3), activation=\"relu\"),\n",
    "        layers.MaxPooling2D(pool_size=(2, 2)),\n",
    "        layers.Flatten(),\n",
    "        layers.Dropout(0.5),\n",
    "        layers.Dense(num_classes, activation=\"softmax\"),\n",
    "    ]\n",
    ")"
   ]
  },
  {
   "cell_type": "code",
   "execution_count": 32,
   "id": "4a73514f",
   "metadata": {},
   "outputs": [
    {
     "name": "stdout",
     "output_type": "stream",
     "text": [
      "Model: \"sequential_1\"\n",
      "_________________________________________________________________\n",
      "Layer (type)                 Output Shape              Param #   \n",
      "=================================================================\n",
      "conv2d_2 (Conv2D)            (None, 26, 26, 32)        320       \n",
      "_________________________________________________________________\n",
      "max_pooling2d_2 (MaxPooling2 (None, 13, 13, 32)        0         \n",
      "_________________________________________________________________\n",
      "conv2d_3 (Conv2D)            (None, 11, 11, 64)        18496     \n",
      "_________________________________________________________________\n",
      "max_pooling2d_3 (MaxPooling2 (None, 5, 5, 64)          0         \n",
      "_________________________________________________________________\n",
      "flatten_1 (Flatten)          (None, 1600)              0         \n",
      "_________________________________________________________________\n",
      "dropout_1 (Dropout)          (None, 1600)              0         \n",
      "_________________________________________________________________\n",
      "dense_1 (Dense)              (None, 10)                16010     \n",
      "=================================================================\n",
      "Total params: 34,826\n",
      "Trainable params: 34,826\n",
      "Non-trainable params: 0\n",
      "_________________________________________________________________\n"
     ]
    }
   ],
   "source": [
    "\n",
    "# ********************* Visualisation de l'architecture ***********************\n",
    "\n",
    "model.summary()"
   ]
  },
  {
   "cell_type": "code",
   "execution_count": 35,
   "id": "7e47c3d7",
   "metadata": {},
   "outputs": [],
   "source": [
    "\n",
    "# **********   \n",
    "\n",
    "\n",
    "model.compile(loss=\"categorical_crossentropy\", optimizer=\"adam\", metrics=[\"accuracy\"])\n"
   ]
  },
  {
   "cell_type": "code",
   "execution_count": 36,
   "id": "ffd78a40",
   "metadata": {
    "scrolled": true
   },
   "outputs": [
    {
     "name": "stdout",
     "output_type": "stream",
     "text": [
      "422/422 [==============================] - 38s 88ms/step - loss: 0.3627 - accuracy: 0.8877 - val_loss: 0.0767 - val_accuracy: 0.9785\n"
     ]
    },
    {
     "data": {
      "text/plain": [
       "<keras.callbacks.History at 0x7f845c300fd0>"
      ]
     },
     "execution_count": 36,
     "metadata": {},
     "output_type": "execute_result"
    }
   ],
   "source": [
    "model.fit(images_entrainement, labels_entrainement, batch_size=128, epochs=1, validation_split=0.1)"
   ]
  },
  {
   "cell_type": "code",
   "execution_count": 37,
   "id": "edd7e69e",
   "metadata": {},
   "outputs": [
    {
     "name": "stdout",
     "output_type": "stream",
     "text": [
      "313/313 [==============================] - 2s 8ms/step - loss: 0.0807 - accuracy: 0.9756\n",
      "Valeur de l'erreur sur les données de test (loss) : 0.08071764558553696\n",
      "Précision sur les données de test (accuracy) : 0.975600004196167\n"
     ]
    }
   ],
   "source": [
    "\n",
    "# *****************************  Evaluation du model *********************************\n",
    "\n",
    "score = model.evaluate(images_test, labels_test, verbose=1)\n",
    "print(\"Valeur de l'erreur sur les données de test (loss) :\" , score[0])\n",
    "print(\"Précision sur les données de test (accuracy) :\", score[1])\n"
   ]
  },
  {
   "cell_type": "code",
   "execution_count": null,
   "id": "45b6a1a1",
   "metadata": {},
   "outputs": [],
   "source": []
  },
  {
   "cell_type": "code",
   "execution_count": null,
   "id": "dfdf3062",
   "metadata": {},
   "outputs": [],
   "source": []
  },
  {
   "cell_type": "code",
   "execution_count": null,
   "id": "5c95bb70",
   "metadata": {},
   "outputs": [],
   "source": []
  },
  {
   "cell_type": "code",
   "execution_count": 21,
   "id": "dc9fe9e6",
   "metadata": {},
   "outputs": [],
   "source": [
    "from keras import models\n",
    "from keras import layers\n",
    "\n",
    "network = models.Sequential()\n",
    "network.add(layers.Dense(512, activation='relu', input_shape=(28 * 28,)))\n",
    "network.add(layers.Dense(10, activation='softmax'))\n"
   ]
  },
  {
   "cell_type": "code",
   "execution_count": 6,
   "id": "a3cc2d77",
   "metadata": {},
   "outputs": [],
   "source": [
    "network.compile(optimizer='rmsprop',\n",
    "                loss='categorical_crossentropy',\n",
    "                metrics=['accuracy'])"
   ]
  },
  {
   "cell_type": "code",
   "execution_count": 7,
   "id": "e8ec665c",
   "metadata": {},
   "outputs": [],
   "source": [
    "train_images = train_images.reshape((60000, 28 * 28))\n",
    "train_images = train_images.astype('float32') / 255\n",
    "\n",
    "test_images = test_images.reshape((10000, 28 * 28))\n",
    "test_images = test_images.astype('float32') / 255"
   ]
  },
  {
   "cell_type": "code",
   "execution_count": 8,
   "id": "2f9eec7a",
   "metadata": {},
   "outputs": [],
   "source": [
    "from keras.utils import to_categorical\n",
    "\n",
    "train_labels = to_categorical(train_labels)\n",
    "test_labels = to_categorical(test_labels)"
   ]
  },
  {
   "cell_type": "code",
   "execution_count": 11,
   "id": "d3765077",
   "metadata": {},
   "outputs": [
    {
     "name": "stdout",
     "output_type": "stream",
     "text": [
      "Epoch 1/7\n",
      "  4/469 [..............................] - ETA: 9s - loss: 0.0025 - accuracy: 1.0000 "
     ]
    },
    {
     "name": "stderr",
     "output_type": "stream",
     "text": [
      "2022-08-25 19:02:47.088173: W tensorflow/core/framework/cpu_allocator_impl.cc:82] Allocation of 188160000 exceeds 10% of free system memory.\n"
     ]
    },
    {
     "name": "stdout",
     "output_type": "stream",
     "text": [
      "469/469 [==============================] - 5s 11ms/step - loss: 0.0061 - accuracy: 0.9983\n",
      "Epoch 2/7\n",
      "469/469 [==============================] - 6s 12ms/step - loss: 0.0051 - accuracy: 0.9989\n",
      "Epoch 3/7\n",
      "469/469 [==============================] - 5s 10ms/step - loss: 0.0037 - accuracy: 0.9991\n",
      "Epoch 4/7\n",
      "469/469 [==============================] - 5s 11ms/step - loss: 0.0030 - accuracy: 0.9993\n",
      "Epoch 5/7\n",
      "469/469 [==============================] - 6s 12ms/step - loss: 0.0022 - accuracy: 0.9994\n",
      "Epoch 6/7\n",
      "469/469 [==============================] - 5s 10ms/step - loss: 0.0017 - accuracy: 0.9996\n",
      "Epoch 7/7\n",
      "469/469 [==============================] - 5s 11ms/step - loss: 0.0014 - accuracy: 0.9997\n"
     ]
    },
    {
     "data": {
      "text/plain": [
       "<keras.callbacks.History at 0x7f7f94537100>"
      ]
     },
     "execution_count": 11,
     "metadata": {},
     "output_type": "execute_result"
    }
   ],
   "source": [
    "network.fit(train_images, train_labels, epochs=7, batch_size=128)\n"
   ]
  },
  {
   "cell_type": "code",
   "execution_count": 12,
   "id": "a5183262",
   "metadata": {},
   "outputs": [
    {
     "name": "stderr",
     "output_type": "stream",
     "text": [
      "2022-08-25 19:03:43.721092: W tensorflow/core/framework/cpu_allocator_impl.cc:82] Allocation of 31360000 exceeds 10% of free system memory.\n"
     ]
    },
    {
     "name": "stdout",
     "output_type": "stream",
     "text": [
      "313/313 [==============================] - 2s 4ms/step - loss: 0.0850 - accuracy: 0.9830\n"
     ]
    }
   ],
   "source": [
    "test_loss, test_acc = network.evaluate(test_images, test_labels)"
   ]
  },
  {
   "cell_type": "code",
   "execution_count": 34,
   "id": "670dd506",
   "metadata": {},
   "outputs": [
    {
     "ename": "NameError",
     "evalue": "name 'test_acc' is not defined",
     "output_type": "error",
     "traceback": [
      "\u001b[0;31m---------------------------------------------------------------------------\u001b[0m",
      "\u001b[0;31mNameError\u001b[0m                                 Traceback (most recent call last)",
      "\u001b[0;32m/var/folders/f2/nwh0qtfn1dx9nd5d1sl92d940000gn/T/ipykernel_824/2162657044.py\u001b[0m in \u001b[0;36m<module>\u001b[0;34m\u001b[0m\n\u001b[0;32m----> 1\u001b[0;31m \u001b[0mprint\u001b[0m\u001b[0;34m(\u001b[0m\u001b[0;34m'test_acc:'\u001b[0m\u001b[0;34m,\u001b[0m \u001b[0mtest_acc\u001b[0m\u001b[0;34m)\u001b[0m\u001b[0;34m\u001b[0m\u001b[0;34m\u001b[0m\u001b[0m\n\u001b[0m",
      "\u001b[0;31mNameError\u001b[0m: name 'test_acc' is not defined"
     ]
    }
   ],
   "source": [
    "print('test_acc:', test_acc)\n"
   ]
  },
  {
   "cell_type": "code",
   "execution_count": null,
   "id": "4354615b",
   "metadata": {},
   "outputs": [],
   "source": []
  },
  {
   "cell_type": "code",
   "execution_count": null,
   "id": "21383918",
   "metadata": {},
   "outputs": [],
   "source": []
  },
  {
   "cell_type": "code",
   "execution_count": null,
   "id": "a74e0752",
   "metadata": {},
   "outputs": [],
   "source": []
  }
 ],
 "metadata": {
  "kernelspec": {
   "display_name": "Python 3 (ipykernel)",
   "language": "python",
   "name": "python3"
  },
  "language_info": {
   "codemirror_mode": {
    "name": "ipython",
    "version": 3
   },
   "file_extension": ".py",
   "mimetype": "text/x-python",
   "name": "python",
   "nbconvert_exporter": "python",
   "pygments_lexer": "ipython3",
   "version": "3.8.11"
  }
 },
 "nbformat": 4,
 "nbformat_minor": 5
}
