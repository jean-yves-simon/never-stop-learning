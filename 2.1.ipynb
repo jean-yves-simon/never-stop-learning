{
 "cells": [
  {
   "cell_type": "markdown",
   "id": "20a4e8c8",
   "metadata": {},
   "source": [
    "## La base est formée de 60 000 données d'apprentissage et de 10 0000 données de test.\n",
    "\n",
    "## Chaque données représente : une image et le chiffre attendu.\n",
    "\n",
    "## Chaque images est de taille 28 * 28 pixels.\n",
    "\n",
    "## En 256 niveau de gris ( chaque pixel).\n"
   ]
  },
  {
   "cell_type": "markdown",
   "id": "f39fc734",
   "metadata": {},
   "source": [
    "##                      Bibliotheques necessaires "
   ]
  },
  {
   "cell_type": "code",
   "execution_count": 2,
   "id": "394bc323",
   "metadata": {},
   "outputs": [],
   "source": [
    "import numpy as np\n",
    "import tensorflow as tf\n",
    "from tensorflow import keras\n",
    "from tensorflow.keras import layers\n",
    "import matplotlib.pyplot as plt\n",
    "# !pip install pydot\n",
    "#!pip install graphviz\n"
   ]
  },
  {
   "cell_type": "code",
   "execution_count": 14,
   "id": "f20a0f15",
   "metadata": {},
   "outputs": [],
   "source": [
    "\n",
    "# ********** Pour télécharger le jeu de données ***************************\n",
    "\n",
    "\n",
    "\n",
    "(images_entrainement, labels_entrainement), (images_test, labels_test) = keras.datasets.mnist.load_data()\n",
    "\n",
    "\n"
   ]
  },
  {
   "cell_type": "code",
   "execution_count": 22,
   "id": "d31c995d",
   "metadata": {},
   "outputs": [
    {
     "data": {
      "image/png": "[encoded data removed]",
      "text/plain": [
       "<Figure size 720x720 with 10 Axes>"
      ]
     },
     "metadata": {},
     "output_type": "display_data"
    }
   ],
   "source": [
    "\n",
    "# ****************  Pour afficher les images d'entrainement *********************\n",
    "\n",
    "plt.figure(figsize=(10,10))\n",
    "for i in range(10):\n",
    "    plt.subplot(5,5,i+1)\n",
    "    plt.xticks([])\n",
    "    plt.yticks([])\n",
    "    plt.grid(False)\n",
    "    plt.imshow(images_entrainement[i], cmap=plt.cm.binary)\n",
    "\n",
    "plt.show()\n"
   ]
  },
  {
   "cell_type": "code",
   "execution_count": 23,
   "id": "a81ced2a",
   "metadata": {},
   "outputs": [
    {
     "data": {
      "image/png": "[encoded data removed]",
      "text/plain": [
       "<Figure size 720x720 with 10 Axes>"
      ]
     },
     "metadata": {},
     "output_type": "display_data"
    }
   ],
   "source": [
    "# ****************  Pour afficher les images de test *********************\n",
    "\n",
    "plt.figure(figsize=(10,10))\n",
    "for i in range(10):\n",
    "    plt.subplot(5,5,i+1)\n",
    "    plt.xticks([])\n",
    "    plt.yticks([])\n",
    "    plt.grid(False)\n",
    "    plt.imshow(images_test[i], cmap=plt.cm.binary)\n",
    "\n",
    "plt.show()"
   ]
  },
  {
   "cell_type": "code",
   "execution_count": 26,
   "id": "01119d9e",
   "metadata": {},
   "outputs": [
    {
     "data": {
      "image/png": "[encoded data removed]",
      "text/plain": [
       "<Figure size 432x288 with 1 Axes>"
      ]
     },
     "metadata": {
      "needs_background": "light"
     },
     "output_type": "display_data"
    }
   ],
   "source": [
    "\n",
    "# ******************* Pour afficher une image d'entrainement [particulière] *******************\n",
    "\n",
    "\n",
    "plt.imshow(images_test[5], cmap='Greys')\n",
    "plt.show()\n"
   ]
  },
  {
   "cell_type": "code",
   "execution_count": 5,
   "id": "55732f8d",
   "metadata": {},
   "outputs": [],
   "source": [
    "\n",
    "\n",
    "# ************** Préparer les données ******************************\n",
    "\n",
    "\n",
    "num_classes = 10   # sortie correspondant de 0 à 9\n",
    "input_shape = (28, 28, 1)  # tableau 28 x 28 de 0 à 255 "
   ]
  },
  {
   "cell_type": "markdown",
   "id": "04d2e4bc",
   "metadata": {},
   "source": [
    "##                                       Normalisation des données"
   ]
  },
  {
   "cell_type": "code",
   "execution_count": 26,
   "id": "26471da9",
   "metadata": {},
   "outputs": [],
   "source": [
    "\n",
    "\n",
    "# **************************************\n",
    "#    Convertissez les exemples de données d'entiers en nombres à virgule flottante :\n",
    "#    Mettez ces valeurs à l'échelle dans une plage de 0 à 1 avant de les alimenter au modèle de réseau neuronal. \n",
    "#    Pour ce faire, divisez les valeurs par 255.\n",
    "#    Il est important que l' ensemble d'apprentissage et\n",
    "#    l' ensemble de test soient prétraités de la même manière :\n",
    "\n",
    "\n",
    "images_entrainement = images_entrainement.astype(\"float32\") / 255\n",
    "images_test = images_test.astype(\"float32\") / 255\n"
   ]
  },
  {
   "cell_type": "code",
   "execution_count": 19,
   "id": "66eb89a7",
   "metadata": {},
   "outputs": [
    {
     "name": "stdout",
     "output_type": "stream",
     "text": [
      "images_entrainement shape: (60000, 28, 28, 1)\n",
      "60000 images d'entrainement\n",
      "10000 images de test\n"
     ]
    }
   ],
   "source": [
    "\n",
    "\n",
    "#  les images sont de la forme (28, 28, 1)\n",
    "\n",
    "images_entrainement = np.expand_dims(images_entrainement, -1)\n",
    "images_test = np.expand_dims(images_test, -1)\n",
    "\n",
    "print(\"images_entrainement shape:\", images_entrainement.shape)\n",
    "print(images_entrainement.shape[0], \"images d'entrainement\")\n",
    "print(images_test.shape[0], \"images de test\")\n"
   ]
  },
  {
   "cell_type": "code",
   "execution_count": 28,
   "id": "b74f25e3",
   "metadata": {},
   "outputs": [],
   "source": [
    "\n",
    "# ****   Convertir \n",
    "\n",
    "labels_entrainement = keras.utils.to_categorical(labels_entrainement, num_classes)\n",
    "labels_test = keras.utils.to_categorical(labels_test, num_classes)\n"
   ]
  },
  {
   "cell_type": "code",
   "execution_count": 6,
   "id": "4e00686c",
   "metadata": {},
   "outputs": [
    {
     "name": "stderr",
     "output_type": "stream",
     "text": [
      "2022-08-27 18:22:16.534892: W tensorflow/stream_executor/platform/default/dso_loader.cc:64] Could not load dynamic library 'libcuda.so.1'; dlerror: libcuda.so.1: cannot open shared object file: No such file or directory\n",
      "2022-08-27 18:22:16.534929: W tensorflow/stream_executor/cuda/cuda_driver.cc:269] failed call to cuInit: UNKNOWN ERROR (303)\n",
      "2022-08-27 18:22:16.534954: I tensorflow/stream_executor/cuda/cuda_diagnostics.cc:156] kernel driver does not appear to be running on this host (Lenovo-G50-80): /proc/driver/nvidia/version does not exist\n",
      "2022-08-27 18:22:16.535661: I tensorflow/core/platform/cpu_feature_guard.cc:193] This TensorFlow binary is optimized with oneAPI Deep Neural Network Library (oneDNN) to use the following CPU instructions in performance-critical operations:  AVX2 FMA\n",
      "To enable them in other operations, rebuild TensorFlow with the appropriate compiler flags.\n"
     ]
    }
   ],
   "source": [
    "\n",
    "\n",
    "# ****************** Construire le réseau de neurones *****************************************\n",
    "\n",
    "\n",
    "\n",
    "model = keras.Sequential(\n",
    "    [\n",
    "        keras.Input(shape=input_shape),\n",
    "        layers.Conv2D(32, kernel_size=(3, 3), activation=\"relu\"),\n",
    "        layers.MaxPooling2D(pool_size=(2, 2)),\n",
    "        layers.Conv2D(64, kernel_size=(3, 3), activation=\"relu\"),\n",
    "        layers.MaxPooling2D(pool_size=(2, 2)),\n",
    "        layers.Flatten(),\n",
    "        layers.Dropout(0.5),\n",
    "        layers.Dense(num_classes, activation=\"softmax\"),\n",
    "    ]\n",
    ")"
   ]
  },
  {
   "cell_type": "code",
   "execution_count": 7,
   "id": "4a73514f",
   "metadata": {},
   "outputs": [
    {
     "name": "stdout",
     "output_type": "stream",
     "text": [
      "Model: \"sequential\"\n",
      "_________________________________________________________________\n",
      " Layer (type)                Output Shape              Param #   \n",
      "=================================================================\n",
      " conv2d (Conv2D)             (None, 26, 26, 32)        320       \n",
      "                                                                 \n",
      " max_pooling2d (MaxPooling2D  (None, 13, 13, 32)       0         \n",
      " )                                                               \n",
      "                                                                 \n",
      " conv2d_1 (Conv2D)           (None, 11, 11, 64)        18496     \n",
      "                                                                 \n",
      " max_pooling2d_1 (MaxPooling  (None, 5, 5, 64)         0         \n",
      " 2D)                                                             \n",
      "                                                                 \n",
      " flatten (Flatten)           (None, 1600)              0         \n",
      "                                                                 \n",
      " dropout (Dropout)           (None, 1600)              0         \n",
      "                                                                 \n",
      " dense (Dense)               (None, 10)                16010     \n",
      "                                                                 \n",
      "=================================================================\n",
      "Total params: 34,826\n",
      "Trainable params: 34,826\n",
      "Non-trainable params: 0\n",
      "_________________________________________________________________\n"
     ]
    }
   ],
   "source": [
    "\n",
    "# ********************* Visualisation de l'architecture ***********************\n",
    "\n",
    "model.summary()"
   ]
  },
  {
   "cell_type": "code",
   "execution_count": 8,
   "id": "9da25bc8",
   "metadata": {},
   "outputs": [
    {
     "data": {
      "image/png": "[encoded data removed]",
      "text/plain": [
       "<IPython.core.display.Image object>"
      ]
     },
     "execution_count": 8,
     "metadata": {},
     "output_type": "execute_result"
    }
   ],
   "source": [
    "\n",
    "keras.utils.plot_model(model)\n"
   ]
  },
  {
   "cell_type": "markdown",
   "id": "682e35b9",
   "metadata": {},
   "source": [
    "##                                   Compilation du modele"
   ]
  },
  {
   "cell_type": "code",
   "execution_count": 11,
   "id": "7e47c3d7",
   "metadata": {},
   "outputs": [],
   "source": [
    "\n",
    "# *********************** Compilation du modele *************************\n",
    "\n",
    "\n",
    "model.compile(loss=\"categorical_crossentropy\",\n",
    "              optimizer=\"adam\",\n",
    "              metrics=[\"accuracy\"])\n"
   ]
  },
  {
   "cell_type": "code",
   "execution_count": null,
   "id": "23531eaf",
   "metadata": {},
   "outputs": [],
   "source": []
  },
  {
   "cell_type": "markdown",
   "id": "43900c42",
   "metadata": {},
   "source": [
    "##                                      Formation du modele "
   ]
  },
  {
   "cell_type": "code",
   "execution_count": 33,
   "id": "ffd78a40",
   "metadata": {
    "scrolled": true
   },
   "outputs": [
    {
     "name": "stderr",
     "output_type": "stream",
     "text": [
      "2022-08-26 21:40:18.736185: W tensorflow/core/framework/cpu_allocator_impl.cc:82] Allocation of 169344000 exceeds 10% of free system memory.\n"
     ]
    },
    {
     "name": "stdout",
     "output_type": "stream",
     "text": [
      "422/422 [==============================] - 34s 79ms/step - loss: 0.3628 - accuracy: 0.8886 - val_loss: 0.0797 - val_accuracy: 0.9800\n"
     ]
    },
    {
     "data": {
      "text/plain": [
       "<keras.callbacks.History at 0x7f5bd8c81520>"
      ]
     },
     "execution_count": 33,
     "metadata": {},
     "output_type": "execute_result"
    }
   ],
   "source": [
    "model.fit(images_entrainement, labels_entrainement, batch_size=128, epochs=1, validation_split=0.1)"
   ]
  },
  {
   "cell_type": "code",
   "execution_count": 15,
   "id": "c05c6af0",
   "metadata": {},
   "outputs": [],
   "source": [
    "\n",
    "\n",
    "\n",
    "from keras.models import load_model\n",
    "\n",
    "model.save('mon_model.h5')  \n",
    "\n",
    "\n",
    "\n",
    "model = load_model('mon_model.h5')\n",
    "\n",
    "\n"
   ]
  },
  {
   "cell_type": "markdown",
   "id": "04a5fdbd",
   "metadata": {},
   "source": [
    "##                                       Evaluation du modele"
   ]
  },
  {
   "cell_type": "code",
   "execution_count": 16,
   "id": "edd7e69e",
   "metadata": {},
   "outputs": [
    {
     "ename": "ValueError",
     "evalue": "in user code:\n\n    File \"/home/jean/anaconda3/lib/python3.9/site-packages/keras/engine/training.py\", line 1557, in test_function  *\n        return step_function(self, iterator)\n    File \"/home/jean/anaconda3/lib/python3.9/site-packages/keras/engine/training.py\", line 1546, in step_function  **\n        outputs = model.distribute_strategy.run(run_step, args=(data,))\n    File \"/home/jean/anaconda3/lib/python3.9/site-packages/keras/engine/training.py\", line 1535, in run_step  **\n        outputs = model.test_step(data)\n    File \"/home/jean/anaconda3/lib/python3.9/site-packages/keras/engine/training.py\", line 1501, in test_step\n        self.compute_loss(x, y, y_pred, sample_weight)\n    File \"/home/jean/anaconda3/lib/python3.9/site-packages/keras/engine/training.py\", line 948, in compute_loss\n        return self.compiled_loss(\n    File \"/home/jean/anaconda3/lib/python3.9/site-packages/keras/engine/compile_utils.py\", line 201, in __call__\n        loss_value = loss_obj(y_t, y_p, sample_weight=sw)\n    File \"/home/jean/anaconda3/lib/python3.9/site-packages/keras/losses.py\", line 139, in __call__\n        losses = call_fn(y_true, y_pred)\n    File \"/home/jean/anaconda3/lib/python3.9/site-packages/keras/losses.py\", line 243, in call  **\n        return ag_fn(y_true, y_pred, **self._fn_kwargs)\n    File \"/home/jean/anaconda3/lib/python3.9/site-packages/keras/losses.py\", line 1787, in categorical_crossentropy\n        return backend.categorical_crossentropy(\n    File \"/home/jean/anaconda3/lib/python3.9/site-packages/keras/backend.py\", line 5119, in categorical_crossentropy\n        target.shape.assert_is_compatible_with(output.shape)\n\n    ValueError: Shapes (None, 1) and (None, 10) are incompatible\n",
     "output_type": "error",
     "traceback": [
      "\u001b[0;31m---------------------------------------------------------------------------\u001b[0m",
      "\u001b[0;31mValueError\u001b[0m                                Traceback (most recent call last)",
      "Input \u001b[0;32mIn [16]\u001b[0m, in \u001b[0;36m<cell line: 3>\u001b[0;34m()\u001b[0m\n\u001b[1;32m      1\u001b[0m \u001b[38;5;66;03m# *****************************  Routine pour l'évaluation du model *********************************\u001b[39;00m\n\u001b[0;32m----> 3\u001b[0m score \u001b[38;5;241m=\u001b[39m \u001b[43mmodel\u001b[49m\u001b[38;5;241;43m.\u001b[39;49m\u001b[43mevaluate\u001b[49m\u001b[43m(\u001b[49m\u001b[43mimages_test\u001b[49m\u001b[43m,\u001b[49m\u001b[43m \u001b[49m\u001b[43mlabels_test\u001b[49m\u001b[43m,\u001b[49m\u001b[43m \u001b[49m\u001b[43mverbose\u001b[49m\u001b[38;5;241;43m=\u001b[39;49m\u001b[38;5;241;43m1\u001b[39;49m\u001b[43m)\u001b[49m\n\u001b[1;32m      4\u001b[0m \u001b[38;5;28mprint\u001b[39m(\u001b[38;5;124m\"\u001b[39m\u001b[38;5;124mValeur de l\u001b[39m\u001b[38;5;124m'\u001b[39m\u001b[38;5;124merreur sur les données de test (loss) :\u001b[39m\u001b[38;5;124m\"\u001b[39m , score[\u001b[38;5;241m0\u001b[39m])\n\u001b[1;32m      5\u001b[0m \u001b[38;5;28mprint\u001b[39m(\u001b[38;5;124m\"\u001b[39m\u001b[38;5;124mPrécision sur les données de test (accuracy) :\u001b[39m\u001b[38;5;124m\"\u001b[39m, score[\u001b[38;5;241m1\u001b[39m])\n",
      "File \u001b[0;32m~/anaconda3/lib/python3.9/site-packages/keras/utils/traceback_utils.py:67\u001b[0m, in \u001b[0;36mfilter_traceback.<locals>.error_handler\u001b[0;34m(*args, **kwargs)\u001b[0m\n\u001b[1;32m     65\u001b[0m \u001b[38;5;28;01mexcept\u001b[39;00m \u001b[38;5;167;01mException\u001b[39;00m \u001b[38;5;28;01mas\u001b[39;00m e:  \u001b[38;5;66;03m# pylint: disable=broad-except\u001b[39;00m\n\u001b[1;32m     66\u001b[0m   filtered_tb \u001b[38;5;241m=\u001b[39m _process_traceback_frames(e\u001b[38;5;241m.\u001b[39m__traceback__)\n\u001b[0;32m---> 67\u001b[0m   \u001b[38;5;28;01mraise\u001b[39;00m e\u001b[38;5;241m.\u001b[39mwith_traceback(filtered_tb) \u001b[38;5;28;01mfrom\u001b[39;00m \u001b[38;5;28mNone\u001b[39m\n\u001b[1;32m     68\u001b[0m \u001b[38;5;28;01mfinally\u001b[39;00m:\n\u001b[1;32m     69\u001b[0m   \u001b[38;5;28;01mdel\u001b[39;00m filtered_tb\n",
      "File \u001b[0;32m/tmp/__autograph_generated_fileeyf1m8ie.py:15\u001b[0m, in \u001b[0;36mouter_factory.<locals>.inner_factory.<locals>.tf__test_function\u001b[0;34m(iterator)\u001b[0m\n\u001b[1;32m     13\u001b[0m \u001b[38;5;28;01mtry\u001b[39;00m:\n\u001b[1;32m     14\u001b[0m     do_return \u001b[38;5;241m=\u001b[39m \u001b[38;5;28;01mTrue\u001b[39;00m\n\u001b[0;32m---> 15\u001b[0m     retval_ \u001b[38;5;241m=\u001b[39m ag__\u001b[38;5;241m.\u001b[39mconverted_call(ag__\u001b[38;5;241m.\u001b[39mld(step_function), (ag__\u001b[38;5;241m.\u001b[39mld(\u001b[38;5;28mself\u001b[39m), ag__\u001b[38;5;241m.\u001b[39mld(iterator)), \u001b[38;5;28;01mNone\u001b[39;00m, fscope)\n\u001b[1;32m     16\u001b[0m \u001b[38;5;28;01mexcept\u001b[39;00m:\n\u001b[1;32m     17\u001b[0m     do_return \u001b[38;5;241m=\u001b[39m \u001b[38;5;28;01mFalse\u001b[39;00m\n",
      "\u001b[0;31mValueError\u001b[0m: in user code:\n\n    File \"/home/jean/anaconda3/lib/python3.9/site-packages/keras/engine/training.py\", line 1557, in test_function  *\n        return step_function(self, iterator)\n    File \"/home/jean/anaconda3/lib/python3.9/site-packages/keras/engine/training.py\", line 1546, in step_function  **\n        outputs = model.distribute_strategy.run(run_step, args=(data,))\n    File \"/home/jean/anaconda3/lib/python3.9/site-packages/keras/engine/training.py\", line 1535, in run_step  **\n        outputs = model.test_step(data)\n    File \"/home/jean/anaconda3/lib/python3.9/site-packages/keras/engine/training.py\", line 1501, in test_step\n        self.compute_loss(x, y, y_pred, sample_weight)\n    File \"/home/jean/anaconda3/lib/python3.9/site-packages/keras/engine/training.py\", line 948, in compute_loss\n        return self.compiled_loss(\n    File \"/home/jean/anaconda3/lib/python3.9/site-packages/keras/engine/compile_utils.py\", line 201, in __call__\n        loss_value = loss_obj(y_t, y_p, sample_weight=sw)\n    File \"/home/jean/anaconda3/lib/python3.9/site-packages/keras/losses.py\", line 139, in __call__\n        losses = call_fn(y_true, y_pred)\n    File \"/home/jean/anaconda3/lib/python3.9/site-packages/keras/losses.py\", line 243, in call  **\n        return ag_fn(y_true, y_pred, **self._fn_kwargs)\n    File \"/home/jean/anaconda3/lib/python3.9/site-packages/keras/losses.py\", line 1787, in categorical_crossentropy\n        return backend.categorical_crossentropy(\n    File \"/home/jean/anaconda3/lib/python3.9/site-packages/keras/backend.py\", line 5119, in categorical_crossentropy\n        target.shape.assert_is_compatible_with(output.shape)\n\n    ValueError: Shapes (None, 1) and (None, 10) are incompatible\n"
     ]
    }
   ],
   "source": [
    "\n",
    "# *****************************  Routine pour l'évaluation du model *********************************\n",
    "\n",
    "score = model.evaluate(images_test, labels_test, verbose=1)\n",
    "print(\"Valeur de l'erreur sur les données de test (loss) :\" , score[0])\n",
    "print(\"Précision sur les données de test (accuracy) :\", score[1])\n"
   ]
  },
  {
   "cell_type": "code",
   "execution_count": 38,
   "id": "629e98b8",
   "metadata": {},
   "outputs": [
    {
     "name": "stdout",
     "output_type": "stream",
     "text": [
      "313/313 [==============================] - 3s 8ms/step - loss: 0.0879 - accuracy: 0.9736\n",
      "perte: 0.09\n",
      "precision: 0.97\n"
     ]
    }
   ],
   "source": [
    "\n",
    "\n",
    "# ************************* Autre routine pour l'évaluation du model ****************************************\n",
    "\n",
    "\n",
    "loss, acc = model.evaluate(images_test, labels_test)  # returns loss and metrics\n",
    "print(\"perte: %.2f\" % loss)\n",
    "print(\"precision: %.2f\" % acc)\n"
   ]
  },
  {
   "cell_type": "code",
   "execution_count": null,
   "id": "8df187eb",
   "metadata": {},
   "outputs": [],
   "source": []
  },
  {
   "cell_type": "markdown",
   "id": "49dc4809",
   "metadata": {},
   "source": [
    "##     ****** ********************  Prédiction  *****************************************\n",
    "\n"
   ]
  },
  {
   "cell_type": "markdown",
   "id": "fee1bc58",
   "metadata": {},
   "source": [
    "model.predict() – Un modèle peut être créé et équipé de données formées, et utilisé pour faire une prédiction : "
   ]
  },
  {
   "cell_type": "code",
   "execution_count": 24,
   "id": "e861546e",
   "metadata": {},
   "outputs": [
    {
     "name": "stdout",
     "output_type": "stream",
     "text": [
      "313/313 [==============================] - 3s 8ms/step\n",
      "analyse du modele : [1.5704390e-17 3.2479173e-15 2.1230479e-26 5.5725438e-36 3.4414500e-33\n",
      " 6.8306112e-12 2.1886761e-13 1.7095412e-01 8.2904589e-01 4.0659845e-26]\n",
      "Chiffre attendu : 9\n",
      "Chiffre prédit par le modele : 8\n"
     ]
    },
    {
     "data": {
      "image/png": "[encoded data removed]",
      "text/plain": [
       "<Figure size 432x288 with 1 Axes>"
      ]
     },
     "metadata": {
      "needs_background": "light"
     },
     "output_type": "display_data"
    }
   ],
   "source": [
    "y_predict= model.predict(images_test)\n",
    "\n",
    "i=7 # représente le numéro d'ordre de l'image pas le numéro de l'image\n",
    "\n",
    "chiffre_predit = np.argmax(y_predict[i])\n",
    "\n",
    "print(\"analyse du modele :\", y_predict[i])\n",
    "print(\"Chiffre attendu :\", labels_test[i])\n",
    "print(\"Chiffre prédit par le modele :\", chiffre_predit)\n",
    "\n",
    "plt.imshow(images_test[i], cmap='Greys')\n",
    "plt.show()"
   ]
  },
  {
   "cell_type": "code",
   "execution_count": null,
   "id": "5c95bb70",
   "metadata": {},
   "outputs": [],
   "source": []
  },
  {
   "cell_type": "code",
   "execution_count": null,
   "id": "21383918",
   "metadata": {},
   "outputs": [],
   "source": []
  },
  {
   "cell_type": "code",
   "execution_count": null,
   "id": "a74e0752",
   "metadata": {},
   "outputs": [],
   "source": []
  }
 ],
 "metadata": {
  "kernelspec": {
   "display_name": "Python 3",
   "language": "python",
   "name": "python3"
  },
  "language_info": {
   "codemirror_mode": {
    "name": "ipython",
    "version": 3
   },
   "file_extension": ".py",
   "mimetype": "text/x-python",
   "name": "python",
   "nbconvert_exporter": "python",
   "pygments_lexer": "ipython3",
   "version": "3.9.12"
  }
 },
 "nbformat": 4,
 "nbformat_minor": 5
}
